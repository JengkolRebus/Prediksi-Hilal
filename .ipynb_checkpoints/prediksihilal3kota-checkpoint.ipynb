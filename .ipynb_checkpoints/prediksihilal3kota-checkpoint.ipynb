{
 "cells": [
  {
   "cell_type": "markdown",
   "metadata": {},
   "source": [
    "# Prediksi Hilal"
   ]
  },
  {
   "cell_type": "code",
   "execution_count": 1,
   "metadata": {},
   "outputs": [],
   "source": [
    "# _jengkolrebus\n",
    "# Juni, 2020\n",
    "# Curup, Bengkulu"
   ]
  },
  {
   "cell_type": "markdown",
   "metadata": {},
   "source": [
    "Koordinat kota:\n",
    "- Yogyakarta: 7.7956 S, 110.3695 E, <a href=\"https://www.google.com/search?q=koordinat+yogyakarta&rlz=1C1CHBF_enID904ID904&oq=koordinat+yogyakarta&aqs=chrome..69i57.5458j0j7&sourceid=chrome&ie=UTF-8\">sumber</a>\n",
    "- Sabang: 5.892386 N, 95.323706 E, sumber: google maps\n",
    "- Merauke: 8.499324 S, 140.404902 E, sumber: google maps"
   ]
  },
  {
   "cell_type": "code",
   "execution_count": 2,
   "metadata": {},
   "outputs": [],
   "source": [
    "from skyfield import almanac\n",
    "from skyfield.api import load, Topos\n",
    "from skyfield.units import Angle\n",
    "\n",
    "from datetime import datetime, timedelta\n",
    "from pytz import timezone\n",
    "\n",
    "from ipywidgets import widgets, interactive\n",
    "from IPython.display import display, HTML\n",
    "\n",
    "import pandas as pd\n",
    "import calendar"
   ]
  },
  {
   "cell_type": "code",
   "execution_count": 3,
   "metadata": {},
   "outputs": [],
   "source": [
    "jkt = timezone('Asia/Jakarta')\n",
    "ts = load.timescale()\n",
    "e = load('de421.bsp')\n"
   ]
  },
  {
   "cell_type": "code",
   "execution_count": 4,
   "metadata": {},
   "outputs": [],
   "source": [
    "YOG = Topos('7.7956 S','110.3695 E')\n",
    "SAB = Topos('5.892386 N', '95.323706 E')\n",
    "MER = Topos('8.499324 S', '140.404902 E')"
   ]
  },
  {
   "cell_type": "code",
   "execution_count": 5,
   "metadata": {},
   "outputs": [],
   "source": [
    "class var:\n",
    "    KOTA = [YOG, SAB, MER]\n",
    "    conj = []\n",
    "    sunset = []\n",
    "    moon_alt = []\n",
    "    moon_az = []\n",
    "    moon_d = []\n",
    "    sun_alt = []\n",
    "    sun_az = []\n",
    "    sun_d = []\n",
    "    elong = []\n",
    "    moonset = []\n",
    "    usia_bulan = []\n",
    "    ir =[]"
   ]
  },
  {
   "cell_type": "code",
   "execution_count": 8,
   "metadata": {},
   "outputs": [],
   "source": [
    "def c():\n",
    "    var.conj.clear()\n",
    "    var.sunset.clear()\n",
    "    var.moon_alt.clear()\n",
    "    var.moon_az.clear()\n",
    "    var.moon_d.clear()\n",
    "    var.sun_alt.clear()\n",
    "    var.sun_az.clear()\n",
    "    var.sun_d.clear()\n",
    "    var.elong.clear()\n",
    "    var.moonset.clear()\n",
    "    var.usia_bulan.clear()\n",
    "    var.ir.clear()\n",
    "\n",
    "# Metode untuk membandingkan dengan Imkan Rukyat\n",
    "def imkanRukyat():\n",
    "    alt = var.moon_alt\n",
    "    elong = var.elong\n",
    "    usia_bulan = var.usia_bulan\n",
    "    for i, j, k in zip(alt, elong, usia_bulan):\n",
    "        if(i.degrees >= 2 and j.degrees >= 3 and (timedelta.total_seconds(k)/3600) > 8):\n",
    "            var.ir.append(u'\\u2714')\n",
    "        else:\n",
    "            var.ir.append(u'\\u2718')\n",
    "    \n",
    "def objPos(t, obj, i):\n",
    "    loc = e['earth'] + i\n",
    "    astrometric = loc.at(t).observe(e[obj])\n",
    "    alt, az, d = astrometric.apparent().altaz()\n",
    "    \n",
    "    return astrometric, alt, az, d.km\n",
    "\n",
    "def usiaBulan():\n",
    "    for i, j in zip(var.conj, var.moonset):\n",
    "        t0 = j\n",
    "        t1 = i\n",
    "        dt = t0-t1\n",
    "#         (h, m, s) = str(dt).split(':')\n",
    "#         result = (int(h)) + (int(m) / 60) + (float(s)/3600)\n",
    "#         dt = timedelta.total_seconds(dt)/3600\n",
    "        var.usia_bulan.append(dt)\n",
    "\n",
    "def moonSet(t, i):\n",
    "    konj = t\n",
    "    t = t.utc\n",
    "    t0 = ts.utc(t[0], t[1], t[2], t[3], t[4], t[5])\n",
    "    t1 = ts.utc(t[0], t[1], t[2]+1, t[3], t[4], t[5])\n",
    "    f = almanac.risings_and_settings(e, e['moon'], i)\n",
    "    t, y = almanac.find_discrete(t0, t1, f)\n",
    "    \n",
    "    for ti, yi in zip(t, y):\n",
    "        if(yi==False):\n",
    "            var.moonset.append(ti.astimezone(jkt))\n",
    "        else:\n",
    "            pass\n",
    "\n",
    "def find(t0, t1, i):\n",
    "    c()\n",
    "    \n",
    "    # Konjungsi\n",
    "    t0 = ts.utc(t0)\n",
    "    t1 = ts.utc(t1)\n",
    "    f = almanac.oppositions_conjunctions(e, e['moon'])\n",
    "    t, y = almanac.find_discrete(t0, t1, f)\n",
    "    \n",
    "    for ti, yi in zip(t, y):\n",
    "        if(yi == 1):\n",
    "            var.conj.append(ti.astimezone(jkt))\n",
    "            moonSet(ti, i)\n",
    "            t = ti.utc\n",
    "            t0 = ts.utc(t[0], t[1], t[2], t[3], t[4], t[5])\n",
    "            t1 = ts.utc(t[0], t[1], t[2]+1, t[3], t[4], t[5])\n",
    "            t, y = almanac.find_discrete(t0, t1, almanac.sunrise_sunset(e, i))\n",
    "            \n",
    "            for ti, yi in zip(t, y):\n",
    "                if(yi == False):\n",
    "                    var.sunset.append(ti.astimezone(jkt))\n",
    "                    \n",
    "                    moon = objPos(ti, 'moon', i)\n",
    "                    sun = objPos(ti, 'sun', i)\n",
    "                    var.moon_alt.append(moon[1])\n",
    "                    var.moon_az.append(moon[2])\n",
    "                    var.moon_d.append(moon[3])\n",
    "                    \n",
    "                    var.sun_alt.append(sun[1])\n",
    "                    var.sun_az.append(sun[2])\n",
    "                    var.sun_d.append(sun[3])\n",
    "                    \n",
    "                    elong = moon[0].separation_from(sun[0])\n",
    "                    var.elong.append(elong)\n",
    "                    \n",
    "        else:\n",
    "            pass\n",
    "    usiaBulan()\n",
    "    imkanRukyat()\n",
    "    \n",
    "    print()\n",
    "    print(i)\n",
    "    table = list(zip(var.conj, var.sunset, \n",
    "                     var.moon_alt, var.moon_az, \n",
    "                     var.sun_alt, var.sun_az,\n",
    "                     var.elong, var.usia_bulan,\n",
    "                     var.ir))\n",
    "    df = pd.DataFrame(table, columns=['Waktu Konjungsi', 'Waktu Sunset',\n",
    "              'Alt Bulan', 'Az Bulan',\n",
    "              'Alt Matahari', 'Az Bulan',\n",
    "              'Elong', 'Usia Bulan', 'Imkan Rukyat'])\n",
    "    df.index+=1\n",
    "    display(df)\n",
    "    print()\n",
    "    \n",
    "\n",
    "def findAll(t0, t1):\n",
    "    for i in var.KOTA:\n",
    "        find(t0, t1, i)"
   ]
  },
  {
   "cell_type": "code",
   "execution_count": 9,
   "metadata": {},
   "outputs": [
    {
     "data": {
      "application/vnd.jupyter.widget-view+json": {
       "model_id": "e7c56f5b9a8c4734b2f72160ad41542c",
       "version_major": 2,
       "version_minor": 0
      },
      "text/plain": [
       "interactive(children=(DatePicker(value=datetime.date(2020, 6, 8), description='Dari:'), DatePicker(value=datet…"
      ]
     },
     "metadata": {},
     "output_type": "display_data"
    }
   ],
   "source": [
    "hari_ini = datetime.now().date()\n",
    "days_in_month = calendar.monthrange(hari_ini.year, hari_ini.month)[1]\n",
    "bulan_depan = hari_ini + timedelta(days_in_month)\n",
    "\n",
    "dari = widgets.DatePicker(value=hari_ini,\n",
    "    description='Dari:',\n",
    "    disabled=False\n",
    ")\n",
    "sampai = widgets.DatePicker(value=bulan_depan,\n",
    "    description='Sampai:',\n",
    "    disabled=False\n",
    ")\n",
    "\n",
    "interactive(find, t0=dari, t1=sampai)"
   ]
  },
  {
   "cell_type": "code",
   "execution_count": null,
   "metadata": {},
   "outputs": [],
   "source": []
  },
  {
   "cell_type": "code",
   "execution_count": null,
   "metadata": {},
   "outputs": [],
   "source": []
  }
 ],
 "metadata": {
  "kernelspec": {
   "display_name": "Python 3",
   "language": "python",
   "name": "python3"
  },
  "language_info": {
   "codemirror_mode": {
    "name": "ipython",
    "version": 3
   },
   "file_extension": ".py",
   "mimetype": "text/x-python",
   "name": "python",
   "nbconvert_exporter": "python",
   "pygments_lexer": "ipython3",
   "version": "3.7.6"
  },
  "widgets": {
   "application/vnd.jupyter.widget-state+json": {
    "state": {
     "06e6ae8a9c7f44cba1dcfe652b3f15fc": {
      "model_module": "@jupyter-widgets/base",
      "model_module_version": "1.2.0",
      "model_name": "LayoutModel",
      "state": {}
     },
     "28eec760985944c9958a4ff695a636cf": {
      "model_module": "@jupyter-widgets/controls",
      "model_module_version": "1.5.0",
      "model_name": "DatePickerModel",
      "state": {
       "description": "Dari:",
       "disabled": false,
       "layout": "IPY_MODEL_cc4001ae9cda4749bfb1a7b76cba6f28",
       "style": "IPY_MODEL_6c518221a17b44fd9dff07b7cef50ab6",
       "value": {
        "date": 8,
        "month": 5,
        "year": 2020
       }
      }
     },
     "4f60af7528db4cb5bebb4107b8e046a6": {
      "model_module": "@jupyter-widgets/controls",
      "model_module_version": "1.5.0",
      "model_name": "DatePickerModel",
      "state": {
       "description": "Sampai:",
       "disabled": false,
       "layout": "IPY_MODEL_f6b11b41499e49988ad094b5689dc9ec",
       "style": "IPY_MODEL_d9a947c607624f6d8cdcc6a7bfbaab30",
       "value": {
        "date": 1,
        "month": 9,
        "year": 2020
       }
      }
     },
     "528ae5fcda264942ae91efbe790d3f0b": {
      "model_module": "@jupyter-widgets/base",
      "model_module_version": "1.2.0",
      "model_name": "LayoutModel",
      "state": {}
     },
     "57ad4e53518f42f684f2c491700fcaed": {
      "model_module": "@jupyter-widgets/controls",
      "model_module_version": "1.5.0",
      "model_name": "DatePickerModel",
      "state": {
       "description": "Dari:",
       "disabled": false,
       "layout": "IPY_MODEL_a355c40edde545f08fc952b80fb2072e",
       "style": "IPY_MODEL_ed345890b65a41009568fc11ec5537c0",
       "value": {
        "date": 8,
        "month": 5,
        "year": 2020
       }
      }
     },
     "648f4fc68a034654aaa216cb5c88122f": {
      "model_module": "@jupyter-widgets/base",
      "model_module_version": "1.2.0",
      "model_name": "LayoutModel",
      "state": {}
     },
     "6c518221a17b44fd9dff07b7cef50ab6": {
      "model_module": "@jupyter-widgets/controls",
      "model_module_version": "1.5.0",
      "model_name": "DescriptionStyleModel",
      "state": {
       "description_width": ""
      }
     },
     "77abbbb4ff4546779aa495a72aa381d4": {
      "model_module": "@jupyter-widgets/output",
      "model_module_version": "1.0.0",
      "model_name": "OutputModel",
      "state": {
       "layout": "IPY_MODEL_ae95c64bc7994f88bd20aa00f5dd0cad",
       "outputs": [
        {
         "name": "stdout",
         "output_type": "stream",
         "text": "\nTopos -07deg 47' 44.2\" N 110deg 22' 10.2\" E\n"
        },
        {
         "data": {
          "text/html": "<div>\n<style scoped>\n    .dataframe tbody tr th:only-of-type {\n        vertical-align: middle;\n    }\n\n    .dataframe tbody tr th {\n        vertical-align: top;\n    }\n\n    .dataframe thead th {\n        text-align: right;\n    }\n</style>\n<table border=\"1\" class=\"dataframe\">\n  <thead>\n    <tr style=\"text-align: right;\">\n      <th></th>\n      <th>Waktu Konjungsi</th>\n      <th>Waktu Sunset</th>\n      <th>Alt Bulan</th>\n      <th>Az Bulan</th>\n      <th>Alt Matahari</th>\n      <th>Az Bulan</th>\n      <th>Elong</th>\n      <th>Usia Bulan</th>\n      <th>Imkan Rukyat</th>\n    </tr>\n  </thead>\n  <tbody>\n    <tr>\n      <th>1</th>\n      <td>2020-06-21 13:41:27.481000+07:00</td>\n      <td>2020-06-21 17:30:29.101000+07:00</td>\n      <td>00deg 04' 22.9\"</td>\n      <td>294deg 06' 33.6\"</td>\n      <td>-00deg 49' 59.9\"</td>\n      <td>293deg 32' 45.4\"</td>\n      <td>01deg 04' 01.8\"</td>\n      <td>03:51:57.705000</td>\n      <td>✘</td>\n    </tr>\n    <tr>\n      <th>2</th>\n      <td>2020-07-21 00:32:57.811000+07:00</td>\n      <td>2020-07-21 17:36:56.629000+07:00</td>\n      <td>07deg 31' 46.6\"</td>\n      <td>293deg 06' 55.9\"</td>\n      <td>-00deg 49' 59.9\"</td>\n      <td>290deg 24' 37.1\"</td>\n      <td>08deg 47' 14.4\"</td>\n      <td>17:40:43.461000</td>\n      <td>✔</td>\n    </tr>\n    <tr>\n      <th>3</th>\n      <td>2020-08-19 09:41:40.903000+07:00</td>\n      <td>2020-08-19 17:38:31.254000+07:00</td>\n      <td>03deg 30' 51.3\"</td>\n      <td>286deg 04' 00.2\"</td>\n      <td>-00deg 49' 59.9\"</td>\n      <td>282deg 32' 49.2\"</td>\n      <td>05deg 35' 33.2\"</td>\n      <td>08:14:38.385000</td>\n      <td>✔</td>\n    </tr>\n  </tbody>\n</table>\n</div>",
          "text/plain": "                   Waktu Konjungsi                     Waktu Sunset  \\\n1 2020-06-21 13:41:27.481000+07:00 2020-06-21 17:30:29.101000+07:00   \n2 2020-07-21 00:32:57.811000+07:00 2020-07-21 17:36:56.629000+07:00   \n3 2020-08-19 09:41:40.903000+07:00 2020-08-19 17:38:31.254000+07:00   \n\n         Alt Bulan          Az Bulan      Alt Matahari          Az Bulan  \\\n1  00deg 04' 22.9\"  294deg 06' 33.6\"  -00deg 49' 59.9\"  293deg 32' 45.4\"   \n2  07deg 31' 46.6\"  293deg 06' 55.9\"  -00deg 49' 59.9\"  290deg 24' 37.1\"   \n3  03deg 30' 51.3\"  286deg 04' 00.2\"  -00deg 49' 59.9\"  282deg 32' 49.2\"   \n\n             Elong      Usia Bulan Imkan Rukyat  \n1  01deg 04' 01.8\" 03:51:57.705000            ✘  \n2  08deg 47' 14.4\" 17:40:43.461000            ✔  \n3  05deg 35' 33.2\" 08:14:38.385000            ✔  "
         },
         "metadata": {},
         "output_type": "display_data"
        },
        {
         "name": "stdout",
         "output_type": "stream",
         "text": "\n\nTopos 05deg 53' 32.6\" N 95deg 19' 25.3\" E\n"
        },
        {
         "data": {
          "text/html": "<div>\n<style scoped>\n    .dataframe tbody tr th:only-of-type {\n        vertical-align: middle;\n    }\n\n    .dataframe tbody tr th {\n        vertical-align: top;\n    }\n\n    .dataframe thead th {\n        text-align: right;\n    }\n</style>\n<table border=\"1\" class=\"dataframe\">\n  <thead>\n    <tr style=\"text-align: right;\">\n      <th></th>\n      <th>Waktu Konjungsi</th>\n      <th>Waktu Sunset</th>\n      <th>Alt Bulan</th>\n      <th>Az Bulan</th>\n      <th>Alt Matahari</th>\n      <th>Az Bulan</th>\n      <th>Elong</th>\n      <th>Usia Bulan</th>\n      <th>Imkan Rukyat</th>\n    </tr>\n  </thead>\n  <tbody>\n    <tr>\n      <th>1</th>\n      <td>2020-06-21 13:41:27.481000+07:00</td>\n      <td>2020-06-21 18:54:31.905000+07:00</td>\n      <td>00deg 51' 37.5\"</td>\n      <td>293deg 42' 58.2\"</td>\n      <td>-00deg 49' 59.9\"</td>\n      <td>293deg 39' 48.8\"</td>\n      <td>01deg 41' 40.3\"</td>\n      <td>05:19:35.162000</td>\n      <td>✘</td>\n    </tr>\n    <tr>\n      <th>2</th>\n      <td>2020-07-21 00:32:57.811000+07:00</td>\n      <td>2020-07-21 18:57:30.447000+07:00</td>\n      <td>08deg 36' 53.1\"</td>\n      <td>290deg 35' 52.5\"</td>\n      <td>-00deg 49' 59.9\"</td>\n      <td>290deg 31' 36.5\"</td>\n      <td>09deg 26' 53.7\"</td>\n      <td>19:05:32.092000</td>\n      <td>✔</td>\n    </tr>\n    <tr>\n      <th>3</th>\n      <td>2020-08-19 09:41:40.903000+07:00</td>\n      <td>2020-08-19 18:50:55.005000+07:00</td>\n      <td>04deg 50' 06.6\"</td>\n      <td>284deg 31' 44.4\"</td>\n      <td>-00deg 49' 59.9\"</td>\n      <td>282deg 41' 01.1\"</td>\n      <td>05deg 57' 38.4\"</td>\n      <td>09:32:30.352000</td>\n      <td>✔</td>\n    </tr>\n    <tr>\n      <th>4</th>\n      <td>2020-09-17 18:00:14.099000+07:00</td>\n      <td>2020-09-17 18:37:12.191000+07:00</td>\n      <td>00deg 54' 59.0\"</td>\n      <td>276deg 15' 23.4\"</td>\n      <td>-00deg 49' 59.9\"</td>\n      <td>272deg 04' 08.1\"</td>\n      <td>04deg 32' 17.9\"</td>\n      <td>00:43:10.770000</td>\n      <td>✘</td>\n    </tr>\n  </tbody>\n</table>\n</div>",
          "text/plain": "                   Waktu Konjungsi                     Waktu Sunset  \\\n1 2020-06-21 13:41:27.481000+07:00 2020-06-21 18:54:31.905000+07:00   \n2 2020-07-21 00:32:57.811000+07:00 2020-07-21 18:57:30.447000+07:00   \n3 2020-08-19 09:41:40.903000+07:00 2020-08-19 18:50:55.005000+07:00   \n4 2020-09-17 18:00:14.099000+07:00 2020-09-17 18:37:12.191000+07:00   \n\n         Alt Bulan          Az Bulan      Alt Matahari          Az Bulan  \\\n1  00deg 51' 37.5\"  293deg 42' 58.2\"  -00deg 49' 59.9\"  293deg 39' 48.8\"   \n2  08deg 36' 53.1\"  290deg 35' 52.5\"  -00deg 49' 59.9\"  290deg 31' 36.5\"   \n3  04deg 50' 06.6\"  284deg 31' 44.4\"  -00deg 49' 59.9\"  282deg 41' 01.1\"   \n4  00deg 54' 59.0\"  276deg 15' 23.4\"  -00deg 49' 59.9\"  272deg 04' 08.1\"   \n\n             Elong      Usia Bulan Imkan Rukyat  \n1  01deg 41' 40.3\" 05:19:35.162000            ✘  \n2  09deg 26' 53.7\" 19:05:32.092000            ✔  \n3  05deg 57' 38.4\" 09:32:30.352000            ✔  \n4  04deg 32' 17.9\" 00:43:10.770000            ✘  "
         },
         "metadata": {},
         "output_type": "display_data"
        },
        {
         "name": "stdout",
         "output_type": "stream",
         "text": "\n\nTopos -08deg 29' 57.6\" N 140deg 24' 17.6\" E\n"
        },
        {
         "data": {
          "text/html": "<div>\n<style scoped>\n    .dataframe tbody tr th:only-of-type {\n        vertical-align: middle;\n    }\n\n    .dataframe tbody tr th {\n        vertical-align: top;\n    }\n\n    .dataframe thead th {\n        text-align: right;\n    }\n</style>\n<table border=\"1\" class=\"dataframe\">\n  <thead>\n    <tr style=\"text-align: right;\">\n      <th></th>\n      <th>Waktu Konjungsi</th>\n      <th>Waktu Sunset</th>\n      <th>Alt Bulan</th>\n      <th>Az Bulan</th>\n      <th>Alt Matahari</th>\n      <th>Az Bulan</th>\n      <th>Elong</th>\n      <th>Usia Bulan</th>\n      <th>Imkan Rukyat</th>\n    </tr>\n  </thead>\n  <tbody>\n    <tr>\n      <th>1</th>\n      <td>2020-06-21 13:41:27.481000+07:00</td>\n      <td>2020-06-21 15:29:05.080000+07:00</td>\n      <td>-00deg 55' 08.5\"</td>\n      <td>293deg 54' 54.2\"</td>\n      <td>-00deg 49' 59.9\"</td>\n      <td>293deg 34' 44.5\"</td>\n      <td>00deg 20' 48.3\"</td>\n      <td>01:46:00.529000</td>\n      <td>✘</td>\n    </tr>\n    <tr>\n      <th>2</th>\n      <td>2020-07-21 00:32:57.811000+07:00</td>\n      <td>2020-07-21 15:35:43.727000+07:00</td>\n      <td>06deg 24' 01.7\"</td>\n      <td>293deg 15' 17.4\"</td>\n      <td>-00deg 49' 59.9\"</td>\n      <td>290deg 27' 13.3\"</td>\n      <td>07deg 45' 18.9\"</td>\n      <td>15:34:29.960000</td>\n      <td>✔</td>\n    </tr>\n    <tr>\n      <th>3</th>\n      <td>2020-08-19 09:41:40.903000+07:00</td>\n      <td>2020-08-19 15:37:44.930000+07:00</td>\n      <td>02deg 20' 36.6\"</td>\n      <td>286deg 20' 53.8\"</td>\n      <td>-00deg 49' 59.9\"</td>\n      <td>282deg 35' 12.7\"</td>\n      <td>04deg 55' 22.2\"</td>\n      <td>06:08:48.700000</td>\n      <td>✘</td>\n    </tr>\n    <tr>\n      <th>4</th>\n      <td>2020-09-17 18:00:14.099000+07:00</td>\n      <td>2020-09-18 15:34:47.674000+07:00</td>\n      <td>11deg 41' 56.5\"</td>\n      <td>273deg 00' 40.0\"</td>\n      <td>-00deg 49' 59.9\"</td>\n      <td>271deg 31' 41.7\"</td>\n      <td>12deg 37' 06.5\"</td>\n      <td>22:26:04.672000</td>\n      <td>✔</td>\n    </tr>\n  </tbody>\n</table>\n</div>",
          "text/plain": "                   Waktu Konjungsi                     Waktu Sunset  \\\n1 2020-06-21 13:41:27.481000+07:00 2020-06-21 15:29:05.080000+07:00   \n2 2020-07-21 00:32:57.811000+07:00 2020-07-21 15:35:43.727000+07:00   \n3 2020-08-19 09:41:40.903000+07:00 2020-08-19 15:37:44.930000+07:00   \n4 2020-09-17 18:00:14.099000+07:00 2020-09-18 15:34:47.674000+07:00   \n\n          Alt Bulan          Az Bulan      Alt Matahari          Az Bulan  \\\n1  -00deg 55' 08.5\"  293deg 54' 54.2\"  -00deg 49' 59.9\"  293deg 34' 44.5\"   \n2   06deg 24' 01.7\"  293deg 15' 17.4\"  -00deg 49' 59.9\"  290deg 27' 13.3\"   \n3   02deg 20' 36.6\"  286deg 20' 53.8\"  -00deg 49' 59.9\"  282deg 35' 12.7\"   \n4   11deg 41' 56.5\"  273deg 00' 40.0\"  -00deg 49' 59.9\"  271deg 31' 41.7\"   \n\n             Elong      Usia Bulan Imkan Rukyat  \n1  00deg 20' 48.3\" 01:46:00.529000            ✘  \n2  07deg 45' 18.9\" 15:34:29.960000            ✔  \n3  04deg 55' 22.2\" 06:08:48.700000            ✘  \n4  12deg 37' 06.5\" 22:26:04.672000            ✔  "
         },
         "metadata": {},
         "output_type": "display_data"
        },
        {
         "name": "stdout",
         "output_type": "stream",
         "text": "\n"
        }
       ]
      }
     },
     "a355c40edde545f08fc952b80fb2072e": {
      "model_module": "@jupyter-widgets/base",
      "model_module_version": "1.2.0",
      "model_name": "LayoutModel",
      "state": {}
     },
     "a9e5795abf244fb8ad8b35cbed6745b5": {
      "model_module": "@jupyter-widgets/controls",
      "model_module_version": "1.5.0",
      "model_name": "VBoxModel",
      "state": {
       "_dom_classes": [
        "widget-interact"
       ],
       "children": [
        "IPY_MODEL_28eec760985944c9958a4ff695a636cf",
        "IPY_MODEL_4f60af7528db4cb5bebb4107b8e046a6",
        "IPY_MODEL_77abbbb4ff4546779aa495a72aa381d4"
       ],
       "layout": "IPY_MODEL_528ae5fcda264942ae91efbe790d3f0b"
      }
     },
     "ae95c64bc7994f88bd20aa00f5dd0cad": {
      "model_module": "@jupyter-widgets/base",
      "model_module_version": "1.2.0",
      "model_name": "LayoutModel",
      "state": {}
     },
     "ba62becb59be451fb05ae48e7c86873e": {
      "model_module": "@jupyter-widgets/output",
      "model_module_version": "1.0.0",
      "model_name": "OutputModel",
      "state": {
       "layout": "IPY_MODEL_648f4fc68a034654aaa216cb5c88122f",
       "outputs": [
        {
         "name": "stdout",
         "output_type": "stream",
         "text": "\nTopos -08deg 29' 57.6\" N 140deg 24' 17.6\" E\n"
        },
        {
         "data": {
          "text/html": "<div>\n<style scoped>\n    .dataframe tbody tr th:only-of-type {\n        vertical-align: middle;\n    }\n\n    .dataframe tbody tr th {\n        vertical-align: top;\n    }\n\n    .dataframe thead th {\n        text-align: right;\n    }\n</style>\n<table border=\"1\" class=\"dataframe\">\n  <thead>\n    <tr style=\"text-align: right;\">\n      <th></th>\n      <th>Waktu Konjungsi</th>\n      <th>Waktu Sunset</th>\n      <th>Alt Bulan</th>\n      <th>Az Bulan</th>\n      <th>Alt Matahari</th>\n      <th>Az Bulan</th>\n      <th>Elong</th>\n      <th>Usia Bulan</th>\n      <th>Imkan Rukyat</th>\n    </tr>\n  </thead>\n  <tbody>\n    <tr>\n      <th>1</th>\n      <td>2020-06-21 13:41:27.481000+07:00</td>\n      <td>2020-06-21 17:30:29.101000+07:00</td>\n      <td>00deg 04' 22.9\"</td>\n      <td>294deg 06' 33.6\"</td>\n      <td>-00deg 49' 59.9\"</td>\n      <td>293deg 32' 45.4\"</td>\n      <td>01deg 04' 01.8\"</td>\n      <td>03:51:57.706000</td>\n      <td>✘</td>\n    </tr>\n  </tbody>\n</table>\n</div>",
          "text/plain": "                   Waktu Konjungsi                     Waktu Sunset  \\\n1 2020-06-21 13:41:27.481000+07:00 2020-06-21 17:30:29.101000+07:00   \n\n         Alt Bulan          Az Bulan      Alt Matahari          Az Bulan  \\\n1  00deg 04' 22.9\"  294deg 06' 33.6\"  -00deg 49' 59.9\"  293deg 32' 45.4\"   \n\n             Elong      Usia Bulan Imkan Rukyat  \n1  01deg 04' 01.8\" 03:51:57.706000            ✘  "
         },
         "metadata": {},
         "output_type": "display_data"
        },
        {
         "name": "stdout",
         "output_type": "stream",
         "text": "\n"
        }
       ]
      }
     },
     "cc4001ae9cda4749bfb1a7b76cba6f28": {
      "model_module": "@jupyter-widgets/base",
      "model_module_version": "1.2.0",
      "model_name": "LayoutModel",
      "state": {}
     },
     "d6a9b2f7c00344d39b3307d7e9464402": {
      "model_module": "@jupyter-widgets/controls",
      "model_module_version": "1.5.0",
      "model_name": "DatePickerModel",
      "state": {
       "description": "Sampai:",
       "disabled": false,
       "layout": "IPY_MODEL_06e6ae8a9c7f44cba1dcfe652b3f15fc",
       "style": "IPY_MODEL_e8784e3193ad4855ba677c983fa9272a",
       "value": {
        "date": 8,
        "month": 6,
        "year": 2020
       }
      }
     },
     "d9a947c607624f6d8cdcc6a7bfbaab30": {
      "model_module": "@jupyter-widgets/controls",
      "model_module_version": "1.5.0",
      "model_name": "DescriptionStyleModel",
      "state": {
       "description_width": ""
      }
     },
     "dd0561c91ee54c78b6e96ff2d7c70966": {
      "model_module": "@jupyter-widgets/base",
      "model_module_version": "1.2.0",
      "model_name": "LayoutModel",
      "state": {}
     },
     "e7c56f5b9a8c4734b2f72160ad41542c": {
      "model_module": "@jupyter-widgets/controls",
      "model_module_version": "1.5.0",
      "model_name": "VBoxModel",
      "state": {
       "_dom_classes": [
        "widget-interact"
       ],
       "children": [
        "IPY_MODEL_57ad4e53518f42f684f2c491700fcaed",
        "IPY_MODEL_d6a9b2f7c00344d39b3307d7e9464402",
        "IPY_MODEL_ba62becb59be451fb05ae48e7c86873e"
       ],
       "layout": "IPY_MODEL_dd0561c91ee54c78b6e96ff2d7c70966"
      }
     },
     "e8784e3193ad4855ba677c983fa9272a": {
      "model_module": "@jupyter-widgets/controls",
      "model_module_version": "1.5.0",
      "model_name": "DescriptionStyleModel",
      "state": {
       "description_width": ""
      }
     },
     "ed345890b65a41009568fc11ec5537c0": {
      "model_module": "@jupyter-widgets/controls",
      "model_module_version": "1.5.0",
      "model_name": "DescriptionStyleModel",
      "state": {
       "description_width": ""
      }
     },
     "f6b11b41499e49988ad094b5689dc9ec": {
      "model_module": "@jupyter-widgets/base",
      "model_module_version": "1.2.0",
      "model_name": "LayoutModel",
      "state": {}
     }
    },
    "version_major": 2,
    "version_minor": 0
   }
  }
 },
 "nbformat": 4,
 "nbformat_minor": 4
}
