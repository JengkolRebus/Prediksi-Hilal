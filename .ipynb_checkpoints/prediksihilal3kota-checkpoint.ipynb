{
 "cells": [
  {
   "cell_type": "markdown",
   "metadata": {},
   "source": [
    "# Prediksi Hilal"
   ]
  },
  {
   "cell_type": "code",
   "execution_count": null,
   "metadata": {},
   "outputs": [],
   "source": [
    "# _jengkolrebus\n",
    "# Juni, 2020\n",
    "# Curup, Bengkulu"
   ]
  },
  {
   "cell_type": "markdown",
   "metadata": {},
   "source": [
    "Koordinat kota:\n",
    "- Yogyakarta: 7.7956 S, 110.3695 E, <a href=\"https://www.google.com/search?q=koordinat+yogyakarta&rlz=1C1CHBF_enID904ID904&oq=koordinat+yogyakarta&aqs=chrome..69i57.5458j0j7&sourceid=chrome&ie=UTF-8\">sumber</a>\n",
    "- Sabang: 5.892386 N, 95.323706 E, sumber: google maps\n",
    "- Merauke: 8.499324 S, 140.404902 E, sumber: google maps"
   ]
  },
  {
   "cell_type": "code",
   "execution_count": 1,
   "metadata": {},
   "outputs": [],
   "source": [
    "from skyfield import almanac\n",
    "from skyfield.api import load, Topos\n",
    "from skyfield.units import Angle\n",
    "\n",
    "from datetime import datetime, timedelta\n",
    "from pytz import timezone\n",
    "\n",
    "from ipywidgets import widgets, interactive\n",
    "from IPython.display import display, HTML\n",
    "\n",
    "import pandas as pd\n",
    "import calendar"
   ]
  },
  {
   "cell_type": "code",
   "execution_count": 2,
   "metadata": {},
   "outputs": [],
   "source": [
    "jkt = timezone('Asia/Jakarta')\n",
    "ts = load.timescale(builtin=True)\n",
    "e = load('de421.bsp')\n"
   ]
  },
  {
   "cell_type": "code",
   "execution_count": 3,
   "metadata": {},
   "outputs": [],
   "source": [
    "class Var:\n",
    "    SAB = ['5.892386 N', '95.323706 E']\n",
    "    YOG = ['7.7956 S','110.3695 E']\n",
    "    MER = ['8.499324 S', '140.404902 E']\n",
    "\n",
    "    KOTA = (SAB, YOG, MER)"
   ]
  },
  {
   "cell_type": "code",
   "execution_count": 7,
   "metadata": {},
   "outputs": [],
   "source": [
    "class Find():\n",
    "    t_konjungsi = []\n",
    "    t_sunset = []\n",
    "    t_moonset = []\n",
    "    moon_alt = []\n",
    "    moon_az = []\n",
    "    sun_alt = []\n",
    "    sun_az = []\n",
    "    moon_astrometric = []\n",
    "    sun_astrometric = []\n",
    "    elong = []\n",
    "    usia_bulan = []\n",
    "    ir = []\n",
    "    \n",
    "    def __init__(self, t0, t1, topo):\n",
    "        self.t0 = t0\n",
    "        self.t1 = t1\n",
    "        self.topo = Topos(topo[0], topo[1])\n",
    "        print(self.topo)\n",
    "        self.loc = e['earth'] + self.topo\n",
    "        self.earth = e['earth']\n",
    "        self.moon = e['moon']\n",
    "        self.sun = e['sun']\n",
    "        \n",
    "    # Metode untuk membandingkan dengan Imkan Rukyat\n",
    "    def imkanRukyat(self):\n",
    "        alt = self.moon_alt\n",
    "        elong = self.elong\n",
    "        usia_bulan = self.usia_bulan\n",
    "        for i, j, k in zip(alt, elong, usia_bulan):\n",
    "            if(i.degrees >= 2 and j.degrees >= 3 and (timedelta.total_seconds(k)/3600) > 8):\n",
    "                self.ir.append(u'\\u2714')\n",
    "            else:\n",
    "                self.ir.append(u'\\u2718')\n",
    "        \n",
    "    def moonset(self, t): \n",
    "        sunset = t\n",
    "        t = t.utc\n",
    "        t0 = ts.utc(t[0], t[1], t[2], t[3], t[4], t[5])\n",
    "        t1 = ts.utc(t[0], t[1], t[2]+1, t[3]+1, t[4], t[5])\n",
    "        f = almanac.risings_and_settings(e, self.moon, self.topo)\n",
    "        t, y = almanac.find_discrete(t0, t1, f)\n",
    "\n",
    "        for ti, yi in zip(t, y):\n",
    "            if(yi==False):\n",
    "                self.t_moonset.append(ti.astimezone(jkt))\n",
    "            else:\n",
    "                pass\n",
    "    \n",
    "    def pos(self, t, obj):\n",
    "        astrometric = self.loc.at(t).observe(e[obj])\n",
    "        alt, az, d = astrometric.apparent().altaz()\n",
    "        if(obj == 'moon'):\n",
    "            self.moon_astrometric.append(astrometric)\n",
    "            self.moon_alt.append(alt)\n",
    "            self.moon_az.append(az)\n",
    "        else:\n",
    "            self.sun_astrometric.append(astrometric)\n",
    "            self.sun_alt.append(alt)\n",
    "            self.sun_az.append(az)\n",
    "    \n",
    "    def sunset(self, t):\n",
    "        t = t.utc\n",
    "        t0 = ts.utc(t[0], t[1], t[2], t[3], t[4], t[5])\n",
    "        t1 = ts.utc(t[0], t[1], t[2]+1, t[3], t[4], t[5])\n",
    "        f = almanac.sunrise_sunset(e, self.topo)\n",
    "        t, y = almanac.find_discrete(t0, t1, f)\n",
    "        for ti, yi in zip(t, y):\n",
    "            if(yi == False):\n",
    "                self.t_sunset.append(ti.astimezone(jkt))\n",
    "                self.pos(ti, 'moon')\n",
    "                self.pos(ti, 'sun')\n",
    "    \n",
    "    \n",
    "    def konjungsi(self):\n",
    "        t0 = ts.utc(self.t0)\n",
    "        t1 = ts.utc(self.t1)\n",
    "        f = almanac.oppositions_conjunctions(e, self.moon)\n",
    "        t, y = almanac.find_discrete(t0, t1, f)\n",
    "        for ti, yi in zip(t, y):\n",
    "            if(yi == 1):\n",
    "                self.t_konjungsi.append(ti.astimezone(jkt))\n",
    "                self.sunset(ti)\n",
    "                self.moonset(ti)\n",
    "            else:\n",
    "                pass\n",
    "            \n",
    "    def newMoon(self):\n",
    "        t0 = ts.utc(self.t0)\n",
    "        t1 = ts.utc(self.t1)\n",
    "        f = almanac.moon_phases(e)\n",
    "        t, y = almanac.find_discrete(t0, t1, f)\n",
    "        for ti, yi in zip(t, y):\n",
    "            if(yi == 1):\n",
    "                self.t_konjungsi.append(ti.astimezone(jkt))\n",
    "                self.sunset(ti)\n",
    "                self.moonset(ti)\n",
    "            else:\n",
    "                pass\n",
    "    "
   ]
  },
  {
   "cell_type": "code",
   "execution_count": 8,
   "metadata": {},
   "outputs": [],
   "source": [
    "def result(t0, t1, i):\n",
    "    print()\n",
    "    Find.moon_astrometric.clear()\n",
    "    Find.t_konjungsi.clear()\n",
    "    Find.t_sunset.clear()\n",
    "    Find.t_moonset.clear()\n",
    "    Find.moon_alt.clear()\n",
    "    Find.moon_az.clear()\n",
    "    Find.moon_astrometric.clear()\n",
    "    Find.sun_alt.clear()\n",
    "    Find.sun_az.clear()\n",
    "    Find.sun_astrometric.clear()\n",
    "    Find.sun_alt.clear()\n",
    "    Find.elong.clear()\n",
    "    Find.usia_bulan.clear()\n",
    "    Find.ir.clear()\n",
    "    \n",
    "    f = Find(t0, t1, i)\n",
    "    \n",
    "    # Waktu Konjungsi\n",
    "    f.newMoon()\n",
    "    \n",
    "    # Elongasi\n",
    "    for i, j in zip(f.moon_astrometric, f.sun_astrometric):\n",
    "        elong = i.separation_from(j)\n",
    "        f.elong.append(elong)\n",
    "    # Usia Bulan\n",
    "    for i, j in zip(f.t_konjungsi, f.t_moonset):\n",
    "        dt = j - i\n",
    "#         print(type(dt))\n",
    "        f.usia_bulan.append(dt)\n",
    "            \n",
    "    # Imkan Rukyat\n",
    "    f.imkanRukyat()\n",
    "    \n",
    "    table = list(zip(f.t_konjungsi, f.t_sunset, \n",
    "                     f.moon_alt, f.moon_az, \n",
    "                     f.sun_az, f.elong, \n",
    "                     f.usia_bulan, f.ir))\n",
    "    \n",
    "    df = pd.DataFrame(table, columns=['Waktu Konjungsi', 'Waktu Sunset', \n",
    "                                     'Alt Bulan', 'Az Bulan', \n",
    "                                     'Az Matahari', 'Elongasi', \n",
    "                                      'Usia Bulan', 'Imkan Rukyat'])\n",
    "    df.index+=1\n",
    "    display(df)\n",
    "    print()\n",
    "        \n",
    "\n",
    "def repeat(t0, t1):\n",
    "    for i in Var.KOTA:\n",
    "        result(t0, t1, i)"
   ]
  },
  {
   "cell_type": "code",
   "execution_count": 9,
   "metadata": {},
   "outputs": [
    {
     "data": {
      "application/vnd.jupyter.widget-view+json": {
       "model_id": "65b3c93b60834688a0be832f3a430ba2",
       "version_major": 2,
       "version_minor": 0
      },
      "text/plain": [
       "interactive(children=(DatePicker(value=datetime.date(2021, 1, 5), description='Dari:'), DatePicker(value=datet…"
      ]
     },
     "metadata": {},
     "output_type": "display_data"
    }
   ],
   "source": [
    "hari_ini = datetime.now().date()\n",
    "days_in_month = calendar.monthrange(hari_ini.year, hari_ini.month)[1]\n",
    "bulan_depan = hari_ini + timedelta(days_in_month)\n",
    "\n",
    "dari = widgets.DatePicker(value=hari_ini,\n",
    "    description='Dari:',\n",
    "    disabled=False\n",
    ")\n",
    "sampai = widgets.DatePicker(value=bulan_depan,\n",
    "    description='Sampai:',\n",
    "    disabled=False\n",
    ")\n",
    "\n",
    "interactive(repeat, t0=dari, t1=sampai)"
   ]
  },
  {
   "cell_type": "code",
   "execution_count": null,
   "metadata": {},
   "outputs": [],
   "source": []
  },
  {
   "cell_type": "code",
   "execution_count": null,
   "metadata": {},
   "outputs": [],
   "source": []
  }
 ],
 "metadata": {
  "kernelspec": {
   "display_name": "Python 3",
   "language": "python",
   "name": "python3"
  },
  "language_info": {
   "codemirror_mode": {
    "name": "ipython",
    "version": 3
   },
   "file_extension": ".py",
   "mimetype": "text/x-python",
   "name": "python",
   "nbconvert_exporter": "python",
   "pygments_lexer": "ipython3",
   "version": "3.7.6"
  },
  "widgets": {
   "application/vnd.jupyter.widget-state+json": {
    "state": {
     "07f30192e0504c1790970f3b6ad3f358": {
      "model_module": "@jupyter-widgets/base",
      "model_module_version": "1.2.0",
      "model_name": "LayoutModel",
      "state": {}
     },
     "0e0acb2ff84a4d7caa27adbd826771ec": {
      "model_module": "@jupyter-widgets/controls",
      "model_module_version": "1.5.0",
      "model_name": "DatePickerModel",
      "state": {
       "description": "Sampai:",
       "disabled": false,
       "layout": "IPY_MODEL_ca1f1966d98e40d5ad93e9a283860e50",
       "style": "IPY_MODEL_de135661d3de4cd8931510eba78e2d71",
       "value": {
        "date": 5,
        "month": 11,
        "year": 2021
       }
      }
     },
     "138aad7327d24a1fa4e6161e16ce5660": {
      "model_module": "@jupyter-widgets/output",
      "model_module_version": "1.0.0",
      "model_name": "OutputModel",
      "state": {
       "layout": "IPY_MODEL_ed7068613b174121ae329e45cd1be73e",
       "outputs": [
        {
         "name": "stdout",
         "output_type": "stream",
         "text": "\nTopos 05deg 53' 32.6\" N 95deg 19' 25.3\" E\n"
        },
        {
         "ename": "AttributeError",
         "evalue": "module 'skyfield.almanac' has no attribute 'moon_phase'",
         "output_type": "error",
         "traceback": [
          "\u001b[1;31m---------------------------------------------------------------------------\u001b[0m",
          "\u001b[1;31mAttributeError\u001b[0m                            Traceback (most recent call last)",
          "\u001b[1;32mc:\\users\\khair\\appdata\\local\\programs\\python\\python37\\lib\\site-packages\\ipywidgets\\widgets\\interaction.py\u001b[0m in \u001b[0;36mupdate\u001b[1;34m(self, *args)\u001b[0m\n\u001b[0;32m    254\u001b[0m                     \u001b[0mvalue\u001b[0m \u001b[1;33m=\u001b[0m \u001b[0mwidget\u001b[0m\u001b[1;33m.\u001b[0m\u001b[0mget_interact_value\u001b[0m\u001b[1;33m(\u001b[0m\u001b[1;33m)\u001b[0m\u001b[1;33m\u001b[0m\u001b[1;33m\u001b[0m\u001b[0m\n\u001b[0;32m    255\u001b[0m                     \u001b[0mself\u001b[0m\u001b[1;33m.\u001b[0m\u001b[0mkwargs\u001b[0m\u001b[1;33m[\u001b[0m\u001b[0mwidget\u001b[0m\u001b[1;33m.\u001b[0m\u001b[0m_kwarg\u001b[0m\u001b[1;33m]\u001b[0m \u001b[1;33m=\u001b[0m \u001b[0mvalue\u001b[0m\u001b[1;33m\u001b[0m\u001b[1;33m\u001b[0m\u001b[0m\n\u001b[1;32m--> 256\u001b[1;33m                 \u001b[0mself\u001b[0m\u001b[1;33m.\u001b[0m\u001b[0mresult\u001b[0m \u001b[1;33m=\u001b[0m \u001b[0mself\u001b[0m\u001b[1;33m.\u001b[0m\u001b[0mf\u001b[0m\u001b[1;33m(\u001b[0m\u001b[1;33m**\u001b[0m\u001b[0mself\u001b[0m\u001b[1;33m.\u001b[0m\u001b[0mkwargs\u001b[0m\u001b[1;33m)\u001b[0m\u001b[1;33m\u001b[0m\u001b[1;33m\u001b[0m\u001b[0m\n\u001b[0m\u001b[0;32m    257\u001b[0m                 \u001b[0mshow_inline_matplotlib_plots\u001b[0m\u001b[1;33m(\u001b[0m\u001b[1;33m)\u001b[0m\u001b[1;33m\u001b[0m\u001b[1;33m\u001b[0m\u001b[0m\n\u001b[0;32m    258\u001b[0m                 \u001b[1;32mif\u001b[0m \u001b[0mself\u001b[0m\u001b[1;33m.\u001b[0m\u001b[0mauto_display\u001b[0m \u001b[1;32mand\u001b[0m \u001b[0mself\u001b[0m\u001b[1;33m.\u001b[0m\u001b[0mresult\u001b[0m \u001b[1;32mis\u001b[0m \u001b[1;32mnot\u001b[0m \u001b[1;32mNone\u001b[0m\u001b[1;33m:\u001b[0m\u001b[1;33m\u001b[0m\u001b[1;33m\u001b[0m\u001b[0m\n",
          "\u001b[1;32m<ipython-input-5-cdc5eff9cdc9>\u001b[0m in \u001b[0;36mrepeat\u001b[1;34m(t0, t1)\u001b[0m\n\u001b[0;32m     50\u001b[0m \u001b[1;32mdef\u001b[0m \u001b[0mrepeat\u001b[0m\u001b[1;33m(\u001b[0m\u001b[0mt0\u001b[0m\u001b[1;33m,\u001b[0m \u001b[0mt1\u001b[0m\u001b[1;33m)\u001b[0m\u001b[1;33m:\u001b[0m\u001b[1;33m\u001b[0m\u001b[1;33m\u001b[0m\u001b[0m\n\u001b[0;32m     51\u001b[0m     \u001b[1;32mfor\u001b[0m \u001b[0mi\u001b[0m \u001b[1;32min\u001b[0m \u001b[0mVar\u001b[0m\u001b[1;33m.\u001b[0m\u001b[0mKOTA\u001b[0m\u001b[1;33m:\u001b[0m\u001b[1;33m\u001b[0m\u001b[1;33m\u001b[0m\u001b[0m\n\u001b[1;32m---> 52\u001b[1;33m         \u001b[0mresult\u001b[0m\u001b[1;33m(\u001b[0m\u001b[0mt0\u001b[0m\u001b[1;33m,\u001b[0m \u001b[0mt1\u001b[0m\u001b[1;33m,\u001b[0m \u001b[0mi\u001b[0m\u001b[1;33m)\u001b[0m\u001b[1;33m\u001b[0m\u001b[1;33m\u001b[0m\u001b[0m\n\u001b[0m",
          "\u001b[1;32m<ipython-input-5-cdc5eff9cdc9>\u001b[0m in \u001b[0;36mresult\u001b[1;34m(t0, t1, i)\u001b[0m\n\u001b[0;32m     19\u001b[0m \u001b[1;33m\u001b[0m\u001b[0m\n\u001b[0;32m     20\u001b[0m     \u001b[1;31m# Waktu Konjungsi\u001b[0m\u001b[1;33m\u001b[0m\u001b[1;33m\u001b[0m\u001b[1;33m\u001b[0m\u001b[0m\n\u001b[1;32m---> 21\u001b[1;33m     \u001b[0mf\u001b[0m\u001b[1;33m.\u001b[0m\u001b[0mnewMoon\u001b[0m\u001b[1;33m(\u001b[0m\u001b[1;33m)\u001b[0m\u001b[1;33m\u001b[0m\u001b[1;33m\u001b[0m\u001b[0m\n\u001b[0m\u001b[0;32m     22\u001b[0m \u001b[1;33m\u001b[0m\u001b[0m\n\u001b[0;32m     23\u001b[0m     \u001b[1;31m# Elongasi\u001b[0m\u001b[1;33m\u001b[0m\u001b[1;33m\u001b[0m\u001b[1;33m\u001b[0m\u001b[0m\n",
          "\u001b[1;32m<ipython-input-4-dd6e0737297c>\u001b[0m in \u001b[0;36mnewMoon\u001b[1;34m(self)\u001b[0m\n\u001b[0;32m     90\u001b[0m         \u001b[0mt0\u001b[0m \u001b[1;33m=\u001b[0m \u001b[0mts\u001b[0m\u001b[1;33m.\u001b[0m\u001b[0mutc\u001b[0m\u001b[1;33m(\u001b[0m\u001b[0mself\u001b[0m\u001b[1;33m.\u001b[0m\u001b[0mt0\u001b[0m\u001b[1;33m)\u001b[0m\u001b[1;33m\u001b[0m\u001b[1;33m\u001b[0m\u001b[0m\n\u001b[0;32m     91\u001b[0m         \u001b[0mt1\u001b[0m \u001b[1;33m=\u001b[0m \u001b[0mts\u001b[0m\u001b[1;33m.\u001b[0m\u001b[0mutc\u001b[0m\u001b[1;33m(\u001b[0m\u001b[0mself\u001b[0m\u001b[1;33m.\u001b[0m\u001b[0mt1\u001b[0m\u001b[1;33m)\u001b[0m\u001b[1;33m\u001b[0m\u001b[1;33m\u001b[0m\u001b[0m\n\u001b[1;32m---> 92\u001b[1;33m         \u001b[0mf\u001b[0m \u001b[1;33m=\u001b[0m \u001b[0malmanac\u001b[0m\u001b[1;33m.\u001b[0m\u001b[0mmoon_phase\u001b[0m\u001b[1;33m(\u001b[0m\u001b[0me\u001b[0m\u001b[1;33m)\u001b[0m\u001b[1;33m\u001b[0m\u001b[1;33m\u001b[0m\u001b[0m\n\u001b[0m\u001b[0;32m     93\u001b[0m         \u001b[0mt\u001b[0m\u001b[1;33m,\u001b[0m \u001b[0my\u001b[0m \u001b[1;33m=\u001b[0m \u001b[0malmanac\u001b[0m\u001b[1;33m.\u001b[0m\u001b[0mfind_discrete\u001b[0m\u001b[1;33m(\u001b[0m\u001b[0mt0\u001b[0m\u001b[1;33m,\u001b[0m \u001b[0mt1\u001b[0m\u001b[1;33m,\u001b[0m \u001b[0mf\u001b[0m\u001b[1;33m)\u001b[0m\u001b[1;33m\u001b[0m\u001b[1;33m\u001b[0m\u001b[0m\n\u001b[0;32m     94\u001b[0m         \u001b[1;32mfor\u001b[0m \u001b[0mti\u001b[0m\u001b[1;33m,\u001b[0m \u001b[0myi\u001b[0m \u001b[1;32min\u001b[0m \u001b[0mzip\u001b[0m\u001b[1;33m(\u001b[0m\u001b[0mt\u001b[0m\u001b[1;33m,\u001b[0m \u001b[0my\u001b[0m\u001b[1;33m)\u001b[0m\u001b[1;33m:\u001b[0m\u001b[1;33m\u001b[0m\u001b[1;33m\u001b[0m\u001b[0m\n",
          "\u001b[1;31mAttributeError\u001b[0m: module 'skyfield.almanac' has no attribute 'moon_phase'"
         ]
        }
       ]
      }
     },
     "1abe1fec20754df69fcb4f549d58ddd8": {
      "model_module": "@jupyter-widgets/controls",
      "model_module_version": "1.5.0",
      "model_name": "DescriptionStyleModel",
      "state": {
       "description_width": ""
      }
     },
     "49fee139656c49d1b67885517e9c14c5": {
      "model_module": "@jupyter-widgets/output",
      "model_module_version": "1.0.0",
      "model_name": "OutputModel",
      "state": {
       "layout": "IPY_MODEL_dd11feb2518c4c6bb9c924a1c706d47e",
       "outputs": [
        {
         "name": "stdout",
         "output_type": "stream",
         "text": "\nTopos 05deg 53' 32.6\" N 95deg 19' 25.3\" E\n"
        },
        {
         "data": {
          "text/html": "<div>\n<style scoped>\n    .dataframe tbody tr th:only-of-type {\n        vertical-align: middle;\n    }\n\n    .dataframe tbody tr th {\n        vertical-align: top;\n    }\n\n    .dataframe thead th {\n        text-align: right;\n    }\n</style>\n<table border=\"1\" class=\"dataframe\">\n  <thead>\n    <tr style=\"text-align: right;\">\n      <th></th>\n      <th>Waktu Konjungsi</th>\n      <th>Waktu Sunset</th>\n      <th>Alt Bulan</th>\n      <th>Az Bulan</th>\n      <th>Az Matahari</th>\n      <th>Elongasi</th>\n      <th>Usia Bulan</th>\n      <th>Imkan Rukyat</th>\n    </tr>\n  </thead>\n  <tbody>\n  </tbody>\n</table>\n</div>",
          "text/plain": "Empty DataFrame\nColumns: [Waktu Konjungsi, Waktu Sunset, Alt Bulan, Az Bulan, Az Matahari, Elongasi, Usia Bulan, Imkan Rukyat]\nIndex: []"
         },
         "metadata": {},
         "output_type": "display_data"
        },
        {
         "name": "stdout",
         "output_type": "stream",
         "text": "\n\nTopos -07deg 47' 44.2\" N 110deg 22' 10.2\" E\n"
        },
        {
         "data": {
          "text/html": "<div>\n<style scoped>\n    .dataframe tbody tr th:only-of-type {\n        vertical-align: middle;\n    }\n\n    .dataframe tbody tr th {\n        vertical-align: top;\n    }\n\n    .dataframe thead th {\n        text-align: right;\n    }\n</style>\n<table border=\"1\" class=\"dataframe\">\n  <thead>\n    <tr style=\"text-align: right;\">\n      <th></th>\n      <th>Waktu Konjungsi</th>\n      <th>Waktu Sunset</th>\n      <th>Alt Bulan</th>\n      <th>Az Bulan</th>\n      <th>Az Matahari</th>\n      <th>Elongasi</th>\n      <th>Usia Bulan</th>\n      <th>Imkan Rukyat</th>\n    </tr>\n  </thead>\n  <tbody>\n  </tbody>\n</table>\n</div>",
          "text/plain": "Empty DataFrame\nColumns: [Waktu Konjungsi, Waktu Sunset, Alt Bulan, Az Bulan, Az Matahari, Elongasi, Usia Bulan, Imkan Rukyat]\nIndex: []"
         },
         "metadata": {},
         "output_type": "display_data"
        },
        {
         "name": "stdout",
         "output_type": "stream",
         "text": "\n\nTopos -08deg 29' 57.6\" N 140deg 24' 17.6\" E\n"
        },
        {
         "data": {
          "text/html": "<div>\n<style scoped>\n    .dataframe tbody tr th:only-of-type {\n        vertical-align: middle;\n    }\n\n    .dataframe tbody tr th {\n        vertical-align: top;\n    }\n\n    .dataframe thead th {\n        text-align: right;\n    }\n</style>\n<table border=\"1\" class=\"dataframe\">\n  <thead>\n    <tr style=\"text-align: right;\">\n      <th></th>\n      <th>Waktu Konjungsi</th>\n      <th>Waktu Sunset</th>\n      <th>Alt Bulan</th>\n      <th>Az Bulan</th>\n      <th>Az Matahari</th>\n      <th>Elongasi</th>\n      <th>Usia Bulan</th>\n      <th>Imkan Rukyat</th>\n    </tr>\n  </thead>\n  <tbody>\n  </tbody>\n</table>\n</div>",
          "text/plain": "Empty DataFrame\nColumns: [Waktu Konjungsi, Waktu Sunset, Alt Bulan, Az Bulan, Az Matahari, Elongasi, Usia Bulan, Imkan Rukyat]\nIndex: []"
         },
         "metadata": {},
         "output_type": "display_data"
        },
        {
         "name": "stdout",
         "output_type": "stream",
         "text": "\n"
        }
       ]
      }
     },
     "5055598088c546bc9350a75e8c872066": {
      "model_module": "@jupyter-widgets/base",
      "model_module_version": "1.2.0",
      "model_name": "LayoutModel",
      "state": {}
     },
     "65b3c93b60834688a0be832f3a430ba2": {
      "model_module": "@jupyter-widgets/controls",
      "model_module_version": "1.5.0",
      "model_name": "VBoxModel",
      "state": {
       "_dom_classes": [
        "widget-interact"
       ],
       "children": [
        "IPY_MODEL_a9f3060bb31b46f9b041969c658bdbe6",
        "IPY_MODEL_0e0acb2ff84a4d7caa27adbd826771ec",
        "IPY_MODEL_49fee139656c49d1b67885517e9c14c5"
       ],
       "layout": "IPY_MODEL_5055598088c546bc9350a75e8c872066"
      }
     },
     "79ea9b343c26444f8d6e37d4815ce4db": {
      "model_module": "@jupyter-widgets/controls",
      "model_module_version": "1.5.0",
      "model_name": "DescriptionStyleModel",
      "state": {
       "description_width": ""
      }
     },
     "915652c1fe99471dbd9f05892d1175d9": {
      "model_module": "@jupyter-widgets/base",
      "model_module_version": "1.2.0",
      "model_name": "LayoutModel",
      "state": {}
     },
     "93b9dbe1aa69492ebccef18b9f64464f": {
      "model_module": "@jupyter-widgets/base",
      "model_module_version": "1.2.0",
      "model_name": "LayoutModel",
      "state": {}
     },
     "a266bd642b284c00b21cc640725193f5": {
      "model_module": "@jupyter-widgets/controls",
      "model_module_version": "1.5.0",
      "model_name": "DescriptionStyleModel",
      "state": {
       "description_width": ""
      }
     },
     "a9f3060bb31b46f9b041969c658bdbe6": {
      "model_module": "@jupyter-widgets/controls",
      "model_module_version": "1.5.0",
      "model_name": "DatePickerModel",
      "state": {
       "description": "Dari:",
       "disabled": false,
       "layout": "IPY_MODEL_93b9dbe1aa69492ebccef18b9f64464f",
       "style": "IPY_MODEL_1abe1fec20754df69fcb4f549d58ddd8",
       "value": {
        "date": 5,
        "month": 0,
        "year": 2021
       }
      }
     },
     "b3e59279b9744f73b82c4803e8f7a68a": {
      "model_module": "@jupyter-widgets/base",
      "model_module_version": "1.2.0",
      "model_name": "LayoutModel",
      "state": {}
     },
     "b9a9ad48154d4447add29354cc1dd5e8": {
      "model_module": "@jupyter-widgets/controls",
      "model_module_version": "1.5.0",
      "model_name": "DatePickerModel",
      "state": {
       "description": "Dari:",
       "disabled": false,
       "layout": "IPY_MODEL_b3e59279b9744f73b82c4803e8f7a68a",
       "style": "IPY_MODEL_79ea9b343c26444f8d6e37d4815ce4db",
       "value": {
        "date": 5,
        "month": 0,
        "year": 2021
       }
      }
     },
     "ca1f1966d98e40d5ad93e9a283860e50": {
      "model_module": "@jupyter-widgets/base",
      "model_module_version": "1.2.0",
      "model_name": "LayoutModel",
      "state": {}
     },
     "dd11feb2518c4c6bb9c924a1c706d47e": {
      "model_module": "@jupyter-widgets/base",
      "model_module_version": "1.2.0",
      "model_name": "LayoutModel",
      "state": {}
     },
     "de135661d3de4cd8931510eba78e2d71": {
      "model_module": "@jupyter-widgets/controls",
      "model_module_version": "1.5.0",
      "model_name": "DescriptionStyleModel",
      "state": {
       "description_width": ""
      }
     },
     "ed7068613b174121ae329e45cd1be73e": {
      "model_module": "@jupyter-widgets/base",
      "model_module_version": "1.2.0",
      "model_name": "LayoutModel",
      "state": {}
     },
     "f3d4d966a8664e87a0a4214282c4715a": {
      "model_module": "@jupyter-widgets/controls",
      "model_module_version": "1.5.0",
      "model_name": "VBoxModel",
      "state": {
       "_dom_classes": [
        "widget-interact"
       ],
       "children": [
        "IPY_MODEL_b9a9ad48154d4447add29354cc1dd5e8",
        "IPY_MODEL_f8b3c8c8a31447859c3679fbfdea275f",
        "IPY_MODEL_138aad7327d24a1fa4e6161e16ce5660"
       ],
       "layout": "IPY_MODEL_07f30192e0504c1790970f3b6ad3f358"
      }
     },
     "f8b3c8c8a31447859c3679fbfdea275f": {
      "model_module": "@jupyter-widgets/controls",
      "model_module_version": "1.5.0",
      "model_name": "DatePickerModel",
      "state": {
       "description": "Sampai:",
       "disabled": false,
       "layout": "IPY_MODEL_915652c1fe99471dbd9f05892d1175d9",
       "style": "IPY_MODEL_a266bd642b284c00b21cc640725193f5",
       "value": {
        "date": 5,
        "month": 1,
        "year": 2021
       }
      }
     }
    },
    "version_major": 2,
    "version_minor": 0
   }
  }
 },
 "nbformat": 4,
 "nbformat_minor": 4
}
