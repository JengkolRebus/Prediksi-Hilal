{
 "cells": [
  {
   "cell_type": "markdown",
   "metadata": {},
   "source": [
    "\n",
    "# Prediksi Hilal\n",
    "---"
   ]
  },
  {
   "cell_type": "code",
   "execution_count": 1,
   "metadata": {},
   "outputs": [],
   "source": [
    "# _jengkolrebus\n",
    "# Mei, 2020\n",
    "# Curup, Bengkulu"
   ]
  },
  {
   "cell_type": "markdown",
   "metadata": {},
   "source": [
    "Program ini menggunakan Python Package: [Skyfield](https://rhodesmill.org/skyfield/).\n",
    "Program ini dibuat dengan ketentuan sebagai berikut:\n",
    "- Ephemeris:\n",
    "    > Ephemeris yang digunakan adalah de421.bsp\n",
    "- Definisi Matahari Terbenam:\n",
    "    > Skyfield menggunakan definisi resmi matahari terbit dan terbenam dari United States Naval Observatory, yang mendefinisikan matahari terbenam ketika pusat matahari adalah <b>0,8333</b> derajat di bawah Horizon, untuk memperhitungkan rata-rata jari-jari Matahari dan untuk rata-rata pembiasan atmosfer di horizon.\n",
    "___\n",
    "- Flowchart:\n",
    "<br>\n",
    "<img src=\"flowchart.png\">\n",
    "<br>\n",
    "- Input Lokasi berupa Latitude dan Longitude dalam bentuk <em>Decimal Degree</em> dengan format String / text.\n",
    " > Contoh : \n",
    "    Latitude: \"7.83305556 S\"\n",
    "    Longitude: \"110.38305556 E\"\n",
    "    Perhatikan Notasi \"S\" dan \"E\" bergantung pada lokasi.\n",
    "    \n",
    "- Input waktu berupa tanggal rentang waktu hilal yang ingin dicari.\n",
    " > Contoh dari tanggal 1 Januari 2020, sampai 1 Januari 2021\n",
    "___\n"
   ]
  },
  {
   "cell_type": "code",
   "execution_count": 2,
   "metadata": {},
   "outputs": [],
   "source": [
    "from skyfield.api import load, Topos\n",
    "from skyfield.units import Angle\n",
    "from skyfield import almanac\n",
    "from datetime import datetime, timedelta\n",
    "from pytz import timezone\n",
    "from ipywidgets import widgets, interact, interactive\n",
    "from IPython.display import display, HTML\n",
    "import pandas as pd\n",
    "import calendar"
   ]
  },
  {
   "cell_type": "code",
   "execution_count": 8,
   "metadata": {},
   "outputs": [],
   "source": [
    "class var:\n",
    "    df = []"
   ]
  },
  {
   "cell_type": "code",
   "execution_count": 9,
   "metadata": {},
   "outputs": [],
   "source": [
    "jkt = timezone('Asia/Jakarta')\n",
    "ts = load.timescale()\n",
    "e = load('de421.bsp')"
   ]
  },
  {
   "cell_type": "markdown",
   "metadata": {},
   "source": [
    "### Kriteria Hilal\n",
    "- Imkanur Rukyat\n",
    "    > - Pada saat matahari terbenam, <b>ketinggian bulan minimal 2$^\\circ$</b>, <b>Elongasi minimal 3$^\\circ$</b>.\n",
    "    > - Usia bulan minimal <b>8 Jam</b>, dihitung sejak ijtima' (konjungsi)\n",
    "    \n",
    "___"
   ]
  },
  {
   "cell_type": "code",
   "execution_count": 10,
   "metadata": {},
   "outputs": [],
   "source": [
    "class Find():\n",
    "    def __init__(self, lat, long, t0, t1):\n",
    "        self.lat = lat\n",
    "        self.long = long\n",
    "        self.t0 = t0\n",
    "        self.t1 = t1\n",
    "        self.topo = Topos(self.lat, self.long)\n",
    "        self.loc = e['earth'] + self.topo\n",
    "    \n",
    "    def conjunction(self):\n",
    "        result = []\n",
    "        t0 = ts.utc(self.t0)\n",
    "        t1 = ts.utc(self.t1)\n",
    "        f = almanac.oppositions_conjunctions(e, e['moon'])\n",
    "        t, y = almanac.find_discrete(t0, t1, f)\n",
    "        for ti, yi in zip(t, y):\n",
    "            if(yi == 1):\n",
    "                result.append(ti)\n",
    "            else:\n",
    "                pass\n",
    "\n",
    "        return result\n",
    "        \n",
    "    def sunset(self, t):\n",
    "        t = t.utc\n",
    "        t0 = ts.utc(t[0], t[1], t[2], t[3], t[4], t[5])\n",
    "        t1 = ts.utc(t[0], t[1], t[2]+1, t[3], t[4], t[5])\n",
    "        f = almanac.sunrise_sunset(e, self.topo)\n",
    "        t, y = almanac.find_discrete(t0, t1, f)\n",
    "        for ti, yi in zip(t, y):\n",
    "            if(yi == False):\n",
    "                return ti\n",
    "            else:\n",
    "                pass\n",
    "    \n",
    "    def objPos(self, t, obj):\n",
    "        astrometric = self.loc.at(t).observe(e[obj])\n",
    "        alt, az, d = astrometric.apparent().altaz()\n",
    "        return alt, az, astrometric\n",
    "        \n"
   ]
  },
  {
   "cell_type": "code",
   "execution_count": 14,
   "metadata": {},
   "outputs": [],
   "source": [
    "# Metode untuk membandingkan dengan Imkan Rukyat\n",
    "def imkanRukyat(alt, elong, age):\n",
    "    if(alt.degrees >= 2 and elong.degrees >= 3 and (timedelta.total_seconds(age)/3600) > 8):\n",
    "        return u'\\u2714'\n",
    "    else:\n",
    "        return u'\\u2718'\n",
    "\n",
    "def result(lat, long, t0, t1):\n",
    "    f = Find(lat, long, t0, t1)\n",
    "    conj = f.conjunction()\n",
    "    sunset = [f.sunset(t) for t in conj]\n",
    "    \n",
    "    moon_alt = []\n",
    "    moon_az = []\n",
    "    moon_astrometric = []\n",
    "    sun_alt = []\n",
    "    sun_az = []\n",
    "    sun_astrometric = []\n",
    "    for t in sunset:\n",
    "        alt, az, astro = f.objPos(t, 'moon')\n",
    "        moon_alt.append(alt)\n",
    "        moon_az.append(az)\n",
    "        moon_astrometric.append(astro)\n",
    "        \n",
    "        alt, az, astro = f.objPos(t, 'sun')\n",
    "        sun_alt.append(alt)\n",
    "        sun_az.append(az)\n",
    "        sun_astrometric.append(astro)\n",
    "    \n",
    "    elong = [moon.separation_from(sun) for moon, sun in zip(moon_astrometric, sun_astrometric)]\n",
    "        \n",
    "    conj[:] = [t.astimezone(jkt).replace(tzinfo=None) for t in conj]\n",
    "    sunset[:] = [t.astimezone(jkt).replace(tzinfo=None) for t in sunset]\n",
    "    \n",
    "    moon_age = [t1-t0 for (t0, t1) in zip(conj, sunset)]\n",
    "    imkan_rukyat = [imkanRukyat(al, el, age) for al, el, age in zip(moon_alt, elong, moon_age)]\n",
    "    \n",
    "    # Menampilkan hasil dalam bentuk tabel dataframe\n",
    "    tabel = list(zip(conj, sunset,\n",
    "                     moon_alt, moon_az, \n",
    "                     sun_alt, sun_az, \n",
    "                     elong, moon_age,\n",
    "                    imkan_rukyat))\n",
    "    \n",
    "    df = pd.DataFrame(tabel, columns=['Waktu Konjungsi (UTC+07)', 'Waktu Hilal (UTC+07)', \n",
    "                                      'Altitude Bulan', 'Azimuth Bulan', \n",
    "                                      'Altitude Matahari', 'Azimuth Matahari', \n",
    "                                     'Elongasi', 'Usia Bulan', \n",
    "                                     'Imkan Rukyat'])\n",
    "    df.index+=1\n",
    "    display(df)\n",
    "    \n",
    "    var.df = df\n",
    "    \n",
    "    button = widgets.Button(description=\"Save to Excel\")\n",
    "    output = widgets.Output()\n",
    "    display(button, output)\n",
    "    def on_button_clicked(b):\n",
    "        var.df.to_excel(\"output.xlsx\")\n",
    "        with output:\n",
    "            print(\"Button clicked.\")\n",
    "\n",
    "    button.on_click(on_button_clicked)"
   ]
  },
  {
   "cell_type": "code",
   "execution_count": 15,
   "metadata": {},
   "outputs": [
    {
     "data": {
      "application/vnd.jupyter.widget-view+json": {
       "model_id": "67db51701e12497e84f647281e1d26fe",
       "version_major": 2,
       "version_minor": 0
      },
      "text/plain": [
       "interactive(children=(Text(value='7.83305556 S', description='Latitude:'), Text(value='110.38305556 E', descri…"
      ]
     },
     "metadata": {},
     "output_type": "display_data"
    }
   ],
   "source": [
    "hari_ini = datetime.now().date()\n",
    "days_in_month = calendar.monthrange(hari_ini.year, hari_ini.month)[1]\n",
    "bulan_depan = hari_ini + timedelta(days_in_month)\n",
    "\n",
    "dari = widgets.DatePicker(value=hari_ini,\n",
    "    description='Dari:',\n",
    "    disabled=False\n",
    ")\n",
    "sampai = widgets.DatePicker(value=bulan_depan,\n",
    "    description='Sampai:',\n",
    "    disabled=False\n",
    ")\n",
    "\n",
    "lat = widgets.Text(value='7.83305556 S', description='Latitude:')\n",
    "long = widgets.Text(value='110.38305556 E', description='Longitude:')\n",
    "\n",
    "interactive(result, lat=lat, long=long, t0=dari, t1=sampai)\n"
   ]
  },
  {
   "cell_type": "code",
   "execution_count": null,
   "metadata": {},
   "outputs": [],
   "source": []
  },
  {
   "cell_type": "code",
   "execution_count": null,
   "metadata": {},
   "outputs": [],
   "source": []
  }
 ],
 "metadata": {
  "kernelspec": {
   "display_name": "Python 3",
   "language": "python",
   "name": "python3"
  },
  "language_info": {
   "codemirror_mode": {
    "name": "ipython",
    "version": 3
   },
   "file_extension": ".py",
   "mimetype": "text/x-python",
   "name": "python",
   "nbconvert_exporter": "python",
   "pygments_lexer": "ipython3",
   "version": "3.7.6"
  },
  "widgets": {
   "application/vnd.jupyter.widget-state+json": {
    "state": {
     "008cf0fbe157453cbd7fec24b39e1e86": {
      "model_module": "@jupyter-widgets/controls",
      "model_module_version": "1.5.0",
      "model_name": "ButtonModel",
      "state": {
       "description": "Save to Excel",
       "layout": "IPY_MODEL_799f7e5141af4c0aa821f8c93e7d621e",
       "style": "IPY_MODEL_68ad912119644b11883396cd123af17f"
      }
     },
     "0393a190fd2b4a6e99be31f1f068b89a": {
      "model_module": "@jupyter-widgets/output",
      "model_module_version": "1.0.0",
      "model_name": "OutputModel",
      "state": {
       "layout": "IPY_MODEL_15458f06ee524792bd2ddfad45edbaa4"
      }
     },
     "06c83edf0b87495399dc79022daf3ea3": {
      "model_module": "@jupyter-widgets/controls",
      "model_module_version": "1.5.0",
      "model_name": "ButtonModel",
      "state": {
       "description": "Save to Excel",
       "layout": "IPY_MODEL_a10710fd14f34cf5b57735e516c9c641",
       "style": "IPY_MODEL_ac93ac048fc24937b429e3dbb933be67"
      }
     },
     "0847fa8b2a434c8ab0f0b84aaaed5a83": {
      "model_module": "@jupyter-widgets/controls",
      "model_module_version": "1.5.0",
      "model_name": "TextModel",
      "state": {
       "description": "Latitude:",
       "layout": "IPY_MODEL_ae25558e60c9468a9b76dd39f579346d",
       "style": "IPY_MODEL_1f523e8eb7844ebbaf52a2c32859336e",
       "value": "7.83305556 S"
      }
     },
     "0ab545a242644dce99f9da38fe733d7e": {
      "model_module": "@jupyter-widgets/output",
      "model_module_version": "1.0.0",
      "model_name": "OutputModel",
      "state": {
       "layout": "IPY_MODEL_59712df0414040ae955113b2a1c7883f",
       "outputs": [
        {
         "data": {
          "text/html": "<div>\n<style scoped>\n    .dataframe tbody tr th:only-of-type {\n        vertical-align: middle;\n    }\n\n    .dataframe tbody tr th {\n        vertical-align: top;\n    }\n\n    .dataframe thead th {\n        text-align: right;\n    }\n</style>\n<table border=\"1\" class=\"dataframe\">\n  <thead>\n    <tr style=\"text-align: right;\">\n      <th></th>\n      <th>Waktu Konjungsi (UTC+07)</th>\n      <th>Waktu Hilal (UTC+07)</th>\n      <th>Altitude Bulan</th>\n      <th>Azimuth Bulan</th>\n      <th>Altitude Matahari</th>\n      <th>Azimuth Matahari</th>\n      <th>Elongasi</th>\n      <th>Usia Bulan</th>\n      <th>Imkan Rukyat</th>\n    </tr>\n  </thead>\n  <tbody>\n    <tr>\n      <th>1</th>\n      <td>2020-10-17 02:31:04.056</td>\n      <td>2020-10-17 17:32:25.534</td>\n      <td>07deg 44' 25.4\"</td>\n      <td>261deg 55' 19.1\"</td>\n      <td>-00deg 49' 59.9\"</td>\n      <td>260deg 17' 39.6\"</td>\n      <td>08deg 43' 33.3\"</td>\n      <td>15:01:21.478000</td>\n      <td>✔</td>\n    </tr>\n    <tr>\n      <th>2</th>\n      <td>2020-11-15 12:07:11.638</td>\n      <td>2020-11-15 17:37:19.709</td>\n      <td>01deg 34' 54.1\"</td>\n      <td>252deg 46' 31.0\"</td>\n      <td>-00deg 49' 59.9\"</td>\n      <td>251deg 02' 34.1\"</td>\n      <td>02deg 58' 19.4\"</td>\n      <td>05:30:08.071000</td>\n      <td>✘</td>\n    </tr>\n    <tr>\n      <th>3</th>\n      <td>2020-12-14 23:16:35.068</td>\n      <td>2020-12-15 17:51:03.051</td>\n      <td>08deg 43' 25.9\"</td>\n      <td>246deg 09' 35.2\"</td>\n      <td>-00deg 49' 59.9\"</td>\n      <td>246deg 20' 33.0\"</td>\n      <td>09deg 33' 31.7\"</td>\n      <td>18:34:27.983000</td>\n      <td>✔</td>\n    </tr>\n    <tr>\n      <th>4</th>\n      <td>2021-01-13 12:00:11.182</td>\n      <td>2021-01-13 18:03:12.872</td>\n      <td>02deg 16' 10.0\"</td>\n      <td>246deg 19' 12.1\"</td>\n      <td>-00deg 49' 59.9\"</td>\n      <td>248deg 16' 02.0\"</td>\n      <td>03deg 39' 46.5\"</td>\n      <td>06:03:01.690000</td>\n      <td>✘</td>\n    </tr>\n  </tbody>\n</table>\n</div>",
          "text/plain": "  Waktu Konjungsi (UTC+07)    Waktu Hilal (UTC+07)   Altitude Bulan  \\\n1  2020-10-17 02:31:04.056 2020-10-17 17:32:25.534  07deg 44' 25.4\"   \n2  2020-11-15 12:07:11.638 2020-11-15 17:37:19.709  01deg 34' 54.1\"   \n3  2020-12-14 23:16:35.068 2020-12-15 17:51:03.051  08deg 43' 25.9\"   \n4  2021-01-13 12:00:11.182 2021-01-13 18:03:12.872  02deg 16' 10.0\"   \n\n      Azimuth Bulan Altitude Matahari  Azimuth Matahari         Elongasi  \\\n1  261deg 55' 19.1\"  -00deg 49' 59.9\"  260deg 17' 39.6\"  08deg 43' 33.3\"   \n2  252deg 46' 31.0\"  -00deg 49' 59.9\"  251deg 02' 34.1\"  02deg 58' 19.4\"   \n3  246deg 09' 35.2\"  -00deg 49' 59.9\"  246deg 20' 33.0\"  09deg 33' 31.7\"   \n4  246deg 19' 12.1\"  -00deg 49' 59.9\"  248deg 16' 02.0\"  03deg 39' 46.5\"   \n\n       Usia Bulan Imkan Rukyat  \n1 15:01:21.478000            ✔  \n2 05:30:08.071000            ✘  \n3 18:34:27.983000            ✔  \n4 06:03:01.690000            ✘  "
         },
         "metadata": {},
         "output_type": "display_data"
        },
        {
         "data": {
          "application/vnd.jupyter.widget-view+json": {
           "model_id": "",
           "version_major": 2,
           "version_minor": 0
          },
          "text/plain": "Button(description='Save to Excel', style=ButtonStyle())"
         },
         "metadata": {},
         "output_type": "display_data"
        },
        {
         "data": {
          "application/vnd.jupyter.widget-view+json": {
           "model_id": "",
           "version_major": 2,
           "version_minor": 0
          },
          "text/plain": "Output()"
         },
         "metadata": {},
         "output_type": "display_data"
        }
       ]
      }
     },
     "0d1558141df04ff899a5494e4486f79c": {
      "model_module": "@jupyter-widgets/controls",
      "model_module_version": "1.5.0",
      "model_name": "ButtonStyleModel",
      "state": {}
     },
     "0d55b11d6b454c51a8f82d8224918a78": {
      "model_module": "@jupyter-widgets/controls",
      "model_module_version": "1.5.0",
      "model_name": "DatePickerModel",
      "state": {
       "description": "Sampai:",
       "disabled": false,
       "layout": "IPY_MODEL_57492ee286714d64be8dd2987b827e97",
       "style": "IPY_MODEL_afeb753674f54953a7909bea8c7526ba",
       "value": {
        "date": 1,
        "month": 1,
        "year": 2021
       }
      }
     },
     "118a9e6b1b004c39a258aa9e028bb47a": {
      "model_module": "@jupyter-widgets/base",
      "model_module_version": "1.2.0",
      "model_name": "LayoutModel",
      "state": {}
     },
     "11f46646ec564c5fae5c1cdbbd8f5246": {
      "model_module": "@jupyter-widgets/base",
      "model_module_version": "1.2.0",
      "model_name": "LayoutModel",
      "state": {}
     },
     "15458f06ee524792bd2ddfad45edbaa4": {
      "model_module": "@jupyter-widgets/base",
      "model_module_version": "1.2.0",
      "model_name": "LayoutModel",
      "state": {}
     },
     "16efc9d4acc14d44aa514a9b6d2ce45f": {
      "model_module": "@jupyter-widgets/controls",
      "model_module_version": "1.5.0",
      "model_name": "DescriptionStyleModel",
      "state": {
       "description_width": ""
      }
     },
     "179e34c1d68242bc98e7012530d8ebd8": {
      "model_module": "@jupyter-widgets/controls",
      "model_module_version": "1.5.0",
      "model_name": "TextModel",
      "state": {
       "description": "Latitude:",
       "layout": "IPY_MODEL_4ae350a9be484773a8fb97b42bb5785c",
       "style": "IPY_MODEL_8ad34fdd6d1a48a79fdb74cc08bbb264",
       "value": "7.83305556 S"
      }
     },
     "1c3c4978cae346f4960d181586175322": {
      "model_module": "@jupyter-widgets/base",
      "model_module_version": "1.2.0",
      "model_name": "LayoutModel",
      "state": {}
     },
     "1f523e8eb7844ebbaf52a2c32859336e": {
      "model_module": "@jupyter-widgets/controls",
      "model_module_version": "1.5.0",
      "model_name": "DescriptionStyleModel",
      "state": {
       "description_width": ""
      }
     },
     "2087e074059f4c0a9a8e59ff60dbb9cd": {
      "model_module": "@jupyter-widgets/output",
      "model_module_version": "1.0.0",
      "model_name": "OutputModel",
      "state": {
       "layout": "IPY_MODEL_a8e21d27243d423992298ee86f8b1b5c",
       "outputs": [
        {
         "name": "stdout",
         "output_type": "stream",
         "text": "Button clicked.\n"
        }
       ]
      }
     },
     "28c41e7446104f7d89a0a061371d651e": {
      "model_module": "@jupyter-widgets/base",
      "model_module_version": "1.2.0",
      "model_name": "LayoutModel",
      "state": {}
     },
     "29dc583887e0403f99e7703a3816dd10": {
      "model_module": "@jupyter-widgets/base",
      "model_module_version": "1.2.0",
      "model_name": "LayoutModel",
      "state": {}
     },
     "2c6c8c5c01b64e57969c9609c62eaf68": {
      "model_module": "@jupyter-widgets/controls",
      "model_module_version": "1.5.0",
      "model_name": "DescriptionStyleModel",
      "state": {
       "description_width": ""
      }
     },
     "31b812c521a3482e813bf1c905c96cba": {
      "model_module": "@jupyter-widgets/base",
      "model_module_version": "1.2.0",
      "model_name": "LayoutModel",
      "state": {}
     },
     "31e0be30acc14a85a53d415d3b1f2c23": {
      "model_module": "@jupyter-widgets/base",
      "model_module_version": "1.2.0",
      "model_name": "LayoutModel",
      "state": {}
     },
     "330a822f8ca24adf9cd97cd4e733ee8a": {
      "model_module": "@jupyter-widgets/base",
      "model_module_version": "1.2.0",
      "model_name": "LayoutModel",
      "state": {}
     },
     "359711248b7c429489a573ed567a1197": {
      "model_module": "@jupyter-widgets/output",
      "model_module_version": "1.0.0",
      "model_name": "OutputModel",
      "state": {
       "layout": "IPY_MODEL_7220c0fd92a54048bcb78262d8476e66"
      }
     },
     "3c9334899b0b4ef9817bc3903738726c": {
      "model_module": "@jupyter-widgets/controls",
      "model_module_version": "1.5.0",
      "model_name": "DatePickerModel",
      "state": {
       "description": "Sampai:",
       "disabled": false,
       "layout": "IPY_MODEL_f8a0ffcdfa2445bfbc77fff89c8dfea6",
       "style": "IPY_MODEL_c7eabe82a1ae4846adf43338c605a98c",
       "value": {
        "date": 3,
        "month": 4,
        "year": 2021
       }
      }
     },
     "4983e23b4c2b4d639fe529434d741255": {
      "model_module": "@jupyter-widgets/controls",
      "model_module_version": "1.5.0",
      "model_name": "TextModel",
      "state": {
       "description": "Longitude:",
       "layout": "IPY_MODEL_28c41e7446104f7d89a0a061371d651e",
       "style": "IPY_MODEL_dd673b2a9d4942d6b5f9093bcb3b28f2",
       "value": "110.38305556 E"
      }
     },
     "49c46ea7892d48f0b74aeb9ca0d53648": {
      "model_module": "@jupyter-widgets/controls",
      "model_module_version": "1.5.0",
      "model_name": "ButtonModel",
      "state": {
       "description": "Save to Excel",
       "layout": "IPY_MODEL_608f4c0382bd4c288956f0a9956442ea",
       "style": "IPY_MODEL_fdb11d1239514d1b84a75cf167b70f0d"
      }
     },
     "4ae350a9be484773a8fb97b42bb5785c": {
      "model_module": "@jupyter-widgets/base",
      "model_module_version": "1.2.0",
      "model_name": "LayoutModel",
      "state": {}
     },
     "4e512898e8df426f84d07b51e707487c": {
      "model_module": "@jupyter-widgets/controls",
      "model_module_version": "1.5.0",
      "model_name": "ButtonStyleModel",
      "state": {}
     },
     "5391235965d4462cbe6ff0881998f9e3": {
      "model_module": "@jupyter-widgets/output",
      "model_module_version": "1.0.0",
      "model_name": "OutputModel",
      "state": {
       "layout": "IPY_MODEL_118a9e6b1b004c39a258aa9e028bb47a"
      }
     },
     "55c72448ba89466187beea18d36b0c51": {
      "model_module": "@jupyter-widgets/controls",
      "model_module_version": "1.5.0",
      "model_name": "TextModel",
      "state": {
       "description": "Latitude:",
       "layout": "IPY_MODEL_dc0f09bb5404462d97b3ef75cba04604",
       "style": "IPY_MODEL_2c6c8c5c01b64e57969c9609c62eaf68",
       "value": "7.83305556 S"
      }
     },
     "57492ee286714d64be8dd2987b827e97": {
      "model_module": "@jupyter-widgets/base",
      "model_module_version": "1.2.0",
      "model_name": "LayoutModel",
      "state": {}
     },
     "5779efa852a7452cb252936b7137d97e": {
      "model_module": "@jupyter-widgets/base",
      "model_module_version": "1.2.0",
      "model_name": "LayoutModel",
      "state": {}
     },
     "58093da258644029b7895a3a7c390072": {
      "model_module": "@jupyter-widgets/controls",
      "model_module_version": "1.5.0",
      "model_name": "DatePickerModel",
      "state": {
       "description": "Dari:",
       "disabled": false,
       "layout": "IPY_MODEL_5779efa852a7452cb252936b7137d97e",
       "style": "IPY_MODEL_c2178d0476704c178e9b97b7d3cac613",
       "value": {
        "date": 6,
        "month": 9,
        "year": 2020
       }
      }
     },
     "58ec07eae4c24b48971bb54b77bd60a0": {
      "model_module": "@jupyter-widgets/output",
      "model_module_version": "1.0.0",
      "model_name": "OutputModel",
      "state": {
       "layout": "IPY_MODEL_a917768c949f4059a40d35a327c4ee08",
       "outputs": [
        {
         "data": {
          "text/html": "<div>\n<style scoped>\n    .dataframe tbody tr th:only-of-type {\n        vertical-align: middle;\n    }\n\n    .dataframe tbody tr th {\n        vertical-align: top;\n    }\n\n    .dataframe thead th {\n        text-align: right;\n    }\n</style>\n<table border=\"1\" class=\"dataframe\">\n  <thead>\n    <tr style=\"text-align: right;\">\n      <th></th>\n      <th>Waktu Konjungsi (UTC+07)</th>\n      <th>Waktu Hilal (UTC+07)</th>\n      <th>Altitude Bulan</th>\n      <th>Azimuth Bulan</th>\n      <th>Altitude Matahari</th>\n      <th>Azimuth Matahari</th>\n      <th>Elongasi</th>\n      <th>Usia Bulan</th>\n      <th>Imkan Rukyat</th>\n    </tr>\n  </thead>\n  <tbody>\n    <tr>\n      <th>1</th>\n      <td>2020-10-17 02:31:04.056</td>\n      <td>2020-10-17 17:32:25.534</td>\n      <td>07deg 44' 25.4\"</td>\n      <td>261deg 55' 19.1\"</td>\n      <td>-00deg 49' 59.9\"</td>\n      <td>260deg 17' 39.6\"</td>\n      <td>08deg 43' 33.3\"</td>\n      <td>15:01:21.478000</td>\n      <td>✔</td>\n    </tr>\n    <tr>\n      <th>2</th>\n      <td>2020-11-15 12:07:11.637</td>\n      <td>2020-11-15 17:37:19.710</td>\n      <td>01deg 34' 54.1\"</td>\n      <td>252deg 46' 31.0\"</td>\n      <td>-00deg 49' 59.9\"</td>\n      <td>251deg 02' 34.1\"</td>\n      <td>02deg 58' 19.4\"</td>\n      <td>05:30:08.073000</td>\n      <td>✘</td>\n    </tr>\n    <tr>\n      <th>3</th>\n      <td>2020-12-14 23:16:35.068</td>\n      <td>2020-12-15 17:51:03.052</td>\n      <td>08deg 43' 25.9\"</td>\n      <td>246deg 09' 35.2\"</td>\n      <td>-00deg 49' 59.9\"</td>\n      <td>246deg 20' 33.0\"</td>\n      <td>09deg 33' 31.7\"</td>\n      <td>18:34:27.984000</td>\n      <td>✔</td>\n    </tr>\n    <tr>\n      <th>4</th>\n      <td>2021-01-13 12:00:11.182</td>\n      <td>2021-01-13 18:03:12.872</td>\n      <td>02deg 16' 10.0\"</td>\n      <td>246deg 19' 12.1\"</td>\n      <td>-00deg 49' 59.9\"</td>\n      <td>248deg 16' 02.0\"</td>\n      <td>03deg 39' 46.5\"</td>\n      <td>06:03:01.690000</td>\n      <td>✘</td>\n    </tr>\n    <tr>\n      <th>5</th>\n      <td>2021-02-12 02:05:41.704</td>\n      <td>2021-02-12 18:03:44.004</td>\n      <td>07deg 36' 11.0\"</td>\n      <td>255deg 36' 29.9\"</td>\n      <td>-00deg 49' 59.9\"</td>\n      <td>256deg 12' 53.2\"</td>\n      <td>08deg 27' 28.5\"</td>\n      <td>15:58:02.300000</td>\n      <td>✔</td>\n    </tr>\n    <tr>\n      <th>6</th>\n      <td>2021-03-13 17:21:11.526</td>\n      <td>2021-03-13 17:52:46.861</td>\n      <td>01deg 01' 10.4\"</td>\n      <td>263deg 00' 51.0\"</td>\n      <td>-00deg 49' 59.9\"</td>\n      <td>267deg 06' 47.1\"</td>\n      <td>04deg 29' 53.0\"</td>\n      <td>00:31:35.335000</td>\n      <td>✘</td>\n    </tr>\n    <tr>\n      <th>7</th>\n      <td>2021-04-12 09:30:52.159</td>\n      <td>2021-04-12 17:37:43.432</td>\n      <td>03deg 17' 42.4\"</td>\n      <td>277deg 28' 53.7\"</td>\n      <td>-00deg 49' 59.9\"</td>\n      <td>278deg 48' 53.0\"</td>\n      <td>04deg 20' 17.2\"</td>\n      <td>08:06:51.273000</td>\n      <td>✔</td>\n    </tr>\n  </tbody>\n</table>\n</div>",
          "text/plain": "  Waktu Konjungsi (UTC+07)    Waktu Hilal (UTC+07)   Altitude Bulan  \\\n1  2020-10-17 02:31:04.056 2020-10-17 17:32:25.534  07deg 44' 25.4\"   \n2  2020-11-15 12:07:11.637 2020-11-15 17:37:19.710  01deg 34' 54.1\"   \n3  2020-12-14 23:16:35.068 2020-12-15 17:51:03.052  08deg 43' 25.9\"   \n4  2021-01-13 12:00:11.182 2021-01-13 18:03:12.872  02deg 16' 10.0\"   \n5  2021-02-12 02:05:41.704 2021-02-12 18:03:44.004  07deg 36' 11.0\"   \n6  2021-03-13 17:21:11.526 2021-03-13 17:52:46.861  01deg 01' 10.4\"   \n7  2021-04-12 09:30:52.159 2021-04-12 17:37:43.432  03deg 17' 42.4\"   \n\n      Azimuth Bulan Altitude Matahari  Azimuth Matahari         Elongasi  \\\n1  261deg 55' 19.1\"  -00deg 49' 59.9\"  260deg 17' 39.6\"  08deg 43' 33.3\"   \n2  252deg 46' 31.0\"  -00deg 49' 59.9\"  251deg 02' 34.1\"  02deg 58' 19.4\"   \n3  246deg 09' 35.2\"  -00deg 49' 59.9\"  246deg 20' 33.0\"  09deg 33' 31.7\"   \n4  246deg 19' 12.1\"  -00deg 49' 59.9\"  248deg 16' 02.0\"  03deg 39' 46.5\"   \n5  255deg 36' 29.9\"  -00deg 49' 59.9\"  256deg 12' 53.2\"  08deg 27' 28.5\"   \n6  263deg 00' 51.0\"  -00deg 49' 59.9\"  267deg 06' 47.1\"  04deg 29' 53.0\"   \n7  277deg 28' 53.7\"  -00deg 49' 59.9\"  278deg 48' 53.0\"  04deg 20' 17.2\"   \n\n       Usia Bulan Imkan Rukyat  \n1 15:01:21.478000            ✔  \n2 05:30:08.073000            ✘  \n3 18:34:27.984000            ✔  \n4 06:03:01.690000            ✘  \n5 15:58:02.300000            ✔  \n6 00:31:35.335000            ✘  \n7 08:06:51.273000            ✔  "
         },
         "metadata": {},
         "output_type": "display_data"
        },
        {
         "data": {
          "application/vnd.jupyter.widget-view+json": {
           "model_id": "49c46ea7892d48f0b74aeb9ca0d53648",
           "version_major": 2,
           "version_minor": 0
          },
          "text/plain": "Button(description='Save to Excel', style=ButtonStyle())"
         },
         "metadata": {},
         "output_type": "display_data"
        },
        {
         "data": {
          "application/vnd.jupyter.widget-view+json": {
           "model_id": "2087e074059f4c0a9a8e59ff60dbb9cd",
           "version_major": 2,
           "version_minor": 0
          },
          "text/plain": "Output()"
         },
         "metadata": {},
         "output_type": "display_data"
        }
       ]
      }
     },
     "59712df0414040ae955113b2a1c7883f": {
      "model_module": "@jupyter-widgets/base",
      "model_module_version": "1.2.0",
      "model_name": "LayoutModel",
      "state": {}
     },
     "5a6424c1ffee4f75b60e331b3c83eb24": {
      "model_module": "@jupyter-widgets/controls",
      "model_module_version": "1.5.0",
      "model_name": "DatePickerModel",
      "state": {
       "description": "Dari:",
       "disabled": false,
       "layout": "IPY_MODEL_29dc583887e0403f99e7703a3816dd10",
       "style": "IPY_MODEL_d83ce23259c74466a6ad1c6cb7941889",
       "value": {
        "date": 6,
        "month": 9,
        "year": 2020
       }
      }
     },
     "608f4c0382bd4c288956f0a9956442ea": {
      "model_module": "@jupyter-widgets/base",
      "model_module_version": "1.2.0",
      "model_name": "LayoutModel",
      "state": {}
     },
     "62f6274f037f4ceb96d18cfe5dfd8353": {
      "model_module": "@jupyter-widgets/base",
      "model_module_version": "1.2.0",
      "model_name": "LayoutModel",
      "state": {}
     },
     "643e5db5b16d40ec831ad0bf3ea9cd30": {
      "model_module": "@jupyter-widgets/base",
      "model_module_version": "1.2.0",
      "model_name": "LayoutModel",
      "state": {}
     },
     "67db51701e12497e84f647281e1d26fe": {
      "model_module": "@jupyter-widgets/controls",
      "model_module_version": "1.5.0",
      "model_name": "VBoxModel",
      "state": {
       "_dom_classes": [
        "widget-interact"
       ],
       "children": [
        "IPY_MODEL_0847fa8b2a434c8ab0f0b84aaaed5a83",
        "IPY_MODEL_83bf05fc91184feb830c6900e62bbf6e",
        "IPY_MODEL_58093da258644029b7895a3a7c390072",
        "IPY_MODEL_3c9334899b0b4ef9817bc3903738726c",
        "IPY_MODEL_58ec07eae4c24b48971bb54b77bd60a0"
       ],
       "layout": "IPY_MODEL_ff153b3346e4417080e00deb5ca1ae0e"
      }
     },
     "68ad912119644b11883396cd123af17f": {
      "model_module": "@jupyter-widgets/controls",
      "model_module_version": "1.5.0",
      "model_name": "ButtonStyleModel",
      "state": {}
     },
     "6f1808ba3326470c8bc9f17dc30aee79": {
      "model_module": "@jupyter-widgets/controls",
      "model_module_version": "1.5.0",
      "model_name": "ButtonModel",
      "state": {
       "description": "Save to Excel",
       "layout": "IPY_MODEL_31e0be30acc14a85a53d415d3b1f2c23",
       "style": "IPY_MODEL_4e512898e8df426f84d07b51e707487c"
      }
     },
     "7220c0fd92a54048bcb78262d8476e66": {
      "model_module": "@jupyter-widgets/base",
      "model_module_version": "1.2.0",
      "model_name": "LayoutModel",
      "state": {}
     },
     "7503dc2844954d45b5bf5685c2c2c31a": {
      "model_module": "@jupyter-widgets/controls",
      "model_module_version": "1.5.0",
      "model_name": "DescriptionStyleModel",
      "state": {
       "description_width": ""
      }
     },
     "799f7e5141af4c0aa821f8c93e7d621e": {
      "model_module": "@jupyter-widgets/base",
      "model_module_version": "1.2.0",
      "model_name": "LayoutModel",
      "state": {}
     },
     "7d18407c5aee41e0ae71fea9a8202384": {
      "model_module": "@jupyter-widgets/controls",
      "model_module_version": "1.5.0",
      "model_name": "VBoxModel",
      "state": {
       "_dom_classes": [
        "widget-interact"
       ],
       "children": [
        "IPY_MODEL_179e34c1d68242bc98e7012530d8ebd8",
        "IPY_MODEL_4983e23b4c2b4d639fe529434d741255",
        "IPY_MODEL_5a6424c1ffee4f75b60e331b3c83eb24",
        "IPY_MODEL_0d55b11d6b454c51a8f82d8224918a78",
        "IPY_MODEL_0ab545a242644dce99f9da38fe733d7e"
       ],
       "layout": "IPY_MODEL_93c80119eed948d486c207f7843426c3"
      }
     },
     "7f24008d5da04aebb3a98fef866f97db": {
      "model_module": "@jupyter-widgets/base",
      "model_module_version": "1.2.0",
      "model_name": "LayoutModel",
      "state": {}
     },
     "7fbe815c6ef144e88a9c9c5ff615da65": {
      "model_module": "@jupyter-widgets/base",
      "model_module_version": "1.2.0",
      "model_name": "LayoutModel",
      "state": {}
     },
     "83bf05fc91184feb830c6900e62bbf6e": {
      "model_module": "@jupyter-widgets/controls",
      "model_module_version": "1.5.0",
      "model_name": "TextModel",
      "state": {
       "description": "Longitude:",
       "layout": "IPY_MODEL_dd8cf234ff024c4fbd9ca1459f9273f6",
       "style": "IPY_MODEL_b5bd259b61ba4f7682ab4e50f90f97c9",
       "value": "110.38305556 E"
      }
     },
     "862980c9ffa94fb084db8c0ab31dac4e": {
      "model_module": "@jupyter-widgets/output",
      "model_module_version": "1.0.0",
      "model_name": "OutputModel",
      "state": {
       "layout": "IPY_MODEL_62f6274f037f4ceb96d18cfe5dfd8353"
      }
     },
     "8aa22ca451aa460aa23cb309fbe17660": {
      "model_module": "@jupyter-widgets/controls",
      "model_module_version": "1.5.0",
      "model_name": "TextModel",
      "state": {
       "description": "Longitude:",
       "layout": "IPY_MODEL_643e5db5b16d40ec831ad0bf3ea9cd30",
       "style": "IPY_MODEL_a2249b637f5b4e2fa9a81c25fca22ed6",
       "value": "110.38305556 E"
      }
     },
     "8ad34fdd6d1a48a79fdb74cc08bbb264": {
      "model_module": "@jupyter-widgets/controls",
      "model_module_version": "1.5.0",
      "model_name": "DescriptionStyleModel",
      "state": {
       "description_width": ""
      }
     },
     "93c80119eed948d486c207f7843426c3": {
      "model_module": "@jupyter-widgets/base",
      "model_module_version": "1.2.0",
      "model_name": "LayoutModel",
      "state": {}
     },
     "9821770b342441e38efb04be4040a903": {
      "model_module": "@jupyter-widgets/controls",
      "model_module_version": "1.5.0",
      "model_name": "ButtonStyleModel",
      "state": {}
     },
     "9af83d69acea44a484204cdd419b9fd7": {
      "model_module": "@jupyter-widgets/output",
      "model_module_version": "1.0.0",
      "model_name": "OutputModel",
      "state": {
       "layout": "IPY_MODEL_7fbe815c6ef144e88a9c9c5ff615da65",
       "outputs": [
        {
         "data": {
          "text/html": "<div>\n<style scoped>\n    .dataframe tbody tr th:only-of-type {\n        vertical-align: middle;\n    }\n\n    .dataframe tbody tr th {\n        vertical-align: top;\n    }\n\n    .dataframe thead th {\n        text-align: right;\n    }\n</style>\n<table border=\"1\" class=\"dataframe\">\n  <thead>\n    <tr style=\"text-align: right;\">\n      <th></th>\n      <th>Waktu Konjungsi (UTC+07)</th>\n      <th>Waktu Hilal (UTC+07)</th>\n      <th>Altitude Bulan</th>\n      <th>Azimuth Bulan</th>\n      <th>Altitude Matahari</th>\n      <th>Azimuth Matahari</th>\n      <th>Elongasi</th>\n      <th>Usia Bulan</th>\n      <th>Imkan Rukyat</th>\n    </tr>\n  </thead>\n  <tbody>\n    <tr>\n      <th>1</th>\n      <td>2020-10-17 02:31:04.056</td>\n      <td>2020-10-17 17:32:25.534</td>\n      <td>07deg 44' 25.4\"</td>\n      <td>261deg 55' 19.1\"</td>\n      <td>-00deg 49' 59.9\"</td>\n      <td>260deg 17' 39.6\"</td>\n      <td>08deg 43' 33.3\"</td>\n      <td>15:01:21.478000</td>\n      <td>✔</td>\n    </tr>\n  </tbody>\n</table>\n</div>",
          "text/plain": "  Waktu Konjungsi (UTC+07)    Waktu Hilal (UTC+07)   Altitude Bulan  \\\n1  2020-10-17 02:31:04.056 2020-10-17 17:32:25.534  07deg 44' 25.4\"   \n\n      Azimuth Bulan Altitude Matahari  Azimuth Matahari         Elongasi  \\\n1  261deg 55' 19.1\"  -00deg 49' 59.9\"  260deg 17' 39.6\"  08deg 43' 33.3\"   \n\n       Usia Bulan Imkan Rukyat  \n1 15:01:21.478000            ✔  "
         },
         "metadata": {},
         "output_type": "display_data"
        },
        {
         "data": {
          "application/vnd.jupyter.widget-view+json": {
           "model_id": "",
           "version_major": 2,
           "version_minor": 0
          },
          "text/plain": "Button(description='Save to Excel', style=ButtonStyle())"
         },
         "metadata": {},
         "output_type": "display_data"
        },
        {
         "data": {
          "application/vnd.jupyter.widget-view+json": {
           "model_id": "",
           "version_major": 2,
           "version_minor": 0
          },
          "text/plain": "Output()"
         },
         "metadata": {},
         "output_type": "display_data"
        },
        {
         "ename": "TypeError",
         "evalue": "on_click() missing 1 required positional argument: 'callback'",
         "output_type": "error",
         "traceback": [
          "\u001b[1;31m---------------------------------------------------------------------------\u001b[0m",
          "\u001b[1;31mTypeError\u001b[0m                                 Traceback (most recent call last)",
          "\u001b[1;32mc:\\users\\khair\\appdata\\local\\programs\\python\\python37\\lib\\site-packages\\ipywidgets\\widgets\\interaction.py\u001b[0m in \u001b[0;36mupdate\u001b[1;34m(self, *args)\u001b[0m\n\u001b[0;32m    254\u001b[0m                     \u001b[0mvalue\u001b[0m \u001b[1;33m=\u001b[0m \u001b[0mwidget\u001b[0m\u001b[1;33m.\u001b[0m\u001b[0mget_interact_value\u001b[0m\u001b[1;33m(\u001b[0m\u001b[1;33m)\u001b[0m\u001b[1;33m\u001b[0m\u001b[1;33m\u001b[0m\u001b[0m\n\u001b[0;32m    255\u001b[0m                     \u001b[0mself\u001b[0m\u001b[1;33m.\u001b[0m\u001b[0mkwargs\u001b[0m\u001b[1;33m[\u001b[0m\u001b[0mwidget\u001b[0m\u001b[1;33m.\u001b[0m\u001b[0m_kwarg\u001b[0m\u001b[1;33m]\u001b[0m \u001b[1;33m=\u001b[0m \u001b[0mvalue\u001b[0m\u001b[1;33m\u001b[0m\u001b[1;33m\u001b[0m\u001b[0m\n\u001b[1;32m--> 256\u001b[1;33m                 \u001b[0mself\u001b[0m\u001b[1;33m.\u001b[0m\u001b[0mresult\u001b[0m \u001b[1;33m=\u001b[0m \u001b[0mself\u001b[0m\u001b[1;33m.\u001b[0m\u001b[0mf\u001b[0m\u001b[1;33m(\u001b[0m\u001b[1;33m**\u001b[0m\u001b[0mself\u001b[0m\u001b[1;33m.\u001b[0m\u001b[0mkwargs\u001b[0m\u001b[1;33m)\u001b[0m\u001b[1;33m\u001b[0m\u001b[1;33m\u001b[0m\u001b[0m\n\u001b[0m\u001b[0;32m    257\u001b[0m                 \u001b[0mshow_inline_matplotlib_plots\u001b[0m\u001b[1;33m(\u001b[0m\u001b[1;33m)\u001b[0m\u001b[1;33m\u001b[0m\u001b[1;33m\u001b[0m\u001b[0m\n\u001b[0;32m    258\u001b[0m                 \u001b[1;32mif\u001b[0m \u001b[0mself\u001b[0m\u001b[1;33m.\u001b[0m\u001b[0mauto_display\u001b[0m \u001b[1;32mand\u001b[0m \u001b[0mself\u001b[0m\u001b[1;33m.\u001b[0m\u001b[0mresult\u001b[0m \u001b[1;32mis\u001b[0m \u001b[1;32mnot\u001b[0m \u001b[1;32mNone\u001b[0m\u001b[1;33m:\u001b[0m\u001b[1;33m\u001b[0m\u001b[1;33m\u001b[0m\u001b[0m\n",
          "\u001b[1;32m<ipython-input-12-842dd5c9d59c>\u001b[0m in \u001b[0;36mresult\u001b[1;34m(lat, long, t0, t1)\u001b[0m\n\u001b[0;32m     61\u001b[0m             \u001b[0mprint\u001b[0m\u001b[1;33m(\u001b[0m\u001b[1;34m\"Button clicked.\"\u001b[0m\u001b[1;33m)\u001b[0m\u001b[1;33m\u001b[0m\u001b[1;33m\u001b[0m\u001b[0m\n\u001b[0;32m     62\u001b[0m \u001b[1;33m\u001b[0m\u001b[0m\n\u001b[1;32m---> 63\u001b[1;33m     \u001b[0mbutton\u001b[0m\u001b[1;33m.\u001b[0m\u001b[0mon_click\u001b[0m\u001b[1;33m(\u001b[0m\u001b[1;33m)\u001b[0m\u001b[1;33m\u001b[0m\u001b[1;33m\u001b[0m\u001b[0m\n\u001b[0m",
          "\u001b[1;31mTypeError\u001b[0m: on_click() missing 1 required positional argument: 'callback'"
         ]
        }
       ]
      }
     },
     "9ecdfd523e654504a973a2cb76ebceb1": {
      "model_module": "@jupyter-widgets/output",
      "model_module_version": "1.0.0",
      "model_name": "OutputModel",
      "state": {
       "layout": "IPY_MODEL_d6c345c6bc52438f8881bc258d57f709"
      }
     },
     "a10710fd14f34cf5b57735e516c9c641": {
      "model_module": "@jupyter-widgets/base",
      "model_module_version": "1.2.0",
      "model_name": "LayoutModel",
      "state": {}
     },
     "a2249b637f5b4e2fa9a81c25fca22ed6": {
      "model_module": "@jupyter-widgets/controls",
      "model_module_version": "1.5.0",
      "model_name": "DescriptionStyleModel",
      "state": {
       "description_width": ""
      }
     },
     "a54e51a4ec994887a4499c99610b8999": {
      "model_module": "@jupyter-widgets/controls",
      "model_module_version": "1.5.0",
      "model_name": "DatePickerModel",
      "state": {
       "description": "Dari:",
       "disabled": false,
       "layout": "IPY_MODEL_330a822f8ca24adf9cd97cd4e733ee8a",
       "style": "IPY_MODEL_16efc9d4acc14d44aa514a9b6d2ce45f",
       "value": {
        "date": 6,
        "month": 9,
        "year": 2020
       }
      }
     },
     "a8e21d27243d423992298ee86f8b1b5c": {
      "model_module": "@jupyter-widgets/base",
      "model_module_version": "1.2.0",
      "model_name": "LayoutModel",
      "state": {}
     },
     "a917768c949f4059a40d35a327c4ee08": {
      "model_module": "@jupyter-widgets/base",
      "model_module_version": "1.2.0",
      "model_name": "LayoutModel",
      "state": {}
     },
     "ac93ac048fc24937b429e3dbb933be67": {
      "model_module": "@jupyter-widgets/controls",
      "model_module_version": "1.5.0",
      "model_name": "ButtonStyleModel",
      "state": {}
     },
     "ae25558e60c9468a9b76dd39f579346d": {
      "model_module": "@jupyter-widgets/base",
      "model_module_version": "1.2.0",
      "model_name": "LayoutModel",
      "state": {}
     },
     "afeb753674f54953a7909bea8c7526ba": {
      "model_module": "@jupyter-widgets/controls",
      "model_module_version": "1.5.0",
      "model_name": "DescriptionStyleModel",
      "state": {
       "description_width": ""
      }
     },
     "b5bd259b61ba4f7682ab4e50f90f97c9": {
      "model_module": "@jupyter-widgets/controls",
      "model_module_version": "1.5.0",
      "model_name": "DescriptionStyleModel",
      "state": {
       "description_width": ""
      }
     },
     "c2178d0476704c178e9b97b7d3cac613": {
      "model_module": "@jupyter-widgets/controls",
      "model_module_version": "1.5.0",
      "model_name": "DescriptionStyleModel",
      "state": {
       "description_width": ""
      }
     },
     "c2289fcd421f45f9ae2047e5c1072232": {
      "model_module": "@jupyter-widgets/controls",
      "model_module_version": "1.5.0",
      "model_name": "ButtonModel",
      "state": {
       "description": "Save to Excel",
       "layout": "IPY_MODEL_7f24008d5da04aebb3a98fef866f97db",
       "style": "IPY_MODEL_9821770b342441e38efb04be4040a903"
      }
     },
     "c7eabe82a1ae4846adf43338c605a98c": {
      "model_module": "@jupyter-widgets/controls",
      "model_module_version": "1.5.0",
      "model_name": "DescriptionStyleModel",
      "state": {
       "description_width": ""
      }
     },
     "d4a5ccac1559494fb3772286aa56ff15": {
      "model_module": "@jupyter-widgets/controls",
      "model_module_version": "1.5.0",
      "model_name": "DatePickerModel",
      "state": {
       "description": "Sampai:",
       "disabled": false,
       "layout": "IPY_MODEL_11f46646ec564c5fae5c1cdbbd8f5246",
       "style": "IPY_MODEL_7503dc2844954d45b5bf5685c2c2c31a",
       "value": {
        "date": 6,
        "month": 10,
        "year": 2020
       }
      }
     },
     "d6c345c6bc52438f8881bc258d57f709": {
      "model_module": "@jupyter-widgets/base",
      "model_module_version": "1.2.0",
      "model_name": "LayoutModel",
      "state": {}
     },
     "d83ce23259c74466a6ad1c6cb7941889": {
      "model_module": "@jupyter-widgets/controls",
      "model_module_version": "1.5.0",
      "model_name": "DescriptionStyleModel",
      "state": {
       "description_width": ""
      }
     },
     "db9477094e4f4126ab6f25a867e7f619": {
      "model_module": "@jupyter-widgets/controls",
      "model_module_version": "1.5.0",
      "model_name": "VBoxModel",
      "state": {
       "_dom_classes": [
        "widget-interact"
       ],
       "children": [
        "IPY_MODEL_55c72448ba89466187beea18d36b0c51",
        "IPY_MODEL_8aa22ca451aa460aa23cb309fbe17660",
        "IPY_MODEL_a54e51a4ec994887a4499c99610b8999",
        "IPY_MODEL_d4a5ccac1559494fb3772286aa56ff15",
        "IPY_MODEL_9af83d69acea44a484204cdd419b9fd7"
       ],
       "layout": "IPY_MODEL_1c3c4978cae346f4960d181586175322"
      }
     },
     "dc0f09bb5404462d97b3ef75cba04604": {
      "model_module": "@jupyter-widgets/base",
      "model_module_version": "1.2.0",
      "model_name": "LayoutModel",
      "state": {}
     },
     "dd673b2a9d4942d6b5f9093bcb3b28f2": {
      "model_module": "@jupyter-widgets/controls",
      "model_module_version": "1.5.0",
      "model_name": "DescriptionStyleModel",
      "state": {
       "description_width": ""
      }
     },
     "dd8cf234ff024c4fbd9ca1459f9273f6": {
      "model_module": "@jupyter-widgets/base",
      "model_module_version": "1.2.0",
      "model_name": "LayoutModel",
      "state": {}
     },
     "ef4972e422694b1db3375e1449a97e8d": {
      "model_module": "@jupyter-widgets/controls",
      "model_module_version": "1.5.0",
      "model_name": "ButtonModel",
      "state": {
       "description": "Save to Excel",
       "layout": "IPY_MODEL_31b812c521a3482e813bf1c905c96cba",
       "style": "IPY_MODEL_0d1558141df04ff899a5494e4486f79c"
      }
     },
     "f8a0ffcdfa2445bfbc77fff89c8dfea6": {
      "model_module": "@jupyter-widgets/base",
      "model_module_version": "1.2.0",
      "model_name": "LayoutModel",
      "state": {}
     },
     "fdb11d1239514d1b84a75cf167b70f0d": {
      "model_module": "@jupyter-widgets/controls",
      "model_module_version": "1.5.0",
      "model_name": "ButtonStyleModel",
      "state": {}
     },
     "ff153b3346e4417080e00deb5ca1ae0e": {
      "model_module": "@jupyter-widgets/base",
      "model_module_version": "1.2.0",
      "model_name": "LayoutModel",
      "state": {}
     }
    },
    "version_major": 2,
    "version_minor": 0
   }
  }
 },
 "nbformat": 4,
 "nbformat_minor": 4
}
