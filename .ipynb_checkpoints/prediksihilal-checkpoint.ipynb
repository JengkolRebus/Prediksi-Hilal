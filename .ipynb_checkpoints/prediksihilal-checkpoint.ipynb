{
 "cells": [
  {
   "cell_type": "markdown",
   "metadata": {},
   "source": [
    "\n",
    "# Prediksi Hilal\n",
    "---"
   ]
  },
  {
   "cell_type": "code",
   "execution_count": 1,
   "metadata": {},
   "outputs": [],
   "source": [
    "# _jengkolrebus\n",
    "# Mei, 2020\n",
    "# Curup, Bengkulu"
   ]
  },
  {
   "cell_type": "markdown",
   "metadata": {},
   "source": [
    "Program ini menggunakan Python Package: [Skyfield](https://rhodesmill.org/skyfield/).\n",
    "Program ini dibuat dengan ketentuan sebagai berikut:\n",
    "- Ephemeris:\n",
    "    > Ephemeris yang digunakan adalah de421.bsp\n",
    "- Definisi Matahari Terbenam:\n",
    "    > Skyfield menggunakan definisi resmi matahari terbit dan terbenam dari United States Naval Observatory, yang mendefinisikan matahari terbenam ketika pusat matahari adalah <b>0,8333</b> derajat di bawah Horizon, untuk memperhitungkan rata-rata jari-jari Matahari dan untuk rata-rata pembiasan atmosfer di horizon.\n",
    "___\n",
    "- Flowchart:\n",
    "<br>\n",
    "<img src=\"flowchart.png\">\n",
    "<br>\n",
    "- Input Lokasi berupa Latitude dan Longitude dalam bentuk <em>Decimal Degree</em> dengan format String / text.\n",
    " > Contoh : \n",
    "    Latitude: \"7.83305556 S\"\n",
    "    Longitude: \"110.38305556 E\"\n",
    "    Perhatikan Notasi \"S\" dan \"E\" bergantung pada lokasi.\n",
    "    \n",
    "- Input waktu berupa tanggal rentang waktu hilal yang ingin dicari.\n",
    " > Contoh dari tanggal 1 Januari 2020, sampai 1 Januari 2021\n",
    "___\n"
   ]
  },
  {
   "cell_type": "code",
   "execution_count": 2,
   "metadata": {},
   "outputs": [],
   "source": [
    "from skyfield.api import load, Topos\n",
    "from skyfield.units import Angle\n",
    "from skyfield import almanac\n",
    "from datetime import datetime, timedelta\n",
    "from pytz import timezone\n",
    "from ipywidgets import widgets, interact, interactive\n",
    "from IPython.display import display, HTML\n",
    "import pandas as pd\n",
    "import calendar"
   ]
  },
  {
   "cell_type": "code",
   "execution_count": 3,
   "metadata": {},
   "outputs": [],
   "source": [
    "jkt = timezone('Asia/Jakarta')\n",
    "ts = load.timescale()\n",
    "e = load('de421.bsp')"
   ]
  },
  {
   "cell_type": "markdown",
   "metadata": {},
   "source": [
    "### Kriteria Hilal\n",
    "- Imkanur Rukyat\n",
    "    > - Pada saat matahari terbenam, <b>ketinggian bulan minimal 2$^\\circ$</b>, <b>Elongasi minimal 3$^\\circ$</b>.\n",
    "    > - Usia bulan minimal <b>8 Jam</b>, dihitung sejak ijtima' (konjungsi)\n",
    "    \n",
    "___"
   ]
  },
  {
   "cell_type": "code",
   "execution_count": 4,
   "metadata": {},
   "outputs": [],
   "source": [
    "class Find():\n",
    "    def __init__(self, lat, long, t0, t1):\n",
    "        self.lat = lat\n",
    "        self.long = long\n",
    "        self.t0 = t0\n",
    "        self.t1 = t1\n",
    "        self.topo = Topos(self.lat, self.long)\n",
    "        self.loc = e['earth'] + self.topo\n",
    "    \n",
    "    def conjunction(self):\n",
    "        result = []\n",
    "        t0 = ts.utc(self.t0)\n",
    "        t1 = ts.utc(self.t1)\n",
    "        f = almanac.oppositions_conjunctions(e, e['moon'])\n",
    "        t, y = almanac.find_discrete(t0, t1, f)\n",
    "        for ti, yi in zip(t, y):\n",
    "            if(yi == 1):\n",
    "                result.append(ti)\n",
    "            else:\n",
    "                pass\n",
    "        \n",
    "        return result\n",
    "        \n",
    "    def sunset(self, t):\n",
    "        t = t.utc\n",
    "        t0 = ts.utc(t[0], t[1], t[2], t[3], t[4], t[5])\n",
    "        t1 = ts.utc(t[0], t[1], t[2]+1, t[3], t[4], t[5])\n",
    "        f = almanac.sunrise_sunset(e, self.topo)\n",
    "        t, y = almanac.find_discrete(t0, t1, f)\n",
    "        for ti, yi in zip(t, y):\n",
    "            if(yi == False):\n",
    "                return ti\n",
    "            else:\n",
    "                pass\n",
    "    \n",
    "    def objPos(self, t, obj):\n",
    "        astrometric = self.loc.at(t).observe(e[obj])\n",
    "        alt, az, d = astrometric.apparent().altaz()\n",
    "        return alt, az, astrometric\n",
    "        \n"
   ]
  },
  {
   "cell_type": "code",
   "execution_count": 5,
   "metadata": {},
   "outputs": [],
   "source": [
    "# Metode untuk membandingkan dengan Imkan Rukyat\n",
    "def imkanRukyat(alt, elong, age):\n",
    "    if(alt.degrees >= 2 and elong.degrees >= 3 and (timedelta.total_seconds(age)/3600) > 8):\n",
    "        return u'\\u2714'\n",
    "    else:\n",
    "        return u'\\u2718'\n",
    "\n",
    "def result(lat, long, t0, t1):\n",
    "    f = Find(lat, long, t0, t1)\n",
    "    conj = f.conjunction()\n",
    "    sunset = [f.sunset(t) for t in conj]\n",
    "    \n",
    "    moon_alt = []\n",
    "    moon_az = []\n",
    "    moon_astrometric = []\n",
    "    sun_alt = []\n",
    "    sun_az = []\n",
    "    sun_astrometric = []\n",
    "    for t in sunset:\n",
    "        alt, az, astro = f.objPos(t, 'moon')\n",
    "        moon_alt.append(alt)\n",
    "        moon_az.append(az)\n",
    "        moon_astrometric.append(astro)\n",
    "        \n",
    "        alt, az, astro = f.objPos(t, 'sun')\n",
    "        sun_alt.append(alt)\n",
    "        sun_az.append(az)\n",
    "        sun_astrometric.append(astro)\n",
    "    \n",
    "    elong = [moon.separation_from(sun) for moon, sun in zip(moon_astrometric, sun_astrometric)]\n",
    "        \n",
    "    conj[:] = [t.astimezone(jkt) for t in conj]\n",
    "    sunset[:] = [t.astimezone(jkt) for t in sunset]\n",
    "    \n",
    "    moon_age = []\n",
    "    for t0, t1 in zip(conj, sunset):\n",
    "        moon_age.append(t1-t0)\n",
    "    \n",
    "    imkan_rukyat = []\n",
    "    for al, el, age in zip(moon_alt, elong, moon_age):\n",
    "        imkan_rukyat.append(imkanRukyat(al, el, age))\n",
    "    \n",
    "    # Menampilkan hasil dalam bentuk tabel dataframe\n",
    "    tabel = list(zip(conj, sunset,\n",
    "                     moon_alt, moon_az, \n",
    "                     sun_alt, sun_az, \n",
    "                     elong, moon_age,\n",
    "                    imkan_rukyat))\n",
    "    df = pd.DataFrame(tabel, columns=['Waktu Konjungsi (UTC+07)', 'Waktu Hilal (UTC+07)', \n",
    "                                      'Altitude Bulan', 'Azimuth Bulan', \n",
    "                                      'Altitude Matahari', 'Azimuth Matahari', \n",
    "                                     'Elongasi', 'Usia Bulan', \n",
    "                                     'Imkan Rukyat'])\n",
    "    df.index+=1\n",
    "    display(df)"
   ]
  },
  {
   "cell_type": "code",
   "execution_count": 6,
   "metadata": {},
   "outputs": [
    {
     "data": {
      "application/vnd.jupyter.widget-view+json": {
       "model_id": "f2d5e512fe91425e90161156b9764d7b",
       "version_major": 2,
       "version_minor": 0
      },
      "text/plain": [
       "interactive(children=(Text(value='7.83305556 S', description='Latitude:'), Text(value='110.38305556 E', descri…"
      ]
     },
     "metadata": {},
     "output_type": "display_data"
    }
   ],
   "source": [
    "hari_ini = datetime.now().date()\n",
    "days_in_month = calendar.monthrange(hari_ini.year, hari_ini.month)[1]\n",
    "bulan_depan = hari_ini + timedelta(days_in_month)\n",
    "\n",
    "dari = widgets.DatePicker(value=hari_ini,\n",
    "    description='Dari:',\n",
    "    disabled=False\n",
    ")\n",
    "sampai = widgets.DatePicker(value=bulan_depan,\n",
    "    description='Sampai:',\n",
    "    disabled=False\n",
    ")\n",
    "\n",
    "lat = widgets.Text(value='7.83305556 S', description='Latitude:')\n",
    "long = widgets.Text(value='110.38305556 E', description='Longitude:')\n",
    "\n",
    "interactive(result, lat=lat, long=long, t0=dari, t1=sampai)\n"
   ]
  },
  {
   "cell_type": "code",
   "execution_count": null,
   "metadata": {},
   "outputs": [],
   "source": []
  },
  {
   "cell_type": "code",
   "execution_count": null,
   "metadata": {},
   "outputs": [],
   "source": []
  }
 ],
 "metadata": {
  "kernelspec": {
   "display_name": "Python 3",
   "language": "python",
   "name": "python3"
  },
  "language_info": {
   "codemirror_mode": {
    "name": "ipython",
    "version": 3
   },
   "file_extension": ".py",
   "mimetype": "text/x-python",
   "name": "python",
   "nbconvert_exporter": "python",
   "pygments_lexer": "ipython3",
   "version": "3.7.6"
  },
  "widgets": {
   "application/vnd.jupyter.widget-state+json": {
    "state": {
     "00022212d3ff47749c4f41668fed85e4": {
      "model_module": "@jupyter-widgets/base",
      "model_module_version": "1.2.0",
      "model_name": "LayoutModel",
      "state": {}
     },
     "176f0c20dc53418c9d806462e3506e2b": {
      "model_module": "@jupyter-widgets/controls",
      "model_module_version": "1.5.0",
      "model_name": "DescriptionStyleModel",
      "state": {
       "description_width": ""
      }
     },
     "19e130a196ca4d5c87ac5a99a91ca56c": {
      "model_module": "@jupyter-widgets/base",
      "model_module_version": "1.2.0",
      "model_name": "LayoutModel",
      "state": {}
     },
     "452827c1f58a4aa9b763346ed8cbf720": {
      "model_module": "@jupyter-widgets/base",
      "model_module_version": "1.2.0",
      "model_name": "LayoutModel",
      "state": {}
     },
     "4c079a7cc43e4e148f1304749bb4848a": {
      "model_module": "@jupyter-widgets/controls",
      "model_module_version": "1.5.0",
      "model_name": "DescriptionStyleModel",
      "state": {
       "description_width": ""
      }
     },
     "68fd3c0fa7804f0c8ec93bf9321dbf03": {
      "model_module": "@jupyter-widgets/controls",
      "model_module_version": "1.5.0",
      "model_name": "DescriptionStyleModel",
      "state": {
       "description_width": ""
      }
     },
     "729aad50b1b84a5c98f095e795c3c8b3": {
      "model_module": "@jupyter-widgets/base",
      "model_module_version": "1.2.0",
      "model_name": "LayoutModel",
      "state": {}
     },
     "7360f1445fad47fba0c11be507539877": {
      "model_module": "@jupyter-widgets/controls",
      "model_module_version": "1.5.0",
      "model_name": "DatePickerModel",
      "state": {
       "description": "Dari:",
       "disabled": false,
       "layout": "IPY_MODEL_cd5a099957404a52b868f78a4f4542f4",
       "style": "IPY_MODEL_68fd3c0fa7804f0c8ec93bf9321dbf03",
       "value": {
        "date": 11,
        "month": 5,
        "year": 2020
       }
      }
     },
     "80c9aada2c3a43f7a54f5004aab6bd97": {
      "model_module": "@jupyter-widgets/controls",
      "model_module_version": "1.5.0",
      "model_name": "TextModel",
      "state": {
       "description": "Longitude:",
       "layout": "IPY_MODEL_729aad50b1b84a5c98f095e795c3c8b3",
       "style": "IPY_MODEL_176f0c20dc53418c9d806462e3506e2b",
       "value": "110.38305556 E"
      }
     },
     "839aaa2a01fb4aa0b14ddca860ee0855": {
      "model_module": "@jupyter-widgets/base",
      "model_module_version": "1.2.0",
      "model_name": "LayoutModel",
      "state": {}
     },
     "a386de9f1c3e437ebb518a071a5d31e3": {
      "model_module": "@jupyter-widgets/controls",
      "model_module_version": "1.5.0",
      "model_name": "TextModel",
      "state": {
       "description": "Latitude:",
       "layout": "IPY_MODEL_452827c1f58a4aa9b763346ed8cbf720",
       "style": "IPY_MODEL_4c079a7cc43e4e148f1304749bb4848a",
       "value": "7.83305556 S"
      }
     },
     "b61c38a90dbb4609896bf8cc170c5cd3": {
      "model_module": "@jupyter-widgets/controls",
      "model_module_version": "1.5.0",
      "model_name": "DescriptionStyleModel",
      "state": {
       "description_width": ""
      }
     },
     "c8e8c68602774379a8e9fa0398340ec9": {
      "model_module": "@jupyter-widgets/output",
      "model_module_version": "1.0.0",
      "model_name": "OutputModel",
      "state": {
       "layout": "IPY_MODEL_00022212d3ff47749c4f41668fed85e4",
       "outputs": [
        {
         "data": {
          "text/html": "<div>\n<style scoped>\n    .dataframe tbody tr th:only-of-type {\n        vertical-align: middle;\n    }\n\n    .dataframe tbody tr th {\n        vertical-align: top;\n    }\n\n    .dataframe thead th {\n        text-align: right;\n    }\n</style>\n<table border=\"1\" class=\"dataframe\">\n  <thead>\n    <tr style=\"text-align: right;\">\n      <th></th>\n      <th>Waktu Konjungsi (UTC+07)</th>\n      <th>Waktu Hilal (UTC+07)</th>\n      <th>Altitude Bulan</th>\n      <th>Azimuth Bulan</th>\n      <th>Altitude Matahari</th>\n      <th>Azimuth Matahari</th>\n      <th>Elongasi</th>\n      <th>Usia Bulan</th>\n      <th>Imkan Rukyat</th>\n    </tr>\n  </thead>\n  <tbody>\n    <tr>\n      <th>1</th>\n      <td>2020-06-21 13:41:27.481000+07:00</td>\n      <td>2020-06-21 17:30:21.892000+07:00</td>\n      <td>00deg 04' 17.9\"</td>\n      <td>294deg 06' 43.4\"</td>\n      <td>-00deg 49' 59.9\"</td>\n      <td>293deg 32' 51.3\"</td>\n      <td>01deg 03' 59.6\"</td>\n      <td>03:48:54.411000</td>\n      <td>✘</td>\n    </tr>\n  </tbody>\n</table>\n</div>",
          "text/plain": "          Waktu Konjungsi (UTC+07)             Waktu Hilal (UTC+07)  \\\n1 2020-06-21 13:41:27.481000+07:00 2020-06-21 17:30:21.892000+07:00   \n\n    Altitude Bulan     Azimuth Bulan Altitude Matahari  Azimuth Matahari  \\\n1  00deg 04' 17.9\"  294deg 06' 43.4\"  -00deg 49' 59.9\"  293deg 32' 51.3\"   \n\n          Elongasi      Usia Bulan Imkan Rukyat  \n1  01deg 03' 59.6\" 03:48:54.411000            ✘  "
         },
         "metadata": {},
         "output_type": "display_data"
        }
       ]
      }
     },
     "cd5a099957404a52b868f78a4f4542f4": {
      "model_module": "@jupyter-widgets/base",
      "model_module_version": "1.2.0",
      "model_name": "LayoutModel",
      "state": {}
     },
     "e5882c1c3a28471d81de0d9ef2efbf9a": {
      "model_module": "@jupyter-widgets/controls",
      "model_module_version": "1.5.0",
      "model_name": "DatePickerModel",
      "state": {
       "description": "Sampai:",
       "disabled": false,
       "layout": "IPY_MODEL_19e130a196ca4d5c87ac5a99a91ca56c",
       "style": "IPY_MODEL_b61c38a90dbb4609896bf8cc170c5cd3",
       "value": {
        "date": 11,
        "month": 6,
        "year": 2020
       }
      }
     },
     "f2d5e512fe91425e90161156b9764d7b": {
      "model_module": "@jupyter-widgets/controls",
      "model_module_version": "1.5.0",
      "model_name": "VBoxModel",
      "state": {
       "_dom_classes": [
        "widget-interact"
       ],
       "children": [
        "IPY_MODEL_a386de9f1c3e437ebb518a071a5d31e3",
        "IPY_MODEL_80c9aada2c3a43f7a54f5004aab6bd97",
        "IPY_MODEL_7360f1445fad47fba0c11be507539877",
        "IPY_MODEL_e5882c1c3a28471d81de0d9ef2efbf9a",
        "IPY_MODEL_c8e8c68602774379a8e9fa0398340ec9"
       ],
       "layout": "IPY_MODEL_839aaa2a01fb4aa0b14ddca860ee0855"
      }
     }
    },
    "version_major": 2,
    "version_minor": 0
   }
  }
 },
 "nbformat": 4,
 "nbformat_minor": 4
}
