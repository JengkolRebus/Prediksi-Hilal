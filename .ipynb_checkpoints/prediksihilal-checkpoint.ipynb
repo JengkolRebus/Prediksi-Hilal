{
 "cells": [
  {
   "cell_type": "markdown",
   "metadata": {},
   "source": [
    "\n",
    "# Prediksi Hilal\n",
    "---"
   ]
  },
  {
   "cell_type": "code",
   "execution_count": 1,
   "metadata": {},
   "outputs": [],
   "source": [
    "# _jengkolrebus\n",
    "# Mei, 2020\n",
    "# Curup, Bengkulu"
   ]
  },
  {
   "cell_type": "markdown",
   "metadata": {},
   "source": [
    "Program ini menggunakan Python Package: [Skyfield](https://rhodesmill.org/skyfield/).\n",
    "Program ini dibuat dengan ketentuan sebagai berikut:\n",
    "- Ephemeris:\n",
    "    > Ephemeris yang digunakan adalah de421.bsp\n",
    "- Definisi Matahari Terbenam:\n",
    "    > Skyfield menggunakan definisi resmi matahari terbit dan terbenam dari United States Naval Observatory, yang mendefinisikan matahari terbenam ketika pusat matahari adalah <b>0,8333</b> derajat di bawah Horizon, untuk memperhitungkan rata-rata jari-jari Matahari dan untuk rata-rata pembiasan atmosfer di horizon.\n",
    "___\n",
    "- Flowchart:\n",
    "<br>\n",
    "<img src=\"flowchart.png\">\n",
    "<br>\n",
    "- Input Lokasi berupa Latitude dan Longitude dalam bentuk <em>Decimal Degree</em> dengan format String / text.\n",
    " > Contoh : \n",
    "    Latitude: \"7.83305556 S\"\n",
    "    Longitude: \"110.38305556 E\"\n",
    "    Perhatikan Notasi \"S\" dan \"E\" bergantung pada lokasi.\n",
    "    \n",
    "- Input waktu berupa tanggal rentang waktu hilal yang ingin dicari.\n",
    " > Contoh dari tanggal 1 Januari 2020, sampai 1 Januari 2021\n",
    "___\n"
   ]
  },
  {
   "cell_type": "code",
   "execution_count": 2,
   "metadata": {},
   "outputs": [],
   "source": [
    "from skyfield.api import load, Topos\n",
    "from skyfield.units import Angle\n",
    "from skyfield import almanac\n",
    "from datetime import datetime, timedelta\n",
    "from pytz import timezone\n",
    "from ipywidgets import widgets, interact, interactive\n",
    "from IPython.display import display, HTML\n",
    "import pandas as pd\n",
    "import calendar"
   ]
  },
  {
   "cell_type": "code",
   "execution_count": 3,
   "metadata": {},
   "outputs": [],
   "source": [
    "jkt = timezone('Asia/Jakarta')\n",
    "ts = load.timescale()\n",
    "e = load('de421.bsp')"
   ]
  },
  {
   "cell_type": "code",
   "execution_count": 4,
   "metadata": {},
   "outputs": [],
   "source": [
    "# Membuat variable-variable global\n",
    "class var:\n",
    "    topo=None\n",
    "    loc=None\n",
    "    MOON_RADIUS = 1737.1 # km\n",
    "    SUN_RADIUS = 696340 # km\n",
    "    konjungsi = []\n",
    "    sunset = []\n",
    "    alt_bulan = []\n",
    "    az_bulan = []\n",
    "    jarak_bulan = []\n",
    "    alt_matahari = []\n",
    "    az_matahari = []\n",
    "    jarak_matahari = []\n",
    "    elong = []\n",
    "    ir = []\n",
    "    moonset = []\n",
    "    usia_bulan = []"
   ]
  },
  {
   "cell_type": "markdown",
   "metadata": {},
   "source": [
    "### Kriteria Hilal\n",
    "- Imkanur Rukyat\n",
    "    > - Pada saat matahari terbenam, <b>ketinggian bulan minimal 2$^\\circ$</b>, <b>Elongasi minimal 3$^\\circ$</b>.\n",
    "    > - Pada saat Bulan terbenam, usia bulan minimal <b>8 Jam</b>, dihitung sejak ijtima' (konjungsi)\n",
    "    \n",
    "___"
   ]
  },
  {
   "cell_type": "code",
   "execution_count": 5,
   "metadata": {},
   "outputs": [],
   "source": [
    "# Metode untuk membandingkan dengan Imkan Rukyat\n",
    "def imkanRukyat():\n",
    "    alt = var.alt_bulan\n",
    "    elong = var.elong\n",
    "    usia_bulan = var.usia_bulan\n",
    "    for i, j, k in zip(alt, elong, usia_bulan):\n",
    "        if(i.degrees >= 2 and j.degrees >= 3 and (timedelta.total_seconds(k)/3600) > 8):\n",
    "            var.ir.append(u'\\u2714')\n",
    "        else:\n",
    "            var.ir.append(u'\\u2718')"
   ]
  },
  {
   "cell_type": "code",
   "execution_count": 12,
   "metadata": {},
   "outputs": [],
   "source": [
    "# Menghapus data yang tersimpan dalam variable, agar tidak menumpuk ketika pengaturan lokasi/waktu diubah\n",
    "def clearVar():\n",
    "    var.konjungsi.clear()\n",
    "    var.sunset.clear()\n",
    "    var.alt_bulan.clear()\n",
    "    var.az_bulan.clear()\n",
    "    var.jarak_bulan.clear()\n",
    "    var.alt_matahari.clear()\n",
    "    var.az_matahari.clear()\n",
    "    var.jarak_matahari.clear()\n",
    "    var.elong.clear()\n",
    "    var.ir.clear()\n",
    "    var.usia_bulan.clear()\n",
    "    var.moonset.clear()\n",
    "\n",
    "# Metode untuk mendapatkan posisi benda langit\n",
    "def posisiObyek(obj, t):\n",
    "    obj = e[obj]\n",
    "    astrometric = var.loc.at(t).observe(obj)\n",
    "    alt, az, d = astrometric.apparent().altaz()\n",
    "    return astrometric, alt, az, d.km\n",
    "\n",
    "def usiaBulan():\n",
    "    for i, j in zip(var.konjungsi, var.moonset):\n",
    "        t0 = j\n",
    "        t1 = i\n",
    "        dt = t0-t1\n",
    "#         (h, m, s) = str(dt).split(':')\n",
    "#         result = (int(h)) + (int(m) / 60) + (float(s)/3600)\n",
    "#         dt = timedelta.total_seconds(dt)/3600\n",
    "        var.usia_bulan.append(dt)\n",
    "\n",
    "def moonset(t):\n",
    "    konj = t\n",
    "    t = t.utc\n",
    "    t0 = ts.utc(t[0], t[1], t[2], t[3], t[4], t[5])\n",
    "    t1 = ts.utc(t[0], t[1], t[2]+1, t[3], t[4], t[5])\n",
    "    f = almanac.risings_and_settings(e, e['moon'], var.topo)\n",
    "    t, y = almanac.find_discrete(t0, t1, f)\n",
    "    \n",
    "    for ti, yi in zip(t, y):\n",
    "        if(yi==False):\n",
    "            var.moonset.append(ti.astimezone(jkt))\n",
    "        else:\n",
    "            pass\n",
    "# Metode untuk mendapatkan waktu Sunset\n",
    "def sunset(t):\n",
    "    t_konj = t\n",
    "    t = t.utc\n",
    "    t0 = ts.utc(t[0], t[1], t[2], t[3], t[4], t[5])\n",
    "    t1 = ts.utc(t[0], t[1], t[2]+1, t[3], t[4], t[5])\n",
    "    f = almanac.sunrise_sunset(e, var.topo)\n",
    "    t, y = almanac.find_discrete(t0, t1, f)\n",
    "    \n",
    "    for ti, yi in zip(t, y):\n",
    "        if(yi==False):\n",
    "            var.sunset.append(ti.astimezone(jkt))\n",
    "            \n",
    "            # Mendapatkan posisi Bulan\n",
    "            bulan = posisiObyek('moon', ti)\n",
    "            var.alt_bulan.append(bulan[1])\n",
    "            var.az_bulan.append(bulan[2])\n",
    "            var.jarak_bulan.append(bulan[3])\n",
    "            \n",
    "            # Mendapatkan posisi Matahari\n",
    "            matahari = posisiObyek('sun', ti)\n",
    "            var.alt_matahari.append(matahari[1])\n",
    "            var.az_matahari.append(matahari[2])\n",
    "            var.jarak_matahari.append(matahari[3])\n",
    "            \n",
    "            # Mendapatkan Elongasi\n",
    "            elong = bulan[0].separation_from(matahari[0])\n",
    "            var.elong.append(elong)\n",
    "            \n",
    "            \n",
    "            \n",
    "            moonset(ti)\n",
    "        else:\n",
    "            pass\n",
    "\n",
    "# Metode untuk mendapatkan waktu konjungsi\n",
    "def konjungsi(t0, t1):\n",
    "    t0 = ts.utc(t0)\n",
    "    t1 = ts.utc(t1)\n",
    "    f = almanac.oppositions_conjunctions(e, e['moon'])\n",
    "    t, y = almanac.find_discrete(t0, t1, f)\n",
    "    \n",
    "    for ti, yi in zip(t, y):\n",
    "        if(yi==1):\n",
    "            var.konjungsi.append(ti.astimezone(jkt))\n",
    "            \n",
    "            # Mendapatkan Waktu sunset setelah konjungsi\n",
    "            sunset(ti)\n",
    "        else:\n",
    "            pass\n"
   ]
  },
  {
   "cell_type": "code",
   "execution_count": 13,
   "metadata": {},
   "outputs": [],
   "source": [
    "# Metode untuk mendapatkan posisi toposentrik\n",
    "def find(lat, long, t0, t1):\n",
    "    clearVar()\n",
    "    \n",
    "    var.topo = Topos(lat, long)\n",
    "    print(var.topo)\n",
    "    var.loc = e['earth']+var.topo\n",
    "    \n",
    "    # Mendapatkan waktu konjungsi\n",
    "    konjungsi(t0, t1)\n",
    "    \n",
    "    usiaBulan()\n",
    "    imkanRukyat()\n",
    "    # Menampilkan hasil dalam bentuk tabel dataframe\n",
    "    tabel = list(zip(var.konjungsi, var.sunset,\n",
    "                     var.alt_bulan, var.az_bulan, \n",
    "                     var.alt_matahari, var.az_matahari, \n",
    "                    var.elong, var.usia_bulan, var.ir))\n",
    "    df = pd.DataFrame(tabel, columns=['Waktu Konjungsi (UTC+07)', 'Waktu Hilal (UTC+07)', \n",
    "                                      'Altitude Bulan', 'Azimuth Bulan', \n",
    "                                      'Altitude Matahari', 'Azimuth Matahari', \n",
    "                                     'Elongasi', 'Usia Bulan (jam)', 'Imkan Rukyat'])\n",
    "    df.index+=1\n",
    "    display(df)"
   ]
  },
  {
   "cell_type": "code",
   "execution_count": 14,
   "metadata": {},
   "outputs": [
    {
     "data": {
      "application/vnd.jupyter.widget-view+json": {
       "model_id": "d186847ff83d486abcb4c8effa8586b1",
       "version_major": 2,
       "version_minor": 0
      },
      "text/plain": [
       "interactive(children=(Text(value='7.83305556 S', description='Latitude:'), Text(value='110.38305556 E', descri…"
      ]
     },
     "metadata": {},
     "output_type": "display_data"
    }
   ],
   "source": [
    "hari_ini = datetime.now().date()\n",
    "days_in_month = calendar.monthrange(hari_ini.year, hari_ini.month)[1]\n",
    "bulan_depan = hari_ini + timedelta(days_in_month)\n",
    "\n",
    "dari = widgets.DatePicker(value=hari_ini,\n",
    "    description='Dari:',\n",
    "    disabled=False\n",
    ")\n",
    "sampai = widgets.DatePicker(value=bulan_depan,\n",
    "    description='Sampai:',\n",
    "    disabled=False\n",
    ")\n",
    "\n",
    "lat = widgets.Text(value='7.83305556 S', description='Latitude:')\n",
    "long = widgets.Text(value='110.38305556 E', description='Longitude:')\n",
    "\n",
    "interactive(find, lat=lat, long=long, t0=dari, t1=sampai)\n"
   ]
  },
  {
   "cell_type": "code",
   "execution_count": null,
   "metadata": {},
   "outputs": [],
   "source": []
  },
  {
   "cell_type": "code",
   "execution_count": null,
   "metadata": {},
   "outputs": [],
   "source": []
  }
 ],
 "metadata": {
  "kernelspec": {
   "display_name": "Python 3",
   "language": "python",
   "name": "python3"
  },
  "language_info": {
   "codemirror_mode": {
    "name": "ipython",
    "version": 3
   },
   "file_extension": ".py",
   "mimetype": "text/x-python",
   "name": "python",
   "nbconvert_exporter": "python",
   "pygments_lexer": "ipython3",
   "version": "3.7.6"
  },
  "widgets": {
   "application/vnd.jupyter.widget-state+json": {
    "state": {
     "0538e4fd3c9a4777921b57782d7e1b37": {
      "model_module": "@jupyter-widgets/base",
      "model_module_version": "1.2.0",
      "model_name": "LayoutModel",
      "state": {}
     },
     "0e030b15621341e18a4fa04e32c1ad5e": {
      "model_module": "@jupyter-widgets/base",
      "model_module_version": "1.2.0",
      "model_name": "LayoutModel",
      "state": {}
     },
     "1246141c21b94eff9ecc33513b43b6d1": {
      "model_module": "@jupyter-widgets/controls",
      "model_module_version": "1.5.0",
      "model_name": "TextModel",
      "state": {
       "description": "Longitude:",
       "layout": "IPY_MODEL_476afbd7235a4889980e9d6c1153befd",
       "style": "IPY_MODEL_3bd1d55e15584fcbbf23c9db431de9e7",
       "value": "110.38305556 E"
      }
     },
     "1d85f30ec9084efca8b357d3a76ee06f": {
      "model_module": "@jupyter-widgets/base",
      "model_module_version": "1.2.0",
      "model_name": "LayoutModel",
      "state": {}
     },
     "1e13aad764ef4bfb8a440b0d908b2a4d": {
      "model_module": "@jupyter-widgets/base",
      "model_module_version": "1.2.0",
      "model_name": "LayoutModel",
      "state": {}
     },
     "251cb60d1f5d4e76ad9276db5b33fa9f": {
      "model_module": "@jupyter-widgets/controls",
      "model_module_version": "1.5.0",
      "model_name": "DatePickerModel",
      "state": {
       "description": "Dari:",
       "disabled": false,
       "layout": "IPY_MODEL_7237f4c5a25d494f99b37633b17d2c78",
       "style": "IPY_MODEL_824bca131af04f42b0dabe41e6b990e6",
       "value": {
        "date": 6,
        "month": 5,
        "year": 2020
       }
      }
     },
     "2a63075fa56a4fe0aa43c8ecdbdefdcd": {
      "model_module": "@jupyter-widgets/base",
      "model_module_version": "1.2.0",
      "model_name": "LayoutModel",
      "state": {}
     },
     "2c79912136ab45d18a2465641d73b14b": {
      "model_module": "@jupyter-widgets/controls",
      "model_module_version": "1.5.0",
      "model_name": "DatePickerModel",
      "state": {
       "description": "Dari:",
       "disabled": false,
       "layout": "IPY_MODEL_d7168b56a46f40aea03d061c6afa6e56",
       "style": "IPY_MODEL_9a017829782e46a08008bea02eb001bf",
       "value": {
        "date": 6,
        "month": 5,
        "year": 2020
       }
      }
     },
     "303cc3c8b3d940d2aaefdc7953b0d1f6": {
      "model_module": "@jupyter-widgets/base",
      "model_module_version": "1.2.0",
      "model_name": "LayoutModel",
      "state": {}
     },
     "32f530db22434611b13c6da01187252c": {
      "model_module": "@jupyter-widgets/controls",
      "model_module_version": "1.5.0",
      "model_name": "DatePickerModel",
      "state": {
       "description": "Sampai:",
       "disabled": false,
       "layout": "IPY_MODEL_0e030b15621341e18a4fa04e32c1ad5e",
       "style": "IPY_MODEL_5f7bcd6a872c4ae6ac35ff3b4c86e441",
       "value": {
        "date": 6,
        "month": 6,
        "year": 2020
       }
      }
     },
     "389e159e9458434082352e3885254dc4": {
      "model_module": "@jupyter-widgets/controls",
      "model_module_version": "1.5.0",
      "model_name": "TextModel",
      "state": {
       "description": "Longitude:",
       "layout": "IPY_MODEL_72520df14180479faaaf7acaf6b0b037",
       "style": "IPY_MODEL_4d208d57f9be4eaca9740d632e963262",
       "value": "110.38305556 E"
      }
     },
     "3bd1d55e15584fcbbf23c9db431de9e7": {
      "model_module": "@jupyter-widgets/controls",
      "model_module_version": "1.5.0",
      "model_name": "DescriptionStyleModel",
      "state": {
       "description_width": ""
      }
     },
     "40f47ecf57a44f35a32a818e4e0a7339": {
      "model_module": "@jupyter-widgets/base",
      "model_module_version": "1.2.0",
      "model_name": "LayoutModel",
      "state": {}
     },
     "44119995611745569c5f43d35482bd83": {
      "model_module": "@jupyter-widgets/controls",
      "model_module_version": "1.5.0",
      "model_name": "DescriptionStyleModel",
      "state": {
       "description_width": ""
      }
     },
     "463df51bd6fc4d06bdccc6ce5c787c15": {
      "model_module": "@jupyter-widgets/controls",
      "model_module_version": "1.5.0",
      "model_name": "DescriptionStyleModel",
      "state": {
       "description_width": ""
      }
     },
     "476afbd7235a4889980e9d6c1153befd": {
      "model_module": "@jupyter-widgets/base",
      "model_module_version": "1.2.0",
      "model_name": "LayoutModel",
      "state": {}
     },
     "4826daf365734590bd2c0d791f71193e": {
      "model_module": "@jupyter-widgets/output",
      "model_module_version": "1.0.0",
      "model_name": "OutputModel",
      "state": {
       "layout": "IPY_MODEL_a9cc2d227d65495cb14427077d29fbb1",
       "outputs": [
        {
         "name": "stdout",
         "output_type": "stream",
         "text": "Topos -07deg 49' 59.0\" N 110deg 22' 59.0\" E\n"
        },
        {
         "data": {
          "text/html": "<div>\n<style scoped>\n    .dataframe tbody tr th:only-of-type {\n        vertical-align: middle;\n    }\n\n    .dataframe tbody tr th {\n        vertical-align: top;\n    }\n\n    .dataframe thead th {\n        text-align: right;\n    }\n</style>\n<table border=\"1\" class=\"dataframe\">\n  <thead>\n    <tr style=\"text-align: right;\">\n      <th></th>\n      <th>Waktu Konjungsi (UTC+07)</th>\n      <th>Waktu Hilal (UTC+07)</th>\n      <th>Altitude Bulan</th>\n      <th>Azimuth Bulan</th>\n      <th>Altitude Matahari</th>\n      <th>Azimuth Matahari</th>\n      <th>Elongasi</th>\n      <th>Usia Bulan (jam)</th>\n      <th>Imkan Rukyat</th>\n    </tr>\n  </thead>\n  <tbody>\n    <tr>\n      <th>1</th>\n      <td>2020-06-21 13:41:27.481000+07:00</td>\n      <td>2020-06-21 17:30:21.892000+07:00</td>\n      <td>00deg 04' 17.9\"</td>\n      <td>294deg 06' 43.4\"</td>\n      <td>-00deg 49' 59.9\"</td>\n      <td>293deg 32' 51.3\"</td>\n      <td>01deg 03' 59.6\"</td>\n      <td>03:48:54.411000</td>\n      <td>✘</td>\n    </tr>\n  </tbody>\n</table>\n</div>",
          "text/plain": "          Waktu Konjungsi (UTC+07)             Waktu Hilal (UTC+07)  \\\n1 2020-06-21 13:41:27.481000+07:00 2020-06-21 17:30:21.892000+07:00   \n\n    Altitude Bulan     Azimuth Bulan Altitude Matahari  Azimuth Matahari  \\\n1  00deg 04' 17.9\"  294deg 06' 43.4\"  -00deg 49' 59.9\"  293deg 32' 51.3\"   \n\n          Elongasi Usia Bulan (jam) Imkan Rukyat  \n1  01deg 03' 59.6\"  03:48:54.411000            ✘  "
         },
         "metadata": {},
         "output_type": "display_data"
        }
       ]
      }
     },
     "4d208d57f9be4eaca9740d632e963262": {
      "model_module": "@jupyter-widgets/controls",
      "model_module_version": "1.5.0",
      "model_name": "DescriptionStyleModel",
      "state": {
       "description_width": ""
      }
     },
     "50628b43efe44c1eb838b15e2a8d0ec3": {
      "model_module": "@jupyter-widgets/controls",
      "model_module_version": "1.5.0",
      "model_name": "VBoxModel",
      "state": {
       "_dom_classes": [
        "widget-interact"
       ],
       "children": [
        "IPY_MODEL_e6c4734e23504c12a597091ff0635707",
        "IPY_MODEL_389e159e9458434082352e3885254dc4",
        "IPY_MODEL_251cb60d1f5d4e76ad9276db5b33fa9f",
        "IPY_MODEL_32f530db22434611b13c6da01187252c",
        "IPY_MODEL_7c9d41c0cf614155bd1e173162afc020"
       ],
       "layout": "IPY_MODEL_303cc3c8b3d940d2aaefdc7953b0d1f6"
      }
     },
     "5f7bcd6a872c4ae6ac35ff3b4c86e441": {
      "model_module": "@jupyter-widgets/controls",
      "model_module_version": "1.5.0",
      "model_name": "DescriptionStyleModel",
      "state": {
       "description_width": ""
      }
     },
     "7237f4c5a25d494f99b37633b17d2c78": {
      "model_module": "@jupyter-widgets/base",
      "model_module_version": "1.2.0",
      "model_name": "LayoutModel",
      "state": {}
     },
     "72520df14180479faaaf7acaf6b0b037": {
      "model_module": "@jupyter-widgets/base",
      "model_module_version": "1.2.0",
      "model_name": "LayoutModel",
      "state": {}
     },
     "7c9d41c0cf614155bd1e173162afc020": {
      "model_module": "@jupyter-widgets/output",
      "model_module_version": "1.0.0",
      "model_name": "OutputModel",
      "state": {
       "layout": "IPY_MODEL_b73e392a486b44b4b25e1c6b12e3aa19",
       "outputs": [
        {
         "name": "stdout",
         "output_type": "stream",
         "text": "Topos -07deg 49' 59.0\" N 110deg 22' 59.0\" E\n"
        },
        {
         "data": {
          "text/html": "<div>\n<style scoped>\n    .dataframe tbody tr th:only-of-type {\n        vertical-align: middle;\n    }\n\n    .dataframe tbody tr th {\n        vertical-align: top;\n    }\n\n    .dataframe thead th {\n        text-align: right;\n    }\n</style>\n<table border=\"1\" class=\"dataframe\">\n  <thead>\n    <tr style=\"text-align: right;\">\n      <th></th>\n      <th>Waktu Konjungsi (UTC+07)</th>\n      <th>Waktu Hilal (UTC+07)</th>\n      <th>Altitude Bulan</th>\n      <th>Azimuth Bulan</th>\n      <th>Altitude Matahari</th>\n      <th>Azimuth Matahari</th>\n      <th>Elongasi</th>\n      <th>Usia Bulan (jam)</th>\n      <th>Imkan Rukyat</th>\n    </tr>\n  </thead>\n  <tbody>\n    <tr>\n      <th>1</th>\n      <td>2020-06-21 13:41:27.481000+07:00</td>\n      <td>2020-06-21 17:30:21.892000+07:00</td>\n      <td>00deg 04' 17.9\"</td>\n      <td>294deg 06' 43.4\"</td>\n      <td>-00deg 49' 59.9\"</td>\n      <td>293deg 32' 51.3\"</td>\n      <td>01deg 03' 59.6\"</td>\n      <td>03:51:50.136000</td>\n      <td>✘</td>\n    </tr>\n  </tbody>\n</table>\n</div>",
          "text/plain": "          Waktu Konjungsi (UTC+07)             Waktu Hilal (UTC+07)  \\\n1 2020-06-21 13:41:27.481000+07:00 2020-06-21 17:30:21.892000+07:00   \n\n    Altitude Bulan     Azimuth Bulan Altitude Matahari  Azimuth Matahari  \\\n1  00deg 04' 17.9\"  294deg 06' 43.4\"  -00deg 49' 59.9\"  293deg 32' 51.3\"   \n\n          Elongasi Usia Bulan (jam) Imkan Rukyat  \n1  01deg 03' 59.6\"  03:51:50.136000            ✘  "
         },
         "metadata": {},
         "output_type": "display_data"
        }
       ]
      }
     },
     "824bca131af04f42b0dabe41e6b990e6": {
      "model_module": "@jupyter-widgets/controls",
      "model_module_version": "1.5.0",
      "model_name": "DescriptionStyleModel",
      "state": {
       "description_width": ""
      }
     },
     "86458fc00ddb43e49846e08440bc7923": {
      "model_module": "@jupyter-widgets/controls",
      "model_module_version": "1.5.0",
      "model_name": "DescriptionStyleModel",
      "state": {
       "description_width": ""
      }
     },
     "96789627405b4d32ab3b880a2535ab61": {
      "model_module": "@jupyter-widgets/base",
      "model_module_version": "1.2.0",
      "model_name": "LayoutModel",
      "state": {}
     },
     "9a017829782e46a08008bea02eb001bf": {
      "model_module": "@jupyter-widgets/controls",
      "model_module_version": "1.5.0",
      "model_name": "DescriptionStyleModel",
      "state": {
       "description_width": ""
      }
     },
     "a9cc2d227d65495cb14427077d29fbb1": {
      "model_module": "@jupyter-widgets/base",
      "model_module_version": "1.2.0",
      "model_name": "LayoutModel",
      "state": {}
     },
     "ab96d8844210467f9b3bffae01c46b23": {
      "model_module": "@jupyter-widgets/base",
      "model_module_version": "1.2.0",
      "model_name": "LayoutModel",
      "state": {}
     },
     "ac9b1878b1b8443cbe97690a97d20245": {
      "model_module": "@jupyter-widgets/base",
      "model_module_version": "1.2.0",
      "model_name": "LayoutModel",
      "state": {}
     },
     "b02421ed96e244cd9e0a3271bca5b882": {
      "model_module": "@jupyter-widgets/controls",
      "model_module_version": "1.5.0",
      "model_name": "TextModel",
      "state": {
       "description": "Longitude:",
       "layout": "IPY_MODEL_96789627405b4d32ab3b880a2535ab61",
       "style": "IPY_MODEL_86458fc00ddb43e49846e08440bc7923",
       "value": "110.38305556 E"
      }
     },
     "b14526c57b254d22bc835f757b58c993": {
      "model_module": "@jupyter-widgets/controls",
      "model_module_version": "1.5.0",
      "model_name": "DatePickerModel",
      "state": {
       "description": "Sampai:",
       "disabled": false,
       "layout": "IPY_MODEL_1d85f30ec9084efca8b357d3a76ee06f",
       "style": "IPY_MODEL_b3335ff4791a446ab7af7bb25960c1d7",
       "value": {
        "date": 6,
        "month": 6,
        "year": 2020
       }
      }
     },
     "b3335ff4791a446ab7af7bb25960c1d7": {
      "model_module": "@jupyter-widgets/controls",
      "model_module_version": "1.5.0",
      "model_name": "DescriptionStyleModel",
      "state": {
       "description_width": ""
      }
     },
     "b4544b75c9b5493e9f2105dac012b178": {
      "model_module": "@jupyter-widgets/controls",
      "model_module_version": "1.5.0",
      "model_name": "TextModel",
      "state": {
       "description": "Latitude:",
       "layout": "IPY_MODEL_0538e4fd3c9a4777921b57782d7e1b37",
       "style": "IPY_MODEL_c7048c419504465c8ac7656f8f91a835",
       "value": "7.83305556 S"
      }
     },
     "b73e392a486b44b4b25e1c6b12e3aa19": {
      "model_module": "@jupyter-widgets/base",
      "model_module_version": "1.2.0",
      "model_name": "LayoutModel",
      "state": {}
     },
     "c30218043c18409d88f49f7a90ad4f47": {
      "model_module": "@jupyter-widgets/controls",
      "model_module_version": "1.5.0",
      "model_name": "VBoxModel",
      "state": {
       "_dom_classes": [
        "widget-interact"
       ],
       "children": [
        "IPY_MODEL_ef0fe2b29abc47c89145ea0bd6cc2b77",
        "IPY_MODEL_1246141c21b94eff9ecc33513b43b6d1",
        "IPY_MODEL_e1bbf959135b43159b65ddd0468b3e52",
        "IPY_MODEL_cbe9ef79a35c407db37b26ea83e1bf63",
        "IPY_MODEL_4826daf365734590bd2c0d791f71193e"
       ],
       "layout": "IPY_MODEL_2a63075fa56a4fe0aa43c8ecdbdefdcd"
      }
     },
     "c691e233b7834cd58f33b5bcf7059276": {
      "model_module": "@jupyter-widgets/base",
      "model_module_version": "1.2.0",
      "model_name": "LayoutModel",
      "state": {}
     },
     "c7048c419504465c8ac7656f8f91a835": {
      "model_module": "@jupyter-widgets/controls",
      "model_module_version": "1.5.0",
      "model_name": "DescriptionStyleModel",
      "state": {
       "description_width": ""
      }
     },
     "cbe9ef79a35c407db37b26ea83e1bf63": {
      "model_module": "@jupyter-widgets/controls",
      "model_module_version": "1.5.0",
      "model_name": "DatePickerModel",
      "state": {
       "description": "Sampai:",
       "disabled": false,
       "layout": "IPY_MODEL_c691e233b7834cd58f33b5bcf7059276",
       "style": "IPY_MODEL_ef4e2e4c4e9e4ad38be8cafd7f5d0ec8",
       "value": {
        "date": 6,
        "month": 6,
        "year": 2020
       }
      }
     },
     "d186847ff83d486abcb4c8effa8586b1": {
      "model_module": "@jupyter-widgets/controls",
      "model_module_version": "1.5.0",
      "model_name": "VBoxModel",
      "state": {
       "_dom_classes": [
        "widget-interact"
       ],
       "children": [
        "IPY_MODEL_b4544b75c9b5493e9f2105dac012b178",
        "IPY_MODEL_b02421ed96e244cd9e0a3271bca5b882",
        "IPY_MODEL_2c79912136ab45d18a2465641d73b14b",
        "IPY_MODEL_b14526c57b254d22bc835f757b58c993",
        "IPY_MODEL_dd93f7c300424f5d81825f5b31939fd6"
       ],
       "layout": "IPY_MODEL_40f47ecf57a44f35a32a818e4e0a7339"
      }
     },
     "d7168b56a46f40aea03d061c6afa6e56": {
      "model_module": "@jupyter-widgets/base",
      "model_module_version": "1.2.0",
      "model_name": "LayoutModel",
      "state": {}
     },
     "dd93f7c300424f5d81825f5b31939fd6": {
      "model_module": "@jupyter-widgets/output",
      "model_module_version": "1.0.0",
      "model_name": "OutputModel",
      "state": {
       "layout": "IPY_MODEL_ab96d8844210467f9b3bffae01c46b23",
       "outputs": [
        {
         "name": "stdout",
         "output_type": "stream",
         "text": "Topos -07deg 49' 59.0\" N 110deg 22' 59.0\" E\n"
        },
        {
         "data": {
          "text/html": "<div>\n<style scoped>\n    .dataframe tbody tr th:only-of-type {\n        vertical-align: middle;\n    }\n\n    .dataframe tbody tr th {\n        vertical-align: top;\n    }\n\n    .dataframe thead th {\n        text-align: right;\n    }\n</style>\n<table border=\"1\" class=\"dataframe\">\n  <thead>\n    <tr style=\"text-align: right;\">\n      <th></th>\n      <th>Waktu Konjungsi (UTC+07)</th>\n      <th>Waktu Hilal (UTC+07)</th>\n      <th>Altitude Bulan</th>\n      <th>Azimuth Bulan</th>\n      <th>Altitude Matahari</th>\n      <th>Azimuth Matahari</th>\n      <th>Elongasi</th>\n      <th>Usia Bulan (jam)</th>\n      <th>Imkan Rukyat</th>\n    </tr>\n  </thead>\n  <tbody>\n    <tr>\n      <th>1</th>\n      <td>2020-06-21 13:41:27.481000+07:00</td>\n      <td>2020-06-21 17:30:21.892000+07:00</td>\n      <td>00deg 04' 17.9\"</td>\n      <td>294deg 06' 43.4\"</td>\n      <td>-00deg 49' 59.9\"</td>\n      <td>293deg 32' 51.3\"</td>\n      <td>01deg 03' 59.6\"</td>\n      <td>03:51:50.136000</td>\n      <td>✘</td>\n    </tr>\n  </tbody>\n</table>\n</div>",
          "text/plain": "          Waktu Konjungsi (UTC+07)             Waktu Hilal (UTC+07)  \\\n1 2020-06-21 13:41:27.481000+07:00 2020-06-21 17:30:21.892000+07:00   \n\n    Altitude Bulan     Azimuth Bulan Altitude Matahari  Azimuth Matahari  \\\n1  00deg 04' 17.9\"  294deg 06' 43.4\"  -00deg 49' 59.9\"  293deg 32' 51.3\"   \n\n          Elongasi Usia Bulan (jam) Imkan Rukyat  \n1  01deg 03' 59.6\"  03:51:50.136000            ✘  "
         },
         "metadata": {},
         "output_type": "display_data"
        }
       ]
      }
     },
     "e1bbf959135b43159b65ddd0468b3e52": {
      "model_module": "@jupyter-widgets/controls",
      "model_module_version": "1.5.0",
      "model_name": "DatePickerModel",
      "state": {
       "description": "Dari:",
       "disabled": false,
       "layout": "IPY_MODEL_e87414ea92404efaa5b3a384e0a700aa",
       "style": "IPY_MODEL_e9f8f5e5716c4a1187c2f9f0d6312114",
       "value": {
        "date": 6,
        "month": 5,
        "year": 2020
       }
      }
     },
     "e6c4734e23504c12a597091ff0635707": {
      "model_module": "@jupyter-widgets/controls",
      "model_module_version": "1.5.0",
      "model_name": "TextModel",
      "state": {
       "description": "Latitude:",
       "layout": "IPY_MODEL_ac9b1878b1b8443cbe97690a97d20245",
       "style": "IPY_MODEL_463df51bd6fc4d06bdccc6ce5c787c15",
       "value": "7.83305556 S"
      }
     },
     "e87414ea92404efaa5b3a384e0a700aa": {
      "model_module": "@jupyter-widgets/base",
      "model_module_version": "1.2.0",
      "model_name": "LayoutModel",
      "state": {}
     },
     "e9f8f5e5716c4a1187c2f9f0d6312114": {
      "model_module": "@jupyter-widgets/controls",
      "model_module_version": "1.5.0",
      "model_name": "DescriptionStyleModel",
      "state": {
       "description_width": ""
      }
     },
     "ef0fe2b29abc47c89145ea0bd6cc2b77": {
      "model_module": "@jupyter-widgets/controls",
      "model_module_version": "1.5.0",
      "model_name": "TextModel",
      "state": {
       "description": "Latitude:",
       "layout": "IPY_MODEL_1e13aad764ef4bfb8a440b0d908b2a4d",
       "style": "IPY_MODEL_44119995611745569c5f43d35482bd83",
       "value": "7.83305556 S"
      }
     },
     "ef4e2e4c4e9e4ad38be8cafd7f5d0ec8": {
      "model_module": "@jupyter-widgets/controls",
      "model_module_version": "1.5.0",
      "model_name": "DescriptionStyleModel",
      "state": {
       "description_width": ""
      }
     }
    },
    "version_major": 2,
    "version_minor": 0
   }
  }
 },
 "nbformat": 4,
 "nbformat_minor": 4
}
