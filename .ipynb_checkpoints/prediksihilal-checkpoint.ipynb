{
 "cells": [
  {
   "cell_type": "markdown",
   "metadata": {},
   "source": [
    "\n",
    "# Prediksi Hilal\n",
    "---"
   ]
  },
  {
   "cell_type": "code",
   "execution_count": 1,
   "metadata": {},
   "outputs": [],
   "source": [
    "# _jengkolrebus\n",
    "# Mei, 2020\n",
    "# Curup, Bengkulu"
   ]
  },
  {
   "cell_type": "markdown",
   "metadata": {},
   "source": [
    "Program ini menggunakan Python Package: [Skyfield](https://rhodesmill.org/skyfield/).\n",
    "Program ini dibuat dengan ketentuan sebagai berikut:\n",
    "- Ephemeris:\n",
    "    > Ephemeris yang digunakan adalah de421.bsp\n",
    "- Definisi Matahari Terbenam:\n",
    "    > Skyfield menggunakan definisi resmi matahari terbit dan terbenam dari United States Naval Observatory, yang mendefinisikan matahari terbenam ketika pusat matahari adalah <b>0,8333</b> derajat di bawah Horizon, untuk memperhitungkan rata-rata jari-jari Matahari dan untuk rata-rata pembiasan atmosfer di horizon.\n",
    "___\n",
    "- Flowchart:\n",
    "<br>\n",
    "<img src=\"flowchart.png\">\n",
    "<br>\n",
    "- Input Lokasi berupa Latitude dan Longitude dalam bentuk <em>Decimal Degree</em> dengan format String / text.\n",
    " > Contoh : \n",
    "    Latitude: \"7.83305556 S\"\n",
    "    Longitude: \"110.38305556 E\"\n",
    "    Perhatikan Notasi \"S\" dan \"E\" bergantung pada lokasi.\n",
    "    \n",
    "- Input waktu berupa tanggal rentang waktu hilal yang ingin dicari.\n",
    " > Contoh dari tanggal 1 Januari 2020, sampai 1 Januari 2021\n",
    "___\n"
   ]
  },
  {
   "cell_type": "code",
   "execution_count": 2,
   "metadata": {},
   "outputs": [],
   "source": [
    "from skyfield.api import load, Topos\n",
    "from skyfield.units import Angle\n",
    "from skyfield import almanac\n",
    "from datetime import datetime, timedelta\n",
    "from pytz import timezone\n",
    "from ipywidgets import widgets, interact, interactive\n",
    "from IPython.display import display, HTML\n",
    "import pandas as pd\n",
    "import calendar"
   ]
  },
  {
   "cell_type": "code",
   "execution_count": 3,
   "metadata": {},
   "outputs": [],
   "source": [
    "jkt = timezone('Asia/Jakarta')\n",
    "ts = load.timescale()\n",
    "e = load('de421.bsp')"
   ]
  },
  {
   "cell_type": "code",
   "execution_count": 4,
   "metadata": {},
   "outputs": [],
   "source": [
    "# Membuat variable-variable global\n",
    "class var:\n",
    "    topo=None\n",
    "    loc=None\n",
    "    MOON_RADIUS = 1737.1 # km\n",
    "    SUN_RADIUS = 696340 # km\n",
    "    konjungsi = []\n",
    "    sunset = []\n",
    "    alt_bulan = []\n",
    "    az_bulan = []\n",
    "    jarak_bulan = []\n",
    "    alt_matahari = []\n",
    "    az_matahari = []\n",
    "    jarak_matahari = []\n",
    "    elong = []\n",
    "    ir = []\n",
    "    moonset = []\n",
    "    usia_bulan = []"
   ]
  },
  {
   "cell_type": "markdown",
   "metadata": {},
   "source": [
    "### Kriteria Hilal\n",
    "- Imkanur Rukyat\n",
    "    > - Pada saat matahari terbenam, <b>ketinggian bulan minimal 2$^\\circ$</b>, <b>Elongasi minimal 3$^\\circ$</b>.\n",
    "    > - Pada saat Bulan terbenam, usia bulan minimal <b>8 Jam</b>, dihitung sejak ijtima' (konjungsi)\n",
    "    \n",
    "___"
   ]
  },
  {
   "cell_type": "code",
   "execution_count": 5,
   "metadata": {},
   "outputs": [],
   "source": [
    "# Metode untuk membandingkan dengan Imkan Rukyat\n",
    "def imkanRukyat():\n",
    "    alt = var.alt_bulan\n",
    "    elong = var.elong\n",
    "    usia_bulan = var.usia_bulan\n",
    "    for i, j, k in zip(alt, elong, usia_bulan):\n",
    "        if(i.degrees >= 2 and j.degrees >= 3 and (timedelta.total_seconds(k)/3600) > 8):\n",
    "            var.ir.append(u'\\u2714')\n",
    "        else:\n",
    "            var.ir.append(u'\\u2718')"
   ]
  },
  {
   "cell_type": "code",
   "execution_count": 6,
   "metadata": {},
   "outputs": [],
   "source": [
    "# Menghapus data yang tersimpan dalam variable, agar tidak menumpuk ketika pengaturan lokasi/waktu diubah\n",
    "def clearVar():\n",
    "    var.konjungsi.clear()\n",
    "    var.sunset.clear()\n",
    "    var.alt_bulan.clear()\n",
    "    var.az_bulan.clear()\n",
    "    var.jarak_bulan.clear()\n",
    "    var.alt_matahari.clear()\n",
    "    var.az_matahari.clear()\n",
    "    var.jarak_matahari.clear()\n",
    "    var.elong.clear()\n",
    "    var.ir.clear()\n",
    "    var.usia_bulan.clear()\n",
    "    var.moonset.clear()\n",
    "\n",
    "# Metode untuk mendapatkan posisi benda langit\n",
    "def posisiObyek(obj, t):\n",
    "    obj = e[obj]\n",
    "    astrometric = var.loc.at(t).observe(obj)\n",
    "    alt, az, d = astrometric.apparent().altaz()\n",
    "    return astrometric, alt, az, d.km\n",
    "\n",
    "def usiaBulan():\n",
    "    for i, j in zip(var.konjungsi, var.moonset):\n",
    "        t0 = j\n",
    "        t1 = i\n",
    "        dt = t0-t1\n",
    "#         (h, m, s) = str(dt).split(':')\n",
    "#         result = (int(h)) + (int(m) / 60) + (float(s)/3600)\n",
    "#         dt = timedelta.total_seconds(dt)/3600\n",
    "        var.usia_bulan.append(dt)\n",
    "\n",
    "def moonset(t):\n",
    "    konj = t\n",
    "    t = t.utc\n",
    "    t0 = ts.utc(t[0], t[1], t[2], t[3], t[4], t[5])\n",
    "    t1 = ts.utc(t[0], t[1], t[2]+1, t[3], t[4], t[5])\n",
    "    f = almanac.risings_and_settings(e, e['moon'], var.topo)\n",
    "    t, y = almanac.find_discrete(t0, t1, f)\n",
    "    \n",
    "    for ti, yi in zip(t, y):\n",
    "        if(yi==False):\n",
    "            var.moonset.append(ti.astimezone(jkt))\n",
    "        else:\n",
    "            pass\n",
    "# Metode untuk mendapatkan waktu Sunset\n",
    "def sunset(t):\n",
    "    t_konj = t\n",
    "    t = t.utc\n",
    "    t0 = ts.utc(t[0], t[1], t[2], t[3], t[4], t[5])\n",
    "    t1 = ts.utc(t[0], t[1], t[2]+1, t[3], t[4], t[5])\n",
    "    f = almanac.sunrise_sunset(e, var.topo)\n",
    "    t, y = almanac.find_discrete(t0, t1, f)\n",
    "    \n",
    "    for ti, yi in zip(t, y):\n",
    "        if(yi==False):\n",
    "            var.sunset.append(ti.astimezone(jkt))\n",
    "            \n",
    "            # Mendapatkan posisi Bulan\n",
    "            bulan = posisiObyek('moon', ti)\n",
    "            var.alt_bulan.append(bulan[1])\n",
    "            var.az_bulan.append(bulan[2])\n",
    "            var.jarak_bulan.append(bulan[3])\n",
    "            \n",
    "            # Mendapatkan posisi Matahari\n",
    "            matahari = posisiObyek('sun', ti)\n",
    "            var.alt_matahari.append(matahari[1])\n",
    "            var.az_matahari.append(matahari[2])\n",
    "            var.jarak_matahari.append(matahari[3])\n",
    "            \n",
    "            # Mendapatkan Elongasi\n",
    "            elong = bulan[0].separation_from(matahari[0])\n",
    "            var.elong.append(elong)\n",
    "            \n",
    "            \n",
    "            \n",
    "            moonset(ti)\n",
    "        else:\n",
    "            pass\n",
    "\n",
    "# Metode untuk mendapatkan waktu konjungsi\n",
    "def konjungsi(t0, t1):\n",
    "    t0 = ts.utc(t0)\n",
    "    t1 = ts.utc(t1)\n",
    "    f = almanac.oppositions_conjunctions(e, e['moon'])\n",
    "    t, y = almanac.find_discrete(t0, t1, f)\n",
    "    \n",
    "    for ti, yi in zip(t, y):\n",
    "        if(yi==1):\n",
    "            var.konjungsi.append(ti.astimezone(jkt))\n",
    "            \n",
    "            # Mendapatkan Waktu sunset setelah konjungsi\n",
    "            sunset(ti)\n",
    "        else:\n",
    "            pass\n"
   ]
  },
  {
   "cell_type": "code",
   "execution_count": 7,
   "metadata": {},
   "outputs": [],
   "source": [
    "# Metode untuk mendapatkan posisi toposentrik\n",
    "def find(lat, long, t0, t1):\n",
    "    clearVar()\n",
    "    \n",
    "    var.topo = Topos(lat, long)\n",
    "    print(var.topo)\n",
    "    var.loc = e['earth']+var.topo\n",
    "    \n",
    "    # Mendapatkan waktu konjungsi\n",
    "    konjungsi(t0, t1)\n",
    "    \n",
    "    usiaBulan()\n",
    "    imkanRukyat()\n",
    "    # Menampilkan hasil dalam bentuk tabel dataframe\n",
    "    tabel = list(zip(var.konjungsi, var.sunset, var.moonset, \n",
    "                     var.alt_bulan, var.az_bulan, \n",
    "                     var.alt_matahari, var.az_matahari, \n",
    "                    var.elong, var.usia_bulan, var.ir))\n",
    "    df = pd.DataFrame(tabel, columns=['Waktu Konjungsi (UTC+07)', 'Waktu Hilal (UTC+07)', 'Waktu Bulan Terbenam (UTC+07)', \n",
    "                                      'Altitude Bulan', 'Azimuth Bulan', \n",
    "                                      'Altitude Matahari', 'Azimuth Matahari', \n",
    "                                     'Elongasi', 'Usia Bulan (jam)', 'Imkan Rukyat'])\n",
    "    df.index+=1\n",
    "    display(df)"
   ]
  },
  {
   "cell_type": "code",
   "execution_count": 8,
   "metadata": {},
   "outputs": [
    {
     "data": {
      "application/vnd.jupyter.widget-view+json": {
       "model_id": "886871d1abcc4fb6a4e6e43df8f81ca7",
       "version_major": 2,
       "version_minor": 0
      },
      "text/plain": [
       "interactive(children=(Text(value='7.83305556 S', description='Latitude:'), Text(value='110.38305556 E', descri…"
      ]
     },
     "metadata": {},
     "output_type": "display_data"
    }
   ],
   "source": [
    "hari_ini = datetime.now().date()\n",
    "days_in_month = calendar.monthrange(hari_ini.year, hari_ini.month)[1]\n",
    "bulan_depan = hari_ini + timedelta(days_in_month)\n",
    "\n",
    "dari = widgets.DatePicker(value=hari_ini,\n",
    "    description='Dari:',\n",
    "    disabled=False\n",
    ")\n",
    "sampai = widgets.DatePicker(value=bulan_depan,\n",
    "    description='Sampai:',\n",
    "    disabled=False\n",
    ")\n",
    "\n",
    "lat = widgets.Text(value='7.83305556 S', description='Latitude:')\n",
    "long = widgets.Text(value='110.38305556 E', description='Longitude:')\n",
    "\n",
    "interactive(find, lat=lat, long=long, t0=dari, t1=sampai)\n"
   ]
  },
  {
   "cell_type": "code",
   "execution_count": null,
   "metadata": {},
   "outputs": [],
   "source": []
  },
  {
   "cell_type": "code",
   "execution_count": null,
   "metadata": {},
   "outputs": [],
   "source": []
  }
 ],
 "metadata": {
  "kernelspec": {
   "display_name": "Python 3",
   "language": "python",
   "name": "python3"
  },
  "language_info": {
   "codemirror_mode": {
    "name": "ipython",
    "version": 3
   },
   "file_extension": ".py",
   "mimetype": "text/x-python",
   "name": "python",
   "nbconvert_exporter": "python",
   "pygments_lexer": "ipython3",
   "version": "3.7.6"
  },
  "widgets": {
   "application/vnd.jupyter.widget-state+json": {
    "state": {
     "1a034135f9d342e091bc882345d494c1": {
      "model_module": "@jupyter-widgets/controls",
      "model_module_version": "1.5.0",
      "model_name": "TextModel",
      "state": {
       "description": "Longitude:",
       "layout": "IPY_MODEL_f7a0fdd4fb264c079f020e568a1fe6a4",
       "style": "IPY_MODEL_43fd3147c1504067b6c2d75ad006593d",
       "value": "110.38305556 E"
      }
     },
     "2271b62839254cdf9f27b148dae685fd": {
      "model_module": "@jupyter-widgets/base",
      "model_module_version": "1.2.0",
      "model_name": "LayoutModel",
      "state": {}
     },
     "267fd5b1720d4d4d8e082b74a76ad0c2": {
      "model_module": "@jupyter-widgets/controls",
      "model_module_version": "1.5.0",
      "model_name": "DatePickerModel",
      "state": {
       "description": "Dari:",
       "disabled": false,
       "layout": "IPY_MODEL_a9f302d10a4b4bdc9161d3a63af18396",
       "style": "IPY_MODEL_7dd0e65eedae41fb8f6f1af8bd7ca681",
       "value": {
        "date": 5,
        "month": 5,
        "year": 2020
       }
      }
     },
     "342a1612de874ddfb2a3b2c4014f6301": {
      "model_module": "@jupyter-widgets/base",
      "model_module_version": "1.2.0",
      "model_name": "LayoutModel",
      "state": {}
     },
     "3558d71c4f9346fb897835057f075dcb": {
      "model_module": "@jupyter-widgets/base",
      "model_module_version": "1.2.0",
      "model_name": "LayoutModel",
      "state": {}
     },
     "43fd3147c1504067b6c2d75ad006593d": {
      "model_module": "@jupyter-widgets/controls",
      "model_module_version": "1.5.0",
      "model_name": "DescriptionStyleModel",
      "state": {
       "description_width": ""
      }
     },
     "7d048c6b1b874746bff884bb603b975c": {
      "model_module": "@jupyter-widgets/controls",
      "model_module_version": "1.5.0",
      "model_name": "DescriptionStyleModel",
      "state": {
       "description_width": ""
      }
     },
     "7dd0e65eedae41fb8f6f1af8bd7ca681": {
      "model_module": "@jupyter-widgets/controls",
      "model_module_version": "1.5.0",
      "model_name": "DescriptionStyleModel",
      "state": {
       "description_width": ""
      }
     },
     "886871d1abcc4fb6a4e6e43df8f81ca7": {
      "model_module": "@jupyter-widgets/controls",
      "model_module_version": "1.5.0",
      "model_name": "VBoxModel",
      "state": {
       "_dom_classes": [
        "widget-interact"
       ],
       "children": [
        "IPY_MODEL_b58d8bae5f5c4602a316c6a99fce091e",
        "IPY_MODEL_1a034135f9d342e091bc882345d494c1",
        "IPY_MODEL_267fd5b1720d4d4d8e082b74a76ad0c2",
        "IPY_MODEL_c0b00fe1c8de4c6dbd2eb2bf781a4f14",
        "IPY_MODEL_f43f9e76cc174774b888f6c82d0e2e12"
       ],
       "layout": "IPY_MODEL_342a1612de874ddfb2a3b2c4014f6301"
      }
     },
     "a9f302d10a4b4bdc9161d3a63af18396": {
      "model_module": "@jupyter-widgets/base",
      "model_module_version": "1.2.0",
      "model_name": "LayoutModel",
      "state": {}
     },
     "b58d8bae5f5c4602a316c6a99fce091e": {
      "model_module": "@jupyter-widgets/controls",
      "model_module_version": "1.5.0",
      "model_name": "TextModel",
      "state": {
       "description": "Latitude:",
       "layout": "IPY_MODEL_fe556dbf51d74b86bfaf82b20d25ed78",
       "style": "IPY_MODEL_7d048c6b1b874746bff884bb603b975c",
       "value": "7.83305556 S"
      }
     },
     "c0b00fe1c8de4c6dbd2eb2bf781a4f14": {
      "model_module": "@jupyter-widgets/controls",
      "model_module_version": "1.5.0",
      "model_name": "DatePickerModel",
      "state": {
       "description": "Sampai:",
       "disabled": false,
       "layout": "IPY_MODEL_3558d71c4f9346fb897835057f075dcb",
       "style": "IPY_MODEL_fd1afa9c9e744c5f91b61b3addb9b1ce",
       "value": {
        "date": 31,
        "month": 9,
        "year": 2020
       }
      }
     },
     "f43f9e76cc174774b888f6c82d0e2e12": {
      "model_module": "@jupyter-widgets/output",
      "model_module_version": "1.0.0",
      "model_name": "OutputModel",
      "state": {
       "layout": "IPY_MODEL_2271b62839254cdf9f27b148dae685fd",
       "outputs": [
        {
         "name": "stdout",
         "output_type": "stream",
         "text": "Topos -07deg 49' 59.0\" N 110deg 22' 59.0\" E\n"
        },
        {
         "data": {
          "text/html": "<div>\n<style scoped>\n    .dataframe tbody tr th:only-of-type {\n        vertical-align: middle;\n    }\n\n    .dataframe tbody tr th {\n        vertical-align: top;\n    }\n\n    .dataframe thead th {\n        text-align: right;\n    }\n</style>\n<table border=\"1\" class=\"dataframe\">\n  <thead>\n    <tr style=\"text-align: right;\">\n      <th></th>\n      <th>Waktu Konjungsi (UTC+07)</th>\n      <th>Waktu Hilal (UTC+07)</th>\n      <th>Waktu Bulan Terbenam (UTC+07)</th>\n      <th>Altitude Bulan</th>\n      <th>Azimuth Bulan</th>\n      <th>Altitude Matahari</th>\n      <th>Azimuth Matahari</th>\n      <th>Elongasi</th>\n      <th>Usia Bulan (jam)</th>\n      <th>Imkan Rukyat</th>\n    </tr>\n  </thead>\n  <tbody>\n    <tr>\n      <th>1</th>\n      <td>2020-06-21 13:41:27.481000+07:00</td>\n      <td>2020-06-21 17:30:21.892000+07:00</td>\n      <td>2020-06-21 17:33:17.617000+07:00</td>\n      <td>00deg 04' 17.9\"</td>\n      <td>294deg 06' 43.4\"</td>\n      <td>-00deg 49' 59.9\"</td>\n      <td>293deg 32' 51.3\"</td>\n      <td>01deg 03' 59.6\"</td>\n      <td>0 days 03:51:50.136000</td>\n      <td>✘</td>\n    </tr>\n    <tr>\n      <th>2</th>\n      <td>2020-07-21 00:32:57.811000+07:00</td>\n      <td>2020-07-21 17:36:49.999000+07:00</td>\n      <td>2020-07-21 18:13:34.150000+07:00</td>\n      <td>07deg 31' 36.2\"</td>\n      <td>293deg 07' 24.2\"</td>\n      <td>-00deg 49' 59.9\"</td>\n      <td>290deg 24' 42.0\"</td>\n      <td>08deg 47' 11.7\"</td>\n      <td>0 days 17:40:36.339000</td>\n      <td>✔</td>\n    </tr>\n    <tr>\n      <th>3</th>\n      <td>2020-08-19 09:41:40.904000+07:00</td>\n      <td>2020-08-19 17:38:25.982000+07:00</td>\n      <td>2020-08-19 17:56:13.307000+07:00</td>\n      <td>03deg 30' 39.9\"</td>\n      <td>286deg 04' 15.8\"</td>\n      <td>-00deg 49' 59.9\"</td>\n      <td>282deg 32' 51.4\"</td>\n      <td>05deg 35' 32.7\"</td>\n      <td>0 days 08:14:32.403000</td>\n      <td>✔</td>\n    </tr>\n    <tr>\n      <th>4</th>\n      <td>2020-09-17 18:00:14.099000+07:00</td>\n      <td>2020-09-18 17:34:56.523000+07:00</td>\n      <td>2020-09-18 18:31:10.266000+07:00</td>\n      <td>12deg 51' 07.6\"</td>\n      <td>272deg 29' 09.9\"</td>\n      <td>-00deg 49' 59.9\"</td>\n      <td>271deg 30' 09.8\"</td>\n      <td>13deg 43' 12.0\"</td>\n      <td>1 days 00:30:56.167000</td>\n      <td>✔</td>\n    </tr>\n    <tr>\n      <th>5</th>\n      <td>2020-10-17 02:31:04.056000+07:00</td>\n      <td>2020-10-17 17:32:25.534000+07:00</td>\n      <td>2020-10-17 18:07:41.442000+07:00</td>\n      <td>07deg 44' 25.4\"</td>\n      <td>261deg 55' 19.1\"</td>\n      <td>-00deg 49' 59.9\"</td>\n      <td>260deg 17' 39.6\"</td>\n      <td>08deg 43' 33.3\"</td>\n      <td>0 days 15:36:37.386000</td>\n      <td>✔</td>\n    </tr>\n  </tbody>\n</table>\n</div>",
          "text/plain": "          Waktu Konjungsi (UTC+07)             Waktu Hilal (UTC+07)  \\\n1 2020-06-21 13:41:27.481000+07:00 2020-06-21 17:30:21.892000+07:00   \n2 2020-07-21 00:32:57.811000+07:00 2020-07-21 17:36:49.999000+07:00   \n3 2020-08-19 09:41:40.904000+07:00 2020-08-19 17:38:25.982000+07:00   \n4 2020-09-17 18:00:14.099000+07:00 2020-09-18 17:34:56.523000+07:00   \n5 2020-10-17 02:31:04.056000+07:00 2020-10-17 17:32:25.534000+07:00   \n\n     Waktu Bulan Terbenam (UTC+07)   Altitude Bulan     Azimuth Bulan  \\\n1 2020-06-21 17:33:17.617000+07:00  00deg 04' 17.9\"  294deg 06' 43.4\"   \n2 2020-07-21 18:13:34.150000+07:00  07deg 31' 36.2\"  293deg 07' 24.2\"   \n3 2020-08-19 17:56:13.307000+07:00  03deg 30' 39.9\"  286deg 04' 15.8\"   \n4 2020-09-18 18:31:10.266000+07:00  12deg 51' 07.6\"  272deg 29' 09.9\"   \n5 2020-10-17 18:07:41.442000+07:00  07deg 44' 25.4\"  261deg 55' 19.1\"   \n\n  Altitude Matahari  Azimuth Matahari         Elongasi       Usia Bulan (jam)  \\\n1  -00deg 49' 59.9\"  293deg 32' 51.3\"  01deg 03' 59.6\" 0 days 03:51:50.136000   \n2  -00deg 49' 59.9\"  290deg 24' 42.0\"  08deg 47' 11.7\" 0 days 17:40:36.339000   \n3  -00deg 49' 59.9\"  282deg 32' 51.4\"  05deg 35' 32.7\" 0 days 08:14:32.403000   \n4  -00deg 49' 59.9\"  271deg 30' 09.8\"  13deg 43' 12.0\" 1 days 00:30:56.167000   \n5  -00deg 49' 59.9\"  260deg 17' 39.6\"  08deg 43' 33.3\" 0 days 15:36:37.386000   \n\n  Imkan Rukyat  \n1            ✘  \n2            ✔  \n3            ✔  \n4            ✔  \n5            ✔  "
         },
         "metadata": {},
         "output_type": "display_data"
        }
       ]
      }
     },
     "f7a0fdd4fb264c079f020e568a1fe6a4": {
      "model_module": "@jupyter-widgets/base",
      "model_module_version": "1.2.0",
      "model_name": "LayoutModel",
      "state": {}
     },
     "fd1afa9c9e744c5f91b61b3addb9b1ce": {
      "model_module": "@jupyter-widgets/controls",
      "model_module_version": "1.5.0",
      "model_name": "DescriptionStyleModel",
      "state": {
       "description_width": ""
      }
     },
     "fe556dbf51d74b86bfaf82b20d25ed78": {
      "model_module": "@jupyter-widgets/base",
      "model_module_version": "1.2.0",
      "model_name": "LayoutModel",
      "state": {}
     }
    },
    "version_major": 2,
    "version_minor": 0
   }
  }
 },
 "nbformat": 4,
 "nbformat_minor": 4
}
