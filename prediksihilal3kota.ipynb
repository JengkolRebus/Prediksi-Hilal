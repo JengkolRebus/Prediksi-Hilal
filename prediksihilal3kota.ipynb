{
 "cells": [
  {
   "cell_type": "markdown",
   "metadata": {},
   "source": [
    "# Prediksi Hilal"
   ]
  },
  {
   "cell_type": "code",
   "execution_count": 1,
   "metadata": {},
   "outputs": [],
   "source": [
    "# _jengkolrebus\n",
    "# Juni, 2020\n",
    "# Curup, Bengkulu"
   ]
  },
  {
   "cell_type": "markdown",
   "metadata": {},
   "source": [
    "Koordinat kota:\n",
    "- Yogyakarta: 7.7956 S, 110.3695 E, <a href=\"https://www.google.com/search?q=koordinat+yogyakarta&rlz=1C1CHBF_enID904ID904&oq=koordinat+yogyakarta&aqs=chrome..69i57.5458j0j7&sourceid=chrome&ie=UTF-8\">sumber</a>\n",
    "- Sabang: 5.892386 N, 95.323706 E, sumber: google maps\n",
    "- Merauke: 8.499324 S, 140.404902 E, sumber: google maps"
   ]
  },
  {
   "cell_type": "code",
   "execution_count": 2,
   "metadata": {},
   "outputs": [],
   "source": [
    "from skyfield import almanac\n",
    "from skyfield.api import load, Topos\n",
    "from skyfield.units import Angle\n",
    "\n",
    "from datetime import datetime, timedelta\n",
    "from pytz import timezone\n",
    "\n",
    "from ipywidgets import widgets, interactive\n",
    "from IPython.display import display, HTML\n",
    "\n",
    "import pandas as pd\n",
    "import calendar"
   ]
  },
  {
   "cell_type": "code",
   "execution_count": 3,
   "metadata": {},
   "outputs": [],
   "source": [
    "jkt = timezone('Asia/Jakarta')\n",
    "ts = load.timescale()\n",
    "e = load('de421.bsp')\n"
   ]
  },
  {
   "cell_type": "code",
   "execution_count": 4,
   "metadata": {},
   "outputs": [],
   "source": [
    "class Var:\n",
    "    SAB = ['5.892386 N', '95.323706 E']\n",
    "    YOG = ['7.7956 S','110.3695 E']\n",
    "    MER = ['8.499324 S', '140.404902 E']\n",
    "\n",
    "    KOTA = (SAB, YOG, MER)"
   ]
  },
  {
   "cell_type": "code",
   "execution_count": 8,
   "metadata": {},
   "outputs": [],
   "source": [
    "class Find():\n",
    "    t_konjungsi = []\n",
    "    t_sunset = []\n",
    "    t_moonset = []\n",
    "    moon_alt = []\n",
    "    moon_az = []\n",
    "    sun_alt = []\n",
    "    sun_az = []\n",
    "    moon_astrometric = []\n",
    "    sun_astrometric = []\n",
    "    elong = []\n",
    "    usia_bulan = []\n",
    "    ir = []\n",
    "    \n",
    "    def __init__(self, t0, t1, topo):\n",
    "        self.t0 = t0\n",
    "        self.t1 = t1\n",
    "        self.topo = Topos(topo[0], topo[1])\n",
    "        print(self.topo)\n",
    "        self.loc = e['earth'] + self.topo\n",
    "        self.earth = e['earth']\n",
    "        self.moon = e['moon']\n",
    "        self.sun = e['sun']\n",
    "        \n",
    "    # Metode untuk membandingkan dengan Imkan Rukyat\n",
    "    def imkanRukyat(self):\n",
    "        alt = self.moon_alt\n",
    "        elong = self.elong\n",
    "        usia_bulan = self.usia_bulan\n",
    "        for i, j, k in zip(alt, elong, usia_bulan):\n",
    "            if(i.degrees >= 2 and j.degrees >= 3 and (timedelta.total_seconds(k)/3600) > 8):\n",
    "                self.ir.append(u'\\u2714')\n",
    "            else:\n",
    "                self.ir.append(u'\\u2718')\n",
    "        \n",
    "    def moonset(self, t):\n",
    "        sunset = t\n",
    "        t = t.utc\n",
    "        t0 = ts.utc(t[0], t[1], t[2], t[3], t[4], t[5])\n",
    "        t1 = ts.utc(t[0], t[1], t[2]+1, t[3]+1, t[4], t[5])\n",
    "        f = almanac.risings_and_settings(e, self.moon, self.topo)\n",
    "        t, y = almanac.find_discrete(t0, t1, f)\n",
    "\n",
    "        for ti, yi in zip(t, y):\n",
    "            if(yi==False):\n",
    "                self.t_moonset.append(ti.astimezone(jkt))\n",
    "            else:\n",
    "                pass\n",
    "    \n",
    "    def pos(self, t, obj):\n",
    "        astrometric = self.loc.at(t).observe(e[obj])\n",
    "        alt, az, d = astrometric.apparent().altaz()\n",
    "        if(obj == 'moon'):\n",
    "            self.moon_astrometric.append(astrometric)\n",
    "            self.moon_alt.append(alt)\n",
    "            self.moon_az.append(az)\n",
    "        else:\n",
    "            self.sun_astrometric.append(astrometric)\n",
    "            self.sun_alt.append(alt)\n",
    "            self.sun_az.append(az)\n",
    "    \n",
    "    def sunset(self, t):\n",
    "        t = t.utc\n",
    "        t0 = ts.utc(t[0], t[1], t[2], t[3], t[4], t[5])\n",
    "        t1 = ts.utc(t[0], t[1], t[2]+1, t[3], t[4], t[5])\n",
    "        f = almanac.sunrise_sunset(e, self.topo)\n",
    "        t, y = almanac.find_discrete(t0, t1, f)\n",
    "        for ti, yi in zip(t, y):\n",
    "            if(yi == False):\n",
    "                self.t_sunset.append(ti.astimezone(jkt))\n",
    "                self.pos(ti, 'moon')\n",
    "                self.pos(ti, 'sun')\n",
    "    \n",
    "    \n",
    "    def konjungsi(self):\n",
    "        t0 = ts.utc(self.t0)\n",
    "        t1 = ts.utc(self.t1)\n",
    "        f = almanac.oppositions_conjunctions(e, self.moon)\n",
    "        t, y = almanac.find_discrete(t0, t1, f)\n",
    "        for ti, yi in zip(t, y):\n",
    "            if(yi == 1):\n",
    "                self.t_konjungsi.append(ti.astimezone(jkt))\n",
    "                self.sunset(ti)\n",
    "                self.moonset(ti)\n",
    "            else:\n",
    "                pass\n",
    "    "
   ]
  },
  {
   "cell_type": "code",
   "execution_count": 9,
   "metadata": {},
   "outputs": [],
   "source": [
    "def result(t0, t1, i):\n",
    "    print()\n",
    "    Find.moon_astrometric.clear()\n",
    "    Find.t_konjungsi.clear()\n",
    "    Find.t_sunset.clear()\n",
    "    Find.t_moonset.clear()\n",
    "    Find.moon_alt.clear()\n",
    "    Find.moon_az.clear()\n",
    "    Find.moon_astrometric.clear()\n",
    "    Find.sun_alt.clear()\n",
    "    Find.sun_az.clear()\n",
    "    Find.sun_astrometric.clear()\n",
    "    Find.sun_alt.clear()\n",
    "    Find.elong.clear()\n",
    "    Find.usia_bulan.clear()\n",
    "    Find.ir.clear()\n",
    "    \n",
    "    f = Find(t0, t1, i)\n",
    "    \n",
    "    # Waktu Konjungsi\n",
    "    f.konjungsi()\n",
    "    \n",
    "    # Elongasi\n",
    "    for i, j in zip(f.moon_astrometric, f.sun_astrometric):\n",
    "        elong = i.separation_from(j)\n",
    "        f.elong.append(elong)\n",
    "    # Usia Bulan\n",
    "    for i, j in zip(f.t_konjungsi, f.t_moonset):\n",
    "        dt = j - i\n",
    "        f.usia_bulan.append(dt)\n",
    "            \n",
    "    # Imkan Rukyat\n",
    "    f.imkanRukyat()\n",
    "    \n",
    "    table = list(zip(f.t_konjungsi, f.t_sunset, \n",
    "                     f.moon_alt, f.moon_az, \n",
    "                     f.sun_az, f.elong, \n",
    "                     f.usia_bulan, f.ir))\n",
    "    \n",
    "    df = pd.DataFrame(table, columns=['Waktu Konjungsi', 'Waktu Sunset', \n",
    "                                     'Alt Bulan', 'Az Bulan', \n",
    "                                     'Az Matahari', 'Elongasi', \n",
    "                                      'Usia Bulan', 'Imkan Rukyat'])\n",
    "    df.index+=1\n",
    "    display(df)\n",
    "    print()\n",
    "        \n",
    "\n",
    "def repeat(t0, t1):\n",
    "    for i in Var.KOTA:\n",
    "        result(t0, t1, i)"
   ]
  },
  {
   "cell_type": "code",
   "execution_count": 10,
   "metadata": {},
   "outputs": [
    {
     "data": {
      "application/vnd.jupyter.widget-view+json": {
       "model_id": "2276cf1788184716a3c3f358da08eb3e",
       "version_major": 2,
       "version_minor": 0
      },
      "text/plain": [
       "interactive(children=(DatePicker(value=datetime.date(2020, 6, 9), description='Dari:'), DatePicker(value=datet…"
      ]
     },
     "metadata": {},
     "output_type": "display_data"
    }
   ],
   "source": [
    "hari_ini = datetime.now().date()\n",
    "days_in_month = calendar.monthrange(hari_ini.year, hari_ini.month)[1]\n",
    "bulan_depan = hari_ini + timedelta(days_in_month)\n",
    "\n",
    "dari = widgets.DatePicker(value=hari_ini,\n",
    "    description='Dari:',\n",
    "    disabled=False\n",
    ")\n",
    "sampai = widgets.DatePicker(value=bulan_depan,\n",
    "    description='Sampai:',\n",
    "    disabled=False\n",
    ")\n",
    "\n",
    "interactive(repeat, t0=dari, t1=sampai)"
   ]
  },
  {
   "cell_type": "code",
   "execution_count": null,
   "metadata": {},
   "outputs": [],
   "source": []
  },
  {
   "cell_type": "code",
   "execution_count": null,
   "metadata": {},
   "outputs": [],
   "source": []
  }
 ],
 "metadata": {
  "kernelspec": {
   "display_name": "Python 3",
   "language": "python",
   "name": "python3"
  },
  "language_info": {
   "codemirror_mode": {
    "name": "ipython",
    "version": 3
   },
   "file_extension": ".py",
   "mimetype": "text/x-python",
   "name": "python",
   "nbconvert_exporter": "python",
   "pygments_lexer": "ipython3",
   "version": "3.7.6"
  },
  "widgets": {
   "application/vnd.jupyter.widget-state+json": {
    "state": {
     "12e915149b2b4d7c9c52d5ceab744581": {
      "model_module": "@jupyter-widgets/base",
      "model_module_version": "1.2.0",
      "model_name": "LayoutModel",
      "state": {}
     },
     "2276cf1788184716a3c3f358da08eb3e": {
      "model_module": "@jupyter-widgets/controls",
      "model_module_version": "1.5.0",
      "model_name": "VBoxModel",
      "state": {
       "_dom_classes": [
        "widget-interact"
       ],
       "children": [
        "IPY_MODEL_db5d52070d6a4e2e8bce32bb0ad2579d",
        "IPY_MODEL_d0dc250df04b4343aff9534be6a19bbd",
        "IPY_MODEL_f16bad0e2c7c4d3eab63cf7a51f234b4"
       ],
       "layout": "IPY_MODEL_38ad754e007145e58bbe7c44752a6855"
      }
     },
     "38ad754e007145e58bbe7c44752a6855": {
      "model_module": "@jupyter-widgets/base",
      "model_module_version": "1.2.0",
      "model_name": "LayoutModel",
      "state": {}
     },
     "3ae60704fca645b0a9450b2e0c46ad54": {
      "model_module": "@jupyter-widgets/base",
      "model_module_version": "1.2.0",
      "model_name": "LayoutModel",
      "state": {}
     },
     "44d98e66396d4139972f16281a933568": {
      "model_module": "@jupyter-widgets/output",
      "model_module_version": "1.0.0",
      "model_name": "OutputModel",
      "state": {
       "layout": "IPY_MODEL_d67e89508f904ca181366e900c8eb285",
       "outputs": [
        {
         "name": "stdout",
         "output_type": "stream",
         "text": "\nTopos 05deg 53' 32.6\" N 95deg 19' 25.3\" E\n"
        },
        {
         "data": {
          "text/html": "<div>\n<style scoped>\n    .dataframe tbody tr th:only-of-type {\n        vertical-align: middle;\n    }\n\n    .dataframe tbody tr th {\n        vertical-align: top;\n    }\n\n    .dataframe thead th {\n        text-align: right;\n    }\n</style>\n<table border=\"1\" class=\"dataframe\">\n  <thead>\n    <tr style=\"text-align: right;\">\n      <th></th>\n      <th>Waktu Konjungsi</th>\n      <th>Waktu Sunset</th>\n      <th>Alt Bulan</th>\n      <th>Az Bulan</th>\n      <th>Az Matahari</th>\n      <th>Elongasi</th>\n      <th>Usia Bulan</th>\n      <th>Imkan Rukyat</th>\n    </tr>\n  </thead>\n  <tbody>\n    <tr>\n      <th>1</th>\n      <td>2020-06-21 13:41:27.481000+07:00</td>\n      <td>2020-06-21 18:54:31.905000+07:00</td>\n      <td>00deg 51' 37.5\"</td>\n      <td>293deg 42' 58.2\"</td>\n      <td>293deg 39' 48.8\"</td>\n      <td>01deg 41' 40.3\"</td>\n      <td>0 days 05:19:35.162000</td>\n      <td>✘</td>\n    </tr>\n    <tr>\n      <th>2</th>\n      <td>2020-07-21 00:32:57.811000+07:00</td>\n      <td>2020-07-21 18:57:30.447000+07:00</td>\n      <td>08deg 36' 53.1\"</td>\n      <td>290deg 35' 52.5\"</td>\n      <td>290deg 31' 36.5\"</td>\n      <td>09deg 26' 53.7\"</td>\n      <td>0 days 19:05:32.092000</td>\n      <td>✔</td>\n    </tr>\n    <tr>\n      <th>3</th>\n      <td>2020-08-19 09:41:40.903000+07:00</td>\n      <td>2020-08-19 18:50:55.005000+07:00</td>\n      <td>04deg 50' 06.6\"</td>\n      <td>284deg 31' 44.4\"</td>\n      <td>282deg 41' 01.1\"</td>\n      <td>05deg 57' 38.4\"</td>\n      <td>0 days 09:32:30.352000</td>\n      <td>✔</td>\n    </tr>\n    <tr>\n      <th>4</th>\n      <td>2020-09-17 18:00:14.099000+07:00</td>\n      <td>2020-09-17 18:37:12.191000+07:00</td>\n      <td>00deg 54' 59.0\"</td>\n      <td>276deg 15' 23.4\"</td>\n      <td>272deg 04' 08.1\"</td>\n      <td>04deg 32' 17.9\"</td>\n      <td>0 days 00:43:10.770000</td>\n      <td>✘</td>\n    </tr>\n    <tr>\n      <th>5</th>\n      <td>2020-10-17 02:31:04.057000+07:00</td>\n      <td>2020-10-17 18:23:24.125000+07:00</td>\n      <td>08deg 17' 05.0\"</td>\n      <td>259deg 31' 17.5\"</td>\n      <td>260deg 31' 25.2\"</td>\n      <td>09deg 10' 21.1\"</td>\n      <td>-29 days +17:02:43.623000</td>\n      <td>✘</td>\n    </tr>\n    <tr>\n      <th>6</th>\n      <td>2020-11-15 12:07:11.637000+07:00</td>\n      <td>2020-11-15 18:18:55.051000+07:00</td>\n      <td>02deg 16' 31.5\"</td>\n      <td>251deg 58' 15.9\"</td>\n      <td>251deg 19' 34.9\"</td>\n      <td>03deg 10' 29.4\"</td>\n      <td>-29 days +06:53:36.764000</td>\n      <td>✘</td>\n    </tr>\n    <tr>\n      <th>7</th>\n      <td>2020-12-14 23:16:35.068000+07:00</td>\n      <td>2020-12-15 18:27:30.344000+07:00</td>\n      <td>08deg 38' 51.5\"</td>\n      <td>243deg 39' 35.4\"</td>\n      <td>246deg 39' 39.4\"</td>\n      <td>09deg 56' 28.8\"</td>\n      <td>-30 days +19:14:48.492000</td>\n      <td>✘</td>\n    </tr>\n  </tbody>\n</table>\n</div>",
          "text/plain": "                   Waktu Konjungsi                     Waktu Sunset  \\\n1 2020-06-21 13:41:27.481000+07:00 2020-06-21 18:54:31.905000+07:00   \n2 2020-07-21 00:32:57.811000+07:00 2020-07-21 18:57:30.447000+07:00   \n3 2020-08-19 09:41:40.903000+07:00 2020-08-19 18:50:55.005000+07:00   \n4 2020-09-17 18:00:14.099000+07:00 2020-09-17 18:37:12.191000+07:00   \n5 2020-10-17 02:31:04.057000+07:00 2020-10-17 18:23:24.125000+07:00   \n6 2020-11-15 12:07:11.637000+07:00 2020-11-15 18:18:55.051000+07:00   \n7 2020-12-14 23:16:35.068000+07:00 2020-12-15 18:27:30.344000+07:00   \n\n         Alt Bulan          Az Bulan       Az Matahari         Elongasi  \\\n1  00deg 51' 37.5\"  293deg 42' 58.2\"  293deg 39' 48.8\"  01deg 41' 40.3\"   \n2  08deg 36' 53.1\"  290deg 35' 52.5\"  290deg 31' 36.5\"  09deg 26' 53.7\"   \n3  04deg 50' 06.6\"  284deg 31' 44.4\"  282deg 41' 01.1\"  05deg 57' 38.4\"   \n4  00deg 54' 59.0\"  276deg 15' 23.4\"  272deg 04' 08.1\"  04deg 32' 17.9\"   \n5  08deg 17' 05.0\"  259deg 31' 17.5\"  260deg 31' 25.2\"  09deg 10' 21.1\"   \n6  02deg 16' 31.5\"  251deg 58' 15.9\"  251deg 19' 34.9\"  03deg 10' 29.4\"   \n7  08deg 38' 51.5\"  243deg 39' 35.4\"  246deg 39' 39.4\"  09deg 56' 28.8\"   \n\n                 Usia Bulan Imkan Rukyat  \n1    0 days 05:19:35.162000            ✘  \n2    0 days 19:05:32.092000            ✔  \n3    0 days 09:32:30.352000            ✔  \n4    0 days 00:43:10.770000            ✘  \n5 -29 days +17:02:43.623000            ✘  \n6 -29 days +06:53:36.764000            ✘  \n7 -30 days +19:14:48.492000            ✘  "
         },
         "metadata": {},
         "output_type": "display_data"
        },
        {
         "name": "stdout",
         "output_type": "stream",
         "text": "\n\nTopos -07deg 47' 44.2\" N 110deg 22' 10.2\" E\n"
        },
        {
         "data": {
          "text/html": "<div>\n<style scoped>\n    .dataframe tbody tr th:only-of-type {\n        vertical-align: middle;\n    }\n\n    .dataframe tbody tr th {\n        vertical-align: top;\n    }\n\n    .dataframe thead th {\n        text-align: right;\n    }\n</style>\n<table border=\"1\" class=\"dataframe\">\n  <thead>\n    <tr style=\"text-align: right;\">\n      <th></th>\n      <th>Waktu Konjungsi</th>\n      <th>Waktu Sunset</th>\n      <th>Alt Bulan</th>\n      <th>Az Bulan</th>\n      <th>Az Matahari</th>\n      <th>Elongasi</th>\n      <th>Usia Bulan</th>\n      <th>Imkan Rukyat</th>\n    </tr>\n  </thead>\n  <tbody>\n    <tr>\n      <th>1</th>\n      <td>2020-06-21 13:41:27.481000+07:00</td>\n      <td>2020-06-21 17:30:29.101000+07:00</td>\n      <td>00deg 04' 22.9\"</td>\n      <td>294deg 06' 33.6\"</td>\n      <td>293deg 32' 45.4\"</td>\n      <td>01deg 04' 01.8\"</td>\n      <td>0 days 03:51:57.705000</td>\n      <td>✘</td>\n    </tr>\n    <tr>\n      <th>2</th>\n      <td>2020-07-21 00:32:57.811000+07:00</td>\n      <td>2020-07-21 17:36:56.629000+07:00</td>\n      <td>07deg 31' 46.6\"</td>\n      <td>293deg 06' 55.9\"</td>\n      <td>290deg 24' 37.1\"</td>\n      <td>08deg 47' 14.4\"</td>\n      <td>-29 days +17:55:53.049000</td>\n      <td>✘</td>\n    </tr>\n    <tr>\n      <th>3</th>\n      <td>2020-08-19 09:41:40.903000+07:00</td>\n      <td>2020-08-19 17:38:31.254000+07:00</td>\n      <td>03deg 30' 51.3\"</td>\n      <td>286deg 04' 00.2\"</td>\n      <td>282deg 32' 49.2\"</td>\n      <td>05deg 35' 33.2\"</td>\n      <td>-29 days +08:32:00.369000</td>\n      <td>✘</td>\n    </tr>\n    <tr>\n      <th>4</th>\n      <td>2020-09-17 18:00:14.099000+07:00</td>\n      <td>2020-09-18 17:35:00.014000+07:00</td>\n      <td>12deg 51' 11.9\"</td>\n      <td>272deg 28' 35.5\"</td>\n      <td>271deg 30' 11.2\"</td>\n      <td>13deg 43' 13.8\"</td>\n      <td>-30 days +23:56:05.189000</td>\n      <td>✘</td>\n    </tr>\n    <tr>\n      <th>5</th>\n      <td>2020-10-17 02:31:04.057000+07:00</td>\n      <td>2020-10-17 17:32:27.236000+07:00</td>\n      <td>07deg 44' 30.2\"</td>\n      <td>261deg 55' 00.9\"</td>\n      <td>260deg 17' 44.8\"</td>\n      <td>08deg 43' 33.7\"</td>\n      <td>-29 days +16:00:09.647000</td>\n      <td>✘</td>\n    </tr>\n    <tr>\n      <th>6</th>\n      <td>2020-11-15 12:07:11.637000+07:00</td>\n      <td>2020-11-15 17:37:19.846000+07:00</td>\n      <td>01deg 34' 58.5\"</td>\n      <td>252deg 46' 30.9\"</td>\n      <td>251deg 02' 42.5\"</td>\n      <td>02deg 58' 18.0\"</td>\n      <td>-29 days +06:00:31.648000</td>\n      <td>✘</td>\n    </tr>\n    <tr>\n      <th>7</th>\n      <td>2020-12-14 23:16:35.068000+07:00</td>\n      <td>2020-12-15 17:51:02.330000+07:00</td>\n      <td>08deg 43' 25.0\"</td>\n      <td>246deg 09' 18.2\"</td>\n      <td>246deg 20' 43.2\"</td>\n      <td>09deg 33' 31.3\"</td>\n      <td>-30 days +18:30:13.685000</td>\n      <td>✘</td>\n    </tr>\n  </tbody>\n</table>\n</div>",
          "text/plain": "                   Waktu Konjungsi                     Waktu Sunset  \\\n1 2020-06-21 13:41:27.481000+07:00 2020-06-21 17:30:29.101000+07:00   \n2 2020-07-21 00:32:57.811000+07:00 2020-07-21 17:36:56.629000+07:00   \n3 2020-08-19 09:41:40.903000+07:00 2020-08-19 17:38:31.254000+07:00   \n4 2020-09-17 18:00:14.099000+07:00 2020-09-18 17:35:00.014000+07:00   \n5 2020-10-17 02:31:04.057000+07:00 2020-10-17 17:32:27.236000+07:00   \n6 2020-11-15 12:07:11.637000+07:00 2020-11-15 17:37:19.846000+07:00   \n7 2020-12-14 23:16:35.068000+07:00 2020-12-15 17:51:02.330000+07:00   \n\n         Alt Bulan          Az Bulan       Az Matahari         Elongasi  \\\n1  00deg 04' 22.9\"  294deg 06' 33.6\"  293deg 32' 45.4\"  01deg 04' 01.8\"   \n2  07deg 31' 46.6\"  293deg 06' 55.9\"  290deg 24' 37.1\"  08deg 47' 14.4\"   \n3  03deg 30' 51.3\"  286deg 04' 00.2\"  282deg 32' 49.2\"  05deg 35' 33.2\"   \n4  12deg 51' 11.9\"  272deg 28' 35.5\"  271deg 30' 11.2\"  13deg 43' 13.8\"   \n5  07deg 44' 30.2\"  261deg 55' 00.9\"  260deg 17' 44.8\"  08deg 43' 33.7\"   \n6  01deg 34' 58.5\"  252deg 46' 30.9\"  251deg 02' 42.5\"  02deg 58' 18.0\"   \n7  08deg 43' 25.0\"  246deg 09' 18.2\"  246deg 20' 43.2\"  09deg 33' 31.3\"   \n\n                 Usia Bulan Imkan Rukyat  \n1    0 days 03:51:57.705000            ✘  \n2 -29 days +17:55:53.049000            ✘  \n3 -29 days +08:32:00.369000            ✘  \n4 -30 days +23:56:05.189000            ✘  \n5 -29 days +16:00:09.647000            ✘  \n6 -29 days +06:00:31.648000            ✘  \n7 -30 days +18:30:13.685000            ✘  "
         },
         "metadata": {},
         "output_type": "display_data"
        },
        {
         "name": "stdout",
         "output_type": "stream",
         "text": "\n\nTopos -08deg 29' 57.6\" N 140deg 24' 17.6\" E\n"
        },
        {
         "data": {
          "text/html": "<div>\n<style scoped>\n    .dataframe tbody tr th:only-of-type {\n        vertical-align: middle;\n    }\n\n    .dataframe tbody tr th {\n        vertical-align: top;\n    }\n\n    .dataframe thead th {\n        text-align: right;\n    }\n</style>\n<table border=\"1\" class=\"dataframe\">\n  <thead>\n    <tr style=\"text-align: right;\">\n      <th></th>\n      <th>Waktu Konjungsi</th>\n      <th>Waktu Sunset</th>\n      <th>Alt Bulan</th>\n      <th>Az Bulan</th>\n      <th>Az Matahari</th>\n      <th>Elongasi</th>\n      <th>Usia Bulan</th>\n      <th>Imkan Rukyat</th>\n    </tr>\n  </thead>\n  <tbody>\n    <tr>\n      <th>1</th>\n      <td>2020-06-21 13:41:27.481000+07:00</td>\n      <td>2020-06-21 15:29:05.080000+07:00</td>\n      <td>-00deg 55' 08.5\"</td>\n      <td>293deg 54' 54.2\"</td>\n      <td>293deg 34' 44.5\"</td>\n      <td>00deg 20' 48.3\"</td>\n      <td>1 days 02:41:11.926000</td>\n      <td>✘</td>\n    </tr>\n    <tr>\n      <th>2</th>\n      <td>2020-07-21 00:32:57.811000+07:00</td>\n      <td>2020-07-21 15:35:43.727000+07:00</td>\n      <td>06deg 24' 01.7\"</td>\n      <td>293deg 15' 17.4\"</td>\n      <td>290deg 27' 13.3\"</td>\n      <td>07deg 45' 18.9\"</td>\n      <td>0 days 15:34:29.960000</td>\n      <td>✔</td>\n    </tr>\n    <tr>\n      <th>3</th>\n      <td>2020-08-19 09:41:40.903000+07:00</td>\n      <td>2020-08-19 15:37:44.930000+07:00</td>\n      <td>02deg 20' 36.6\"</td>\n      <td>286deg 20' 53.8\"</td>\n      <td>282deg 35' 12.7\"</td>\n      <td>04deg 55' 22.2\"</td>\n      <td>0 days 06:08:48.700000</td>\n      <td>✘</td>\n    </tr>\n    <tr>\n      <th>4</th>\n      <td>2020-09-17 18:00:14.099000+07:00</td>\n      <td>2020-09-18 15:34:47.674000+07:00</td>\n      <td>11deg 41' 56.5\"</td>\n      <td>273deg 00' 40.0\"</td>\n      <td>271deg 31' 41.7\"</td>\n      <td>12deg 37' 06.5\"</td>\n      <td>0 days 22:26:04.672000</td>\n      <td>✔</td>\n    </tr>\n    <tr>\n      <th>5</th>\n      <td>2020-10-17 02:31:04.057000+07:00</td>\n      <td>2020-10-17 15:32:47.806000+07:00</td>\n      <td>06deg 34' 36.1\"</td>\n      <td>262deg 22' 03.8\"</td>\n      <td>260deg 17' 55.7\"</td>\n      <td>07deg 41' 32.1\"</td>\n      <td>0 days 13:32:04.672000</td>\n      <td>✔</td>\n    </tr>\n    <tr>\n      <th>6</th>\n      <td>2020-11-15 12:07:11.637000+07:00</td>\n      <td>2020-11-15 15:38:08.282000+07:00</td>\n      <td>00deg 24' 28.0\"</td>\n      <td>253deg 00' 09.4\"</td>\n      <td>251deg 01' 14.9\"</td>\n      <td>02deg 20' 17.8\"</td>\n      <td>0 days 03:35:14.645000</td>\n      <td>✘</td>\n    </tr>\n    <tr>\n      <th>7</th>\n      <td>2020-12-14 23:16:35.068000+07:00</td>\n      <td>2020-12-15 15:52:06.088000+07:00</td>\n      <td>07deg 36' 31.9\"</td>\n      <td>246deg 12' 48.3\"</td>\n      <td>246deg 17' 38.2\"</td>\n      <td>08deg 26' 32.9\"</td>\n      <td>0 days 17:13:20.165000</td>\n      <td>✔</td>\n    </tr>\n  </tbody>\n</table>\n</div>",
          "text/plain": "                   Waktu Konjungsi                     Waktu Sunset  \\\n1 2020-06-21 13:41:27.481000+07:00 2020-06-21 15:29:05.080000+07:00   \n2 2020-07-21 00:32:57.811000+07:00 2020-07-21 15:35:43.727000+07:00   \n3 2020-08-19 09:41:40.903000+07:00 2020-08-19 15:37:44.930000+07:00   \n4 2020-09-17 18:00:14.099000+07:00 2020-09-18 15:34:47.674000+07:00   \n5 2020-10-17 02:31:04.057000+07:00 2020-10-17 15:32:47.806000+07:00   \n6 2020-11-15 12:07:11.637000+07:00 2020-11-15 15:38:08.282000+07:00   \n7 2020-12-14 23:16:35.068000+07:00 2020-12-15 15:52:06.088000+07:00   \n\n          Alt Bulan          Az Bulan       Az Matahari         Elongasi  \\\n1  -00deg 55' 08.5\"  293deg 54' 54.2\"  293deg 34' 44.5\"  00deg 20' 48.3\"   \n2   06deg 24' 01.7\"  293deg 15' 17.4\"  290deg 27' 13.3\"  07deg 45' 18.9\"   \n3   02deg 20' 36.6\"  286deg 20' 53.8\"  282deg 35' 12.7\"  04deg 55' 22.2\"   \n4   11deg 41' 56.5\"  273deg 00' 40.0\"  271deg 31' 41.7\"  12deg 37' 06.5\"   \n5   06deg 34' 36.1\"  262deg 22' 03.8\"  260deg 17' 55.7\"  07deg 41' 32.1\"   \n6   00deg 24' 28.0\"  253deg 00' 09.4\"  251deg 01' 14.9\"  02deg 20' 17.8\"   \n7   07deg 36' 31.9\"  246deg 12' 48.3\"  246deg 17' 38.2\"  08deg 26' 32.9\"   \n\n              Usia Bulan Imkan Rukyat  \n1 1 days 02:41:11.926000            ✘  \n2 0 days 15:34:29.960000            ✔  \n3 0 days 06:08:48.700000            ✘  \n4 0 days 22:26:04.672000            ✔  \n5 0 days 13:32:04.672000            ✔  \n6 0 days 03:35:14.645000            ✘  \n7 0 days 17:13:20.165000            ✔  "
         },
         "metadata": {},
         "output_type": "display_data"
        },
        {
         "name": "stdout",
         "output_type": "stream",
         "text": "\n"
        }
       ]
      }
     },
     "4f727d47862040c1a4b5ad532d53d29c": {
      "model_module": "@jupyter-widgets/controls",
      "model_module_version": "1.5.0",
      "model_name": "DatePickerModel",
      "state": {
       "description": "Dari:",
       "disabled": false,
       "layout": "IPY_MODEL_54ed64266c4c4584926d3a4b82f271d1",
       "style": "IPY_MODEL_85f88d86b31d46aabe92f45c83de04c9",
       "value": {
        "date": 9,
        "month": 5,
        "year": 2020
       }
      }
     },
     "54ed64266c4c4584926d3a4b82f271d1": {
      "model_module": "@jupyter-widgets/base",
      "model_module_version": "1.2.0",
      "model_name": "LayoutModel",
      "state": {}
     },
     "752ea4b5af104062a9fb9c4d9b57d1fb": {
      "model_module": "@jupyter-widgets/base",
      "model_module_version": "1.2.0",
      "model_name": "LayoutModel",
      "state": {}
     },
     "85f88d86b31d46aabe92f45c83de04c9": {
      "model_module": "@jupyter-widgets/controls",
      "model_module_version": "1.5.0",
      "model_name": "DescriptionStyleModel",
      "state": {
       "description_width": ""
      }
     },
     "ab0dd938f2cb494daec3ec00ee5c51e9": {
      "model_module": "@jupyter-widgets/base",
      "model_module_version": "1.2.0",
      "model_name": "LayoutModel",
      "state": {}
     },
     "b3e0c92bb982431387b8a5f9767de0e8": {
      "model_module": "@jupyter-widgets/controls",
      "model_module_version": "1.5.0",
      "model_name": "VBoxModel",
      "state": {
       "_dom_classes": [
        "widget-interact"
       ],
       "children": [
        "IPY_MODEL_4f727d47862040c1a4b5ad532d53d29c",
        "IPY_MODEL_f2edd758b4bd45e4aece1761465bd6c9",
        "IPY_MODEL_44d98e66396d4139972f16281a933568"
       ],
       "layout": "IPY_MODEL_752ea4b5af104062a9fb9c4d9b57d1fb"
      }
     },
     "d0dc250df04b4343aff9534be6a19bbd": {
      "model_module": "@jupyter-widgets/controls",
      "model_module_version": "1.5.0",
      "model_name": "DatePickerModel",
      "state": {
       "description": "Sampai:",
       "disabled": false,
       "layout": "IPY_MODEL_3ae60704fca645b0a9450b2e0c46ad54",
       "style": "IPY_MODEL_d96a0270d98f4e6b9ee8403b614ff69d",
       "value": {
        "date": 1,
        "month": 11,
        "year": 2020
       }
      }
     },
     "d67e89508f904ca181366e900c8eb285": {
      "model_module": "@jupyter-widgets/base",
      "model_module_version": "1.2.0",
      "model_name": "LayoutModel",
      "state": {}
     },
     "d8f44db171f44c7daac9e70bfd0b3b92": {
      "model_module": "@jupyter-widgets/base",
      "model_module_version": "1.2.0",
      "model_name": "LayoutModel",
      "state": {}
     },
     "d96a0270d98f4e6b9ee8403b614ff69d": {
      "model_module": "@jupyter-widgets/controls",
      "model_module_version": "1.5.0",
      "model_name": "DescriptionStyleModel",
      "state": {
       "description_width": ""
      }
     },
     "db5d52070d6a4e2e8bce32bb0ad2579d": {
      "model_module": "@jupyter-widgets/controls",
      "model_module_version": "1.5.0",
      "model_name": "DatePickerModel",
      "state": {
       "description": "Dari:",
       "disabled": false,
       "layout": "IPY_MODEL_ab0dd938f2cb494daec3ec00ee5c51e9",
       "style": "IPY_MODEL_efc8c685d9e04452b0daca431c29935c",
       "value": {
        "date": 9,
        "month": 5,
        "year": 2020
       }
      }
     },
     "e797a39467594a00bedc187498b9ba8a": {
      "model_module": "@jupyter-widgets/controls",
      "model_module_version": "1.5.0",
      "model_name": "DescriptionStyleModel",
      "state": {
       "description_width": ""
      }
     },
     "efc8c685d9e04452b0daca431c29935c": {
      "model_module": "@jupyter-widgets/controls",
      "model_module_version": "1.5.0",
      "model_name": "DescriptionStyleModel",
      "state": {
       "description_width": ""
      }
     },
     "f16bad0e2c7c4d3eab63cf7a51f234b4": {
      "model_module": "@jupyter-widgets/output",
      "model_module_version": "1.0.0",
      "model_name": "OutputModel",
      "state": {
       "layout": "IPY_MODEL_12e915149b2b4d7c9c52d5ceab744581",
       "outputs": [
        {
         "name": "stdout",
         "output_type": "stream",
         "text": "\nTopos 05deg 53' 32.6\" N 95deg 19' 25.3\" E\n"
        },
        {
         "data": {
          "text/html": "<div>\n<style scoped>\n    .dataframe tbody tr th:only-of-type {\n        vertical-align: middle;\n    }\n\n    .dataframe tbody tr th {\n        vertical-align: top;\n    }\n\n    .dataframe thead th {\n        text-align: right;\n    }\n</style>\n<table border=\"1\" class=\"dataframe\">\n  <thead>\n    <tr style=\"text-align: right;\">\n      <th></th>\n      <th>Waktu Konjungsi</th>\n      <th>Waktu Sunset</th>\n      <th>Alt Bulan</th>\n      <th>Az Bulan</th>\n      <th>Az Matahari</th>\n      <th>Elongasi</th>\n      <th>Usia Bulan</th>\n      <th>Imkan Rukyat</th>\n    </tr>\n  </thead>\n  <tbody>\n    <tr>\n      <th>1</th>\n      <td>2020-06-21 13:41:27.481000+07:00</td>\n      <td>2020-06-21 18:54:31.905000+07:00</td>\n      <td>00deg 51' 37.5\"</td>\n      <td>293deg 42' 58.2\"</td>\n      <td>293deg 39' 48.8\"</td>\n      <td>01deg 41' 40.3\"</td>\n      <td>05:19:35.162000</td>\n      <td>✘</td>\n    </tr>\n    <tr>\n      <th>2</th>\n      <td>2020-07-21 00:32:57.810000+07:00</td>\n      <td>2020-07-21 18:57:30.447000+07:00</td>\n      <td>08deg 36' 53.1\"</td>\n      <td>290deg 35' 52.5\"</td>\n      <td>290deg 31' 36.5\"</td>\n      <td>09deg 26' 53.7\"</td>\n      <td>19:05:32.093000</td>\n      <td>✔</td>\n    </tr>\n    <tr>\n      <th>3</th>\n      <td>2020-08-19 09:41:40.904000+07:00</td>\n      <td>2020-08-19 18:50:55.005000+07:00</td>\n      <td>04deg 50' 06.6\"</td>\n      <td>284deg 31' 44.4\"</td>\n      <td>282deg 41' 01.1\"</td>\n      <td>05deg 57' 38.4\"</td>\n      <td>09:32:30.351000</td>\n      <td>✔</td>\n    </tr>\n    <tr>\n      <th>4</th>\n      <td>2020-09-17 18:00:14.099000+07:00</td>\n      <td>2020-09-17 18:37:12.191000+07:00</td>\n      <td>00deg 54' 59.0\"</td>\n      <td>276deg 15' 23.4\"</td>\n      <td>272deg 04' 08.1\"</td>\n      <td>04deg 32' 17.9\"</td>\n      <td>00:43:10.770000</td>\n      <td>✘</td>\n    </tr>\n    <tr>\n      <th>5</th>\n      <td>2020-10-17 02:31:04.056000+07:00</td>\n      <td>2020-10-17 18:23:24.125000+07:00</td>\n      <td>08deg 17' 05.0\"</td>\n      <td>259deg 31' 17.5\"</td>\n      <td>260deg 31' 25.2\"</td>\n      <td>09deg 10' 21.1\"</td>\n      <td>16:29:44.345000</td>\n      <td>✔</td>\n    </tr>\n    <tr>\n      <th>6</th>\n      <td>2020-11-15 12:07:11.638000+07:00</td>\n      <td>2020-11-15 18:18:55.051000+07:00</td>\n      <td>02deg 16' 31.5\"</td>\n      <td>251deg 58' 15.9\"</td>\n      <td>251deg 19' 34.9\"</td>\n      <td>03deg 10' 29.4\"</td>\n      <td>06:24:11.922000</td>\n      <td>✘</td>\n    </tr>\n  </tbody>\n</table>\n</div>",
          "text/plain": "                   Waktu Konjungsi                     Waktu Sunset  \\\n1 2020-06-21 13:41:27.481000+07:00 2020-06-21 18:54:31.905000+07:00   \n2 2020-07-21 00:32:57.810000+07:00 2020-07-21 18:57:30.447000+07:00   \n3 2020-08-19 09:41:40.904000+07:00 2020-08-19 18:50:55.005000+07:00   \n4 2020-09-17 18:00:14.099000+07:00 2020-09-17 18:37:12.191000+07:00   \n5 2020-10-17 02:31:04.056000+07:00 2020-10-17 18:23:24.125000+07:00   \n6 2020-11-15 12:07:11.638000+07:00 2020-11-15 18:18:55.051000+07:00   \n\n         Alt Bulan          Az Bulan       Az Matahari         Elongasi  \\\n1  00deg 51' 37.5\"  293deg 42' 58.2\"  293deg 39' 48.8\"  01deg 41' 40.3\"   \n2  08deg 36' 53.1\"  290deg 35' 52.5\"  290deg 31' 36.5\"  09deg 26' 53.7\"   \n3  04deg 50' 06.6\"  284deg 31' 44.4\"  282deg 41' 01.1\"  05deg 57' 38.4\"   \n4  00deg 54' 59.0\"  276deg 15' 23.4\"  272deg 04' 08.1\"  04deg 32' 17.9\"   \n5  08deg 17' 05.0\"  259deg 31' 17.5\"  260deg 31' 25.2\"  09deg 10' 21.1\"   \n6  02deg 16' 31.5\"  251deg 58' 15.9\"  251deg 19' 34.9\"  03deg 10' 29.4\"   \n\n       Usia Bulan Imkan Rukyat  \n1 05:19:35.162000            ✘  \n2 19:05:32.093000            ✔  \n3 09:32:30.351000            ✔  \n4 00:43:10.770000            ✘  \n5 16:29:44.345000            ✔  \n6 06:24:11.922000            ✘  "
         },
         "metadata": {},
         "output_type": "display_data"
        },
        {
         "name": "stdout",
         "output_type": "stream",
         "text": "\n\nTopos -07deg 47' 44.2\" N 110deg 22' 10.2\" E\n"
        },
        {
         "data": {
          "text/html": "<div>\n<style scoped>\n    .dataframe tbody tr th:only-of-type {\n        vertical-align: middle;\n    }\n\n    .dataframe tbody tr th {\n        vertical-align: top;\n    }\n\n    .dataframe thead th {\n        text-align: right;\n    }\n</style>\n<table border=\"1\" class=\"dataframe\">\n  <thead>\n    <tr style=\"text-align: right;\">\n      <th></th>\n      <th>Waktu Konjungsi</th>\n      <th>Waktu Sunset</th>\n      <th>Alt Bulan</th>\n      <th>Az Bulan</th>\n      <th>Az Matahari</th>\n      <th>Elongasi</th>\n      <th>Usia Bulan</th>\n      <th>Imkan Rukyat</th>\n    </tr>\n  </thead>\n  <tbody>\n    <tr>\n      <th>1</th>\n      <td>2020-06-21 13:41:27.481000+07:00</td>\n      <td>2020-06-21 17:30:29.101000+07:00</td>\n      <td>00deg 04' 22.9\"</td>\n      <td>294deg 06' 33.6\"</td>\n      <td>293deg 32' 45.4\"</td>\n      <td>01deg 04' 01.8\"</td>\n      <td>0 days 03:51:57.705000</td>\n      <td>✘</td>\n    </tr>\n    <tr>\n      <th>2</th>\n      <td>2020-07-21 00:32:57.810000+07:00</td>\n      <td>2020-07-21 17:36:56.629000+07:00</td>\n      <td>07deg 31' 46.6\"</td>\n      <td>293deg 06' 55.9\"</td>\n      <td>290deg 24' 37.1\"</td>\n      <td>08deg 47' 14.4\"</td>\n      <td>0 days 17:40:43.462000</td>\n      <td>✔</td>\n    </tr>\n    <tr>\n      <th>3</th>\n      <td>2020-08-19 09:41:40.904000+07:00</td>\n      <td>2020-08-19 17:38:31.254000+07:00</td>\n      <td>03deg 30' 51.3\"</td>\n      <td>286deg 04' 00.2\"</td>\n      <td>282deg 32' 49.2\"</td>\n      <td>05deg 35' 33.2\"</td>\n      <td>0 days 08:14:38.384000</td>\n      <td>✔</td>\n    </tr>\n    <tr>\n      <th>4</th>\n      <td>2020-09-17 18:00:14.099000+07:00</td>\n      <td>2020-09-18 17:35:00.014000+07:00</td>\n      <td>12deg 51' 11.9\"</td>\n      <td>272deg 28' 35.5\"</td>\n      <td>271deg 30' 11.2\"</td>\n      <td>13deg 43' 13.8\"</td>\n      <td>1 days 00:30:59.605000</td>\n      <td>✔</td>\n    </tr>\n    <tr>\n      <th>5</th>\n      <td>2020-10-17 02:31:04.056000+07:00</td>\n      <td>2020-10-17 17:32:27.236000+07:00</td>\n      <td>07deg 44' 30.2\"</td>\n      <td>261deg 55' 00.9\"</td>\n      <td>260deg 17' 44.8\"</td>\n      <td>08deg 43' 33.7\"</td>\n      <td>0 days 15:36:39.229000</td>\n      <td>✔</td>\n    </tr>\n    <tr>\n      <th>6</th>\n      <td>2020-11-15 12:07:11.638000+07:00</td>\n      <td>2020-11-15 17:37:19.846000+07:00</td>\n      <td>01deg 34' 58.5\"</td>\n      <td>252deg 46' 30.9\"</td>\n      <td>251deg 02' 42.5\"</td>\n      <td>02deg 58' 18.0\"</td>\n      <td>0 days 05:39:37.115000</td>\n      <td>✘</td>\n    </tr>\n  </tbody>\n</table>\n</div>",
          "text/plain": "                   Waktu Konjungsi                     Waktu Sunset  \\\n1 2020-06-21 13:41:27.481000+07:00 2020-06-21 17:30:29.101000+07:00   \n2 2020-07-21 00:32:57.810000+07:00 2020-07-21 17:36:56.629000+07:00   \n3 2020-08-19 09:41:40.904000+07:00 2020-08-19 17:38:31.254000+07:00   \n4 2020-09-17 18:00:14.099000+07:00 2020-09-18 17:35:00.014000+07:00   \n5 2020-10-17 02:31:04.056000+07:00 2020-10-17 17:32:27.236000+07:00   \n6 2020-11-15 12:07:11.638000+07:00 2020-11-15 17:37:19.846000+07:00   \n\n         Alt Bulan          Az Bulan       Az Matahari         Elongasi  \\\n1  00deg 04' 22.9\"  294deg 06' 33.6\"  293deg 32' 45.4\"  01deg 04' 01.8\"   \n2  07deg 31' 46.6\"  293deg 06' 55.9\"  290deg 24' 37.1\"  08deg 47' 14.4\"   \n3  03deg 30' 51.3\"  286deg 04' 00.2\"  282deg 32' 49.2\"  05deg 35' 33.2\"   \n4  12deg 51' 11.9\"  272deg 28' 35.5\"  271deg 30' 11.2\"  13deg 43' 13.8\"   \n5  07deg 44' 30.2\"  261deg 55' 00.9\"  260deg 17' 44.8\"  08deg 43' 33.7\"   \n6  01deg 34' 58.5\"  252deg 46' 30.9\"  251deg 02' 42.5\"  02deg 58' 18.0\"   \n\n              Usia Bulan Imkan Rukyat  \n1 0 days 03:51:57.705000            ✘  \n2 0 days 17:40:43.462000            ✔  \n3 0 days 08:14:38.384000            ✔  \n4 1 days 00:30:59.605000            ✔  \n5 0 days 15:36:39.229000            ✔  \n6 0 days 05:39:37.115000            ✘  "
         },
         "metadata": {},
         "output_type": "display_data"
        },
        {
         "name": "stdout",
         "output_type": "stream",
         "text": "\n\nTopos -08deg 29' 57.6\" N 140deg 24' 17.6\" E\n"
        },
        {
         "data": {
          "text/html": "<div>\n<style scoped>\n    .dataframe tbody tr th:only-of-type {\n        vertical-align: middle;\n    }\n\n    .dataframe tbody tr th {\n        vertical-align: top;\n    }\n\n    .dataframe thead th {\n        text-align: right;\n    }\n</style>\n<table border=\"1\" class=\"dataframe\">\n  <thead>\n    <tr style=\"text-align: right;\">\n      <th></th>\n      <th>Waktu Konjungsi</th>\n      <th>Waktu Sunset</th>\n      <th>Alt Bulan</th>\n      <th>Az Bulan</th>\n      <th>Az Matahari</th>\n      <th>Elongasi</th>\n      <th>Usia Bulan</th>\n      <th>Imkan Rukyat</th>\n    </tr>\n  </thead>\n  <tbody>\n    <tr>\n      <th>1</th>\n      <td>2020-06-21 13:41:27.481000+07:00</td>\n      <td>2020-06-21 15:29:05.080000+07:00</td>\n      <td>-00deg 55' 08.5\"</td>\n      <td>293deg 54' 54.2\"</td>\n      <td>293deg 34' 44.5\"</td>\n      <td>00deg 20' 48.3\"</td>\n      <td>01:46:00.529000</td>\n      <td>✘</td>\n    </tr>\n    <tr>\n      <th>2</th>\n      <td>2020-07-21 00:32:57.810000+07:00</td>\n      <td>2020-07-21 15:35:43.727000+07:00</td>\n      <td>06deg 24' 01.7\"</td>\n      <td>293deg 15' 17.4\"</td>\n      <td>290deg 27' 13.3\"</td>\n      <td>07deg 45' 18.9\"</td>\n      <td>15:34:29.961000</td>\n      <td>✔</td>\n    </tr>\n    <tr>\n      <th>3</th>\n      <td>2020-08-19 09:41:40.904000+07:00</td>\n      <td>2020-08-19 15:37:44.930000+07:00</td>\n      <td>02deg 20' 36.6\"</td>\n      <td>286deg 20' 53.8\"</td>\n      <td>282deg 35' 12.7\"</td>\n      <td>04deg 55' 22.2\"</td>\n      <td>06:08:48.699000</td>\n      <td>✘</td>\n    </tr>\n    <tr>\n      <th>4</th>\n      <td>2020-09-17 18:00:14.099000+07:00</td>\n      <td>2020-09-18 15:34:47.674000+07:00</td>\n      <td>11deg 41' 56.5\"</td>\n      <td>273deg 00' 40.0\"</td>\n      <td>271deg 31' 41.7\"</td>\n      <td>12deg 37' 06.5\"</td>\n      <td>22:26:04.672000</td>\n      <td>✔</td>\n    </tr>\n    <tr>\n      <th>5</th>\n      <td>2020-10-17 02:31:04.056000+07:00</td>\n      <td>2020-10-17 15:32:47.806000+07:00</td>\n      <td>06deg 34' 36.1\"</td>\n      <td>262deg 22' 03.8\"</td>\n      <td>260deg 17' 55.7\"</td>\n      <td>07deg 41' 32.1\"</td>\n      <td>13:32:04.673000</td>\n      <td>✔</td>\n    </tr>\n    <tr>\n      <th>6</th>\n      <td>2020-11-15 12:07:11.638000+07:00</td>\n      <td>2020-11-15 15:38:08.282000+07:00</td>\n      <td>00deg 24' 28.0\"</td>\n      <td>253deg 00' 09.4\"</td>\n      <td>251deg 01' 14.9\"</td>\n      <td>02deg 20' 17.8\"</td>\n      <td>03:35:14.644000</td>\n      <td>✘</td>\n    </tr>\n  </tbody>\n</table>\n</div>",
          "text/plain": "                   Waktu Konjungsi                     Waktu Sunset  \\\n1 2020-06-21 13:41:27.481000+07:00 2020-06-21 15:29:05.080000+07:00   \n2 2020-07-21 00:32:57.810000+07:00 2020-07-21 15:35:43.727000+07:00   \n3 2020-08-19 09:41:40.904000+07:00 2020-08-19 15:37:44.930000+07:00   \n4 2020-09-17 18:00:14.099000+07:00 2020-09-18 15:34:47.674000+07:00   \n5 2020-10-17 02:31:04.056000+07:00 2020-10-17 15:32:47.806000+07:00   \n6 2020-11-15 12:07:11.638000+07:00 2020-11-15 15:38:08.282000+07:00   \n\n          Alt Bulan          Az Bulan       Az Matahari         Elongasi  \\\n1  -00deg 55' 08.5\"  293deg 54' 54.2\"  293deg 34' 44.5\"  00deg 20' 48.3\"   \n2   06deg 24' 01.7\"  293deg 15' 17.4\"  290deg 27' 13.3\"  07deg 45' 18.9\"   \n3   02deg 20' 36.6\"  286deg 20' 53.8\"  282deg 35' 12.7\"  04deg 55' 22.2\"   \n4   11deg 41' 56.5\"  273deg 00' 40.0\"  271deg 31' 41.7\"  12deg 37' 06.5\"   \n5   06deg 34' 36.1\"  262deg 22' 03.8\"  260deg 17' 55.7\"  07deg 41' 32.1\"   \n6   00deg 24' 28.0\"  253deg 00' 09.4\"  251deg 01' 14.9\"  02deg 20' 17.8\"   \n\n       Usia Bulan Imkan Rukyat  \n1 01:46:00.529000            ✘  \n2 15:34:29.961000            ✔  \n3 06:08:48.699000            ✘  \n4 22:26:04.672000            ✔  \n5 13:32:04.673000            ✔  \n6 03:35:14.644000            ✘  "
         },
         "metadata": {},
         "output_type": "display_data"
        },
        {
         "name": "stdout",
         "output_type": "stream",
         "text": "\n"
        }
       ]
      }
     },
     "f2edd758b4bd45e4aece1761465bd6c9": {
      "model_module": "@jupyter-widgets/controls",
      "model_module_version": "1.5.0",
      "model_name": "DatePickerModel",
      "state": {
       "description": "Sampai:",
       "disabled": false,
       "layout": "IPY_MODEL_d8f44db171f44c7daac9e70bfd0b3b92",
       "style": "IPY_MODEL_e797a39467594a00bedc187498b9ba8a",
       "value": {
        "date": 1,
        "month": 0,
        "year": 2021
       }
      }
     }
    },
    "version_major": 2,
    "version_minor": 0
   }
  }
 },
 "nbformat": 4,
 "nbformat_minor": 4
}
