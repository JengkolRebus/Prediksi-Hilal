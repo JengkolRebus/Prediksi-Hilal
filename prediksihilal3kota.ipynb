{
 "cells": [
  {
   "cell_type": "markdown",
   "metadata": {},
   "source": [
    "# Prediksi Hilal"
   ]
  },
  {
   "cell_type": "code",
   "execution_count": 1,
   "metadata": {},
   "outputs": [],
   "source": [
    "# _jengkolrebus\n",
    "# Juni, 2020\n",
    "# Curup, Bengkulu"
   ]
  },
  {
   "cell_type": "markdown",
   "metadata": {},
   "source": [
    "Koordinat kota:\n",
    "- Yogyakarta: 7.7956 S, 110.3695 E, <a href=\"https://www.google.com/search?q=koordinat+yogyakarta&rlz=1C1CHBF_enID904ID904&oq=koordinat+yogyakarta&aqs=chrome..69i57.5458j0j7&sourceid=chrome&ie=UTF-8\">sumber</a>\n",
    "- Sabang: 5.892386 N, 95.323706 E, sumber: google maps\n",
    "- Merauke: 8.499324 S, 140.404902 E, sumber: google maps"
   ]
  },
  {
   "cell_type": "code",
   "execution_count": 2,
   "metadata": {},
   "outputs": [],
   "source": [
    "from skyfield import almanac\n",
    "from skyfield.api import load, Topos\n",
    "from skyfield.units import Angle\n",
    "\n",
    "from datetime import datetime, timedelta\n",
    "from pytz import timezone\n",
    "\n",
    "from ipywidgets import widgets, interactive\n",
    "from IPython.display import display, HTML\n",
    "\n",
    "import pandas as pd\n",
    "import calendar"
   ]
  },
  {
   "cell_type": "code",
   "execution_count": 3,
   "metadata": {},
   "outputs": [],
   "source": [
    "jkt = timezone('Asia/Jakarta')\n",
    "ts = load.timescale()\n",
    "e = load('de421.bsp')\n"
   ]
  },
  {
   "cell_type": "code",
   "execution_count": 4,
   "metadata": {},
   "outputs": [],
   "source": [
    "class Var:\n",
    "    SAB = ['5.892386 N', '95.323706 E']\n",
    "    YOG = ['7.7956 S','110.3695 E']\n",
    "    MER = ['8.499324 S', '140.404902 E']\n",
    "\n",
    "    KOTA = (SAB, YOG, MER)"
   ]
  },
  {
   "cell_type": "code",
   "execution_count": 5,
   "metadata": {},
   "outputs": [],
   "source": [
    "class Find():\n",
    "    t_konjungsi = []\n",
    "    t_sunset = []\n",
    "    t_moonset = []\n",
    "    moon_alt = []\n",
    "    moon_az = []\n",
    "    sun_alt = []\n",
    "    sun_az = []\n",
    "    moon_astrometric = []\n",
    "    sun_astrometric = []\n",
    "    elong = []\n",
    "    usia_bulan = []\n",
    "    ir = []\n",
    "    \n",
    "    def __init__(self, t0, t1, topo):\n",
    "        self.t0 = t0\n",
    "        self.t1 = t1\n",
    "        self.topo = Topos(topo[0], topo[1])\n",
    "        print(self.topo)\n",
    "        self.loc = e['earth'] + self.topo\n",
    "        self.earth = e['earth']\n",
    "        self.moon = e['moon']\n",
    "        self.sun = e['sun']\n",
    "        \n",
    "    # Metode untuk membandingkan dengan Imkan Rukyat\n",
    "    def imkanRukyat(self):\n",
    "        alt = self.moon_alt\n",
    "        elong = self.elong\n",
    "        usia_bulan = self.usia_bulan\n",
    "        for i, j, k in zip(alt, elong, usia_bulan):\n",
    "            if(i.degrees >= 2 and j.degrees >= 3 and (timedelta.total_seconds(k)/3600) > 8):\n",
    "                self.ir.append(u'\\u2714')\n",
    "            else:\n",
    "                self.ir.append(u'\\u2718')\n",
    "        \n",
    "    def moonset(self, t): \n",
    "        sunset = t\n",
    "        t = t.utc\n",
    "        t0 = ts.utc(t[0], t[1], t[2], t[3], t[4], t[5])\n",
    "        t1 = ts.utc(t[0], t[1], t[2]+1, t[3]+1, t[4], t[5])\n",
    "        f = almanac.risings_and_settings(e, self.moon, self.topo)\n",
    "        t, y = almanac.find_discrete(t0, t1, f)\n",
    "\n",
    "        for ti, yi in zip(t, y):\n",
    "            if(yi==False):\n",
    "                self.t_moonset.append(ti.astimezone(jkt))\n",
    "            else:\n",
    "                pass\n",
    "    \n",
    "    def pos(self, t, obj):\n",
    "        astrometric = self.loc.at(t).observe(e[obj])\n",
    "        alt, az, d = astrometric.apparent().altaz()\n",
    "        if(obj == 'moon'):\n",
    "            self.moon_astrometric.append(astrometric)\n",
    "            self.moon_alt.append(alt)\n",
    "            self.moon_az.append(az)\n",
    "        else:\n",
    "            self.sun_astrometric.append(astrometric)\n",
    "            self.sun_alt.append(alt)\n",
    "            self.sun_az.append(az)\n",
    "    \n",
    "    def sunset(self, t):\n",
    "        t = t.utc\n",
    "        t0 = ts.utc(t[0], t[1], t[2], t[3], t[4], t[5])\n",
    "        t1 = ts.utc(t[0], t[1], t[2]+1, t[3], t[4], t[5])\n",
    "        f = almanac.sunrise_sunset(e, self.topo)\n",
    "        t, y = almanac.find_discrete(t0, t1, f)\n",
    "        for ti, yi in zip(t, y):\n",
    "            if(yi == False):\n",
    "                self.t_sunset.append(ti.astimezone(jkt))\n",
    "                self.pos(ti, 'moon')\n",
    "                self.pos(ti, 'sun')\n",
    "    \n",
    "    \n",
    "    def konjungsi(self):\n",
    "        t0 = ts.utc(self.t0)\n",
    "        t1 = ts.utc(self.t1)\n",
    "        f = almanac.oppositions_conjunctions(e, self.moon)\n",
    "        t, y = almanac.find_discrete(t0, t1, f)\n",
    "        for ti, yi in zip(t, y):\n",
    "            if(yi == 1):\n",
    "                self.t_konjungsi.append(ti.astimezone(jkt))\n",
    "                self.sunset(ti)\n",
    "                self.moonset(ti)\n",
    "            else:\n",
    "                pass\n",
    "    "
   ]
  },
  {
   "cell_type": "code",
   "execution_count": 6,
   "metadata": {},
   "outputs": [],
   "source": [
    "def result(t0, t1, i):\n",
    "    print()\n",
    "    Find.moon_astrometric.clear()\n",
    "    Find.t_konjungsi.clear()\n",
    "    Find.t_sunset.clear()\n",
    "    Find.t_moonset.clear()\n",
    "    Find.moon_alt.clear()\n",
    "    Find.moon_az.clear()\n",
    "    Find.moon_astrometric.clear()\n",
    "    Find.sun_alt.clear()\n",
    "    Find.sun_az.clear()\n",
    "    Find.sun_astrometric.clear()\n",
    "    Find.sun_alt.clear()\n",
    "    Find.elong.clear()\n",
    "    Find.usia_bulan.clear()\n",
    "    Find.ir.clear()\n",
    "    \n",
    "    f = Find(t0, t1, i)\n",
    "    \n",
    "    # Waktu Konjungsi\n",
    "    f.konjungsi()\n",
    "    \n",
    "    # Elongasi\n",
    "    for i, j in zip(f.moon_astrometric, f.sun_astrometric):\n",
    "        elong = i.separation_from(j)\n",
    "        f.elong.append(elong)\n",
    "    # Usia Bulan\n",
    "    for i, j in zip(f.t_konjungsi, f.t_moonset):\n",
    "        dt = j - i\n",
    "#         print(type(dt))\n",
    "        f.usia_bulan.append(dt)\n",
    "            \n",
    "    # Imkan Rukyat\n",
    "    f.imkanRukyat()\n",
    "    \n",
    "    table = list(zip(f.t_konjungsi, f.t_sunset, \n",
    "                     f.moon_alt, f.moon_az, \n",
    "                     f.sun_az, f.elong, \n",
    "                     f.usia_bulan, f.ir))\n",
    "    \n",
    "    df = pd.DataFrame(table, columns=['Waktu Konjungsi', 'Waktu Sunset', \n",
    "                                     'Alt Bulan', 'Az Bulan', \n",
    "                                     'Az Matahari', 'Elongasi', \n",
    "                                      'Usia Bulan', 'Imkan Rukyat'])\n",
    "    df.index+=1\n",
    "    display(df)\n",
    "    print()\n",
    "        \n",
    "\n",
    "def repeat(t0, t1):\n",
    "    for i in Var.KOTA:\n",
    "        result(t0, t1, i)"
   ]
  },
  {
   "cell_type": "code",
   "execution_count": 7,
   "metadata": {},
   "outputs": [
    {
     "data": {
      "application/vnd.jupyter.widget-view+json": {
       "model_id": "05a5458e8cce4370ad05b6b2e884e623",
       "version_major": 2,
       "version_minor": 0
      },
      "text/plain": [
       "interactive(children=(DatePicker(value=datetime.date(2020, 12, 19), description='Dari:'), DatePicker(value=dat…"
      ]
     },
     "metadata": {},
     "output_type": "display_data"
    }
   ],
   "source": [
    "hari_ini = datetime.now().date()\n",
    "days_in_month = calendar.monthrange(hari_ini.year, hari_ini.month)[1]\n",
    "bulan_depan = hari_ini + timedelta(days_in_month)\n",
    "\n",
    "dari = widgets.DatePicker(value=hari_ini,\n",
    "    description='Dari:',\n",
    "    disabled=False\n",
    ")\n",
    "sampai = widgets.DatePicker(value=bulan_depan,\n",
    "    description='Sampai:',\n",
    "    disabled=False\n",
    ")\n",
    "\n",
    "interactive(repeat, t0=dari, t1=sampai)"
   ]
  },
  {
   "cell_type": "code",
   "execution_count": null,
   "metadata": {},
   "outputs": [],
   "source": []
  },
  {
   "cell_type": "code",
   "execution_count": null,
   "metadata": {},
   "outputs": [],
   "source": []
  }
 ],
 "metadata": {
  "kernelspec": {
   "display_name": "Python 3",
   "language": "python",
   "name": "python3"
  },
  "language_info": {
   "codemirror_mode": {
    "name": "ipython",
    "version": 3
   },
   "file_extension": ".py",
   "mimetype": "text/x-python",
   "name": "python",
   "nbconvert_exporter": "python",
   "pygments_lexer": "ipython3",
   "version": "3.7.6"
  },
  "widgets": {
   "application/vnd.jupyter.widget-state+json": {
    "state": {},
    "version_major": 2,
    "version_minor": 0
   }
  }
 },
 "nbformat": 4,
 "nbformat_minor": 4
}
