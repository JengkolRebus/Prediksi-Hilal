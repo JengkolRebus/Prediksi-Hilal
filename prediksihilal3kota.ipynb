{
 "cells": [
  {
   "cell_type": "markdown",
   "metadata": {},
   "source": [
    "# Prediksi Hilal"
   ]
  },
  {
   "cell_type": "code",
   "execution_count": null,
   "metadata": {},
   "outputs": [],
   "source": [
    "# _jengkolrebus\n",
    "# Juni, 2020\n",
    "# Curup, Bengkulu"
   ]
  },
  {
   "cell_type": "markdown",
   "metadata": {},
   "source": [
    "Koordinat kota:\n",
    "- Yogyakarta: 7.7956 S, 110.3695 E, <a href=\"https://www.google.com/search?q=koordinat+yogyakarta&rlz=1C1CHBF_enID904ID904&oq=koordinat+yogyakarta&aqs=chrome..69i57.5458j0j7&sourceid=chrome&ie=UTF-8\">sumber</a>\n",
    "- Sabang: 5.892386 N, 95.323706 E, sumber: google maps\n",
    "- Merauke: 8.499324 S, 140.404902 E, sumber: google maps"
   ]
  },
  {
   "cell_type": "code",
   "execution_count": 1,
   "metadata": {},
   "outputs": [],
   "source": [
    "from skyfield import almanac\n",
    "from skyfield.api import load, Topos\n",
    "from skyfield.units import Angle\n",
    "\n",
    "from datetime import datetime, timedelta\n",
    "from pytz import timezone\n",
    "\n",
    "from ipywidgets import widgets, interactive\n",
    "from IPython.display import display, HTML\n",
    "\n",
    "import pandas as pd\n",
    "import calendar"
   ]
  },
  {
   "cell_type": "code",
   "execution_count": 2,
   "metadata": {},
   "outputs": [],
   "source": [
    "jkt = timezone('Asia/Jakarta')\n",
    "ts = load.timescale(builtin=True)\n",
    "e = load('de421.bsp')\n"
   ]
  },
  {
   "cell_type": "code",
   "execution_count": 3,
   "metadata": {},
   "outputs": [],
   "source": [
    "class Var:\n",
    "    SAB = ['5.892386 N', '95.323706 E']\n",
    "    YOG = ['7.7956 S','110.3695 E']\n",
    "    MER = ['8.499324 S', '140.404902 E']\n",
    "\n",
    "    KOTA = (SAB, YOG, MER)"
   ]
  },
  {
   "cell_type": "code",
   "execution_count": 10,
   "metadata": {},
   "outputs": [],
   "source": [
    "class Find():\n",
    "    t_konjungsi = []\n",
    "    t_sunset = []\n",
    "    t_moonset = []\n",
    "    moon_alt = []\n",
    "    moon_az = []\n",
    "    sun_alt = []\n",
    "    sun_az = []\n",
    "    moon_astrometric = []\n",
    "    sun_astrometric = []\n",
    "    elong = []\n",
    "    usia_bulan = []\n",
    "    ir = []\n",
    "    \n",
    "    def __init__(self, t0, t1, topo):\n",
    "        self.t0 = t0\n",
    "        self.t1 = t1\n",
    "        self.topo = Topos(topo[0], topo[1])\n",
    "        print(self.topo)\n",
    "        self.loc = e['earth'] + self.topo\n",
    "        self.earth = e['earth']\n",
    "        self.moon = e['moon']\n",
    "        self.sun = e['sun']\n",
    "        \n",
    "    # Metode untuk membandingkan dengan Imkan Rukyat\n",
    "    def imkanRukyat(self):\n",
    "        alt = self.moon_alt\n",
    "        elong = self.elong\n",
    "        usia_bulan = self.usia_bulan\n",
    "        for i, j, k in zip(alt, elong, usia_bulan):\n",
    "            if(i.degrees >= 2 and j.degrees >= 3 and (timedelta.total_seconds(k)/3600) > 8):\n",
    "                self.ir.append(u'\\u2714')\n",
    "            else:\n",
    "                self.ir.append(u'\\u2718')\n",
    "        \n",
    "    def moonset(self, t): \n",
    "        sunset = t\n",
    "        t = t.utc\n",
    "        t0 = ts.utc(t[0], t[1], t[2], t[3], t[4], t[5])\n",
    "        t1 = ts.utc(t[0], t[1], t[2]+1, t[3]+1, t[4], t[5])\n",
    "        f = almanac.risings_and_settings(e, self.moon, self.topo)\n",
    "        t, y = almanac.find_discrete(t0, t1, f)\n",
    "\n",
    "        for ti, yi in zip(t, y):\n",
    "            if(yi==False):\n",
    "                self.t_moonset.append(ti.astimezone(jkt))\n",
    "            else:\n",
    "                pass\n",
    "    \n",
    "    def pos(self, t, obj):\n",
    "        astrometric = self.loc.at(t).observe(e[obj])\n",
    "        alt, az, d = astrometric.apparent().altaz()\n",
    "        if(obj == 'moon'):\n",
    "            self.moon_astrometric.append(astrometric)\n",
    "            self.moon_alt.append(alt)\n",
    "            self.moon_az.append(az)\n",
    "        else:\n",
    "            self.sun_astrometric.append(astrometric)\n",
    "            self.sun_alt.append(alt)\n",
    "            self.sun_az.append(az)\n",
    "    \n",
    "    def sunset(self, t):\n",
    "        t = t.utc\n",
    "        t0 = ts.utc(t[0], t[1], t[2], t[3], t[4], t[5])\n",
    "        t1 = ts.utc(t[0], t[1], t[2]+1, t[3], t[4], t[5])\n",
    "        f = almanac.sunrise_sunset(e, self.topo)\n",
    "        t, y = almanac.find_discrete(t0, t1, f)\n",
    "        for ti, yi in zip(t, y):\n",
    "            if(yi == False):\n",
    "                self.t_sunset.append(ti.astimezone(jkt))\n",
    "                self.pos(ti, 'moon')\n",
    "                self.pos(ti, 'sun')\n",
    "    \n",
    "    \n",
    "    def konjungsi(self):\n",
    "        t0 = ts.utc(self.t0)\n",
    "        t1 = ts.utc(self.t1)\n",
    "        f = almanac.oppositions_conjunctions(e, self.moon)\n",
    "        t, y = almanac.find_discrete(t0, t1, f)\n",
    "        for ti, yi in zip(t, y):\n",
    "            if(yi == 1):\n",
    "                self.t_konjungsi.append(ti.astimezone(jkt))\n",
    "                self.sunset(ti)\n",
    "                self.moonset(ti)\n",
    "            else:\n",
    "                pass\n",
    "            \n",
    "    def newMoon(self):\n",
    "        t0 = ts.utc(self.t0)\n",
    "        t1 = ts.utc(self.t1)\n",
    "        f = almanac.moon_phases(e)\n",
    "        t, y = almanac.find_discrete(t0, t1, f)\n",
    "        for ti, yi in zip(t, y):\n",
    "            if(yi == 1):\n",
    "                self.t_konjungsi.append(ti.astimezone(jkt))\n",
    "                self.sunset(ti)\n",
    "                self.moonset(ti)\n",
    "            else:\n",
    "                pass\n",
    "    "
   ]
  },
  {
   "cell_type": "code",
   "execution_count": 11,
   "metadata": {},
   "outputs": [],
   "source": [
    "def result(t0, t1, i):\n",
    "    print()\n",
    "    Find.moon_astrometric.clear()\n",
    "    Find.t_konjungsi.clear()\n",
    "    Find.t_sunset.clear()\n",
    "    Find.t_moonset.clear()\n",
    "    Find.moon_alt.clear()\n",
    "    Find.moon_az.clear()\n",
    "    Find.moon_astrometric.clear()\n",
    "    Find.sun_alt.clear()\n",
    "    Find.sun_az.clear()\n",
    "    Find.sun_astrometric.clear()\n",
    "    Find.sun_alt.clear()\n",
    "    Find.elong.clear()\n",
    "    Find.usia_bulan.clear()\n",
    "    Find.ir.clear()\n",
    "    \n",
    "    f = Find(t0, t1, i)\n",
    "    \n",
    "    # Waktu Konjungsi\n",
    "    f.newMoon()\n",
    "    \n",
    "    # Elongasi\n",
    "    for i, j in zip(f.moon_astrometric, f.sun_astrometric):\n",
    "        elong = i.separation_from(j)\n",
    "        f.elong.append(elong)\n",
    "    # Usia Bulan\n",
    "    for i, j in zip(f.t_konjungsi, f.t_moonset):\n",
    "        dt = j - i\n",
    "#         print(type(dt))\n",
    "        f.usia_bulan.append(dt)\n",
    "            \n",
    "    # Imkan Rukyat\n",
    "    f.imkanRukyat()\n",
    "    \n",
    "    table = list(zip(f.t_konjungsi, f.t_sunset, \n",
    "                     f.moon_alt, f.moon_az, \n",
    "                     f.sun_az, f.elong, \n",
    "                     f.usia_bulan, f.ir))\n",
    "    \n",
    "    df = pd.DataFrame(table, columns=['Waktu Konjungsi', 'Waktu Sunset', \n",
    "                                     'Alt Bulan', 'Az Bulan', \n",
    "                                     'Az Matahari', 'Elongasi', \n",
    "                                      'Usia Bulan', 'Imkan Rukyat'])\n",
    "    df.index+=1\n",
    "    display(df)\n",
    "    print()\n",
    "        \n",
    "\n",
    "def repeat(t0, t1):\n",
    "    for i in Var.KOTA:\n",
    "        result(t0, t1, i)"
   ]
  },
  {
   "cell_type": "code",
   "execution_count": 12,
   "metadata": {},
   "outputs": [
    {
     "data": {
      "application/vnd.jupyter.widget-view+json": {
       "model_id": "9e46e98616eb49729e39c85b1b2f643a",
       "version_major": 2,
       "version_minor": 0
      },
      "text/plain": [
       "interactive(children=(DatePicker(value=datetime.date(2021, 1, 5), description='Dari:'), DatePicker(value=datet…"
      ]
     },
     "metadata": {},
     "output_type": "display_data"
    }
   ],
   "source": [
    "hari_ini = datetime.now().date()\n",
    "days_in_month = calendar.monthrange(hari_ini.year, hari_ini.month)[1]\n",
    "bulan_depan = hari_ini + timedelta(days_in_month)\n",
    "\n",
    "dari = widgets.DatePicker(value=hari_ini,\n",
    "    description='Dari:',\n",
    "    disabled=False\n",
    ")\n",
    "sampai = widgets.DatePicker(value=bulan_depan,\n",
    "    description='Sampai:',\n",
    "    disabled=False\n",
    ")\n",
    "\n",
    "interactive(repeat, t0=dari, t1=sampai)"
   ]
  },
  {
   "cell_type": "code",
   "execution_count": null,
   "metadata": {},
   "outputs": [],
   "source": []
  },
  {
   "cell_type": "code",
   "execution_count": null,
   "metadata": {},
   "outputs": [],
   "source": []
  }
 ],
 "metadata": {
  "kernelspec": {
   "display_name": "Python 3",
   "language": "python",
   "name": "python3"
  },
  "language_info": {
   "codemirror_mode": {
    "name": "ipython",
    "version": 3
   },
   "file_extension": ".py",
   "mimetype": "text/x-python",
   "name": "python",
   "nbconvert_exporter": "python",
   "pygments_lexer": "ipython3",
   "version": "3.7.6"
  },
  "widgets": {
   "application/vnd.jupyter.widget-state+json": {
    "state": {
     "07f30192e0504c1790970f3b6ad3f358": {
      "model_module": "@jupyter-widgets/base",
      "model_module_version": "1.2.0",
      "model_name": "LayoutModel",
      "state": {}
     },
     "0e0acb2ff84a4d7caa27adbd826771ec": {
      "model_module": "@jupyter-widgets/controls",
      "model_module_version": "1.5.0",
      "model_name": "DatePickerModel",
      "state": {
       "description": "Sampai:",
       "disabled": false,
       "layout": "IPY_MODEL_ca1f1966d98e40d5ad93e9a283860e50",
       "style": "IPY_MODEL_de135661d3de4cd8931510eba78e2d71",
       "value": {
        "date": 5,
        "month": 11,
        "year": 2021
       }
      }
     },
     "138aad7327d24a1fa4e6161e16ce5660": {
      "model_module": "@jupyter-widgets/output",
      "model_module_version": "1.0.0",
      "model_name": "OutputModel",
      "state": {
       "layout": "IPY_MODEL_ed7068613b174121ae329e45cd1be73e",
       "outputs": [
        {
         "name": "stdout",
         "output_type": "stream",
         "text": "\nTopos 05deg 53' 32.6\" N 95deg 19' 25.3\" E\n"
        },
        {
         "ename": "AttributeError",
         "evalue": "module 'skyfield.almanac' has no attribute 'moon_phase'",
         "output_type": "error",
         "traceback": [
          "\u001b[1;31m---------------------------------------------------------------------------\u001b[0m",
          "\u001b[1;31mAttributeError\u001b[0m                            Traceback (most recent call last)",
          "\u001b[1;32mc:\\users\\khair\\appdata\\local\\programs\\python\\python37\\lib\\site-packages\\ipywidgets\\widgets\\interaction.py\u001b[0m in \u001b[0;36mupdate\u001b[1;34m(self, *args)\u001b[0m\n\u001b[0;32m    254\u001b[0m                     \u001b[0mvalue\u001b[0m \u001b[1;33m=\u001b[0m \u001b[0mwidget\u001b[0m\u001b[1;33m.\u001b[0m\u001b[0mget_interact_value\u001b[0m\u001b[1;33m(\u001b[0m\u001b[1;33m)\u001b[0m\u001b[1;33m\u001b[0m\u001b[1;33m\u001b[0m\u001b[0m\n\u001b[0;32m    255\u001b[0m                     \u001b[0mself\u001b[0m\u001b[1;33m.\u001b[0m\u001b[0mkwargs\u001b[0m\u001b[1;33m[\u001b[0m\u001b[0mwidget\u001b[0m\u001b[1;33m.\u001b[0m\u001b[0m_kwarg\u001b[0m\u001b[1;33m]\u001b[0m \u001b[1;33m=\u001b[0m \u001b[0mvalue\u001b[0m\u001b[1;33m\u001b[0m\u001b[1;33m\u001b[0m\u001b[0m\n\u001b[1;32m--> 256\u001b[1;33m                 \u001b[0mself\u001b[0m\u001b[1;33m.\u001b[0m\u001b[0mresult\u001b[0m \u001b[1;33m=\u001b[0m \u001b[0mself\u001b[0m\u001b[1;33m.\u001b[0m\u001b[0mf\u001b[0m\u001b[1;33m(\u001b[0m\u001b[1;33m**\u001b[0m\u001b[0mself\u001b[0m\u001b[1;33m.\u001b[0m\u001b[0mkwargs\u001b[0m\u001b[1;33m)\u001b[0m\u001b[1;33m\u001b[0m\u001b[1;33m\u001b[0m\u001b[0m\n\u001b[0m\u001b[0;32m    257\u001b[0m                 \u001b[0mshow_inline_matplotlib_plots\u001b[0m\u001b[1;33m(\u001b[0m\u001b[1;33m)\u001b[0m\u001b[1;33m\u001b[0m\u001b[1;33m\u001b[0m\u001b[0m\n\u001b[0;32m    258\u001b[0m                 \u001b[1;32mif\u001b[0m \u001b[0mself\u001b[0m\u001b[1;33m.\u001b[0m\u001b[0mauto_display\u001b[0m \u001b[1;32mand\u001b[0m \u001b[0mself\u001b[0m\u001b[1;33m.\u001b[0m\u001b[0mresult\u001b[0m \u001b[1;32mis\u001b[0m \u001b[1;32mnot\u001b[0m \u001b[1;32mNone\u001b[0m\u001b[1;33m:\u001b[0m\u001b[1;33m\u001b[0m\u001b[1;33m\u001b[0m\u001b[0m\n",
          "\u001b[1;32m<ipython-input-5-cdc5eff9cdc9>\u001b[0m in \u001b[0;36mrepeat\u001b[1;34m(t0, t1)\u001b[0m\n\u001b[0;32m     50\u001b[0m \u001b[1;32mdef\u001b[0m \u001b[0mrepeat\u001b[0m\u001b[1;33m(\u001b[0m\u001b[0mt0\u001b[0m\u001b[1;33m,\u001b[0m \u001b[0mt1\u001b[0m\u001b[1;33m)\u001b[0m\u001b[1;33m:\u001b[0m\u001b[1;33m\u001b[0m\u001b[1;33m\u001b[0m\u001b[0m\n\u001b[0;32m     51\u001b[0m     \u001b[1;32mfor\u001b[0m \u001b[0mi\u001b[0m \u001b[1;32min\u001b[0m \u001b[0mVar\u001b[0m\u001b[1;33m.\u001b[0m\u001b[0mKOTA\u001b[0m\u001b[1;33m:\u001b[0m\u001b[1;33m\u001b[0m\u001b[1;33m\u001b[0m\u001b[0m\n\u001b[1;32m---> 52\u001b[1;33m         \u001b[0mresult\u001b[0m\u001b[1;33m(\u001b[0m\u001b[0mt0\u001b[0m\u001b[1;33m,\u001b[0m \u001b[0mt1\u001b[0m\u001b[1;33m,\u001b[0m \u001b[0mi\u001b[0m\u001b[1;33m)\u001b[0m\u001b[1;33m\u001b[0m\u001b[1;33m\u001b[0m\u001b[0m\n\u001b[0m",
          "\u001b[1;32m<ipython-input-5-cdc5eff9cdc9>\u001b[0m in \u001b[0;36mresult\u001b[1;34m(t0, t1, i)\u001b[0m\n\u001b[0;32m     19\u001b[0m \u001b[1;33m\u001b[0m\u001b[0m\n\u001b[0;32m     20\u001b[0m     \u001b[1;31m# Waktu Konjungsi\u001b[0m\u001b[1;33m\u001b[0m\u001b[1;33m\u001b[0m\u001b[1;33m\u001b[0m\u001b[0m\n\u001b[1;32m---> 21\u001b[1;33m     \u001b[0mf\u001b[0m\u001b[1;33m.\u001b[0m\u001b[0mnewMoon\u001b[0m\u001b[1;33m(\u001b[0m\u001b[1;33m)\u001b[0m\u001b[1;33m\u001b[0m\u001b[1;33m\u001b[0m\u001b[0m\n\u001b[0m\u001b[0;32m     22\u001b[0m \u001b[1;33m\u001b[0m\u001b[0m\n\u001b[0;32m     23\u001b[0m     \u001b[1;31m# Elongasi\u001b[0m\u001b[1;33m\u001b[0m\u001b[1;33m\u001b[0m\u001b[1;33m\u001b[0m\u001b[0m\n",
          "\u001b[1;32m<ipython-input-4-dd6e0737297c>\u001b[0m in \u001b[0;36mnewMoon\u001b[1;34m(self)\u001b[0m\n\u001b[0;32m     90\u001b[0m         \u001b[0mt0\u001b[0m \u001b[1;33m=\u001b[0m \u001b[0mts\u001b[0m\u001b[1;33m.\u001b[0m\u001b[0mutc\u001b[0m\u001b[1;33m(\u001b[0m\u001b[0mself\u001b[0m\u001b[1;33m.\u001b[0m\u001b[0mt0\u001b[0m\u001b[1;33m)\u001b[0m\u001b[1;33m\u001b[0m\u001b[1;33m\u001b[0m\u001b[0m\n\u001b[0;32m     91\u001b[0m         \u001b[0mt1\u001b[0m \u001b[1;33m=\u001b[0m \u001b[0mts\u001b[0m\u001b[1;33m.\u001b[0m\u001b[0mutc\u001b[0m\u001b[1;33m(\u001b[0m\u001b[0mself\u001b[0m\u001b[1;33m.\u001b[0m\u001b[0mt1\u001b[0m\u001b[1;33m)\u001b[0m\u001b[1;33m\u001b[0m\u001b[1;33m\u001b[0m\u001b[0m\n\u001b[1;32m---> 92\u001b[1;33m         \u001b[0mf\u001b[0m \u001b[1;33m=\u001b[0m \u001b[0malmanac\u001b[0m\u001b[1;33m.\u001b[0m\u001b[0mmoon_phase\u001b[0m\u001b[1;33m(\u001b[0m\u001b[0me\u001b[0m\u001b[1;33m)\u001b[0m\u001b[1;33m\u001b[0m\u001b[1;33m\u001b[0m\u001b[0m\n\u001b[0m\u001b[0;32m     93\u001b[0m         \u001b[0mt\u001b[0m\u001b[1;33m,\u001b[0m \u001b[0my\u001b[0m \u001b[1;33m=\u001b[0m \u001b[0malmanac\u001b[0m\u001b[1;33m.\u001b[0m\u001b[0mfind_discrete\u001b[0m\u001b[1;33m(\u001b[0m\u001b[0mt0\u001b[0m\u001b[1;33m,\u001b[0m \u001b[0mt1\u001b[0m\u001b[1;33m,\u001b[0m \u001b[0mf\u001b[0m\u001b[1;33m)\u001b[0m\u001b[1;33m\u001b[0m\u001b[1;33m\u001b[0m\u001b[0m\n\u001b[0;32m     94\u001b[0m         \u001b[1;32mfor\u001b[0m \u001b[0mti\u001b[0m\u001b[1;33m,\u001b[0m \u001b[0myi\u001b[0m \u001b[1;32min\u001b[0m \u001b[0mzip\u001b[0m\u001b[1;33m(\u001b[0m\u001b[0mt\u001b[0m\u001b[1;33m,\u001b[0m \u001b[0my\u001b[0m\u001b[1;33m)\u001b[0m\u001b[1;33m:\u001b[0m\u001b[1;33m\u001b[0m\u001b[1;33m\u001b[0m\u001b[0m\n",
          "\u001b[1;31mAttributeError\u001b[0m: module 'skyfield.almanac' has no attribute 'moon_phase'"
         ]
        }
       ]
      }
     },
     "14cbc7a4ee784be9aca28a559e31698d": {
      "model_module": "@jupyter-widgets/controls",
      "model_module_version": "1.5.0",
      "model_name": "DescriptionStyleModel",
      "state": {
       "description_width": ""
      }
     },
     "1abe1fec20754df69fcb4f549d58ddd8": {
      "model_module": "@jupyter-widgets/controls",
      "model_module_version": "1.5.0",
      "model_name": "DescriptionStyleModel",
      "state": {
       "description_width": ""
      }
     },
     "405f19d37e7f4526a664d6b950a0d87e": {
      "model_module": "@jupyter-widgets/output",
      "model_module_version": "1.0.0",
      "model_name": "OutputModel",
      "state": {
       "layout": "IPY_MODEL_d0e1c152c522423383e4f73150fddb6a",
       "outputs": [
        {
         "name": "stdout",
         "output_type": "stream",
         "text": "\nTopos 05deg 53' 32.6\" N 95deg 19' 25.3\" E\n"
        },
        {
         "data": {
          "text/html": "<div>\n<style scoped>\n    .dataframe tbody tr th:only-of-type {\n        vertical-align: middle;\n    }\n\n    .dataframe tbody tr th {\n        vertical-align: top;\n    }\n\n    .dataframe thead th {\n        text-align: right;\n    }\n</style>\n<table border=\"1\" class=\"dataframe\">\n  <thead>\n    <tr style=\"text-align: right;\">\n      <th></th>\n      <th>Waktu Konjungsi</th>\n      <th>Waktu Sunset</th>\n      <th>Alt Bulan</th>\n      <th>Az Bulan</th>\n      <th>Az Matahari</th>\n      <th>Elongasi</th>\n      <th>Usia Bulan</th>\n      <th>Imkan Rukyat</th>\n    </tr>\n  </thead>\n  <tbody>\n    <tr>\n      <th>1</th>\n      <td>2021-01-21 04:01:36.776000+07:00</td>\n      <td>2021-01-21 18:45:08.051000+07:00</td>\n      <td>83deg 09' 33.7\"</td>\n      <td>39deg 36' 20.2\"</td>\n      <td>250deg 11' 25.1\"</td>\n      <td>96deg 42' 37.9\"</td>\n      <td>21:15:51.863000</td>\n      <td>✔</td>\n    </tr>\n    <tr>\n      <th>2</th>\n      <td>2021-02-20 01:47:20.120000+07:00</td>\n      <td>2021-02-20 18:51:19.678000+07:00</td>\n      <td>73deg 43' 50.9\"</td>\n      <td>15deg 14' 03.6\"</td>\n      <td>259deg 17' 21.4\"</td>\n      <td>97deg 50' 22.6\"</td>\n      <td>23:42:47.639000</td>\n      <td>✔</td>\n    </tr>\n    <tr>\n      <th>3</th>\n      <td>2021-03-21 21:40:24.976000+07:00</td>\n      <td>2021-03-22 18:49:13.548000+07:00</td>\n      <td>67deg 48' 39.2\"</td>\n      <td>26deg 11' 19.5\"</td>\n      <td>270deg 54' 58.8\"</td>\n      <td>100deg 03' 11.9\"</td>\n      <td>03:22:48.040000</td>\n      <td>✘</td>\n    </tr>\n    <tr>\n      <th>4</th>\n      <td>2021-04-20 13:58:56.515000+07:00</td>\n      <td>2021-04-20 18:45:54.733000+07:00</td>\n      <td>71deg 18' 46.8\"</td>\n      <td>16deg 42' 56.8\"</td>\n      <td>281deg 50' 24.0\"</td>\n      <td>92deg 20' 38.7\"</td>\n      <td>11:32:09.768000</td>\n      <td>✔</td>\n    </tr>\n    <tr>\n      <th>5</th>\n      <td>2021-05-20 02:12:38.051000+07:00</td>\n      <td>2021-05-20 18:47:29.728000+07:00</td>\n      <td>76deg 18' 37.0\"</td>\n      <td>55deg 24' 07.1\"</td>\n      <td>290deg 17' 13.5\"</td>\n      <td>98deg 38' 05.2\"</td>\n      <td>23:37:27.239000</td>\n      <td>✔</td>\n    </tr>\n    <tr>\n      <th>6</th>\n      <td>2021-06-18 10:54:17.196000+07:00</td>\n      <td>2021-06-18 18:53:49.405000+07:00</td>\n      <td>86deg 27' 07.0\"</td>\n      <td>126deg 06' 52.5\"</td>\n      <td>293deg 38' 28.9\"</td>\n      <td>94deg 17' 28.8\"</td>\n      <td>14:22:18.838000</td>\n      <td>✔</td>\n    </tr>\n    <tr>\n      <th>7</th>\n      <td>2021-07-17 17:10:39.583000+07:00</td>\n      <td>2021-07-17 18:57:38.966000+07:00</td>\n      <td>76deg 15' 52.0\"</td>\n      <td>200deg 38' 26.7\"</td>\n      <td>291deg 19' 05.7\"</td>\n      <td>90deg 57' 52.5\"</td>\n      <td>07:34:20.495000</td>\n      <td>✘</td>\n    </tr>\n    <tr>\n      <th>8</th>\n      <td>2021-08-15 22:19:36.141000+07:00</td>\n      <td>2021-08-16 18:52:07.476000+07:00</td>\n      <td>62deg 18' 24.9\"</td>\n      <td>170deg 12' 42.8\"</td>\n      <td>283deg 44' 14.1\"</td>\n      <td>101deg 26' 03.3\"</td>\n      <td>02:01:00.588000</td>\n      <td>✘</td>\n    </tr>\n  </tbody>\n</table>\n</div>",
          "text/plain": "                   Waktu Konjungsi                     Waktu Sunset  \\\n1 2021-01-21 04:01:36.776000+07:00 2021-01-21 18:45:08.051000+07:00   \n2 2021-02-20 01:47:20.120000+07:00 2021-02-20 18:51:19.678000+07:00   \n3 2021-03-21 21:40:24.976000+07:00 2021-03-22 18:49:13.548000+07:00   \n4 2021-04-20 13:58:56.515000+07:00 2021-04-20 18:45:54.733000+07:00   \n5 2021-05-20 02:12:38.051000+07:00 2021-05-20 18:47:29.728000+07:00   \n6 2021-06-18 10:54:17.196000+07:00 2021-06-18 18:53:49.405000+07:00   \n7 2021-07-17 17:10:39.583000+07:00 2021-07-17 18:57:38.966000+07:00   \n8 2021-08-15 22:19:36.141000+07:00 2021-08-16 18:52:07.476000+07:00   \n\n         Alt Bulan          Az Bulan       Az Matahari          Elongasi  \\\n1  83deg 09' 33.7\"   39deg 36' 20.2\"  250deg 11' 25.1\"   96deg 42' 37.9\"   \n2  73deg 43' 50.9\"   15deg 14' 03.6\"  259deg 17' 21.4\"   97deg 50' 22.6\"   \n3  67deg 48' 39.2\"   26deg 11' 19.5\"  270deg 54' 58.8\"  100deg 03' 11.9\"   \n4  71deg 18' 46.8\"   16deg 42' 56.8\"  281deg 50' 24.0\"   92deg 20' 38.7\"   \n5  76deg 18' 37.0\"   55deg 24' 07.1\"  290deg 17' 13.5\"   98deg 38' 05.2\"   \n6  86deg 27' 07.0\"  126deg 06' 52.5\"  293deg 38' 28.9\"   94deg 17' 28.8\"   \n7  76deg 15' 52.0\"  200deg 38' 26.7\"  291deg 19' 05.7\"   90deg 57' 52.5\"   \n8  62deg 18' 24.9\"  170deg 12' 42.8\"  283deg 44' 14.1\"  101deg 26' 03.3\"   \n\n       Usia Bulan Imkan Rukyat  \n1 21:15:51.863000            ✔  \n2 23:42:47.639000            ✔  \n3 03:22:48.040000            ✘  \n4 11:32:09.768000            ✔  \n5 23:37:27.239000            ✔  \n6 14:22:18.838000            ✔  \n7 07:34:20.495000            ✘  \n8 02:01:00.588000            ✘  "
         },
         "metadata": {},
         "output_type": "display_data"
        },
        {
         "name": "stdout",
         "output_type": "stream",
         "text": "\n\nTopos -07deg 47' 44.2\" N 110deg 22' 10.2\" E\n"
        },
        {
         "data": {
          "text/html": "<div>\n<style scoped>\n    .dataframe tbody tr th:only-of-type {\n        vertical-align: middle;\n    }\n\n    .dataframe tbody tr th {\n        vertical-align: top;\n    }\n\n    .dataframe thead th {\n        text-align: right;\n    }\n</style>\n<table border=\"1\" class=\"dataframe\">\n  <thead>\n    <tr style=\"text-align: right;\">\n      <th></th>\n      <th>Waktu Konjungsi</th>\n      <th>Waktu Sunset</th>\n      <th>Alt Bulan</th>\n      <th>Az Bulan</th>\n      <th>Az Matahari</th>\n      <th>Elongasi</th>\n      <th>Usia Bulan</th>\n      <th>Imkan Rukyat</th>\n    </tr>\n  </thead>\n  <tbody>\n    <tr>\n      <th>1</th>\n      <td>2021-01-21 04:01:36.776000+07:00</td>\n      <td>2021-01-21 18:04:46.336000+07:00</td>\n      <td>70deg 57' 34.4\"</td>\n      <td>357deg 20' 06.0\"</td>\n      <td>249deg 53' 19.6\"</td>\n      <td>96deg 23' 52.5\"</td>\n      <td>20:01:43.519000</td>\n      <td>✔</td>\n    </tr>\n    <tr>\n      <th>2</th>\n      <td>2021-02-20 01:47:20.120000+07:00</td>\n      <td>2021-02-20 18:01:36.528000+07:00</td>\n      <td>60deg 30' 28.0\"</td>\n      <td>02deg 47' 02.7\"</td>\n      <td>259deg 01' 47.7\"</td>\n      <td>97deg 26' 43.1\"</td>\n      <td>22:17:38.380000</td>\n      <td>✔</td>\n    </tr>\n    <tr>\n      <th>3</th>\n      <td>2021-03-21 21:40:24.976000+07:00</td>\n      <td>2021-03-22 17:48:17.054000+07:00</td>\n      <td>54deg 56' 09.3\"</td>\n      <td>16deg 15' 42.5\"</td>\n      <td>270deg 42' 11.8\"</td>\n      <td>99deg 32' 50.3\"</td>\n      <td>01:53:47.661000</td>\n      <td>✘</td>\n    </tr>\n    <tr>\n      <th>4</th>\n      <td>2021-04-20 13:58:56.515000+07:00</td>\n      <td>2021-04-20 17:34:22.582000+07:00</td>\n      <td>57deg 12' 16.1\"</td>\n      <td>13deg 37' 03.1\"</td>\n      <td>281deg 40' 00.1\"</td>\n      <td>91deg 45' 03.9\"</td>\n      <td>10:05:45.449000</td>\n      <td>✔</td>\n    </tr>\n    <tr>\n      <th>5</th>\n      <td>2021-05-20 02:12:38.051000+07:00</td>\n      <td>2021-05-20 17:27:12.255000+07:00</td>\n      <td>63deg 01' 57.1\"</td>\n      <td>36deg 08' 16.6\"</td>\n      <td>290deg 08' 49.5\"</td>\n      <td>97deg 55' 06.5\"</td>\n      <td>22:23:07.313000</td>\n      <td>✔</td>\n    </tr>\n    <tr>\n      <th>6</th>\n      <td>2021-06-18 10:54:17.196000+07:00</td>\n      <td>2021-06-18 17:29:48.164000+07:00</td>\n      <td>75deg 18' 17.2\"</td>\n      <td>34deg 20' 55.4\"</td>\n      <td>293deg 31' 20.5\"</td>\n      <td>93deg 31' 55.4\"</td>\n      <td>13:17:45.091000</td>\n      <td>✔</td>\n    </tr>\n    <tr>\n      <th>7</th>\n      <td>2021-07-17 17:10:39.583000+07:00</td>\n      <td>2021-07-17 17:36:13.236000+07:00</td>\n      <td>88deg 35' 39.0\"</td>\n      <td>355deg 29' 02.3\"</td>\n      <td>291deg 12' 10.6\"</td>\n      <td>90deg 13' 02.7\"</td>\n      <td>06:40:07.486000</td>\n      <td>✘</td>\n    </tr>\n    <tr>\n      <th>8</th>\n      <td>2021-08-15 22:19:36.141000+07:00</td>\n      <td>2021-08-16 17:38:40.049000+07:00</td>\n      <td>74deg 57' 10.2\"</td>\n      <td>151deg 51' 01.1\"</td>\n      <td>283deg 36' 13.9\"</td>\n      <td>100deg 45' 57.1\"</td>\n      <td>01:16:40.509000</td>\n      <td>✘</td>\n    </tr>\n  </tbody>\n</table>\n</div>",
          "text/plain": "                   Waktu Konjungsi                     Waktu Sunset  \\\n1 2021-01-21 04:01:36.776000+07:00 2021-01-21 18:04:46.336000+07:00   \n2 2021-02-20 01:47:20.120000+07:00 2021-02-20 18:01:36.528000+07:00   \n3 2021-03-21 21:40:24.976000+07:00 2021-03-22 17:48:17.054000+07:00   \n4 2021-04-20 13:58:56.515000+07:00 2021-04-20 17:34:22.582000+07:00   \n5 2021-05-20 02:12:38.051000+07:00 2021-05-20 17:27:12.255000+07:00   \n6 2021-06-18 10:54:17.196000+07:00 2021-06-18 17:29:48.164000+07:00   \n7 2021-07-17 17:10:39.583000+07:00 2021-07-17 17:36:13.236000+07:00   \n8 2021-08-15 22:19:36.141000+07:00 2021-08-16 17:38:40.049000+07:00   \n\n         Alt Bulan          Az Bulan       Az Matahari          Elongasi  \\\n1  70deg 57' 34.4\"  357deg 20' 06.0\"  249deg 53' 19.6\"   96deg 23' 52.5\"   \n2  60deg 30' 28.0\"   02deg 47' 02.7\"  259deg 01' 47.7\"   97deg 26' 43.1\"   \n3  54deg 56' 09.3\"   16deg 15' 42.5\"  270deg 42' 11.8\"   99deg 32' 50.3\"   \n4  57deg 12' 16.1\"   13deg 37' 03.1\"  281deg 40' 00.1\"   91deg 45' 03.9\"   \n5  63deg 01' 57.1\"   36deg 08' 16.6\"  290deg 08' 49.5\"   97deg 55' 06.5\"   \n6  75deg 18' 17.2\"   34deg 20' 55.4\"  293deg 31' 20.5\"   93deg 31' 55.4\"   \n7  88deg 35' 39.0\"  355deg 29' 02.3\"  291deg 12' 10.6\"   90deg 13' 02.7\"   \n8  74deg 57' 10.2\"  151deg 51' 01.1\"  283deg 36' 13.9\"  100deg 45' 57.1\"   \n\n       Usia Bulan Imkan Rukyat  \n1 20:01:43.519000            ✔  \n2 22:17:38.380000            ✔  \n3 01:53:47.661000            ✘  \n4 10:05:45.449000            ✔  \n5 22:23:07.313000            ✔  \n6 13:17:45.091000            ✔  \n7 06:40:07.486000            ✘  \n8 01:16:40.509000            ✘  "
         },
         "metadata": {},
         "output_type": "display_data"
        },
        {
         "name": "stdout",
         "output_type": "stream",
         "text": "\n\nTopos -08deg 29' 57.6\" N 140deg 24' 17.6\" E\n"
        },
        {
         "data": {
          "text/html": "<div>\n<style scoped>\n    .dataframe tbody tr th:only-of-type {\n        vertical-align: middle;\n    }\n\n    .dataframe tbody tr th {\n        vertical-align: top;\n    }\n\n    .dataframe thead th {\n        text-align: right;\n    }\n</style>\n<table border=\"1\" class=\"dataframe\">\n  <thead>\n    <tr style=\"text-align: right;\">\n      <th></th>\n      <th>Waktu Konjungsi</th>\n      <th>Waktu Sunset</th>\n      <th>Alt Bulan</th>\n      <th>Az Bulan</th>\n      <th>Az Matahari</th>\n      <th>Elongasi</th>\n      <th>Usia Bulan</th>\n      <th>Imkan Rukyat</th>\n    </tr>\n  </thead>\n  <tbody>\n    <tr>\n      <th>1</th>\n      <td>2021-01-21 04:01:36.776000+07:00</td>\n      <td>2021-01-21 16:05:39.806000+07:00</td>\n      <td>70deg 32' 43.9\"</td>\n      <td>354deg 05' 41.7\"</td>\n      <td>249deg 49' 19.4\"</td>\n      <td>95deg 29' 30.7\"</td>\n      <td>0 days 17:57:41.406000</td>\n      <td>✔</td>\n    </tr>\n    <tr>\n      <th>2</th>\n      <td>2021-02-20 01:47:20.120000+07:00</td>\n      <td>2021-02-20 16:02:02.830000+07:00</td>\n      <td>60deg 04' 08.5\"</td>\n      <td>00deg 40' 04.4\"</td>\n      <td>258deg 58' 10.9\"</td>\n      <td>96deg 31' 31.8\"</td>\n      <td>0 days 20:12:27.414000</td>\n      <td>✔</td>\n    </tr>\n    <tr>\n      <th>3</th>\n      <td>2021-03-21 21:40:24.976000+07:00</td>\n      <td>2021-03-22 15:48:09.156000+07:00</td>\n      <td>54deg 31' 31.8\"</td>\n      <td>14deg 22' 28.6\"</td>\n      <td>270deg 39' 39.6\"</td>\n      <td>98deg 35' 09.5\"</td>\n      <td>1 days 00:40:02.263000</td>\n      <td>✔</td>\n    </tr>\n    <tr>\n      <th>4</th>\n      <td>2021-04-20 13:58:56.515000+07:00</td>\n      <td>2021-04-20 15:33:40.932000+07:00</td>\n      <td>56deg 31' 56.1\"</td>\n      <td>11deg 46' 30.7\"</td>\n      <td>281deg 38' 53.3\"</td>\n      <td>90deg 45' 33.5\"</td>\n      <td>0 days 07:59:49.917000</td>\n      <td>✘</td>\n    </tr>\n    <tr>\n      <th>5</th>\n      <td>2021-05-20 02:12:38.051000+07:00</td>\n      <td>2021-05-20 15:26:01.500000+07:00</td>\n      <td>62deg 31' 24.1\"</td>\n      <td>33deg 30' 53.1\"</td>\n      <td>290deg 09' 20.3\"</td>\n      <td>96deg 51' 24.0\"</td>\n      <td>0 days 20:17:59.141000</td>\n      <td>✔</td>\n    </tr>\n    <tr>\n      <th>6</th>\n      <td>2021-06-18 10:54:17.196000+07:00</td>\n      <td>2021-06-18 15:28:24.311000+07:00</td>\n      <td>74deg 37' 09.3\"</td>\n      <td>29deg 45' 16.1\"</td>\n      <td>293deg 33' 12.6\"</td>\n      <td>92deg 26' 22.5\"</td>\n      <td>0 days 11:13:12.159000</td>\n      <td>✔</td>\n    </tr>\n    <tr>\n      <th>7</th>\n      <td>2021-07-17 17:10:39.583000+07:00</td>\n      <td>2021-07-18 15:35:09.100000+07:00</td>\n      <td>78deg 21' 54.6\"</td>\n      <td>107deg 03' 39.5\"</td>\n      <td>291deg 04' 07.5\"</td>\n      <td>102deg 25' 56.5\"</td>\n      <td>0 days 04:35:58.662000</td>\n      <td>✘</td>\n    </tr>\n    <tr>\n      <th>8</th>\n      <td>2021-08-15 22:19:36.141000+07:00</td>\n      <td>2021-08-16 15:37:50.307000+07:00</td>\n      <td>76deg 19' 40.5\"</td>\n      <td>153deg 09' 27.7\"</td>\n      <td>283deg 38' 40.8\"</td>\n      <td>99deg 38' 26.2\"</td>\n      <td>1 days 00:11:19.017000</td>\n      <td>✔</td>\n    </tr>\n  </tbody>\n</table>\n</div>",
          "text/plain": "                   Waktu Konjungsi                     Waktu Sunset  \\\n1 2021-01-21 04:01:36.776000+07:00 2021-01-21 16:05:39.806000+07:00   \n2 2021-02-20 01:47:20.120000+07:00 2021-02-20 16:02:02.830000+07:00   \n3 2021-03-21 21:40:24.976000+07:00 2021-03-22 15:48:09.156000+07:00   \n4 2021-04-20 13:58:56.515000+07:00 2021-04-20 15:33:40.932000+07:00   \n5 2021-05-20 02:12:38.051000+07:00 2021-05-20 15:26:01.500000+07:00   \n6 2021-06-18 10:54:17.196000+07:00 2021-06-18 15:28:24.311000+07:00   \n7 2021-07-17 17:10:39.583000+07:00 2021-07-18 15:35:09.100000+07:00   \n8 2021-08-15 22:19:36.141000+07:00 2021-08-16 15:37:50.307000+07:00   \n\n         Alt Bulan          Az Bulan       Az Matahari          Elongasi  \\\n1  70deg 32' 43.9\"  354deg 05' 41.7\"  249deg 49' 19.4\"   95deg 29' 30.7\"   \n2  60deg 04' 08.5\"   00deg 40' 04.4\"  258deg 58' 10.9\"   96deg 31' 31.8\"   \n3  54deg 31' 31.8\"   14deg 22' 28.6\"  270deg 39' 39.6\"   98deg 35' 09.5\"   \n4  56deg 31' 56.1\"   11deg 46' 30.7\"  281deg 38' 53.3\"   90deg 45' 33.5\"   \n5  62deg 31' 24.1\"   33deg 30' 53.1\"  290deg 09' 20.3\"   96deg 51' 24.0\"   \n6  74deg 37' 09.3\"   29deg 45' 16.1\"  293deg 33' 12.6\"   92deg 26' 22.5\"   \n7  78deg 21' 54.6\"  107deg 03' 39.5\"  291deg 04' 07.5\"  102deg 25' 56.5\"   \n8  76deg 19' 40.5\"  153deg 09' 27.7\"  283deg 38' 40.8\"   99deg 38' 26.2\"   \n\n              Usia Bulan Imkan Rukyat  \n1 0 days 17:57:41.406000            ✔  \n2 0 days 20:12:27.414000            ✔  \n3 1 days 00:40:02.263000            ✔  \n4 0 days 07:59:49.917000            ✘  \n5 0 days 20:17:59.141000            ✔  \n6 0 days 11:13:12.159000            ✔  \n7 0 days 04:35:58.662000            ✘  \n8 1 days 00:11:19.017000            ✔  "
         },
         "metadata": {},
         "output_type": "display_data"
        },
        {
         "name": "stdout",
         "output_type": "stream",
         "text": "\n"
        }
       ]
      }
     },
     "49fee139656c49d1b67885517e9c14c5": {
      "model_module": "@jupyter-widgets/output",
      "model_module_version": "1.0.0",
      "model_name": "OutputModel",
      "state": {
       "layout": "IPY_MODEL_dd11feb2518c4c6bb9c924a1c706d47e",
       "outputs": [
        {
         "name": "stdout",
         "output_type": "stream",
         "text": "\nTopos 05deg 53' 32.6\" N 95deg 19' 25.3\" E\n"
        },
        {
         "data": {
          "text/html": "<div>\n<style scoped>\n    .dataframe tbody tr th:only-of-type {\n        vertical-align: middle;\n    }\n\n    .dataframe tbody tr th {\n        vertical-align: top;\n    }\n\n    .dataframe thead th {\n        text-align: right;\n    }\n</style>\n<table border=\"1\" class=\"dataframe\">\n  <thead>\n    <tr style=\"text-align: right;\">\n      <th></th>\n      <th>Waktu Konjungsi</th>\n      <th>Waktu Sunset</th>\n      <th>Alt Bulan</th>\n      <th>Az Bulan</th>\n      <th>Az Matahari</th>\n      <th>Elongasi</th>\n      <th>Usia Bulan</th>\n      <th>Imkan Rukyat</th>\n    </tr>\n  </thead>\n  <tbody>\n  </tbody>\n</table>\n</div>",
          "text/plain": "Empty DataFrame\nColumns: [Waktu Konjungsi, Waktu Sunset, Alt Bulan, Az Bulan, Az Matahari, Elongasi, Usia Bulan, Imkan Rukyat]\nIndex: []"
         },
         "metadata": {},
         "output_type": "display_data"
        },
        {
         "name": "stdout",
         "output_type": "stream",
         "text": "\n\nTopos -07deg 47' 44.2\" N 110deg 22' 10.2\" E\n"
        },
        {
         "data": {
          "text/html": "<div>\n<style scoped>\n    .dataframe tbody tr th:only-of-type {\n        vertical-align: middle;\n    }\n\n    .dataframe tbody tr th {\n        vertical-align: top;\n    }\n\n    .dataframe thead th {\n        text-align: right;\n    }\n</style>\n<table border=\"1\" class=\"dataframe\">\n  <thead>\n    <tr style=\"text-align: right;\">\n      <th></th>\n      <th>Waktu Konjungsi</th>\n      <th>Waktu Sunset</th>\n      <th>Alt Bulan</th>\n      <th>Az Bulan</th>\n      <th>Az Matahari</th>\n      <th>Elongasi</th>\n      <th>Usia Bulan</th>\n      <th>Imkan Rukyat</th>\n    </tr>\n  </thead>\n  <tbody>\n  </tbody>\n</table>\n</div>",
          "text/plain": "Empty DataFrame\nColumns: [Waktu Konjungsi, Waktu Sunset, Alt Bulan, Az Bulan, Az Matahari, Elongasi, Usia Bulan, Imkan Rukyat]\nIndex: []"
         },
         "metadata": {},
         "output_type": "display_data"
        },
        {
         "name": "stdout",
         "output_type": "stream",
         "text": "\n\nTopos -08deg 29' 57.6\" N 140deg 24' 17.6\" E\n"
        },
        {
         "data": {
          "text/html": "<div>\n<style scoped>\n    .dataframe tbody tr th:only-of-type {\n        vertical-align: middle;\n    }\n\n    .dataframe tbody tr th {\n        vertical-align: top;\n    }\n\n    .dataframe thead th {\n        text-align: right;\n    }\n</style>\n<table border=\"1\" class=\"dataframe\">\n  <thead>\n    <tr style=\"text-align: right;\">\n      <th></th>\n      <th>Waktu Konjungsi</th>\n      <th>Waktu Sunset</th>\n      <th>Alt Bulan</th>\n      <th>Az Bulan</th>\n      <th>Az Matahari</th>\n      <th>Elongasi</th>\n      <th>Usia Bulan</th>\n      <th>Imkan Rukyat</th>\n    </tr>\n  </thead>\n  <tbody>\n  </tbody>\n</table>\n</div>",
          "text/plain": "Empty DataFrame\nColumns: [Waktu Konjungsi, Waktu Sunset, Alt Bulan, Az Bulan, Az Matahari, Elongasi, Usia Bulan, Imkan Rukyat]\nIndex: []"
         },
         "metadata": {},
         "output_type": "display_data"
        },
        {
         "name": "stdout",
         "output_type": "stream",
         "text": "\n"
        }
       ]
      }
     },
     "5055598088c546bc9350a75e8c872066": {
      "model_module": "@jupyter-widgets/base",
      "model_module_version": "1.2.0",
      "model_name": "LayoutModel",
      "state": {}
     },
     "65b3c93b60834688a0be832f3a430ba2": {
      "model_module": "@jupyter-widgets/controls",
      "model_module_version": "1.5.0",
      "model_name": "VBoxModel",
      "state": {
       "_dom_classes": [
        "widget-interact"
       ],
       "children": [
        "IPY_MODEL_a9f3060bb31b46f9b041969c658bdbe6",
        "IPY_MODEL_0e0acb2ff84a4d7caa27adbd826771ec",
        "IPY_MODEL_49fee139656c49d1b67885517e9c14c5"
       ],
       "layout": "IPY_MODEL_5055598088c546bc9350a75e8c872066"
      }
     },
     "75cff85f1679425b820370c19f3fcfcf": {
      "model_module": "@jupyter-widgets/base",
      "model_module_version": "1.2.0",
      "model_name": "LayoutModel",
      "state": {}
     },
     "79ea9b343c26444f8d6e37d4815ce4db": {
      "model_module": "@jupyter-widgets/controls",
      "model_module_version": "1.5.0",
      "model_name": "DescriptionStyleModel",
      "state": {
       "description_width": ""
      }
     },
     "915652c1fe99471dbd9f05892d1175d9": {
      "model_module": "@jupyter-widgets/base",
      "model_module_version": "1.2.0",
      "model_name": "LayoutModel",
      "state": {}
     },
     "93b9dbe1aa69492ebccef18b9f64464f": {
      "model_module": "@jupyter-widgets/base",
      "model_module_version": "1.2.0",
      "model_name": "LayoutModel",
      "state": {}
     },
     "9e46e98616eb49729e39c85b1b2f643a": {
      "model_module": "@jupyter-widgets/controls",
      "model_module_version": "1.5.0",
      "model_name": "VBoxModel",
      "state": {
       "_dom_classes": [
        "widget-interact"
       ],
       "children": [
        "IPY_MODEL_cdb33825645f4c16834d3624a464c0ec",
        "IPY_MODEL_ceabe3c297bc46b8ada71eab59ce1962",
        "IPY_MODEL_405f19d37e7f4526a664d6b950a0d87e"
       ],
       "layout": "IPY_MODEL_f8d840ada50c42ef9222aa6ccae91b9b"
      }
     },
     "a266bd642b284c00b21cc640725193f5": {
      "model_module": "@jupyter-widgets/controls",
      "model_module_version": "1.5.0",
      "model_name": "DescriptionStyleModel",
      "state": {
       "description_width": ""
      }
     },
     "a9f3060bb31b46f9b041969c658bdbe6": {
      "model_module": "@jupyter-widgets/controls",
      "model_module_version": "1.5.0",
      "model_name": "DatePickerModel",
      "state": {
       "description": "Dari:",
       "disabled": false,
       "layout": "IPY_MODEL_93b9dbe1aa69492ebccef18b9f64464f",
       "style": "IPY_MODEL_1abe1fec20754df69fcb4f549d58ddd8",
       "value": {
        "date": 5,
        "month": 0,
        "year": 2021
       }
      }
     },
     "b3e59279b9744f73b82c4803e8f7a68a": {
      "model_module": "@jupyter-widgets/base",
      "model_module_version": "1.2.0",
      "model_name": "LayoutModel",
      "state": {}
     },
     "b9a9ad48154d4447add29354cc1dd5e8": {
      "model_module": "@jupyter-widgets/controls",
      "model_module_version": "1.5.0",
      "model_name": "DatePickerModel",
      "state": {
       "description": "Dari:",
       "disabled": false,
       "layout": "IPY_MODEL_b3e59279b9744f73b82c4803e8f7a68a",
       "style": "IPY_MODEL_79ea9b343c26444f8d6e37d4815ce4db",
       "value": {
        "date": 5,
        "month": 0,
        "year": 2021
       }
      }
     },
     "ca1f1966d98e40d5ad93e9a283860e50": {
      "model_module": "@jupyter-widgets/base",
      "model_module_version": "1.2.0",
      "model_name": "LayoutModel",
      "state": {}
     },
     "ccd117032d7344f6aabd366dd523dd54": {
      "model_module": "@jupyter-widgets/controls",
      "model_module_version": "1.5.0",
      "model_name": "DescriptionStyleModel",
      "state": {
       "description_width": ""
      }
     },
     "cdb33825645f4c16834d3624a464c0ec": {
      "model_module": "@jupyter-widgets/controls",
      "model_module_version": "1.5.0",
      "model_name": "DatePickerModel",
      "state": {
       "description": "Dari:",
       "disabled": false,
       "layout": "IPY_MODEL_75cff85f1679425b820370c19f3fcfcf",
       "style": "IPY_MODEL_ccd117032d7344f6aabd366dd523dd54",
       "value": {
        "date": 5,
        "month": 0,
        "year": 2021
       }
      }
     },
     "ceabe3c297bc46b8ada71eab59ce1962": {
      "model_module": "@jupyter-widgets/controls",
      "model_module_version": "1.5.0",
      "model_name": "DatePickerModel",
      "state": {
       "description": "Sampai:",
       "disabled": false,
       "layout": "IPY_MODEL_f4b421499fb14b4e9d0d4eb1c4db7833",
       "style": "IPY_MODEL_14cbc7a4ee784be9aca28a559e31698d",
       "value": {
        "date": 5,
        "month": 8,
        "year": 2021
       }
      }
     },
     "d0e1c152c522423383e4f73150fddb6a": {
      "model_module": "@jupyter-widgets/base",
      "model_module_version": "1.2.0",
      "model_name": "LayoutModel",
      "state": {}
     },
     "dd11feb2518c4c6bb9c924a1c706d47e": {
      "model_module": "@jupyter-widgets/base",
      "model_module_version": "1.2.0",
      "model_name": "LayoutModel",
      "state": {}
     },
     "de135661d3de4cd8931510eba78e2d71": {
      "model_module": "@jupyter-widgets/controls",
      "model_module_version": "1.5.0",
      "model_name": "DescriptionStyleModel",
      "state": {
       "description_width": ""
      }
     },
     "ed7068613b174121ae329e45cd1be73e": {
      "model_module": "@jupyter-widgets/base",
      "model_module_version": "1.2.0",
      "model_name": "LayoutModel",
      "state": {}
     },
     "f3d4d966a8664e87a0a4214282c4715a": {
      "model_module": "@jupyter-widgets/controls",
      "model_module_version": "1.5.0",
      "model_name": "VBoxModel",
      "state": {
       "_dom_classes": [
        "widget-interact"
       ],
       "children": [
        "IPY_MODEL_b9a9ad48154d4447add29354cc1dd5e8",
        "IPY_MODEL_f8b3c8c8a31447859c3679fbfdea275f",
        "IPY_MODEL_138aad7327d24a1fa4e6161e16ce5660"
       ],
       "layout": "IPY_MODEL_07f30192e0504c1790970f3b6ad3f358"
      }
     },
     "f4b421499fb14b4e9d0d4eb1c4db7833": {
      "model_module": "@jupyter-widgets/base",
      "model_module_version": "1.2.0",
      "model_name": "LayoutModel",
      "state": {}
     },
     "f8b3c8c8a31447859c3679fbfdea275f": {
      "model_module": "@jupyter-widgets/controls",
      "model_module_version": "1.5.0",
      "model_name": "DatePickerModel",
      "state": {
       "description": "Sampai:",
       "disabled": false,
       "layout": "IPY_MODEL_915652c1fe99471dbd9f05892d1175d9",
       "style": "IPY_MODEL_a266bd642b284c00b21cc640725193f5",
       "value": {
        "date": 5,
        "month": 1,
        "year": 2021
       }
      }
     },
     "f8d840ada50c42ef9222aa6ccae91b9b": {
      "model_module": "@jupyter-widgets/base",
      "model_module_version": "1.2.0",
      "model_name": "LayoutModel",
      "state": {}
     }
    },
    "version_major": 2,
    "version_minor": 0
   }
  }
 },
 "nbformat": 4,
 "nbformat_minor": 4
}
