{
 "cells": [
  {
   "cell_type": "markdown",
   "metadata": {},
   "source": [
    "# Prediksi Hilal"
   ]
  },
  {
   "cell_type": "code",
   "execution_count": 1,
   "metadata": {},
   "outputs": [],
   "source": [
    "# _jengkolrebus\n",
    "# Juni, 2020\n",
    "# Curup, Bengkulu"
   ]
  },
  {
   "cell_type": "markdown",
   "metadata": {},
   "source": [
    "Koordinat kota:\n",
    "- Yogyakarta: 7.7956 S, 110.3695 E, <a href=\"https://www.google.com/search?q=koordinat+yogyakarta&rlz=1C1CHBF_enID904ID904&oq=koordinat+yogyakarta&aqs=chrome..69i57.5458j0j7&sourceid=chrome&ie=UTF-8\">sumber</a>\n",
    "- Sabang: 5.892386 N, 95.323706 E, sumber: google maps\n",
    "- Merauke: 8.499324 S, 140.404902 E, sumber: google maps"
   ]
  },
  {
   "cell_type": "code",
   "execution_count": 2,
   "metadata": {},
   "outputs": [],
   "source": [
    "from skyfield import almanac\n",
    "from skyfield.api import load, Topos\n",
    "from skyfield.units import Angle\n",
    "\n",
    "from datetime import datetime, timedelta\n",
    "from pytz import timezone\n",
    "\n",
    "from ipywidgets import widgets, interactive\n",
    "from IPython.display import display, HTML\n",
    "\n",
    "import pandas as pd\n",
    "import calendar"
   ]
  },
  {
   "cell_type": "code",
   "execution_count": 3,
   "metadata": {},
   "outputs": [],
   "source": [
    "jkt = timezone('Asia/Jakarta')\n",
    "ts = load.timescale()\n",
    "e = load('de421.bsp')\n"
   ]
  },
  {
   "cell_type": "code",
   "execution_count": 4,
   "metadata": {},
   "outputs": [],
   "source": [
    "class Var:\n",
    "    SAB = ['5.892386 N', '95.323706 E']\n",
    "    YOG = ['7.7956 S','110.3695 E']\n",
    "    MER = ['8.499324 S', '140.404902 E']\n",
    "\n",
    "    KOTA = (SAB, YOG, MER)"
   ]
  },
  {
   "cell_type": "code",
   "execution_count": 10,
   "metadata": {},
   "outputs": [],
   "source": [
    "class Find():\n",
    "    t_konjungsi = []\n",
    "    t_sunset = []\n",
    "    t_moonset = []\n",
    "    moon_alt = []\n",
    "    moon_az = []\n",
    "    sun_alt = []\n",
    "    sun_az = []\n",
    "    moon_astrometric = []\n",
    "    sun_astrometric = []\n",
    "    elong = []\n",
    "    usia_bulan = []\n",
    "    ir = []\n",
    "    \n",
    "    def __init__(self, t0, t1, topo):\n",
    "        self.t0 = t0\n",
    "        self.t1 = t1\n",
    "        self.topo = Topos(topo[0], topo[1])\n",
    "        print(self.topo)\n",
    "        self.loc = e['earth'] + self.topo\n",
    "        self.earth = e['earth']\n",
    "        self.moon = e['moon']\n",
    "        self.sun = e['sun']\n",
    "        \n",
    "    # Metode untuk membandingkan dengan Imkan Rukyat\n",
    "    def imkanRukyat(self):\n",
    "        alt = self.moon_alt\n",
    "        elong = self.elong\n",
    "        usia_bulan = self.usia_bulan\n",
    "        for i, j, k in zip(alt, elong, usia_bulan):\n",
    "            if(i.degrees >= 2 and j.degrees >= 3 and (timedelta.total_seconds(k)/3600) > 8):\n",
    "                self.ir.append(u'\\u2714')\n",
    "            else:\n",
    "                self.ir.append(u'\\u2718')\n",
    "        \n",
    "    def moonset(self, t):\n",
    "        sunset = t\n",
    "        t = t.utc\n",
    "        t0 = ts.utc(t[0], t[1], t[2], t[3], t[4], t[5])\n",
    "        t1 = ts.utc(t[0], t[1], t[2]+1, t[3]+1, t[4], t[5])\n",
    "        f = almanac.risings_and_settings(e, self.moon, self.topo)\n",
    "        t, y = almanac.find_discrete(t0, t1, f)\n",
    "\n",
    "        for ti, yi in zip(t, y):\n",
    "            if(yi==False):\n",
    "                self.t_moonset.append(ti.astimezone(jkt))\n",
    "            else:\n",
    "                pass\n",
    "    \n",
    "    def pos(self, t, obj):\n",
    "        astrometric = self.loc.at(t).observe(e[obj])\n",
    "        alt, az, d = astrometric.apparent().altaz()\n",
    "        if(obj == 'moon'):\n",
    "            self.moon_astrometric.append(astrometric)\n",
    "            self.moon_alt.append(alt)\n",
    "            self.moon_az.append(az)\n",
    "        else:\n",
    "            self.sun_astrometric.append(astrometric)\n",
    "            self.sun_alt.append(alt)\n",
    "            self.sun_az.append(az)\n",
    "    \n",
    "    def sunset(self, t):\n",
    "        t = t.utc\n",
    "        t0 = ts.utc(t[0], t[1], t[2], t[3], t[4], t[5])\n",
    "        t1 = ts.utc(t[0], t[1], t[2]+1, t[3], t[4], t[5])\n",
    "        f = almanac.sunrise_sunset(e, self.topo)\n",
    "        t, y = almanac.find_discrete(t0, t1, f)\n",
    "        for ti, yi in zip(t, y):\n",
    "            if(yi == False):\n",
    "                self.t_sunset.append(ti.astimezone(jkt))\n",
    "                self.moonset(ti)\n",
    "                self.pos(ti, 'moon')\n",
    "                self.pos(ti, 'sun')\n",
    "    \n",
    "    \n",
    "    def konjungsi(self):\n",
    "        t0 = ts.utc(self.t0)\n",
    "        t1 = ts.utc(self.t1)\n",
    "        f = almanac.oppositions_conjunctions(e, self.moon)\n",
    "        t, y = almanac.find_discrete(t0, t1, f)\n",
    "        for ti, yi in zip(t, y):\n",
    "            if(yi == 1):\n",
    "                self.t_konjungsi.append(ti.astimezone(jkt))\n",
    "                self.sunset(ti)\n",
    "            else:\n",
    "                pass\n",
    "    "
   ]
  },
  {
   "cell_type": "code",
   "execution_count": 13,
   "metadata": {},
   "outputs": [],
   "source": [
    "def result(t0, t1, i):\n",
    "    print()\n",
    "    Find.moon_astrometric.clear()\n",
    "    Find.t_konjungsi.clear()\n",
    "    Find.t_sunset.clear()\n",
    "    Find.t_moonset.clear()\n",
    "    Find.moon_alt.clear()\n",
    "    Find.moon_az.clear()\n",
    "    Find.moon_astrometric.clear()\n",
    "    Find.sun_alt.clear()\n",
    "    Find.sun_az.clear()\n",
    "    Find.sun_astrometric.clear()\n",
    "    Find.sun_alt.clear()\n",
    "    Find.elong.clear()\n",
    "    Find.usia_bulan.clear()\n",
    "    Find.ir.clear()\n",
    "    \n",
    "    f = Find(t0, t1, i)\n",
    "    \n",
    "    # Waktu Konjungsi\n",
    "    f.konjungsi()\n",
    "    \n",
    "    # Elongasi\n",
    "    for i, j in zip(f.moon_astrometric, f.sun_astrometric):\n",
    "        elong = i.separation_from(j)\n",
    "        f.elong.append(elong)\n",
    "    # Usia Bulan\n",
    "    for i, j in zip(f.t_konjungsi, f.t_moonset):\n",
    "        dt = j - i\n",
    "        f.usia_bulan.append(dt)\n",
    "            \n",
    "    # Imkan Rukyat\n",
    "    f.imkanRukyat()\n",
    "    \n",
    "    table = list(zip(f.t_konjungsi, f.t_sunset, \n",
    "                     f.moon_alt, f.moon_az, \n",
    "                     f.sun_az, f.elong, \n",
    "                     f.usia_bulan, f.ir))\n",
    "    \n",
    "    df = pd.DataFrame(table, columns=['Waktu Konjungsi', 'Waktu Sunset', \n",
    "                                     'Alt Bulan', 'Az Bulan', \n",
    "                                     'Az Matahari', 'Elongasi', \n",
    "                                      'Usia Bulan', 'Imkan Rukyat'])\n",
    "    df.index+=1\n",
    "    display(df)\n",
    "    print()\n",
    "        \n",
    "\n",
    "def repeat(t0, t1):\n",
    "    for i in Var.KOTA:\n",
    "        result(t0, t1, i)"
   ]
  },
  {
   "cell_type": "code",
   "execution_count": 14,
   "metadata": {},
   "outputs": [
    {
     "data": {
      "application/vnd.jupyter.widget-view+json": {
       "model_id": "13d453d53bba47239a76a632f850bdbe",
       "version_major": 2,
       "version_minor": 0
      },
      "text/plain": [
       "interactive(children=(DatePicker(value=datetime.date(2020, 6, 9), description='Dari:'), DatePicker(value=datet…"
      ]
     },
     "metadata": {},
     "output_type": "display_data"
    }
   ],
   "source": [
    "hari_ini = datetime.now().date()\n",
    "days_in_month = calendar.monthrange(hari_ini.year, hari_ini.month)[1]\n",
    "bulan_depan = hari_ini + timedelta(days_in_month)\n",
    "\n",
    "dari = widgets.DatePicker(value=hari_ini,\n",
    "    description='Dari:',\n",
    "    disabled=False\n",
    ")\n",
    "sampai = widgets.DatePicker(value=bulan_depan,\n",
    "    description='Sampai:',\n",
    "    disabled=False\n",
    ")\n",
    "\n",
    "interactive(repeat, t0=dari, t1=sampai)"
   ]
  },
  {
   "cell_type": "code",
   "execution_count": null,
   "metadata": {},
   "outputs": [],
   "source": []
  },
  {
   "cell_type": "code",
   "execution_count": null,
   "metadata": {},
   "outputs": [],
   "source": []
  }
 ],
 "metadata": {
  "kernelspec": {
   "display_name": "Python 3",
   "language": "python",
   "name": "python3"
  },
  "language_info": {
   "codemirror_mode": {
    "name": "ipython",
    "version": 3
   },
   "file_extension": ".py",
   "mimetype": "text/x-python",
   "name": "python",
   "nbconvert_exporter": "python",
   "pygments_lexer": "ipython3",
   "version": "3.7.6"
  },
  "widgets": {
   "application/vnd.jupyter.widget-state+json": {
    "state": {
     "011f624c3a9a4058afb066a0eb846fb3": {
      "model_module": "@jupyter-widgets/controls",
      "model_module_version": "1.5.0",
      "model_name": "DatePickerModel",
      "state": {
       "description": "Sampai:",
       "disabled": false,
       "layout": "IPY_MODEL_0a466a90530c4bba9831992800f8bae7",
       "style": "IPY_MODEL_1147c49d2bde40b4aed5c1bf66fbc558",
       "value": {
        "date": 9,
        "month": 6,
        "year": 2020
       }
      }
     },
     "08e820837b6d4ac79ed930c5db940ee7": {
      "model_module": "@jupyter-widgets/output",
      "model_module_version": "1.0.0",
      "model_name": "OutputModel",
      "state": {
       "layout": "IPY_MODEL_1ccbb67d3ee54a6b8713dd5a465c344d",
       "outputs": [
        {
         "name": "stdout",
         "output_type": "stream",
         "text": "\nTopos 05deg 53' 32.6\" N 95deg 19' 25.3\" E\n"
        },
        {
         "data": {
          "text/html": "<div>\n<style scoped>\n    .dataframe tbody tr th:only-of-type {\n        vertical-align: middle;\n    }\n\n    .dataframe tbody tr th {\n        vertical-align: top;\n    }\n\n    .dataframe thead th {\n        text-align: right;\n    }\n</style>\n<table border=\"1\" class=\"dataframe\">\n  <thead>\n    <tr style=\"text-align: right;\">\n      <th></th>\n      <th>Waktu Konjungsi</th>\n      <th>Waktu Sunset</th>\n      <th>Alt Bulan</th>\n      <th>Az Bulan</th>\n      <th>Az Matahari</th>\n      <th>Elongasi</th>\n      <th>Usia Bulan</th>\n      <th>Imkan Rukyat</th>\n    </tr>\n  </thead>\n  <tbody>\n    <tr>\n      <th>1</th>\n      <td>2020-06-21 13:41:27.481000+07:00</td>\n      <td>2020-06-21 18:54:31.905000+07:00</td>\n      <td>00deg 51' 37.5\"</td>\n      <td>293deg 42' 58.2\"</td>\n      <td>293deg 39' 48.8\"</td>\n      <td>01deg 41' 40.3\"</td>\n      <td>05:19:35.162000</td>\n      <td>✘</td>\n    </tr>\n  </tbody>\n</table>\n</div>",
          "text/plain": "                   Waktu Konjungsi                     Waktu Sunset  \\\n1 2020-06-21 13:41:27.481000+07:00 2020-06-21 18:54:31.905000+07:00   \n\n         Alt Bulan          Az Bulan       Az Matahari         Elongasi  \\\n1  00deg 51' 37.5\"  293deg 42' 58.2\"  293deg 39' 48.8\"  01deg 41' 40.3\"   \n\n       Usia Bulan Imkan Rukyat  \n1 05:19:35.162000            ✘  "
         },
         "metadata": {},
         "output_type": "display_data"
        },
        {
         "name": "stdout",
         "output_type": "stream",
         "text": "\n\nTopos -07deg 47' 44.2\" N 110deg 22' 10.2\" E\n"
        },
        {
         "data": {
          "text/html": "<div>\n<style scoped>\n    .dataframe tbody tr th:only-of-type {\n        vertical-align: middle;\n    }\n\n    .dataframe tbody tr th {\n        vertical-align: top;\n    }\n\n    .dataframe thead th {\n        text-align: right;\n    }\n</style>\n<table border=\"1\" class=\"dataframe\">\n  <thead>\n    <tr style=\"text-align: right;\">\n      <th></th>\n      <th>Waktu Konjungsi</th>\n      <th>Waktu Sunset</th>\n      <th>Alt Bulan</th>\n      <th>Az Bulan</th>\n      <th>Az Matahari</th>\n      <th>Elongasi</th>\n      <th>Usia Bulan</th>\n      <th>Imkan Rukyat</th>\n    </tr>\n  </thead>\n  <tbody>\n    <tr>\n      <th>1</th>\n      <td>2020-06-21 13:41:27.481000+07:00</td>\n      <td>2020-06-21 17:30:29.101000+07:00</td>\n      <td>00deg 04' 22.9\"</td>\n      <td>294deg 06' 33.6\"</td>\n      <td>293deg 32' 45.4\"</td>\n      <td>01deg 04' 01.8\"</td>\n      <td>03:51:57.706000</td>\n      <td>✘</td>\n    </tr>\n  </tbody>\n</table>\n</div>",
          "text/plain": "                   Waktu Konjungsi                     Waktu Sunset  \\\n1 2020-06-21 13:41:27.481000+07:00 2020-06-21 17:30:29.101000+07:00   \n\n         Alt Bulan          Az Bulan       Az Matahari         Elongasi  \\\n1  00deg 04' 22.9\"  294deg 06' 33.6\"  293deg 32' 45.4\"  01deg 04' 01.8\"   \n\n       Usia Bulan Imkan Rukyat  \n1 03:51:57.706000            ✘  "
         },
         "metadata": {},
         "output_type": "display_data"
        },
        {
         "name": "stdout",
         "output_type": "stream",
         "text": "\n\nTopos -08deg 29' 57.6\" N 140deg 24' 17.6\" E\n"
        },
        {
         "data": {
          "text/html": "<div>\n<style scoped>\n    .dataframe tbody tr th:only-of-type {\n        vertical-align: middle;\n    }\n\n    .dataframe tbody tr th {\n        vertical-align: top;\n    }\n\n    .dataframe thead th {\n        text-align: right;\n    }\n</style>\n<table border=\"1\" class=\"dataframe\">\n  <thead>\n    <tr style=\"text-align: right;\">\n      <th></th>\n      <th>Waktu Konjungsi</th>\n      <th>Waktu Sunset</th>\n      <th>Alt Bulan</th>\n      <th>Az Bulan</th>\n      <th>Az Matahari</th>\n      <th>Elongasi</th>\n      <th>Usia Bulan</th>\n      <th>Imkan Rukyat</th>\n    </tr>\n  </thead>\n  <tbody>\n    <tr>\n      <th>1</th>\n      <td>2020-06-21 13:41:27.481000+07:00</td>\n      <td>2020-06-21 15:29:05.080000+07:00</td>\n      <td>-00deg 55' 08.5\"</td>\n      <td>293deg 54' 54.2\"</td>\n      <td>293deg 34' 44.5\"</td>\n      <td>00deg 20' 48.3\"</td>\n      <td>1 days 02:41:11.926000</td>\n      <td>✘</td>\n    </tr>\n  </tbody>\n</table>\n</div>",
          "text/plain": "                   Waktu Konjungsi                     Waktu Sunset  \\\n1 2020-06-21 13:41:27.481000+07:00 2020-06-21 15:29:05.080000+07:00   \n\n          Alt Bulan          Az Bulan       Az Matahari         Elongasi  \\\n1  -00deg 55' 08.5\"  293deg 54' 54.2\"  293deg 34' 44.5\"  00deg 20' 48.3\"   \n\n              Usia Bulan Imkan Rukyat  \n1 1 days 02:41:11.926000            ✘  "
         },
         "metadata": {},
         "output_type": "display_data"
        },
        {
         "name": "stdout",
         "output_type": "stream",
         "text": "\n"
        }
       ]
      }
     },
     "0a466a90530c4bba9831992800f8bae7": {
      "model_module": "@jupyter-widgets/base",
      "model_module_version": "1.2.0",
      "model_name": "LayoutModel",
      "state": {}
     },
     "0d8f81c87a8747db9646498c2ce7ea72": {
      "model_module": "@jupyter-widgets/base",
      "model_module_version": "1.2.0",
      "model_name": "LayoutModel",
      "state": {}
     },
     "1147c49d2bde40b4aed5c1bf66fbc558": {
      "model_module": "@jupyter-widgets/controls",
      "model_module_version": "1.5.0",
      "model_name": "DescriptionStyleModel",
      "state": {
       "description_width": ""
      }
     },
     "12914443de4b4fe2b4422f915215fa0b": {
      "model_module": "@jupyter-widgets/base",
      "model_module_version": "1.2.0",
      "model_name": "LayoutModel",
      "state": {}
     },
     "13d453d53bba47239a76a632f850bdbe": {
      "model_module": "@jupyter-widgets/controls",
      "model_module_version": "1.5.0",
      "model_name": "VBoxModel",
      "state": {
       "_dom_classes": [
        "widget-interact"
       ],
       "children": [
        "IPY_MODEL_de41f6b9d9d8427788edc4ea396b671b",
        "IPY_MODEL_011f624c3a9a4058afb066a0eb846fb3",
        "IPY_MODEL_08e820837b6d4ac79ed930c5db940ee7"
       ],
       "layout": "IPY_MODEL_f41921f1ba53448bbd21e8c374d9678a"
      }
     },
     "1ccbb67d3ee54a6b8713dd5a465c344d": {
      "model_module": "@jupyter-widgets/base",
      "model_module_version": "1.2.0",
      "model_name": "LayoutModel",
      "state": {}
     },
     "2c5c8e90e24b47c192f0797f368161c5": {
      "model_module": "@jupyter-widgets/output",
      "model_module_version": "1.0.0",
      "model_name": "OutputModel",
      "state": {
       "layout": "IPY_MODEL_5fe87f3742814a759150c5f39d0601e1",
       "outputs": [
        {
         "name": "stdout",
         "output_type": "stream",
         "text": "Topos 05deg 53' 32.6\" N 95deg 19' 25.3\" E\n"
        },
        {
         "data": {
          "text/html": "<div>\n<style scoped>\n    .dataframe tbody tr th:only-of-type {\n        vertical-align: middle;\n    }\n\n    .dataframe tbody tr th {\n        vertical-align: top;\n    }\n\n    .dataframe thead th {\n        text-align: right;\n    }\n</style>\n<table border=\"1\" class=\"dataframe\">\n  <thead>\n    <tr style=\"text-align: right;\">\n      <th></th>\n      <th>Waktu Konjungsi</th>\n      <th>Waktu Sunset</th>\n      <th>Alt Bulan</th>\n      <th>Az Bulan</th>\n      <th>Az Matahari</th>\n      <th>Elongasi</th>\n      <th>Usia Bulan</th>\n      <th>Imkan Rukyat</th>\n    </tr>\n  </thead>\n  <tbody>\n    <tr>\n      <th>1</th>\n      <td>2020-06-21 13:41:27.481000+07:00</td>\n      <td>2020-06-21 18:54:31.905000+07:00</td>\n      <td>00deg 51' 37.5\"</td>\n      <td>293deg 42' 58.2\"</td>\n      <td>293deg 39' 48.8\"</td>\n      <td>01deg 41' 40.3\"</td>\n      <td>05:19:35.162000</td>\n      <td>✘</td>\n    </tr>\n  </tbody>\n</table>\n</div>",
          "text/plain": "                   Waktu Konjungsi                     Waktu Sunset  \\\n1 2020-06-21 13:41:27.481000+07:00 2020-06-21 18:54:31.905000+07:00   \n\n         Alt Bulan          Az Bulan       Az Matahari         Elongasi  \\\n1  00deg 51' 37.5\"  293deg 42' 58.2\"  293deg 39' 48.8\"  01deg 41' 40.3\"   \n\n       Usia Bulan Imkan Rukyat  \n1 05:19:35.162000            ✘  "
         },
         "metadata": {},
         "output_type": "display_data"
        },
        {
         "name": "stdout",
         "output_type": "stream",
         "text": "\nTopos -07deg 47' 44.2\" N 110deg 22' 10.2\" E\n"
        },
        {
         "data": {
          "text/html": "<div>\n<style scoped>\n    .dataframe tbody tr th:only-of-type {\n        vertical-align: middle;\n    }\n\n    .dataframe tbody tr th {\n        vertical-align: top;\n    }\n\n    .dataframe thead th {\n        text-align: right;\n    }\n</style>\n<table border=\"1\" class=\"dataframe\">\n  <thead>\n    <tr style=\"text-align: right;\">\n      <th></th>\n      <th>Waktu Konjungsi</th>\n      <th>Waktu Sunset</th>\n      <th>Alt Bulan</th>\n      <th>Az Bulan</th>\n      <th>Az Matahari</th>\n      <th>Elongasi</th>\n      <th>Usia Bulan</th>\n      <th>Imkan Rukyat</th>\n    </tr>\n  </thead>\n  <tbody>\n    <tr>\n      <th>1</th>\n      <td>2020-06-21 13:41:27.481000+07:00</td>\n      <td>2020-06-21 17:30:29.101000+07:00</td>\n      <td>00deg 04' 22.9\"</td>\n      <td>294deg 06' 33.6\"</td>\n      <td>293deg 32' 45.4\"</td>\n      <td>01deg 04' 01.8\"</td>\n      <td>03:51:57.706000</td>\n      <td>✘</td>\n    </tr>\n  </tbody>\n</table>\n</div>",
          "text/plain": "                   Waktu Konjungsi                     Waktu Sunset  \\\n1 2020-06-21 13:41:27.481000+07:00 2020-06-21 17:30:29.101000+07:00   \n\n         Alt Bulan          Az Bulan       Az Matahari         Elongasi  \\\n1  00deg 04' 22.9\"  294deg 06' 33.6\"  293deg 32' 45.4\"  01deg 04' 01.8\"   \n\n       Usia Bulan Imkan Rukyat  \n1 03:51:57.706000            ✘  "
         },
         "metadata": {},
         "output_type": "display_data"
        },
        {
         "name": "stdout",
         "output_type": "stream",
         "text": "\nTopos -08deg 29' 57.6\" N 140deg 24' 17.6\" E\n"
        },
        {
         "data": {
          "text/html": "<div>\n<style scoped>\n    .dataframe tbody tr th:only-of-type {\n        vertical-align: middle;\n    }\n\n    .dataframe tbody tr th {\n        vertical-align: top;\n    }\n\n    .dataframe thead th {\n        text-align: right;\n    }\n</style>\n<table border=\"1\" class=\"dataframe\">\n  <thead>\n    <tr style=\"text-align: right;\">\n      <th></th>\n      <th>Waktu Konjungsi</th>\n      <th>Waktu Sunset</th>\n      <th>Alt Bulan</th>\n      <th>Az Bulan</th>\n      <th>Az Matahari</th>\n      <th>Elongasi</th>\n      <th>Usia Bulan</th>\n      <th>Imkan Rukyat</th>\n    </tr>\n  </thead>\n  <tbody>\n    <tr>\n      <th>1</th>\n      <td>2020-06-21 13:41:27.481000+07:00</td>\n      <td>2020-06-21 15:29:05.080000+07:00</td>\n      <td>-00deg 55' 08.5\"</td>\n      <td>293deg 54' 54.2\"</td>\n      <td>293deg 34' 44.5\"</td>\n      <td>00deg 20' 48.3\"</td>\n      <td>1 days 02:41:11.926000</td>\n      <td>✘</td>\n    </tr>\n  </tbody>\n</table>\n</div>",
          "text/plain": "                   Waktu Konjungsi                     Waktu Sunset  \\\n1 2020-06-21 13:41:27.481000+07:00 2020-06-21 15:29:05.080000+07:00   \n\n          Alt Bulan          Az Bulan       Az Matahari         Elongasi  \\\n1  -00deg 55' 08.5\"  293deg 54' 54.2\"  293deg 34' 44.5\"  00deg 20' 48.3\"   \n\n              Usia Bulan Imkan Rukyat  \n1 1 days 02:41:11.926000            ✘  "
         },
         "metadata": {},
         "output_type": "display_data"
        },
        {
         "name": "stdout",
         "output_type": "stream",
         "text": "\n"
        }
       ]
      }
     },
     "34e7b31e50eb4c11bf4ec49c74daae43": {
      "model_module": "@jupyter-widgets/controls",
      "model_module_version": "1.5.0",
      "model_name": "DatePickerModel",
      "state": {
       "description": "Dari:",
       "disabled": false,
       "layout": "IPY_MODEL_b4cc3ddbcefb49ab84aafe883f140a73",
       "style": "IPY_MODEL_92717212593f4530bdb4a020b2e4f0b4",
       "value": {
        "date": 9,
        "month": 5,
        "year": 2020
       }
      }
     },
     "480fb46bd338435f94cc7f0465938f88": {
      "model_module": "@jupyter-widgets/output",
      "model_module_version": "1.0.0",
      "model_name": "OutputModel",
      "state": {
       "layout": "IPY_MODEL_eeaa6a22c9c043bb98ea93f9861a3b27",
       "outputs": [
        {
         "name": "stdout",
         "output_type": "stream",
         "text": "Topos 05deg 53' 32.6\" N 95deg 19' 25.3\" E\n"
        },
        {
         "data": {
          "text/html": "<div>\n<style scoped>\n    .dataframe tbody tr th:only-of-type {\n        vertical-align: middle;\n    }\n\n    .dataframe tbody tr th {\n        vertical-align: top;\n    }\n\n    .dataframe thead th {\n        text-align: right;\n    }\n</style>\n<table border=\"1\" class=\"dataframe\">\n  <thead>\n    <tr style=\"text-align: right;\">\n      <th></th>\n      <th>Waktu Konjungsi</th>\n      <th>Waktu Sunset</th>\n      <th>Alt Bulan</th>\n      <th>Az Bulan</th>\n      <th>Az Matahari</th>\n      <th>Elongasi</th>\n      <th>Usia Bulan</th>\n      <th>Imkan Rukyat</th>\n    </tr>\n  </thead>\n  <tbody>\n    <tr>\n      <th>1</th>\n      <td>2020-06-21 13:41:27.481000+07:00</td>\n      <td>2020-06-21 18:54:31.905000+07:00</td>\n      <td>00deg 51' 37.5\"</td>\n      <td>293deg 42' 58.2\"</td>\n      <td>293deg 39' 48.8\"</td>\n      <td>01deg 41' 40.3\"</td>\n      <td>05:19:35.162000</td>\n      <td>✘</td>\n    </tr>\n  </tbody>\n</table>\n</div>",
          "text/plain": "                   Waktu Konjungsi                     Waktu Sunset  \\\n1 2020-06-21 13:41:27.481000+07:00 2020-06-21 18:54:31.905000+07:00   \n\n         Alt Bulan          Az Bulan       Az Matahari         Elongasi  \\\n1  00deg 51' 37.5\"  293deg 42' 58.2\"  293deg 39' 48.8\"  01deg 41' 40.3\"   \n\n       Usia Bulan Imkan Rukyat  \n1 05:19:35.162000            ✘  "
         },
         "metadata": {},
         "output_type": "display_data"
        },
        {
         "name": "stdout",
         "output_type": "stream",
         "text": "Topos -07deg 47' 44.2\" N 110deg 22' 10.2\" E\n"
        },
        {
         "data": {
          "text/html": "<div>\n<style scoped>\n    .dataframe tbody tr th:only-of-type {\n        vertical-align: middle;\n    }\n\n    .dataframe tbody tr th {\n        vertical-align: top;\n    }\n\n    .dataframe thead th {\n        text-align: right;\n    }\n</style>\n<table border=\"1\" class=\"dataframe\">\n  <thead>\n    <tr style=\"text-align: right;\">\n      <th></th>\n      <th>Waktu Konjungsi</th>\n      <th>Waktu Sunset</th>\n      <th>Alt Bulan</th>\n      <th>Az Bulan</th>\n      <th>Az Matahari</th>\n      <th>Elongasi</th>\n      <th>Usia Bulan</th>\n      <th>Imkan Rukyat</th>\n    </tr>\n  </thead>\n  <tbody>\n    <tr>\n      <th>1</th>\n      <td>2020-06-21 13:41:27.481000+07:00</td>\n      <td>2020-06-21 17:30:29.101000+07:00</td>\n      <td>00deg 04' 22.9\"</td>\n      <td>294deg 06' 33.6\"</td>\n      <td>293deg 32' 45.4\"</td>\n      <td>01deg 04' 01.8\"</td>\n      <td>03:51:57.706000</td>\n      <td>✘</td>\n    </tr>\n  </tbody>\n</table>\n</div>",
          "text/plain": "                   Waktu Konjungsi                     Waktu Sunset  \\\n1 2020-06-21 13:41:27.481000+07:00 2020-06-21 17:30:29.101000+07:00   \n\n         Alt Bulan          Az Bulan       Az Matahari         Elongasi  \\\n1  00deg 04' 22.9\"  294deg 06' 33.6\"  293deg 32' 45.4\"  01deg 04' 01.8\"   \n\n       Usia Bulan Imkan Rukyat  \n1 03:51:57.706000            ✘  "
         },
         "metadata": {},
         "output_type": "display_data"
        },
        {
         "name": "stdout",
         "output_type": "stream",
         "text": "Topos -08deg 29' 57.6\" N 140deg 24' 17.6\" E\n"
        },
        {
         "data": {
          "text/html": "<div>\n<style scoped>\n    .dataframe tbody tr th:only-of-type {\n        vertical-align: middle;\n    }\n\n    .dataframe tbody tr th {\n        vertical-align: top;\n    }\n\n    .dataframe thead th {\n        text-align: right;\n    }\n</style>\n<table border=\"1\" class=\"dataframe\">\n  <thead>\n    <tr style=\"text-align: right;\">\n      <th></th>\n      <th>Waktu Konjungsi</th>\n      <th>Waktu Sunset</th>\n      <th>Alt Bulan</th>\n      <th>Az Bulan</th>\n      <th>Az Matahari</th>\n      <th>Elongasi</th>\n      <th>Usia Bulan</th>\n      <th>Imkan Rukyat</th>\n    </tr>\n  </thead>\n  <tbody>\n    <tr>\n      <th>1</th>\n      <td>2020-06-21 13:41:27.481000+07:00</td>\n      <td>2020-06-21 15:29:05.080000+07:00</td>\n      <td>-00deg 55' 08.5\"</td>\n      <td>293deg 54' 54.2\"</td>\n      <td>293deg 34' 44.5\"</td>\n      <td>00deg 20' 48.3\"</td>\n      <td>01:46:00.529000</td>\n      <td>✘</td>\n    </tr>\n  </tbody>\n</table>\n</div>",
          "text/plain": "                   Waktu Konjungsi                     Waktu Sunset  \\\n1 2020-06-21 13:41:27.481000+07:00 2020-06-21 15:29:05.080000+07:00   \n\n          Alt Bulan          Az Bulan       Az Matahari         Elongasi  \\\n1  -00deg 55' 08.5\"  293deg 54' 54.2\"  293deg 34' 44.5\"  00deg 20' 48.3\"   \n\n       Usia Bulan Imkan Rukyat  \n1 01:46:00.529000            ✘  "
         },
         "metadata": {},
         "output_type": "display_data"
        }
       ]
      }
     },
     "4a5d1f8e58084b3bbecf0c3fecfb6ea5": {
      "model_module": "@jupyter-widgets/controls",
      "model_module_version": "1.5.0",
      "model_name": "DatePickerModel",
      "state": {
       "description": "Sampai:",
       "disabled": false,
       "layout": "IPY_MODEL_12914443de4b4fe2b4422f915215fa0b",
       "style": "IPY_MODEL_9d87c6228bb441f79720b9edad27c719",
       "value": {
        "date": 9,
        "month": 6,
        "year": 2020
       }
      }
     },
     "4c1f7968d0454c3096103fb06a5f74b9": {
      "model_module": "@jupyter-widgets/base",
      "model_module_version": "1.2.0",
      "model_name": "LayoutModel",
      "state": {}
     },
     "4d758efa8537465faed52ff6c70fa486": {
      "model_module": "@jupyter-widgets/controls",
      "model_module_version": "1.5.0",
      "model_name": "DescriptionStyleModel",
      "state": {
       "description_width": ""
      }
     },
     "4fdbfd32e23c4c2ba267f7c1df7c830d": {
      "model_module": "@jupyter-widgets/base",
      "model_module_version": "1.2.0",
      "model_name": "LayoutModel",
      "state": {}
     },
     "5cd759581e414e6fb4376bb898f9d482": {
      "model_module": "@jupyter-widgets/controls",
      "model_module_version": "1.5.0",
      "model_name": "DescriptionStyleModel",
      "state": {
       "description_width": ""
      }
     },
     "5e5578275ae14c889df33c3cd48575cf": {
      "model_module": "@jupyter-widgets/output",
      "model_module_version": "1.0.0",
      "model_name": "OutputModel",
      "state": {
       "layout": "IPY_MODEL_823d7fd06f304731a42e218142c10eeb",
       "outputs": [
        {
         "name": "stdout",
         "output_type": "stream",
         "text": "Topos 05deg 53' 32.6\" N 95deg 19' 25.3\" E\n"
        },
        {
         "data": {
          "text/html": "<div>\n<style scoped>\n    .dataframe tbody tr th:only-of-type {\n        vertical-align: middle;\n    }\n\n    .dataframe tbody tr th {\n        vertical-align: top;\n    }\n\n    .dataframe thead th {\n        text-align: right;\n    }\n</style>\n<table border=\"1\" class=\"dataframe\">\n  <thead>\n    <tr style=\"text-align: right;\">\n      <th></th>\n      <th>Waktu Konjungsi</th>\n      <th>Waktu Sunset</th>\n      <th>Alt Bulan</th>\n      <th>Az Bulan</th>\n      <th>Az Matahari</th>\n      <th>Elongasi</th>\n      <th>Usia Bulan</th>\n      <th>Imkan Rukyat</th>\n    </tr>\n  </thead>\n  <tbody>\n    <tr>\n      <th>1</th>\n      <td>2020-06-21 13:41:27.481000+07:00</td>\n      <td>2020-06-21 18:54:31.905000+07:00</td>\n      <td>00deg 51' 37.5\"</td>\n      <td>293deg 42' 58.2\"</td>\n      <td>293deg 39' 48.8\"</td>\n      <td>01deg 41' 40.3\"</td>\n      <td>05:19:35.162000</td>\n      <td>✘</td>\n    </tr>\n  </tbody>\n</table>\n</div>",
          "text/plain": "                   Waktu Konjungsi                     Waktu Sunset  \\\n1 2020-06-21 13:41:27.481000+07:00 2020-06-21 18:54:31.905000+07:00   \n\n         Alt Bulan          Az Bulan       Az Matahari         Elongasi  \\\n1  00deg 51' 37.5\"  293deg 42' 58.2\"  293deg 39' 48.8\"  01deg 41' 40.3\"   \n\n       Usia Bulan Imkan Rukyat  \n1 05:19:35.162000            ✘  "
         },
         "metadata": {},
         "output_type": "display_data"
        },
        {
         "name": "stdout",
         "output_type": "stream",
         "text": "\nTopos -07deg 47' 44.2\" N 110deg 22' 10.2\" E\n"
        },
        {
         "data": {
          "text/html": "<div>\n<style scoped>\n    .dataframe tbody tr th:only-of-type {\n        vertical-align: middle;\n    }\n\n    .dataframe tbody tr th {\n        vertical-align: top;\n    }\n\n    .dataframe thead th {\n        text-align: right;\n    }\n</style>\n<table border=\"1\" class=\"dataframe\">\n  <thead>\n    <tr style=\"text-align: right;\">\n      <th></th>\n      <th>Waktu Konjungsi</th>\n      <th>Waktu Sunset</th>\n      <th>Alt Bulan</th>\n      <th>Az Bulan</th>\n      <th>Az Matahari</th>\n      <th>Elongasi</th>\n      <th>Usia Bulan</th>\n      <th>Imkan Rukyat</th>\n    </tr>\n  </thead>\n  <tbody>\n    <tr>\n      <th>1</th>\n      <td>2020-06-21 13:41:27.481000+07:00</td>\n      <td>2020-06-21 17:30:29.101000+07:00</td>\n      <td>00deg 04' 22.9\"</td>\n      <td>294deg 06' 33.6\"</td>\n      <td>293deg 32' 45.4\"</td>\n      <td>01deg 04' 01.8\"</td>\n      <td>03:51:57.706000</td>\n      <td>✘</td>\n    </tr>\n  </tbody>\n</table>\n</div>",
          "text/plain": "                   Waktu Konjungsi                     Waktu Sunset  \\\n1 2020-06-21 13:41:27.481000+07:00 2020-06-21 17:30:29.101000+07:00   \n\n         Alt Bulan          Az Bulan       Az Matahari         Elongasi  \\\n1  00deg 04' 22.9\"  294deg 06' 33.6\"  293deg 32' 45.4\"  01deg 04' 01.8\"   \n\n       Usia Bulan Imkan Rukyat  \n1 03:51:57.706000            ✘  "
         },
         "metadata": {},
         "output_type": "display_data"
        },
        {
         "name": "stdout",
         "output_type": "stream",
         "text": "\nTopos -08deg 29' 57.6\" N 140deg 24' 17.6\" E\n"
        },
        {
         "data": {
          "text/html": "<div>\n<style scoped>\n    .dataframe tbody tr th:only-of-type {\n        vertical-align: middle;\n    }\n\n    .dataframe tbody tr th {\n        vertical-align: top;\n    }\n\n    .dataframe thead th {\n        text-align: right;\n    }\n</style>\n<table border=\"1\" class=\"dataframe\">\n  <thead>\n    <tr style=\"text-align: right;\">\n      <th></th>\n      <th>Waktu Konjungsi</th>\n      <th>Waktu Sunset</th>\n      <th>Alt Bulan</th>\n      <th>Az Bulan</th>\n      <th>Az Matahari</th>\n      <th>Elongasi</th>\n      <th>Usia Bulan</th>\n      <th>Imkan Rukyat</th>\n    </tr>\n  </thead>\n  <tbody>\n    <tr>\n      <th>1</th>\n      <td>2020-06-21 13:41:27.481000+07:00</td>\n      <td>2020-06-21 15:29:05.080000+07:00</td>\n      <td>-00deg 55' 08.5\"</td>\n      <td>293deg 54' 54.2\"</td>\n      <td>293deg 34' 44.5\"</td>\n      <td>00deg 20' 48.3\"</td>\n      <td>01:46:00.529000</td>\n      <td>✘</td>\n    </tr>\n  </tbody>\n</table>\n</div>",
          "text/plain": "                   Waktu Konjungsi                     Waktu Sunset  \\\n1 2020-06-21 13:41:27.481000+07:00 2020-06-21 15:29:05.080000+07:00   \n\n          Alt Bulan          Az Bulan       Az Matahari         Elongasi  \\\n1  -00deg 55' 08.5\"  293deg 54' 54.2\"  293deg 34' 44.5\"  00deg 20' 48.3\"   \n\n       Usia Bulan Imkan Rukyat  \n1 01:46:00.529000            ✘  "
         },
         "metadata": {},
         "output_type": "display_data"
        },
        {
         "name": "stdout",
         "output_type": "stream",
         "text": "\n"
        }
       ]
      }
     },
     "5e60dfc42a01405d8bcaec9b5ea06c40": {
      "model_module": "@jupyter-widgets/base",
      "model_module_version": "1.2.0",
      "model_name": "LayoutModel",
      "state": {}
     },
     "5fe87f3742814a759150c5f39d0601e1": {
      "model_module": "@jupyter-widgets/base",
      "model_module_version": "1.2.0",
      "model_name": "LayoutModel",
      "state": {}
     },
     "60d1e3e5f4764ffc803c62f37d20565e": {
      "model_module": "@jupyter-widgets/controls",
      "model_module_version": "1.5.0",
      "model_name": "DescriptionStyleModel",
      "state": {
       "description_width": ""
      }
     },
     "7206f21deb4e4f0f9661249db1689cc1": {
      "model_module": "@jupyter-widgets/controls",
      "model_module_version": "1.5.0",
      "model_name": "DatePickerModel",
      "state": {
       "description": "Sampai:",
       "disabled": false,
       "layout": "IPY_MODEL_5e60dfc42a01405d8bcaec9b5ea06c40",
       "style": "IPY_MODEL_4d758efa8537465faed52ff6c70fa486",
       "value": {
        "date": 9,
        "month": 6,
        "year": 2020
       }
      }
     },
     "7637fe71aef04c49986ed608e4a65133": {
      "model_module": "@jupyter-widgets/controls",
      "model_module_version": "1.5.0",
      "model_name": "DescriptionStyleModel",
      "state": {
       "description_width": ""
      }
     },
     "7669f6ee60394b42bb614a403cd08d66": {
      "model_module": "@jupyter-widgets/base",
      "model_module_version": "1.2.0",
      "model_name": "LayoutModel",
      "state": {}
     },
     "823d7fd06f304731a42e218142c10eeb": {
      "model_module": "@jupyter-widgets/base",
      "model_module_version": "1.2.0",
      "model_name": "LayoutModel",
      "state": {}
     },
     "8b46822ddc7b429ea96821262d4845c4": {
      "model_module": "@jupyter-widgets/controls",
      "model_module_version": "1.5.0",
      "model_name": "VBoxModel",
      "state": {
       "_dom_classes": [
        "widget-interact"
       ],
       "children": [
        "IPY_MODEL_b824c31c9f2c43da9672e94703af8ae9",
        "IPY_MODEL_7206f21deb4e4f0f9661249db1689cc1",
        "IPY_MODEL_2c5c8e90e24b47c192f0797f368161c5"
       ],
       "layout": "IPY_MODEL_4fdbfd32e23c4c2ba267f7c1df7c830d"
      }
     },
     "92717212593f4530bdb4a020b2e4f0b4": {
      "model_module": "@jupyter-widgets/controls",
      "model_module_version": "1.5.0",
      "model_name": "DescriptionStyleModel",
      "state": {
       "description_width": ""
      }
     },
     "9d87c6228bb441f79720b9edad27c719": {
      "model_module": "@jupyter-widgets/controls",
      "model_module_version": "1.5.0",
      "model_name": "DescriptionStyleModel",
      "state": {
       "description_width": ""
      }
     },
     "b4cc3ddbcefb49ab84aafe883f140a73": {
      "model_module": "@jupyter-widgets/base",
      "model_module_version": "1.2.0",
      "model_name": "LayoutModel",
      "state": {}
     },
     "b824c31c9f2c43da9672e94703af8ae9": {
      "model_module": "@jupyter-widgets/controls",
      "model_module_version": "1.5.0",
      "model_name": "DatePickerModel",
      "state": {
       "description": "Dari:",
       "disabled": false,
       "layout": "IPY_MODEL_0d8f81c87a8747db9646498c2ce7ea72",
       "style": "IPY_MODEL_60d1e3e5f4764ffc803c62f37d20565e",
       "value": {
        "date": 9,
        "month": 5,
        "year": 2020
       }
      }
     },
     "bc72a99feec8497ba59456803238543a": {
      "model_module": "@jupyter-widgets/controls",
      "model_module_version": "1.5.0",
      "model_name": "VBoxModel",
      "state": {
       "_dom_classes": [
        "widget-interact"
       ],
       "children": [
        "IPY_MODEL_eaa3c39b04f9461ca15661c6f646d3e9",
        "IPY_MODEL_4a5d1f8e58084b3bbecf0c3fecfb6ea5",
        "IPY_MODEL_480fb46bd338435f94cc7f0465938f88"
       ],
       "layout": "IPY_MODEL_e7601018588243c99f5235bb1081ab27"
      }
     },
     "c9f8961b571d480a9f1c62fe71d8196e": {
      "model_module": "@jupyter-widgets/controls",
      "model_module_version": "1.5.0",
      "model_name": "VBoxModel",
      "state": {
       "_dom_classes": [
        "widget-interact"
       ],
       "children": [
        "IPY_MODEL_34e7b31e50eb4c11bf4ec49c74daae43",
        "IPY_MODEL_e40555042bc64ee38013d64fb6fc9f42",
        "IPY_MODEL_5e5578275ae14c889df33c3cd48575cf"
       ],
       "layout": "IPY_MODEL_f0c35b060e914b53bce4b8944547777b"
      }
     },
     "de41f6b9d9d8427788edc4ea396b671b": {
      "model_module": "@jupyter-widgets/controls",
      "model_module_version": "1.5.0",
      "model_name": "DatePickerModel",
      "state": {
       "description": "Dari:",
       "disabled": false,
       "layout": "IPY_MODEL_7669f6ee60394b42bb614a403cd08d66",
       "style": "IPY_MODEL_f1e3c5f2322049bfb30df0e65b18d40b",
       "value": {
        "date": 9,
        "month": 5,
        "year": 2020
       }
      }
     },
     "e40555042bc64ee38013d64fb6fc9f42": {
      "model_module": "@jupyter-widgets/controls",
      "model_module_version": "1.5.0",
      "model_name": "DatePickerModel",
      "state": {
       "description": "Sampai:",
       "disabled": false,
       "layout": "IPY_MODEL_4c1f7968d0454c3096103fb06a5f74b9",
       "style": "IPY_MODEL_5cd759581e414e6fb4376bb898f9d482",
       "value": {
        "date": 9,
        "month": 6,
        "year": 2020
       }
      }
     },
     "e43fe39094eb4aac881e7114355c943f": {
      "model_module": "@jupyter-widgets/base",
      "model_module_version": "1.2.0",
      "model_name": "LayoutModel",
      "state": {}
     },
     "e7601018588243c99f5235bb1081ab27": {
      "model_module": "@jupyter-widgets/base",
      "model_module_version": "1.2.0",
      "model_name": "LayoutModel",
      "state": {}
     },
     "eaa3c39b04f9461ca15661c6f646d3e9": {
      "model_module": "@jupyter-widgets/controls",
      "model_module_version": "1.5.0",
      "model_name": "DatePickerModel",
      "state": {
       "description": "Dari:",
       "disabled": false,
       "layout": "IPY_MODEL_e43fe39094eb4aac881e7114355c943f",
       "style": "IPY_MODEL_7637fe71aef04c49986ed608e4a65133",
       "value": {
        "date": 9,
        "month": 5,
        "year": 2020
       }
      }
     },
     "eeaa6a22c9c043bb98ea93f9861a3b27": {
      "model_module": "@jupyter-widgets/base",
      "model_module_version": "1.2.0",
      "model_name": "LayoutModel",
      "state": {}
     },
     "f0c35b060e914b53bce4b8944547777b": {
      "model_module": "@jupyter-widgets/base",
      "model_module_version": "1.2.0",
      "model_name": "LayoutModel",
      "state": {}
     },
     "f1e3c5f2322049bfb30df0e65b18d40b": {
      "model_module": "@jupyter-widgets/controls",
      "model_module_version": "1.5.0",
      "model_name": "DescriptionStyleModel",
      "state": {
       "description_width": ""
      }
     },
     "f41921f1ba53448bbd21e8c374d9678a": {
      "model_module": "@jupyter-widgets/base",
      "model_module_version": "1.2.0",
      "model_name": "LayoutModel",
      "state": {}
     }
    },
    "version_major": 2,
    "version_minor": 0
   }
  }
 },
 "nbformat": 4,
 "nbformat_minor": 4
}
