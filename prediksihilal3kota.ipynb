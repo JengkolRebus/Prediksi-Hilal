{
 "cells": [
  {
   "cell_type": "markdown",
   "metadata": {},
   "source": [
    "# Prediksi Hilal"
   ]
  },
  {
   "cell_type": "code",
   "execution_count": 1,
   "metadata": {},
   "outputs": [],
   "source": [
    "# _jengkolrebus\n",
    "# Juni, 2020\n",
    "# Curup, Bengkulu"
   ]
  },
  {
   "cell_type": "markdown",
   "metadata": {},
   "source": [
    "Koordinat kota:\n",
    "- Yogyakarta: 7.7956 S, 110.3695 E, <a href=\"https://www.google.com/search?q=koordinat+yogyakarta&rlz=1C1CHBF_enID904ID904&oq=koordinat+yogyakarta&aqs=chrome..69i57.5458j0j7&sourceid=chrome&ie=UTF-8\">sumber</a>\n",
    "- Sabang: 5.892386 N, 95.323706 E, sumber: google maps\n",
    "- Merauke: 8.499324 S, 140.404902 E, sumber: google maps"
   ]
  },
  {
   "cell_type": "code",
   "execution_count": 2,
   "metadata": {},
   "outputs": [],
   "source": [
    "from skyfield import almanac\n",
    "from skyfield.api import load, Topos\n",
    "from skyfield.units import Angle\n",
    "\n",
    "from datetime import datetime, timedelta\n",
    "from pytz import timezone\n",
    "\n",
    "from ipywidgets import widgets, interactive\n",
    "from IPython.display import display, HTML\n",
    "\n",
    "import pandas as pd\n",
    "import calendar"
   ]
  },
  {
   "cell_type": "code",
   "execution_count": 3,
   "metadata": {},
   "outputs": [],
   "source": [
    "jkt = timezone('Asia/Jakarta')\n",
    "ts = load.timescale()\n",
    "e = load('de421.bsp')\n"
   ]
  },
  {
   "cell_type": "code",
   "execution_count": 4,
   "metadata": {},
   "outputs": [],
   "source": [
    "class Var:\n",
    "    SAB = ['5.892386 N', '95.323706 E']\n",
    "    YOG = ['7.7956 S','110.3695 E']\n",
    "    MER = ['8.499324 S', '140.404902 E']\n",
    "\n",
    "    KOTA = (SAB, YOG, MER)"
   ]
  },
  {
   "cell_type": "code",
   "execution_count": 5,
   "metadata": {},
   "outputs": [],
   "source": [
    "class Find():\n",
    "    t_konjungsi = []\n",
    "    t_sunset = []\n",
    "    t_moonset = []\n",
    "    moon_alt = []\n",
    "    moon_az = []\n",
    "    sun_alt = []\n",
    "    sun_az = []\n",
    "    moon_astrometric = []\n",
    "    sun_astrometric = []\n",
    "    elong = []\n",
    "    usia_bulan = []\n",
    "    ir = []\n",
    "    \n",
    "    def __init__(self, t0, t1, topo):\n",
    "        self.t0 = t0\n",
    "        self.t1 = t1\n",
    "        self.topo = Topos(topo[0], topo[1])\n",
    "        print(self.topo)\n",
    "        self.loc = e['earth'] + self.topo\n",
    "        self.earth = e['earth']\n",
    "        self.moon = e['moon']\n",
    "        self.sun = e['sun']\n",
    "        \n",
    "    # Metode untuk membandingkan dengan Imkan Rukyat\n",
    "    def imkanRukyat(self):\n",
    "        alt = self.moon_alt\n",
    "        elong = self.elong\n",
    "        usia_bulan = self.usia_bulan\n",
    "        for i, j, k in zip(alt, elong, usia_bulan):\n",
    "            if(i.degrees >= 2 and j.degrees >= 3 and (timedelta.total_seconds(k)/3600) > 8):\n",
    "                self.ir.append(u'\\u2714')\n",
    "            else:\n",
    "                self.ir.append(u'\\u2718')\n",
    "        \n",
    "    def moonset(self, t): \n",
    "        sunset = t\n",
    "        t = t.utc\n",
    "        t0 = ts.utc(t[0], t[1], t[2], t[3], t[4], t[5])\n",
    "        t1 = ts.utc(t[0], t[1], t[2]+1, t[3]+1, t[4], t[5])\n",
    "        f = almanac.risings_and_settings(e, self.moon, self.topo)\n",
    "        t, y = almanac.find_discrete(t0, t1, f)\n",
    "\n",
    "        for ti, yi in zip(t, y):\n",
    "            if(yi==False):\n",
    "                self.t_moonset.append(ti.astimezone(jkt))\n",
    "            else:\n",
    "                pass\n",
    "    \n",
    "    def pos(self, t, obj):\n",
    "        astrometric = self.loc.at(t).observe(e[obj])\n",
    "        alt, az, d = astrometric.apparent().altaz()\n",
    "        if(obj == 'moon'):\n",
    "            self.moon_astrometric.append(astrometric)\n",
    "            self.moon_alt.append(alt)\n",
    "            self.moon_az.append(az)\n",
    "        else:\n",
    "            self.sun_astrometric.append(astrometric)\n",
    "            self.sun_alt.append(alt)\n",
    "            self.sun_az.append(az)\n",
    "    \n",
    "    def sunset(self, t):\n",
    "        t = t.utc\n",
    "        t0 = ts.utc(t[0], t[1], t[2], t[3], t[4], t[5])\n",
    "        t1 = ts.utc(t[0], t[1], t[2]+1, t[3], t[4], t[5])\n",
    "        f = almanac.sunrise_sunset(e, self.topo)\n",
    "        t, y = almanac.find_discrete(t0, t1, f)\n",
    "        for ti, yi in zip(t, y):\n",
    "            if(yi == False):\n",
    "                self.t_sunset.append(ti.astimezone(jkt))\n",
    "                self.pos(ti, 'moon')\n",
    "                self.pos(ti, 'sun')\n",
    "    \n",
    "    \n",
    "    def konjungsi(self):\n",
    "        t0 = ts.utc(self.t0)\n",
    "        t1 = ts.utc(self.t1)\n",
    "        f = almanac.oppositions_conjunctions(e, self.moon)\n",
    "        t, y = almanac.find_discrete(t0, t1, f)\n",
    "        for ti, yi in zip(t, y):\n",
    "            if(yi == 1):\n",
    "                self.t_konjungsi.append(ti.astimezone(jkt))\n",
    "                self.sunset(ti)\n",
    "                self.moonset(ti)\n",
    "            else:\n",
    "                pass\n",
    "    "
   ]
  },
  {
   "cell_type": "code",
   "execution_count": 6,
   "metadata": {},
   "outputs": [],
   "source": [
    "def result(t0, t1, i):\n",
    "    print()\n",
    "    Find.moon_astrometric.clear()\n",
    "    Find.t_konjungsi.clear()\n",
    "    Find.t_sunset.clear()\n",
    "    Find.t_moonset.clear()\n",
    "    Find.moon_alt.clear()\n",
    "    Find.moon_az.clear()\n",
    "    Find.moon_astrometric.clear()\n",
    "    Find.sun_alt.clear()\n",
    "    Find.sun_az.clear()\n",
    "    Find.sun_astrometric.clear()\n",
    "    Find.sun_alt.clear()\n",
    "    Find.elong.clear()\n",
    "    Find.usia_bulan.clear()\n",
    "    Find.ir.clear()\n",
    "    \n",
    "    f = Find(t0, t1, i)\n",
    "    \n",
    "    # Waktu Konjungsi\n",
    "    f.konjungsi()\n",
    "    \n",
    "    # Elongasi\n",
    "    for i, j in zip(f.moon_astrometric, f.sun_astrometric):\n",
    "        elong = i.separation_from(j)\n",
    "        f.elong.append(elong)\n",
    "    # Usia Bulan\n",
    "    for i, j in zip(f.t_konjungsi, f.t_moonset):\n",
    "        dt = j - i\n",
    "        f.usia_bulan.append(dt)\n",
    "            \n",
    "    # Imkan Rukyat\n",
    "    f.imkanRukyat()\n",
    "    \n",
    "    table = list(zip(f.t_konjungsi, f.t_sunset, \n",
    "                     f.moon_alt, f.moon_az, \n",
    "                     f.sun_az, f.elong, \n",
    "                     f.usia_bulan, f.ir))\n",
    "    \n",
    "    df = pd.DataFrame(table, columns=['Waktu Konjungsi', 'Waktu Sunset', \n",
    "                                     'Alt Bulan', 'Az Bulan', \n",
    "                                     'Az Matahari', 'Elongasi', \n",
    "                                      'Usia Bulan', 'Imkan Rukyat'])\n",
    "    df.index+=1\n",
    "    display(df)\n",
    "    print()\n",
    "        \n",
    "\n",
    "def repeat(t0, t1):\n",
    "    for i in Var.KOTA:\n",
    "        result(t0, t1, i)"
   ]
  },
  {
   "cell_type": "code",
   "execution_count": 7,
   "metadata": {},
   "outputs": [
    {
     "data": {
      "application/vnd.jupyter.widget-view+json": {
       "model_id": "aa367430aa85448e9f35fcea41a5cf06",
       "version_major": 2,
       "version_minor": 0
      },
      "text/plain": [
       "interactive(children=(DatePicker(value=datetime.date(2020, 10, 6), description='Dari:'), DatePicker(value=date…"
      ]
     },
     "metadata": {},
     "output_type": "display_data"
    }
   ],
   "source": [
    "hari_ini = datetime.now().date()\n",
    "days_in_month = calendar.monthrange(hari_ini.year, hari_ini.month)[1]\n",
    "bulan_depan = hari_ini + timedelta(days_in_month)\n",
    "\n",
    "dari = widgets.DatePicker(value=hari_ini,\n",
    "    description='Dari:',\n",
    "    disabled=False\n",
    ")\n",
    "sampai = widgets.DatePicker(value=bulan_depan,\n",
    "    description='Sampai:',\n",
    "    disabled=False\n",
    ")\n",
    "\n",
    "interactive(repeat, t0=dari, t1=sampai)"
   ]
  },
  {
   "cell_type": "code",
   "execution_count": null,
   "metadata": {},
   "outputs": [],
   "source": []
  },
  {
   "cell_type": "code",
   "execution_count": null,
   "metadata": {},
   "outputs": [],
   "source": []
  }
 ],
 "metadata": {
  "kernelspec": {
   "display_name": "Python 3",
   "language": "python",
   "name": "python3"
  },
  "language_info": {
   "codemirror_mode": {
    "name": "ipython",
    "version": 3
   },
   "file_extension": ".py",
   "mimetype": "text/x-python",
   "name": "python",
   "nbconvert_exporter": "python",
   "pygments_lexer": "ipython3",
   "version": "3.7.6"
  },
  "widgets": {
   "application/vnd.jupyter.widget-state+json": {
    "state": {
     "2be28c7709db4970b14956f7875f0e60": {
      "model_module": "@jupyter-widgets/base",
      "model_module_version": "1.2.0",
      "model_name": "LayoutModel",
      "state": {}
     },
     "5cdc79722ae845a49b1b333499424887": {
      "model_module": "@jupyter-widgets/controls",
      "model_module_version": "1.5.0",
      "model_name": "DescriptionStyleModel",
      "state": {
       "description_width": ""
      }
     },
     "7779dffb8a564fa09c33380ecdd9c1d7": {
      "model_module": "@jupyter-widgets/controls",
      "model_module_version": "1.5.0",
      "model_name": "DatePickerModel",
      "state": {
       "description": "Sampai:",
       "disabled": false,
       "layout": "IPY_MODEL_2be28c7709db4970b14956f7875f0e60",
       "style": "IPY_MODEL_5cdc79722ae845a49b1b333499424887",
       "value": {
        "date": 6,
        "month": 10,
        "year": 2020
       }
      }
     },
     "a0d31b3efef146d5b0aaffd550a9a434": {
      "model_module": "@jupyter-widgets/base",
      "model_module_version": "1.2.0",
      "model_name": "LayoutModel",
      "state": {}
     },
     "a221600948424e7297ddf15d8fe75b96": {
      "model_module": "@jupyter-widgets/output",
      "model_module_version": "1.0.0",
      "model_name": "OutputModel",
      "state": {
       "layout": "IPY_MODEL_a0d31b3efef146d5b0aaffd550a9a434",
       "outputs": [
        {
         "name": "stdout",
         "output_type": "stream",
         "text": "\nTopos 05deg 53' 32.6\" N 95deg 19' 25.3\" E\n"
        },
        {
         "data": {
          "text/html": "<div>\n<style scoped>\n    .dataframe tbody tr th:only-of-type {\n        vertical-align: middle;\n    }\n\n    .dataframe tbody tr th {\n        vertical-align: top;\n    }\n\n    .dataframe thead th {\n        text-align: right;\n    }\n</style>\n<table border=\"1\" class=\"dataframe\">\n  <thead>\n    <tr style=\"text-align: right;\">\n      <th></th>\n      <th>Waktu Konjungsi</th>\n      <th>Waktu Sunset</th>\n      <th>Alt Bulan</th>\n      <th>Az Bulan</th>\n      <th>Az Matahari</th>\n      <th>Elongasi</th>\n      <th>Usia Bulan</th>\n      <th>Imkan Rukyat</th>\n    </tr>\n  </thead>\n  <tbody>\n    <tr>\n      <th>1</th>\n      <td>2020-10-17 02:31:04.056000+07:00</td>\n      <td>2020-10-17 18:23:24.125000+07:00</td>\n      <td>08deg 17' 05.0\"</td>\n      <td>259deg 31' 17.5\"</td>\n      <td>260deg 31' 25.2\"</td>\n      <td>09deg 10' 21.1\"</td>\n      <td>16:29:44.346000</td>\n      <td>✔</td>\n    </tr>\n  </tbody>\n</table>\n</div>",
          "text/plain": "                   Waktu Konjungsi                     Waktu Sunset  \\\n1 2020-10-17 02:31:04.056000+07:00 2020-10-17 18:23:24.125000+07:00   \n\n         Alt Bulan          Az Bulan       Az Matahari         Elongasi  \\\n1  08deg 17' 05.0\"  259deg 31' 17.5\"  260deg 31' 25.2\"  09deg 10' 21.1\"   \n\n       Usia Bulan Imkan Rukyat  \n1 16:29:44.346000            ✔  "
         },
         "metadata": {},
         "output_type": "display_data"
        },
        {
         "name": "stdout",
         "output_type": "stream",
         "text": "\n\nTopos -07deg 47' 44.2\" N 110deg 22' 10.2\" E\n"
        },
        {
         "data": {
          "text/html": "<div>\n<style scoped>\n    .dataframe tbody tr th:only-of-type {\n        vertical-align: middle;\n    }\n\n    .dataframe tbody tr th {\n        vertical-align: top;\n    }\n\n    .dataframe thead th {\n        text-align: right;\n    }\n</style>\n<table border=\"1\" class=\"dataframe\">\n  <thead>\n    <tr style=\"text-align: right;\">\n      <th></th>\n      <th>Waktu Konjungsi</th>\n      <th>Waktu Sunset</th>\n      <th>Alt Bulan</th>\n      <th>Az Bulan</th>\n      <th>Az Matahari</th>\n      <th>Elongasi</th>\n      <th>Usia Bulan</th>\n      <th>Imkan Rukyat</th>\n    </tr>\n  </thead>\n  <tbody>\n    <tr>\n      <th>1</th>\n      <td>2020-10-17 02:31:04.056000+07:00</td>\n      <td>2020-10-17 17:32:27.236000+07:00</td>\n      <td>07deg 44' 30.2\"</td>\n      <td>261deg 55' 00.9\"</td>\n      <td>260deg 17' 44.8\"</td>\n      <td>08deg 43' 33.7\"</td>\n      <td>15:36:39.229000</td>\n      <td>✔</td>\n    </tr>\n  </tbody>\n</table>\n</div>",
          "text/plain": "                   Waktu Konjungsi                     Waktu Sunset  \\\n1 2020-10-17 02:31:04.056000+07:00 2020-10-17 17:32:27.236000+07:00   \n\n         Alt Bulan          Az Bulan       Az Matahari         Elongasi  \\\n1  07deg 44' 30.2\"  261deg 55' 00.9\"  260deg 17' 44.8\"  08deg 43' 33.7\"   \n\n       Usia Bulan Imkan Rukyat  \n1 15:36:39.229000            ✔  "
         },
         "metadata": {},
         "output_type": "display_data"
        },
        {
         "name": "stdout",
         "output_type": "stream",
         "text": "\n\nTopos -08deg 29' 57.6\" N 140deg 24' 17.6\" E\n"
        },
        {
         "data": {
          "text/html": "<div>\n<style scoped>\n    .dataframe tbody tr th:only-of-type {\n        vertical-align: middle;\n    }\n\n    .dataframe tbody tr th {\n        vertical-align: top;\n    }\n\n    .dataframe thead th {\n        text-align: right;\n    }\n</style>\n<table border=\"1\" class=\"dataframe\">\n  <thead>\n    <tr style=\"text-align: right;\">\n      <th></th>\n      <th>Waktu Konjungsi</th>\n      <th>Waktu Sunset</th>\n      <th>Alt Bulan</th>\n      <th>Az Bulan</th>\n      <th>Az Matahari</th>\n      <th>Elongasi</th>\n      <th>Usia Bulan</th>\n      <th>Imkan Rukyat</th>\n    </tr>\n  </thead>\n  <tbody>\n    <tr>\n      <th>1</th>\n      <td>2020-10-17 02:31:04.056000+07:00</td>\n      <td>2020-10-17 15:32:47.806000+07:00</td>\n      <td>06deg 34' 36.1\"</td>\n      <td>262deg 22' 03.8\"</td>\n      <td>260deg 17' 55.7\"</td>\n      <td>07deg 41' 32.1\"</td>\n      <td>13:32:04.673000</td>\n      <td>✔</td>\n    </tr>\n  </tbody>\n</table>\n</div>",
          "text/plain": "                   Waktu Konjungsi                     Waktu Sunset  \\\n1 2020-10-17 02:31:04.056000+07:00 2020-10-17 15:32:47.806000+07:00   \n\n         Alt Bulan          Az Bulan       Az Matahari         Elongasi  \\\n1  06deg 34' 36.1\"  262deg 22' 03.8\"  260deg 17' 55.7\"  07deg 41' 32.1\"   \n\n       Usia Bulan Imkan Rukyat  \n1 13:32:04.673000            ✔  "
         },
         "metadata": {},
         "output_type": "display_data"
        },
        {
         "name": "stdout",
         "output_type": "stream",
         "text": "\n"
        }
       ]
      }
     },
     "a833c42195fb415484d840e79c0bec3f": {
      "model_module": "@jupyter-widgets/controls",
      "model_module_version": "1.5.0",
      "model_name": "DatePickerModel",
      "state": {
       "description": "Dari:",
       "disabled": false,
       "layout": "IPY_MODEL_f159b6c591c146f2bf18b7b00c38d5c1",
       "style": "IPY_MODEL_abe28d52582e4be4b4739dbfe9ebcbc6",
       "value": {
        "date": 6,
        "month": 9,
        "year": 2020
       }
      }
     },
     "aa367430aa85448e9f35fcea41a5cf06": {
      "model_module": "@jupyter-widgets/controls",
      "model_module_version": "1.5.0",
      "model_name": "VBoxModel",
      "state": {
       "_dom_classes": [
        "widget-interact"
       ],
       "children": [
        "IPY_MODEL_a833c42195fb415484d840e79c0bec3f",
        "IPY_MODEL_7779dffb8a564fa09c33380ecdd9c1d7",
        "IPY_MODEL_a221600948424e7297ddf15d8fe75b96"
       ],
       "layout": "IPY_MODEL_e24e9d870c354dfcb5931b6ad77a482b"
      }
     },
     "abe28d52582e4be4b4739dbfe9ebcbc6": {
      "model_module": "@jupyter-widgets/controls",
      "model_module_version": "1.5.0",
      "model_name": "DescriptionStyleModel",
      "state": {
       "description_width": ""
      }
     },
     "e24e9d870c354dfcb5931b6ad77a482b": {
      "model_module": "@jupyter-widgets/base",
      "model_module_version": "1.2.0",
      "model_name": "LayoutModel",
      "state": {}
     },
     "f159b6c591c146f2bf18b7b00c38d5c1": {
      "model_module": "@jupyter-widgets/base",
      "model_module_version": "1.2.0",
      "model_name": "LayoutModel",
      "state": {}
     }
    },
    "version_major": 2,
    "version_minor": 0
   }
  }
 },
 "nbformat": 4,
 "nbformat_minor": 4
}
