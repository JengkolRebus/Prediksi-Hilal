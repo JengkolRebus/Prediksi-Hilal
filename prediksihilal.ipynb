{
 "cells": [
  {
   "cell_type": "markdown",
   "metadata": {},
   "source": [
    "\n",
    "# Prediksi Hilal\n",
    "---"
   ]
  },
  {
   "cell_type": "code",
   "execution_count": 1,
   "metadata": {},
   "outputs": [],
   "source": [
    "# _jengkolrebus\n",
    "# Mei, 2020\n",
    "# Curup, Bengkulu"
   ]
  },
  {
   "cell_type": "markdown",
   "metadata": {},
   "source": [
    "___\n",
    "Program ini menggunakan Python Package: [Skyfield](https://rhodesmill.org/skyfield/).\n",
    "Program ini dibuat dengan ketentuan sebagai berikut:\n",
    "- Ephemeris:\n",
    "    > Ephemeris yang digunakan adalah de421.bsp\n",
    "- Definisi Matahari Terbenam:\n",
    "    > Skyfield menggunakan definisi resmi matahari terbit dan terbenam dari United States Naval Observatory, yang mendefinisikan matahari terbenam ketika pusat matahari adalah <b>0,8333</b> derajat di bawah Horizon, untuk memperhitungkan rata-rata jari-jari Matahari dan untuk rata-rata pembiasan atmosfer di horizon.\n",
    "___\n",
    "- Flowchart:\n",
    "<br>\n",
    "<img src=\"flowchart.png\">\n",
    "<br>\n",
    "- Input Lokasi berupa Latitude dan Longitude dalam bentuk <em>Decimal Degree</em> dengan format String / text.\n",
    " > Contoh : \n",
    "    Latitude: \"7.83305556 S\"\n",
    "    Longitude: \"110.38305556 E\"\n",
    "    Perhatikan Notasi \"S\" dan \"E\" bergantung pada lokasi.\n",
    "    \n",
    "- Input waktu berupa tanggal rentang waktu hilal yang ingin dicari.\n",
    " > Contoh dari tanggal 1 Januari 2020, sampai 1 Januari 2021\n",
    "___\n"
   ]
  },
  {
   "cell_type": "code",
   "execution_count": 2,
   "metadata": {},
   "outputs": [],
   "source": [
    "from skyfield.api import load, Topos\n",
    "from skyfield.units import Angle\n",
    "from skyfield import almanac\n",
    "from datetime import datetime, timedelta\n",
    "from pytz import timezone\n",
    "from ipywidgets import widgets, interact, interactive\n",
    "from IPython.display import display, HTML\n",
    "import pandas as pd\n",
    "import calendar"
   ]
  },
  {
   "cell_type": "code",
   "execution_count": 3,
   "metadata": {},
   "outputs": [],
   "source": [
    "jkt = timezone('Asia/Jakarta')\n",
    "ts = load.timescale()\n",
    "e = load('de421.bsp')"
   ]
  },
  {
   "cell_type": "code",
   "execution_count": 4,
   "metadata": {},
   "outputs": [],
   "source": [
    "class var:\n",
    "    topo=None\n",
    "    loc=None\n",
    "    MOON_RADIUS = 1737.1 # km\n",
    "    SUN_RADIUS = 696340 # km\n",
    "    conj = []\n",
    "    sunset = []\n",
    "    alt_bulan = []\n",
    "    az_bulan = []\n",
    "    alt_matahari = []\n",
    "    az_matahari = []\n",
    "    elong = []"
   ]
  },
  {
   "cell_type": "markdown",
   "metadata": {},
   "source": [
    "def find(t0, t1):\n",
    "    clearData()\n",
    "    \n",
    "    # Mendapatkan waktu konjungsi pada rentang waktu yang diberikan (t0 - t1)\n",
    "    t0 = ts.utc(t0)\n",
    "    t1 = ts.utc(t1)\n",
    "    f = almanac.oppositions_conjunctions(e, var.bulan)\n",
    "    t, y = almanac.find_discrete(t0, t1, f)\n",
    "    \n",
    "    for ti, yi in zip(t, y):\n",
    "        if (yi==1):\n",
    "            var.conj.append(ti.astimezone(jkt))\n",
    "            t = ti.utc\n",
    "            \n",
    "            # Mendapatkan Waktu sunset setelah konjungsi\n",
    "            t0 = ts.utc(t[0], t[1], t[2], t[3], t[4], t[5])\n",
    "            t1 = ts.utc(t[0], t[1], t[2]+1, t[3], t[4], t[5])\n",
    "            t, y = almanac.find_discrete(t0, t1, almanac.sunrise_sunset(e, var.topo))\n",
    "            for ti, yi in zip(t, y):\n",
    "                if (yi == False):\n",
    "                    var.sunset.append(ti.astimezone(jkt))\n",
    "                    t = ti.utc\n",
    "                    \n",
    "                    # Mendapatkan posisi Bulan dan Matahari pada saat sunset\n",
    "                    astro_bulan = var.loc.at(ts.utc(t[0], t[1], t[2], t[3], t[4], t[5])).observe(var.bulan)\n",
    "                    astro_matahari = var.loc.at(ts.utc(t[0], t[1], t[2], t[3], t[4], t[5])).observe(e['sun'])\n",
    "                    b_alt, b_az, b_d = astro_bulan.apparent().altaz()\n",
    "                    s_alt, s_az, s_d = astro_matahari.apparent().altaz()\n",
    "                    \n",
    "                    var.alt_bulan.append(b_alt)\n",
    "                    var.az_bulan.append(b_az)\n",
    "                    var.alt_matahari.append(s_alt)\n",
    "                    var.az_matahari.append(s_az)\n",
    "                    \n",
    "                    elong = astro_bulan.separation_from(astro_matahari)\n",
    "                    var.elong.append(elong)\n",
    "                else:\n",
    "                    pass\n",
    "        else:\n",
    "            pass\n",
    "        \n",
    "        \n",
    "    tabel = list(zip(var.conj, var.sunset, \n",
    "                     var.alt_bulan, var.az_bulan, \n",
    "                     var.alt_matahari, var.az_matahari, \n",
    "                    var.elong))\n",
    "    df = pd.DataFrame(tabel, columns=['Waktu Konjungsi (UTC+07)', 'Waktu Hilal (UTC+07)', \n",
    "                                      'Altitude Bulan', 'Azimuth Bulan', \n",
    "                                      'Altitude Matahari', 'Azimuth Matahari', \n",
    "                                     'Elongasi'])\n",
    "    df.index+=1\n",
    "    display(df)\n",
    "\n",
    "def topo(Latitude, Longitude):\n",
    "    # Mendapatkan toposentrik dari Lat dan Long\n",
    "    topo = Topos(Latitude, Longitude)\n",
    "    var.topo = topo\n",
    "    \n",
    "    # Mendapatkan Lokasi + Toposentrik\n",
    "    loc = var.bumi + topo\n",
    "    var.loc = loc\n",
    "    \n",
    "    # Menampilkan interaksi waktu\n",
    "    interact(find, t0=dari, t1=sampai)\n",
    "    \n",
    "    \n",
    "def clearData():\n",
    "    var.conj.clear()\n",
    "    var.sunset.clear()\n",
    "    var.alt_bulan.clear()\n",
    "    var.az_bulan.clear()\n",
    "    var.alt_matahari.clear()\n",
    "    var.az_matahari.clear()\n",
    "    var.elong.clear()"
   ]
  },
  {
   "cell_type": "code",
   "execution_count": null,
   "metadata": {},
   "outputs": [],
   "source": [
    "def find(lat, long, t0, t1):\n",
    "    var.topo = Topos(lat, long)\n",
    "    print(var.topo)\n",
    "    var.loc = e['earth']+topo\n",
    "    print(var.loc)"
   ]
  },
  {
   "cell_type": "code",
   "execution_count": 6,
   "metadata": {},
   "outputs": [
    {
     "data": {
      "application/vnd.jupyter.widget-view+json": {
       "model_id": "a816b9a613294868b352babd717f570d",
       "version_major": 2,
       "version_minor": 0
      },
      "text/plain": [
       "interactive(children=(Text(value='7.83305556 S', description='Latitude'), Text(value='110.38305556 E', descrip…"
      ]
     },
     "metadata": {},
     "output_type": "display_data"
    }
   ],
   "source": [
    "hari_ini = datetime.now().date()\n",
    "days_in_month = calendar.monthrange(hari_ini.year, hari_ini.month)[1]\n",
    "besok = hari_ini + timedelta(days_in_month)\n",
    "\n",
    "dari = widgets.DatePicker(value=hari_ini,\n",
    "    description='Dari:',\n",
    "    disabled=False\n",
    ")\n",
    "sampai = widgets.DatePicker(value=besok,\n",
    "    description='Sampai:',\n",
    "    disabled=False\n",
    ")\n",
    "\n",
    "lat = widgets.Text(value='7.83305556 S', description='Latitude:')\n",
    "long = widgets.Text(value='110.38305556 E', description='Longitude:')\n",
    "\n",
    "interactive(find, lat=lat, long=long, t0=dari, t1=sampai)"
   ]
  },
  {
   "cell_type": "code",
   "execution_count": null,
   "metadata": {},
   "outputs": [],
   "source": []
  }
 ],
 "metadata": {
  "kernelspec": {
   "display_name": "Python 3",
   "language": "python",
   "name": "python3"
  },
  "language_info": {
   "codemirror_mode": {
    "name": "ipython",
    "version": 3
   },
   "file_extension": ".py",
   "mimetype": "text/x-python",
   "name": "python",
   "nbconvert_exporter": "python",
   "pygments_lexer": "ipython3",
   "version": "3.7.6"
  },
  "widgets": {
   "application/vnd.jupyter.widget-state+json": {
    "state": {
     "0d3010a4533a4d09b5add2a9470868e2": {
      "model_module": "@jupyter-widgets/base",
      "model_module_version": "1.2.0",
      "model_name": "LayoutModel",
      "state": {}
     },
     "28852991b8364686b23d1e46954da857": {
      "model_module": "@jupyter-widgets/base",
      "model_module_version": "1.2.0",
      "model_name": "LayoutModel",
      "state": {}
     },
     "580acdebdc73477e9472400392596e7d": {
      "model_module": "@jupyter-widgets/controls",
      "model_module_version": "1.5.0",
      "model_name": "TextModel",
      "state": {
       "description": "Latitude",
       "layout": "IPY_MODEL_cac4ecdf90774cc9b591077f4c27f9ea",
       "style": "IPY_MODEL_8d598a18023c4bb3a69c6c00eaa8c944",
       "value": "7.83305556 S"
      }
     },
     "60c07b40770342a093df6b4228c86831": {
      "model_module": "@jupyter-widgets/controls",
      "model_module_version": "1.5.0",
      "model_name": "VBoxModel",
      "state": {
       "_dom_classes": [
        "widget-interact"
       ],
       "children": [
        "IPY_MODEL_c87144df219a4cd5a4d5eb57e207faf0",
        "IPY_MODEL_9627de07f4114ae7a43fc4a468e02181",
        "IPY_MODEL_98c4ecd746c54700a6b54539a50f73b4"
       ],
       "layout": "IPY_MODEL_d7c7bff68fd04e3fbe1d5ce1dfb158e3"
      }
     },
     "67e5c10814cf44faaf80c33c100c1927": {
      "model_module": "@jupyter-widgets/base",
      "model_module_version": "1.2.0",
      "model_name": "LayoutModel",
      "state": {}
     },
     "801dbb5a1e1b4f9b811ca603b707f9cc": {
      "model_module": "@jupyter-widgets/controls",
      "model_module_version": "1.5.0",
      "model_name": "DescriptionStyleModel",
      "state": {
       "description_width": ""
      }
     },
     "86b81bebe61f49bf80f0f46e83068a5c": {
      "model_module": "@jupyter-widgets/controls",
      "model_module_version": "1.5.0",
      "model_name": "DescriptionStyleModel",
      "state": {
       "description_width": ""
      }
     },
     "8d598a18023c4bb3a69c6c00eaa8c944": {
      "model_module": "@jupyter-widgets/controls",
      "model_module_version": "1.5.0",
      "model_name": "DescriptionStyleModel",
      "state": {
       "description_width": ""
      }
     },
     "9627de07f4114ae7a43fc4a468e02181": {
      "model_module": "@jupyter-widgets/controls",
      "model_module_version": "1.5.0",
      "model_name": "DatePickerModel",
      "state": {
       "description": "Sampai:",
       "disabled": false,
       "layout": "IPY_MODEL_a5a39d8530a040d9a0222c681f5fb9d8",
       "style": "IPY_MODEL_86b81bebe61f49bf80f0f46e83068a5c",
       "value": {
        "date": 3,
        "month": 6,
        "year": 2020
       }
      }
     },
     "98c4ecd746c54700a6b54539a50f73b4": {
      "model_module": "@jupyter-widgets/output",
      "model_module_version": "1.0.0",
      "model_name": "OutputModel",
      "state": {
       "layout": "IPY_MODEL_0d3010a4533a4d09b5add2a9470868e2",
       "outputs": [
        {
         "data": {
          "text/html": "<div>\n<style scoped>\n    .dataframe tbody tr th:only-of-type {\n        vertical-align: middle;\n    }\n\n    .dataframe tbody tr th {\n        vertical-align: top;\n    }\n\n    .dataframe thead th {\n        text-align: right;\n    }\n</style>\n<table border=\"1\" class=\"dataframe\">\n  <thead>\n    <tr style=\"text-align: right;\">\n      <th></th>\n      <th>Waktu Konjungsi (UTC+07)</th>\n      <th>Waktu Hilal (UTC+07)</th>\n      <th>Altitude Bulan</th>\n      <th>Azimuth Bulan</th>\n      <th>Altitude Matahari</th>\n      <th>Azimuth Matahari</th>\n      <th>Elongasi</th>\n    </tr>\n  </thead>\n  <tbody>\n    <tr>\n      <th>1</th>\n      <td>2020-06-21 13:41:27.481000+07:00</td>\n      <td>2020-06-21 17:30:21.892000+07:00</td>\n      <td>00deg 04' 17.9\"</td>\n      <td>294deg 06' 43.4\"</td>\n      <td>-00deg 49' 59.9\"</td>\n      <td>293deg 32' 51.3\"</td>\n      <td>01deg 03' 59.6\"</td>\n    </tr>\n  </tbody>\n</table>\n</div>",
          "text/plain": "          Waktu Konjungsi (UTC+07)             Waktu Hilal (UTC+07)  \\\n1 2020-06-21 13:41:27.481000+07:00 2020-06-21 17:30:21.892000+07:00   \n\n    Altitude Bulan     Azimuth Bulan Altitude Matahari  Azimuth Matahari  \\\n1  00deg 04' 17.9\"  294deg 06' 43.4\"  -00deg 49' 59.9\"  293deg 32' 51.3\"   \n\n          Elongasi  \n1  01deg 03' 59.6\"  "
         },
         "metadata": {},
         "output_type": "display_data"
        }
       ]
      }
     },
     "a5a39d8530a040d9a0222c681f5fb9d8": {
      "model_module": "@jupyter-widgets/base",
      "model_module_version": "1.2.0",
      "model_name": "LayoutModel",
      "state": {}
     },
     "a816b9a613294868b352babd717f570d": {
      "model_module": "@jupyter-widgets/controls",
      "model_module_version": "1.5.0",
      "model_name": "VBoxModel",
      "state": {
       "_dom_classes": [
        "widget-interact"
       ],
       "children": [
        "IPY_MODEL_580acdebdc73477e9472400392596e7d",
        "IPY_MODEL_ccc9a84a5b5a4aa6a01c7694f1e679ad",
        "IPY_MODEL_afd23b37d78e46cdafdefa580ae929c6"
       ],
       "layout": "IPY_MODEL_67e5c10814cf44faaf80c33c100c1927"
      }
     },
     "afd23b37d78e46cdafdefa580ae929c6": {
      "model_module": "@jupyter-widgets/output",
      "model_module_version": "1.0.0",
      "model_name": "OutputModel",
      "state": {
       "layout": "IPY_MODEL_c55d55862a244806aba2369668ad799e",
       "outputs": [
        {
         "data": {
          "application/vnd.jupyter.widget-view+json": {
           "model_id": "60c07b40770342a093df6b4228c86831",
           "version_major": 2,
           "version_minor": 0
          },
          "text/plain": "interactive(children=(DatePicker(value=datetime.date(2020, 6, 3), description='Dari:'), DatePicker(value=datet…"
         },
         "metadata": {},
         "output_type": "display_data"
        }
       ]
      }
     },
     "c55d55862a244806aba2369668ad799e": {
      "model_module": "@jupyter-widgets/base",
      "model_module_version": "1.2.0",
      "model_name": "LayoutModel",
      "state": {}
     },
     "c87144df219a4cd5a4d5eb57e207faf0": {
      "model_module": "@jupyter-widgets/controls",
      "model_module_version": "1.5.0",
      "model_name": "DatePickerModel",
      "state": {
       "description": "Dari:",
       "disabled": false,
       "layout": "IPY_MODEL_f4e9f63f122649088dc2baee77a3dea9",
       "style": "IPY_MODEL_801dbb5a1e1b4f9b811ca603b707f9cc",
       "value": {
        "date": 3,
        "month": 5,
        "year": 2020
       }
      }
     },
     "cac4ecdf90774cc9b591077f4c27f9ea": {
      "model_module": "@jupyter-widgets/base",
      "model_module_version": "1.2.0",
      "model_name": "LayoutModel",
      "state": {}
     },
     "ccc9a84a5b5a4aa6a01c7694f1e679ad": {
      "model_module": "@jupyter-widgets/controls",
      "model_module_version": "1.5.0",
      "model_name": "TextModel",
      "state": {
       "description": "Longitude",
       "layout": "IPY_MODEL_28852991b8364686b23d1e46954da857",
       "style": "IPY_MODEL_da6834c9113a44699a8ba0591fc90e5e",
       "value": "110.38305556 E"
      }
     },
     "d7c7bff68fd04e3fbe1d5ce1dfb158e3": {
      "model_module": "@jupyter-widgets/base",
      "model_module_version": "1.2.0",
      "model_name": "LayoutModel",
      "state": {}
     },
     "da6834c9113a44699a8ba0591fc90e5e": {
      "model_module": "@jupyter-widgets/controls",
      "model_module_version": "1.5.0",
      "model_name": "DescriptionStyleModel",
      "state": {
       "description_width": ""
      }
     },
     "f4e9f63f122649088dc2baee77a3dea9": {
      "model_module": "@jupyter-widgets/base",
      "model_module_version": "1.2.0",
      "model_name": "LayoutModel",
      "state": {}
     }
    },
    "version_major": 2,
    "version_minor": 0
   }
  }
 },
 "nbformat": 4,
 "nbformat_minor": 4
}
