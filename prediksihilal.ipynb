{
 "cells": [
  {
   "cell_type": "markdown",
   "metadata": {},
   "source": [
    "\n",
    "# Prediksi Hilal\n",
    "---"
   ]
  },
  {
   "cell_type": "code",
   "execution_count": 1,
   "metadata": {},
   "outputs": [],
   "source": [
    "# _jengkolrebus\n",
    "# Mei, 2020\n",
    "# Curup, Bengkulu"
   ]
  },
  {
   "cell_type": "markdown",
   "metadata": {},
   "source": [
    "Program ini menggunakan Python Package: [Skyfield](https://rhodesmill.org/skyfield/).\n",
    "Program ini dibuat dengan ketentuan sebagai berikut:\n",
    "- Ephemeris:\n",
    "    > Ephemeris yang digunakan adalah de421.bsp\n",
    "- Definisi Matahari Terbenam:\n",
    "    > Skyfield menggunakan definisi resmi matahari terbit dan terbenam dari United States Naval Observatory, yang mendefinisikan matahari terbenam ketika pusat matahari adalah <b>0,8333</b> derajat di bawah Horizon, untuk memperhitungkan rata-rata jari-jari Matahari dan untuk rata-rata pembiasan atmosfer di horizon.\n",
    "___\n",
    "- Flowchart:\n",
    "<br>\n",
    "<img src=\"flowchart.png\">\n",
    "<br>\n",
    "- Input Lokasi berupa Latitude dan Longitude dalam bentuk <em>Decimal Degree</em> dengan format String / text.\n",
    " > Contoh : \n",
    "    Latitude: \"7.83305556 S\"\n",
    "    Longitude: \"110.38305556 E\"\n",
    "    Perhatikan Notasi \"S\" dan \"E\" bergantung pada lokasi.\n",
    "    \n",
    "- Input waktu berupa tanggal rentang waktu hilal yang ingin dicari.\n",
    " > Contoh dari tanggal 1 Januari 2020, sampai 1 Januari 2021\n",
    "___\n"
   ]
  },
  {
   "cell_type": "code",
   "execution_count": 2,
   "metadata": {},
   "outputs": [],
   "source": [
    "from skyfield.api import load, Topos\n",
    "from skyfield.units import Angle\n",
    "from skyfield import almanac\n",
    "from datetime import datetime, timedelta\n",
    "from pytz import timezone\n",
    "from ipywidgets import widgets, interact, interactive\n",
    "from IPython.display import display, HTML\n",
    "import pandas as pd\n",
    "import calendar"
   ]
  },
  {
   "cell_type": "code",
   "execution_count": 3,
   "metadata": {},
   "outputs": [],
   "source": [
    "jkt = timezone('Asia/Jakarta')\n",
    "ts = load.timescale()\n",
    "e = load('de421.bsp')"
   ]
  },
  {
   "cell_type": "code",
   "execution_count": 4,
   "metadata": {},
   "outputs": [],
   "source": [
    "# Membuat variable-variable global\n",
    "class var:\n",
    "    topo=None\n",
    "    loc=None\n",
    "    MOON_RADIUS = 1737.1 # km\n",
    "    SUN_RADIUS = 696340 # km\n",
    "    konjungsi = []\n",
    "    sunset = []\n",
    "    alt_bulan = []\n",
    "    az_bulan = []\n",
    "    jarak_bulan = []\n",
    "    alt_matahari = []\n",
    "    az_matahari = []\n",
    "    jarak_matahari = []\n",
    "    elong = []\n",
    "    ir = []\n",
    "    moonset = []\n",
    "    usia_bulan = []"
   ]
  },
  {
   "cell_type": "markdown",
   "metadata": {},
   "source": [
    "### Kriteria Hilal\n",
    "- Imkanur Rukyat\n",
    "    > - Pada saat matahari terbenam, <b>ketinggian bulan minimal 2$^\\circ$</b>, <b>Elongasi minimal 3$^\\circ$</b>.\n",
    "    > - Pada saat Bulan terbenam, usia bulan minimal <b>8 Jam</b>, dihitung sejak ijtima' (konjungsi)\n",
    "    \n",
    "___"
   ]
  },
  {
   "cell_type": "code",
   "execution_count": 5,
   "metadata": {},
   "outputs": [],
   "source": [
    "# Metode untuk membandingkan dengan Imkan Rukyat\n",
    "def imkanRukyat():\n",
    "    alt = var.alt_bulan\n",
    "    elong = var.elong\n",
    "    usia_bulan = var.usia_bulan\n",
    "    for i, j, k in zip(alt, elong, usia_bulan):\n",
    "        if(i.degrees >= 2 and j.degrees >= 3 and (timedelta.total_seconds(k)/3600) > 8):\n",
    "            var.ir.append(u'\\u2714')\n",
    "        else:\n",
    "            var.ir.append(u'\\u2718')"
   ]
  },
  {
   "cell_type": "code",
   "execution_count": 6,
   "metadata": {},
   "outputs": [],
   "source": [
    "# Menghapus data yang tersimpan dalam variable, agar tidak menumpuk ketika pengaturan lokasi/waktu diubah\n",
    "def clearVar():\n",
    "    var.konjungsi.clear()\n",
    "    var.sunset.clear()\n",
    "    var.alt_bulan.clear()\n",
    "    var.az_bulan.clear()\n",
    "    var.jarak_bulan.clear()\n",
    "    var.alt_matahari.clear()\n",
    "    var.az_matahari.clear()\n",
    "    var.jarak_matahari.clear()\n",
    "    var.elong.clear()\n",
    "    var.ir.clear()\n",
    "    var.usia_bulan.clear()\n",
    "    var.moonset.clear()\n",
    "\n",
    "# Metode untuk mendapatkan posisi benda langit\n",
    "def posisiObyek(obj, t):\n",
    "    obj = e[obj]\n",
    "    astrometric = var.loc.at(t).observe(obj)\n",
    "    alt, az, d = astrometric.apparent().altaz()\n",
    "    return astrometric, alt, az, d.km\n",
    "\n",
    "def usiaBulan():\n",
    "    for i, j in zip(var.konjungsi, var.moonset):\n",
    "        t0 = j\n",
    "        t1 = i\n",
    "        dt = t0-t1\n",
    "#         (h, m, s) = str(dt).split(':')\n",
    "#         result = (int(h)) + (int(m) / 60) + (float(s)/3600)\n",
    "#         dt = timedelta.total_seconds(dt)/3600\n",
    "        var.usia_bulan.append(dt)\n",
    "\n",
    "def moonset(t):\n",
    "    konj = t\n",
    "    t = t.utc\n",
    "    t0 = ts.utc(t[0], t[1], t[2], t[3], t[4], t[5])\n",
    "    t1 = ts.utc(t[0], t[1], t[2]+1, t[3], t[4], t[5])\n",
    "    f = almanac.risings_and_settings(e, e['moon'], var.topo)\n",
    "    t, y = almanac.find_discrete(t0, t1, f)\n",
    "    \n",
    "    for ti, yi in zip(t, y):\n",
    "        if(yi==False):\n",
    "            var.moonset.append(ti.astimezone(jkt))\n",
    "        else:\n",
    "            pass\n",
    "# Metode untuk mendapatkan waktu Sunset\n",
    "def sunset(t):\n",
    "    t_konj = t\n",
    "    t = t.utc\n",
    "    t0 = ts.utc(t[0], t[1], t[2], t[3], t[4], t[5])\n",
    "    t1 = ts.utc(t[0], t[1], t[2]+1, t[3], t[4], t[5])\n",
    "    f = almanac.sunrise_sunset(e, var.topo)\n",
    "    t, y = almanac.find_discrete(t0, t1, f)\n",
    "    \n",
    "    for ti, yi in zip(t, y):\n",
    "        if(yi==False):\n",
    "            var.sunset.append(ti.astimezone(jkt))\n",
    "            \n",
    "            # Mendapatkan posisi Bulan\n",
    "            bulan = posisiObyek('moon', ti)\n",
    "            var.alt_bulan.append(bulan[1])\n",
    "            var.az_bulan.append(bulan[2])\n",
    "            var.jarak_bulan.append(bulan[3])\n",
    "            \n",
    "            # Mendapatkan posisi Matahari\n",
    "            matahari = posisiObyek('sun', ti)\n",
    "            var.alt_matahari.append(matahari[1])\n",
    "            var.az_matahari.append(matahari[2])\n",
    "            var.jarak_matahari.append(matahari[3])\n",
    "            \n",
    "            # Mendapatkan Elongasi\n",
    "            elong = bulan[0].separation_from(matahari[0])\n",
    "            var.elong.append(elong)\n",
    "            \n",
    "            \n",
    "            \n",
    "            moonset(ti)\n",
    "        else:\n",
    "            pass\n",
    "\n",
    "# Metode untuk mendapatkan waktu konjungsi\n",
    "def konjungsi(t0, t1):\n",
    "    t0 = ts.utc(t0)\n",
    "    t1 = ts.utc(t1)\n",
    "    f = almanac.oppositions_conjunctions(e, e['moon'])\n",
    "    t, y = almanac.find_discrete(t0, t1, f)\n",
    "    \n",
    "    for ti, yi in zip(t, y):\n",
    "        if(yi==1):\n",
    "            var.konjungsi.append(ti.astimezone(jkt))\n",
    "            \n",
    "            # Mendapatkan Waktu sunset setelah konjungsi\n",
    "            sunset(ti)\n",
    "        else:\n",
    "            pass\n"
   ]
  },
  {
   "cell_type": "code",
   "execution_count": 9,
   "metadata": {},
   "outputs": [],
   "source": [
    "# Metode untuk mendapatkan posisi toposentrik\n",
    "def find(lat, long, t0, t1):\n",
    "    clearVar()\n",
    "    \n",
    "    var.topo = Topos(lat, long)\n",
    "    print(var.topo)\n",
    "    var.loc = e['earth']+var.topo\n",
    "    \n",
    "    # Mendapatkan waktu konjungsi\n",
    "    konjungsi(t0, t1)\n",
    "    \n",
    "    usiaBulan()\n",
    "    imkanRukyat()\n",
    "    # Menampilkan hasil dalam bentuk tabel dataframe\n",
    "    tabel = list(zip(var.konjungsi, var.sunset,\n",
    "                     var.alt_bulan, var.az_bulan, \n",
    "                     var.alt_matahari, var.az_matahari, \n",
    "                    var.elong, \n",
    "                     var.moonset, var.usia_bulan, var.ir))\n",
    "    df = pd.DataFrame(tabel, columns=['Waktu Konjungsi (UTC+07)', 'Waktu Hilal (UTC+07)', \n",
    "                                      'Altitude Bulan', 'Azimuth Bulan', \n",
    "                                      'Altitude Matahari', 'Azimuth Matahari', \n",
    "                                     'Elongasi', 'Moonset', 'Usia Bulan (jam)', 'Imkan Rukyat'])\n",
    "    df.index+=1\n",
    "    display(df)"
   ]
  },
  {
   "cell_type": "code",
   "execution_count": 10,
   "metadata": {},
   "outputs": [
    {
     "data": {
      "application/vnd.jupyter.widget-view+json": {
       "model_id": "bf2482981d014a7fbf4172f6a4c966f1",
       "version_major": 2,
       "version_minor": 0
      },
      "text/plain": [
       "interactive(children=(Text(value='7.83305556 S', description='Latitude:'), Text(value='110.38305556 E', descri…"
      ]
     },
     "metadata": {},
     "output_type": "display_data"
    }
   ],
   "source": [
    "hari_ini = datetime.now().date()\n",
    "days_in_month = calendar.monthrange(hari_ini.year, hari_ini.month)[1]\n",
    "bulan_depan = hari_ini + timedelta(days_in_month)\n",
    "\n",
    "dari = widgets.DatePicker(value=hari_ini,\n",
    "    description='Dari:',\n",
    "    disabled=False\n",
    ")\n",
    "sampai = widgets.DatePicker(value=bulan_depan,\n",
    "    description='Sampai:',\n",
    "    disabled=False\n",
    ")\n",
    "\n",
    "lat = widgets.Text(value='7.83305556 S', description='Latitude:')\n",
    "long = widgets.Text(value='110.38305556 E', description='Longitude:')\n",
    "\n",
    "interactive(find, lat=lat, long=long, t0=dari, t1=sampai)\n"
   ]
  },
  {
   "cell_type": "code",
   "execution_count": null,
   "metadata": {},
   "outputs": [],
   "source": []
  },
  {
   "cell_type": "code",
   "execution_count": null,
   "metadata": {},
   "outputs": [],
   "source": []
  }
 ],
 "metadata": {
  "kernelspec": {
   "display_name": "Python 3",
   "language": "python",
   "name": "python3"
  },
  "language_info": {
   "codemirror_mode": {
    "name": "ipython",
    "version": 3
   },
   "file_extension": ".py",
   "mimetype": "text/x-python",
   "name": "python",
   "nbconvert_exporter": "python",
   "pygments_lexer": "ipython3",
   "version": "3.7.6"
  },
  "widgets": {
   "application/vnd.jupyter.widget-state+json": {
    "state": {
     "065867b9d53849ae83a257dfe86aef43": {
      "model_module": "@jupyter-widgets/base",
      "model_module_version": "1.2.0",
      "model_name": "LayoutModel",
      "state": {}
     },
     "1c379cec2c594053a82daa8937184184": {
      "model_module": "@jupyter-widgets/base",
      "model_module_version": "1.2.0",
      "model_name": "LayoutModel",
      "state": {}
     },
     "23e309955cf8471cb00aa1d80dfbcfd8": {
      "model_module": "@jupyter-widgets/base",
      "model_module_version": "1.2.0",
      "model_name": "LayoutModel",
      "state": {}
     },
     "2f12e455bd39411daa448b0752e7f75a": {
      "model_module": "@jupyter-widgets/controls",
      "model_module_version": "1.5.0",
      "model_name": "TextModel",
      "state": {
       "description": "Latitude:",
       "layout": "IPY_MODEL_23e309955cf8471cb00aa1d80dfbcfd8",
       "style": "IPY_MODEL_90c971ceb89d44b6b59372c8b44b2c3e",
       "value": "7.83305556 S"
      }
     },
     "33621f3063ae4fc69c8815e510087dbc": {
      "model_module": "@jupyter-widgets/controls",
      "model_module_version": "1.5.0",
      "model_name": "DescriptionStyleModel",
      "state": {
       "description_width": ""
      }
     },
     "3a9931911b35498b8180ec0153abe7ad": {
      "model_module": "@jupyter-widgets/base",
      "model_module_version": "1.2.0",
      "model_name": "LayoutModel",
      "state": {}
     },
     "4be2fd0585af4b2a963a5fddd0331b18": {
      "model_module": "@jupyter-widgets/controls",
      "model_module_version": "1.5.0",
      "model_name": "DatePickerModel",
      "state": {
       "description": "Dari:",
       "disabled": false,
       "layout": "IPY_MODEL_3a9931911b35498b8180ec0153abe7ad",
       "style": "IPY_MODEL_c791ef1b9b2840f58f0803c2bac2fff8",
       "value": {
        "date": 9,
        "month": 5,
        "year": 2020
       }
      }
     },
     "51e6822500744efbb097da211630a42a": {
      "model_module": "@jupyter-widgets/controls",
      "model_module_version": "1.5.0",
      "model_name": "TextModel",
      "state": {
       "description": "Latitude:",
       "layout": "IPY_MODEL_1c379cec2c594053a82daa8937184184",
       "style": "IPY_MODEL_5eea62d168704f439630f8f0e6443d0d",
       "value": "7.83305556 S"
      }
     },
     "58415ef78beb47309b560e22ed5bdc32": {
      "model_module": "@jupyter-widgets/controls",
      "model_module_version": "1.5.0",
      "model_name": "TextModel",
      "state": {
       "description": "Longitude:",
       "layout": "IPY_MODEL_c86d3e6a39c946068ea7cfa40dcf0a1e",
       "style": "IPY_MODEL_b833c4877ed341e58d716b8bb8379bf5",
       "value": "110.38305556 E"
      }
     },
     "586ac30699cb43aa974efa803f189eb6": {
      "model_module": "@jupyter-widgets/base",
      "model_module_version": "1.2.0",
      "model_name": "LayoutModel",
      "state": {}
     },
     "5958939242b0469d816038b5f6523d9b": {
      "model_module": "@jupyter-widgets/base",
      "model_module_version": "1.2.0",
      "model_name": "LayoutModel",
      "state": {}
     },
     "5ca87e8d04ef45b99cc7289f6a8e45ae": {
      "model_module": "@jupyter-widgets/controls",
      "model_module_version": "1.5.0",
      "model_name": "DescriptionStyleModel",
      "state": {
       "description_width": ""
      }
     },
     "5eea62d168704f439630f8f0e6443d0d": {
      "model_module": "@jupyter-widgets/controls",
      "model_module_version": "1.5.0",
      "model_name": "DescriptionStyleModel",
      "state": {
       "description_width": ""
      }
     },
     "670259f2b3e84c2a8341a132c8d95e52": {
      "model_module": "@jupyter-widgets/base",
      "model_module_version": "1.2.0",
      "model_name": "LayoutModel",
      "state": {}
     },
     "6ce1c241e1b74c82bd813e6476b0a56a": {
      "model_module": "@jupyter-widgets/controls",
      "model_module_version": "1.5.0",
      "model_name": "DatePickerModel",
      "state": {
       "description": "Sampai:",
       "disabled": false,
       "layout": "IPY_MODEL_95afc098d16c4fab99acddf7a7db0731",
       "style": "IPY_MODEL_33621f3063ae4fc69c8815e510087dbc",
       "value": {
        "date": 1,
        "month": 11,
        "year": 2020
       }
      }
     },
     "715daf1a7fbd45d3ad36fd4b086a84bf": {
      "model_module": "@jupyter-widgets/controls",
      "model_module_version": "1.5.0",
      "model_name": "TextModel",
      "state": {
       "description": "Longitude:",
       "layout": "IPY_MODEL_065867b9d53849ae83a257dfe86aef43",
       "style": "IPY_MODEL_de82a74246e345f4a3e3b8d7e7226a77",
       "value": "110.38305556 E"
      }
     },
     "723d7f2659074b088bf5e17c64787afa": {
      "model_module": "@jupyter-widgets/output",
      "model_module_version": "1.0.0",
      "model_name": "OutputModel",
      "state": {
       "layout": "IPY_MODEL_670259f2b3e84c2a8341a132c8d95e52",
       "outputs": [
        {
         "name": "stdout",
         "output_type": "stream",
         "text": "Topos -07deg 49' 59.0\" N 110deg 22' 59.0\" E\n"
        },
        {
         "data": {
          "text/html": "<div>\n<style scoped>\n    .dataframe tbody tr th:only-of-type {\n        vertical-align: middle;\n    }\n\n    .dataframe tbody tr th {\n        vertical-align: top;\n    }\n\n    .dataframe thead th {\n        text-align: right;\n    }\n</style>\n<table border=\"1\" class=\"dataframe\">\n  <thead>\n    <tr style=\"text-align: right;\">\n      <th></th>\n      <th>Waktu Konjungsi (UTC+07)</th>\n      <th>Waktu Hilal (UTC+07)</th>\n      <th>Altitude Bulan</th>\n      <th>Azimuth Bulan</th>\n      <th>Altitude Matahari</th>\n      <th>Azimuth Matahari</th>\n      <th>Elongasi</th>\n      <th>Moonset</th>\n      <th>Usia Bulan (jam)</th>\n      <th>Imkan Rukyat</th>\n    </tr>\n  </thead>\n  <tbody>\n    <tr>\n      <th>1</th>\n      <td>2020-06-21 13:41:27.481000+07:00</td>\n      <td>2020-06-21 17:30:21.892000+07:00</td>\n      <td>00deg 04' 17.9\"</td>\n      <td>294deg 06' 43.4\"</td>\n      <td>-00deg 49' 59.9\"</td>\n      <td>293deg 32' 51.3\"</td>\n      <td>01deg 03' 59.6\"</td>\n      <td>2020-06-21 17:33:17.617000+07:00</td>\n      <td>0 days 03:51:50.136000</td>\n      <td>✘</td>\n    </tr>\n    <tr>\n      <th>2</th>\n      <td>2020-07-21 00:32:57.810000+07:00</td>\n      <td>2020-07-21 17:36:49.999000+07:00</td>\n      <td>07deg 31' 36.2\"</td>\n      <td>293deg 07' 24.2\"</td>\n      <td>-00deg 49' 59.9\"</td>\n      <td>290deg 24' 42.0\"</td>\n      <td>08deg 47' 11.7\"</td>\n      <td>2020-07-21 18:13:34.150000+07:00</td>\n      <td>0 days 17:40:36.340000</td>\n      <td>✔</td>\n    </tr>\n    <tr>\n      <th>3</th>\n      <td>2020-08-19 09:41:40.904000+07:00</td>\n      <td>2020-08-19 17:38:25.982000+07:00</td>\n      <td>03deg 30' 39.9\"</td>\n      <td>286deg 04' 15.8\"</td>\n      <td>-00deg 49' 59.9\"</td>\n      <td>282deg 32' 51.4\"</td>\n      <td>05deg 35' 32.7\"</td>\n      <td>2020-08-19 17:56:13.307000+07:00</td>\n      <td>0 days 08:14:32.403000</td>\n      <td>✔</td>\n    </tr>\n    <tr>\n      <th>4</th>\n      <td>2020-09-17 18:00:14.099000+07:00</td>\n      <td>2020-09-18 17:34:56.523000+07:00</td>\n      <td>12deg 51' 07.6\"</td>\n      <td>272deg 29' 09.9\"</td>\n      <td>-00deg 49' 59.9\"</td>\n      <td>271deg 30' 09.8\"</td>\n      <td>13deg 43' 12.0\"</td>\n      <td>2020-09-18 18:31:10.266000+07:00</td>\n      <td>1 days 00:30:56.167000</td>\n      <td>✔</td>\n    </tr>\n    <tr>\n      <th>5</th>\n      <td>2020-10-17 02:31:04.056000+07:00</td>\n      <td>2020-10-17 17:32:25.534000+07:00</td>\n      <td>07deg 44' 25.4\"</td>\n      <td>261deg 55' 19.1\"</td>\n      <td>-00deg 49' 59.9\"</td>\n      <td>260deg 17' 39.6\"</td>\n      <td>08deg 43' 33.3\"</td>\n      <td>2020-10-17 18:07:41.442000+07:00</td>\n      <td>0 days 15:36:37.386000</td>\n      <td>✔</td>\n    </tr>\n    <tr>\n      <th>6</th>\n      <td>2020-11-15 12:07:11.638000+07:00</td>\n      <td>2020-11-15 17:37:19.709000+07:00</td>\n      <td>01deg 34' 54.1\"</td>\n      <td>252deg 46' 31.0\"</td>\n      <td>-00deg 49' 59.9\"</td>\n      <td>251deg 02' 34.1\"</td>\n      <td>02deg 58' 19.4\"</td>\n      <td>2020-11-15 17:46:48.352000+07:00</td>\n      <td>0 days 05:39:36.714000</td>\n      <td>✘</td>\n    </tr>\n  </tbody>\n</table>\n</div>",
          "text/plain": "          Waktu Konjungsi (UTC+07)             Waktu Hilal (UTC+07)  \\\n1 2020-06-21 13:41:27.481000+07:00 2020-06-21 17:30:21.892000+07:00   \n2 2020-07-21 00:32:57.810000+07:00 2020-07-21 17:36:49.999000+07:00   \n3 2020-08-19 09:41:40.904000+07:00 2020-08-19 17:38:25.982000+07:00   \n4 2020-09-17 18:00:14.099000+07:00 2020-09-18 17:34:56.523000+07:00   \n5 2020-10-17 02:31:04.056000+07:00 2020-10-17 17:32:25.534000+07:00   \n6 2020-11-15 12:07:11.638000+07:00 2020-11-15 17:37:19.709000+07:00   \n\n    Altitude Bulan     Azimuth Bulan Altitude Matahari  Azimuth Matahari  \\\n1  00deg 04' 17.9\"  294deg 06' 43.4\"  -00deg 49' 59.9\"  293deg 32' 51.3\"   \n2  07deg 31' 36.2\"  293deg 07' 24.2\"  -00deg 49' 59.9\"  290deg 24' 42.0\"   \n3  03deg 30' 39.9\"  286deg 04' 15.8\"  -00deg 49' 59.9\"  282deg 32' 51.4\"   \n4  12deg 51' 07.6\"  272deg 29' 09.9\"  -00deg 49' 59.9\"  271deg 30' 09.8\"   \n5  07deg 44' 25.4\"  261deg 55' 19.1\"  -00deg 49' 59.9\"  260deg 17' 39.6\"   \n6  01deg 34' 54.1\"  252deg 46' 31.0\"  -00deg 49' 59.9\"  251deg 02' 34.1\"   \n\n          Elongasi                          Moonset       Usia Bulan (jam)  \\\n1  01deg 03' 59.6\" 2020-06-21 17:33:17.617000+07:00 0 days 03:51:50.136000   \n2  08deg 47' 11.7\" 2020-07-21 18:13:34.150000+07:00 0 days 17:40:36.340000   \n3  05deg 35' 32.7\" 2020-08-19 17:56:13.307000+07:00 0 days 08:14:32.403000   \n4  13deg 43' 12.0\" 2020-09-18 18:31:10.266000+07:00 1 days 00:30:56.167000   \n5  08deg 43' 33.3\" 2020-10-17 18:07:41.442000+07:00 0 days 15:36:37.386000   \n6  02deg 58' 19.4\" 2020-11-15 17:46:48.352000+07:00 0 days 05:39:36.714000   \n\n  Imkan Rukyat  \n1            ✘  \n2            ✔  \n3            ✔  \n4            ✔  \n5            ✔  \n6            ✘  "
         },
         "metadata": {},
         "output_type": "display_data"
        }
       ]
      }
     },
     "7b25ac4fa13846beb051eab5d05aec14": {
      "model_module": "@jupyter-widgets/output",
      "model_module_version": "1.0.0",
      "model_name": "OutputModel",
      "state": {
       "layout": "IPY_MODEL_f9fcd4b851f2471eb4ab9f4284c9a064",
       "outputs": [
        {
         "name": "stdout",
         "output_type": "stream",
         "text": "Topos -07deg 49' 59.0\" N 110deg 22' 59.0\" E\n"
        },
        {
         "data": {
          "text/html": "<div>\n<style scoped>\n    .dataframe tbody tr th:only-of-type {\n        vertical-align: middle;\n    }\n\n    .dataframe tbody tr th {\n        vertical-align: top;\n    }\n\n    .dataframe thead th {\n        text-align: right;\n    }\n</style>\n<table border=\"1\" class=\"dataframe\">\n  <thead>\n    <tr style=\"text-align: right;\">\n      <th></th>\n      <th>Waktu Konjungsi (UTC+07)</th>\n      <th>Waktu Hilal (UTC+07)</th>\n      <th>Altitude Bulan</th>\n      <th>Azimuth Bulan</th>\n      <th>Altitude Matahari</th>\n      <th>Azimuth Matahari</th>\n      <th>Elongasi</th>\n      <th>Usia Bulan (jam)</th>\n      <th>Imkan Rukyat</th>\n    </tr>\n  </thead>\n  <tbody>\n    <tr>\n      <th>1</th>\n      <td>2020-06-21 13:41:27.481000+07:00</td>\n      <td>2020-06-21 17:30:21.892000+07:00</td>\n      <td>00deg 04' 17.9\"</td>\n      <td>294deg 06' 43.4\"</td>\n      <td>-00deg 49' 59.9\"</td>\n      <td>293deg 32' 51.3\"</td>\n      <td>01deg 03' 59.6\"</td>\n      <td>0 days 03:51:50.136000</td>\n      <td>✘</td>\n    </tr>\n    <tr>\n      <th>2</th>\n      <td>2020-07-21 00:32:57.810000+07:00</td>\n      <td>2020-07-21 17:36:49.999000+07:00</td>\n      <td>07deg 31' 36.2\"</td>\n      <td>293deg 07' 24.2\"</td>\n      <td>-00deg 49' 59.9\"</td>\n      <td>290deg 24' 42.0\"</td>\n      <td>08deg 47' 11.7\"</td>\n      <td>0 days 17:40:36.340000</td>\n      <td>✔</td>\n    </tr>\n    <tr>\n      <th>3</th>\n      <td>2020-08-19 09:41:40.904000+07:00</td>\n      <td>2020-08-19 17:38:25.982000+07:00</td>\n      <td>03deg 30' 39.9\"</td>\n      <td>286deg 04' 15.8\"</td>\n      <td>-00deg 49' 59.9\"</td>\n      <td>282deg 32' 51.4\"</td>\n      <td>05deg 35' 32.7\"</td>\n      <td>0 days 08:14:32.403000</td>\n      <td>✔</td>\n    </tr>\n    <tr>\n      <th>4</th>\n      <td>2020-09-17 18:00:14.099000+07:00</td>\n      <td>2020-09-18 17:34:56.523000+07:00</td>\n      <td>12deg 51' 07.6\"</td>\n      <td>272deg 29' 09.9\"</td>\n      <td>-00deg 49' 59.9\"</td>\n      <td>271deg 30' 09.8\"</td>\n      <td>13deg 43' 12.0\"</td>\n      <td>1 days 00:30:56.167000</td>\n      <td>✔</td>\n    </tr>\n    <tr>\n      <th>5</th>\n      <td>2020-10-17 02:31:04.056000+07:00</td>\n      <td>2020-10-17 17:32:25.534000+07:00</td>\n      <td>07deg 44' 25.4\"</td>\n      <td>261deg 55' 19.1\"</td>\n      <td>-00deg 49' 59.9\"</td>\n      <td>260deg 17' 39.6\"</td>\n      <td>08deg 43' 33.3\"</td>\n      <td>0 days 15:36:37.386000</td>\n      <td>✔</td>\n    </tr>\n    <tr>\n      <th>6</th>\n      <td>2020-11-15 12:07:11.638000+07:00</td>\n      <td>2020-11-15 17:37:19.709000+07:00</td>\n      <td>01deg 34' 54.1\"</td>\n      <td>252deg 46' 31.0\"</td>\n      <td>-00deg 49' 59.9\"</td>\n      <td>251deg 02' 34.1\"</td>\n      <td>02deg 58' 19.4\"</td>\n      <td>0 days 05:39:36.714000</td>\n      <td>✘</td>\n    </tr>\n  </tbody>\n</table>\n</div>",
          "text/plain": "          Waktu Konjungsi (UTC+07)             Waktu Hilal (UTC+07)  \\\n1 2020-06-21 13:41:27.481000+07:00 2020-06-21 17:30:21.892000+07:00   \n2 2020-07-21 00:32:57.810000+07:00 2020-07-21 17:36:49.999000+07:00   \n3 2020-08-19 09:41:40.904000+07:00 2020-08-19 17:38:25.982000+07:00   \n4 2020-09-17 18:00:14.099000+07:00 2020-09-18 17:34:56.523000+07:00   \n5 2020-10-17 02:31:04.056000+07:00 2020-10-17 17:32:25.534000+07:00   \n6 2020-11-15 12:07:11.638000+07:00 2020-11-15 17:37:19.709000+07:00   \n\n    Altitude Bulan     Azimuth Bulan Altitude Matahari  Azimuth Matahari  \\\n1  00deg 04' 17.9\"  294deg 06' 43.4\"  -00deg 49' 59.9\"  293deg 32' 51.3\"   \n2  07deg 31' 36.2\"  293deg 07' 24.2\"  -00deg 49' 59.9\"  290deg 24' 42.0\"   \n3  03deg 30' 39.9\"  286deg 04' 15.8\"  -00deg 49' 59.9\"  282deg 32' 51.4\"   \n4  12deg 51' 07.6\"  272deg 29' 09.9\"  -00deg 49' 59.9\"  271deg 30' 09.8\"   \n5  07deg 44' 25.4\"  261deg 55' 19.1\"  -00deg 49' 59.9\"  260deg 17' 39.6\"   \n6  01deg 34' 54.1\"  252deg 46' 31.0\"  -00deg 49' 59.9\"  251deg 02' 34.1\"   \n\n          Elongasi       Usia Bulan (jam) Imkan Rukyat  \n1  01deg 03' 59.6\" 0 days 03:51:50.136000            ✘  \n2  08deg 47' 11.7\" 0 days 17:40:36.340000            ✔  \n3  05deg 35' 32.7\" 0 days 08:14:32.403000            ✔  \n4  13deg 43' 12.0\" 1 days 00:30:56.167000            ✔  \n5  08deg 43' 33.3\" 0 days 15:36:37.386000            ✔  \n6  02deg 58' 19.4\" 0 days 05:39:36.714000            ✘  "
         },
         "metadata": {},
         "output_type": "display_data"
        }
       ]
      }
     },
     "8d6f8394907c40fd8dbb93b3ad1f0d46": {
      "model_module": "@jupyter-widgets/controls",
      "model_module_version": "1.5.0",
      "model_name": "DescriptionStyleModel",
      "state": {
       "description_width": ""
      }
     },
     "90c971ceb89d44b6b59372c8b44b2c3e": {
      "model_module": "@jupyter-widgets/controls",
      "model_module_version": "1.5.0",
      "model_name": "DescriptionStyleModel",
      "state": {
       "description_width": ""
      }
     },
     "95afc098d16c4fab99acddf7a7db0731": {
      "model_module": "@jupyter-widgets/base",
      "model_module_version": "1.2.0",
      "model_name": "LayoutModel",
      "state": {}
     },
     "b833c4877ed341e58d716b8bb8379bf5": {
      "model_module": "@jupyter-widgets/controls",
      "model_module_version": "1.5.0",
      "model_name": "DescriptionStyleModel",
      "state": {
       "description_width": ""
      }
     },
     "bf2482981d014a7fbf4172f6a4c966f1": {
      "model_module": "@jupyter-widgets/controls",
      "model_module_version": "1.5.0",
      "model_name": "VBoxModel",
      "state": {
       "_dom_classes": [
        "widget-interact"
       ],
       "children": [
        "IPY_MODEL_2f12e455bd39411daa448b0752e7f75a",
        "IPY_MODEL_58415ef78beb47309b560e22ed5bdc32",
        "IPY_MODEL_e2c9ff8faa194649a90e64424ebeddf7",
        "IPY_MODEL_c23fd40065b24116811c60527e70e9bb",
        "IPY_MODEL_723d7f2659074b088bf5e17c64787afa"
       ],
       "layout": "IPY_MODEL_5958939242b0469d816038b5f6523d9b"
      }
     },
     "bfb3c897170b410d9bfa82cd6c8692da": {
      "model_module": "@jupyter-widgets/controls",
      "model_module_version": "1.5.0",
      "model_name": "VBoxModel",
      "state": {
       "_dom_classes": [
        "widget-interact"
       ],
       "children": [
        "IPY_MODEL_51e6822500744efbb097da211630a42a",
        "IPY_MODEL_715daf1a7fbd45d3ad36fd4b086a84bf",
        "IPY_MODEL_4be2fd0585af4b2a963a5fddd0331b18",
        "IPY_MODEL_6ce1c241e1b74c82bd813e6476b0a56a",
        "IPY_MODEL_7b25ac4fa13846beb051eab5d05aec14"
       ],
       "layout": "IPY_MODEL_deff3efe2fb243c6916e5858a03ca0c3"
      }
     },
     "c23fd40065b24116811c60527e70e9bb": {
      "model_module": "@jupyter-widgets/controls",
      "model_module_version": "1.5.0",
      "model_name": "DatePickerModel",
      "state": {
       "description": "Sampai:",
       "disabled": false,
       "layout": "IPY_MODEL_586ac30699cb43aa974efa803f189eb6",
       "style": "IPY_MODEL_5ca87e8d04ef45b99cc7289f6a8e45ae",
       "value": {
        "date": 1,
        "month": 11,
        "year": 2020
       }
      }
     },
     "c791ef1b9b2840f58f0803c2bac2fff8": {
      "model_module": "@jupyter-widgets/controls",
      "model_module_version": "1.5.0",
      "model_name": "DescriptionStyleModel",
      "state": {
       "description_width": ""
      }
     },
     "c86d3e6a39c946068ea7cfa40dcf0a1e": {
      "model_module": "@jupyter-widgets/base",
      "model_module_version": "1.2.0",
      "model_name": "LayoutModel",
      "state": {}
     },
     "cc1ddd75f9de42c2b5afc2cf39d9fb48": {
      "model_module": "@jupyter-widgets/base",
      "model_module_version": "1.2.0",
      "model_name": "LayoutModel",
      "state": {}
     },
     "de82a74246e345f4a3e3b8d7e7226a77": {
      "model_module": "@jupyter-widgets/controls",
      "model_module_version": "1.5.0",
      "model_name": "DescriptionStyleModel",
      "state": {
       "description_width": ""
      }
     },
     "deff3efe2fb243c6916e5858a03ca0c3": {
      "model_module": "@jupyter-widgets/base",
      "model_module_version": "1.2.0",
      "model_name": "LayoutModel",
      "state": {}
     },
     "e2c9ff8faa194649a90e64424ebeddf7": {
      "model_module": "@jupyter-widgets/controls",
      "model_module_version": "1.5.0",
      "model_name": "DatePickerModel",
      "state": {
       "description": "Dari:",
       "disabled": false,
       "layout": "IPY_MODEL_cc1ddd75f9de42c2b5afc2cf39d9fb48",
       "style": "IPY_MODEL_8d6f8394907c40fd8dbb93b3ad1f0d46",
       "value": {
        "date": 9,
        "month": 5,
        "year": 2020
       }
      }
     },
     "f9fcd4b851f2471eb4ab9f4284c9a064": {
      "model_module": "@jupyter-widgets/base",
      "model_module_version": "1.2.0",
      "model_name": "LayoutModel",
      "state": {}
     }
    },
    "version_major": 2,
    "version_minor": 0
   }
  }
 },
 "nbformat": 4,
 "nbformat_minor": 4
}
