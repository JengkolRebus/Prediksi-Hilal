{
 "cells": [
  {
   "cell_type": "markdown",
   "metadata": {},
   "source": [
    "\n",
    "# Prediksi Hilal\n",
    "---"
   ]
  },
  {
   "cell_type": "code",
   "execution_count": 1,
   "metadata": {},
   "outputs": [],
   "source": [
    "# _jengkolrebus\n",
    "# Mei, 2020\n",
    "# Curup, Bengkulu"
   ]
  },
  {
   "cell_type": "markdown",
   "metadata": {},
   "source": [
    "Program ini menggunakan Python Package: [Skyfield](https://rhodesmill.org/skyfield/).\n",
    "Program ini dibuat dengan ketentuan sebagai berikut:\n",
    "- Ephemeris:\n",
    "    > Ephemeris yang digunakan adalah de421.bsp\n",
    "- Definisi Matahari Terbenam:\n",
    "    > Skyfield menggunakan definisi resmi matahari terbit dan terbenam dari United States Naval Observatory, yang mendefinisikan matahari terbenam ketika pusat matahari adalah <b>0,8333</b> derajat di bawah Horizon, untuk memperhitungkan rata-rata jari-jari Matahari dan untuk rata-rata pembiasan atmosfer di horizon.\n",
    "___\n",
    "- Flowchart:\n",
    "<br>\n",
    "<img src=\"flowchart.png\">\n",
    "<br>\n",
    "- Input Lokasi berupa Latitude dan Longitude dalam bentuk <em>Decimal Degree</em> dengan format String / text.\n",
    " > Contoh : \n",
    "    Latitude: \"7.83305556 S\"\n",
    "    Longitude: \"110.38305556 E\"\n",
    "    Perhatikan Notasi \"S\" dan \"E\" bergantung pada lokasi.\n",
    "    \n",
    "- Input waktu berupa tanggal rentang waktu hilal yang ingin dicari.\n",
    " > Contoh dari tanggal 1 Januari 2020, sampai 1 Januari 2021\n",
    "___\n"
   ]
  },
  {
   "cell_type": "code",
   "execution_count": 2,
   "metadata": {},
   "outputs": [],
   "source": [
    "from skyfield.api import load, Topos\n",
    "from skyfield.units import Angle\n",
    "from skyfield import almanac\n",
    "from datetime import datetime, timedelta\n",
    "from pytz import timezone\n",
    "from ipywidgets import widgets, interact, interactive\n",
    "from IPython.display import display, HTML\n",
    "import pandas as pd\n",
    "import calendar"
   ]
  },
  {
   "cell_type": "code",
   "execution_count": 3,
   "metadata": {},
   "outputs": [],
   "source": [
    "class var:\n",
    "    df = []"
   ]
  },
  {
   "cell_type": "code",
   "execution_count": 4,
   "metadata": {},
   "outputs": [],
   "source": [
    "jkt = timezone('Asia/Jakarta')\n",
    "ts = load.timescale()\n",
    "e = load('de421.bsp')"
   ]
  },
  {
   "cell_type": "markdown",
   "metadata": {},
   "source": [
    "### Kriteria Hilal\n",
    "- Imkanur Rukyat\n",
    "    > - Pada saat matahari terbenam, <b>ketinggian bulan minimal 2$^\\circ$</b>, <b>Elongasi minimal 3$^\\circ$</b>.\n",
    "    > - Usia bulan minimal <b>8 Jam</b>, dihitung sejak ijtima' (konjungsi)\n",
    "    \n",
    "___"
   ]
  },
  {
   "cell_type": "code",
   "execution_count": 5,
   "metadata": {},
   "outputs": [],
   "source": [
    "class Find():\n",
    "    def __init__(self, lat, long, t0, t1):\n",
    "        self.lat = lat\n",
    "        self.long = long\n",
    "        self.t0 = t0\n",
    "        self.t1 = t1\n",
    "        self.topo = Topos(self.lat, self.long)\n",
    "        self.loc = e['earth'] + self.topo\n",
    "    \n",
    "    def conjunction(self):\n",
    "        result = []\n",
    "        t0 = ts.utc(self.t0)\n",
    "        t1 = ts.utc(self.t1)\n",
    "        f = almanac.oppositions_conjunctions(e, e['moon'])\n",
    "        t, y = almanac.find_discrete(t0, t1, f)\n",
    "        for ti, yi in zip(t, y):\n",
    "            if(yi == 1):\n",
    "                result.append(ti)\n",
    "            else:\n",
    "                pass\n",
    "\n",
    "        return result\n",
    "        \n",
    "    def sunset(self, t):\n",
    "        t = t.utc\n",
    "        t0 = ts.utc(t[0], t[1], t[2], t[3], t[4], t[5])\n",
    "        t1 = ts.utc(t[0], t[1], t[2]+1, t[3], t[4], t[5])\n",
    "        f = almanac.sunrise_sunset(e, self.topo)\n",
    "        t, y = almanac.find_discrete(t0, t1, f)\n",
    "        for ti, yi in zip(t, y):\n",
    "            if(yi == False):\n",
    "                return ti\n",
    "            else:\n",
    "                pass\n",
    "    \n",
    "    def objPos(self, t, obj):\n",
    "        astrometric = self.loc.at(t).observe(e[obj])\n",
    "        alt, az, d = astrometric.apparent().altaz()\n",
    "        return alt, az, astrometric\n",
    "        \n"
   ]
  },
  {
   "cell_type": "code",
   "execution_count": 6,
   "metadata": {},
   "outputs": [],
   "source": [
    "# Metode untuk membandingkan dengan Imkan Rukyat\n",
    "def imkanRukyat(alt, elong, age):\n",
    "    if(alt.degrees >= 2 and elong.degrees >= 3 and (timedelta.total_seconds(age)/3600) > 8):\n",
    "        return u'\\u2714'\n",
    "    else:\n",
    "        return u'\\u2718'\n",
    "\n",
    "def result(lat, long, t0, t1):\n",
    "    f = Find(lat, long, t0, t1)\n",
    "    conj = f.conjunction()\n",
    "    sunset = [f.sunset(t) for t in conj]\n",
    "    \n",
    "    moon_alt = []\n",
    "    moon_az = []\n",
    "    moon_astrometric = []\n",
    "    sun_alt = []\n",
    "    sun_az = []\n",
    "    sun_astrometric = []\n",
    "    for t in sunset:\n",
    "        alt, az, astro = f.objPos(t, 'moon')\n",
    "        moon_alt.append(alt)\n",
    "        moon_az.append(az)\n",
    "        moon_astrometric.append(astro)\n",
    "        \n",
    "        alt, az, astro = f.objPos(t, 'sun')\n",
    "        sun_alt.append(alt)\n",
    "        sun_az.append(az)\n",
    "        sun_astrometric.append(astro)\n",
    "    \n",
    "    elong = [moon.separation_from(sun) for moon, sun in zip(moon_astrometric, sun_astrometric)]\n",
    "        \n",
    "    conj[:] = [t.astimezone(jkt).replace(tzinfo=None) for t in conj]\n",
    "    sunset[:] = [t.astimezone(jkt).replace(tzinfo=None) for t in sunset]\n",
    "    \n",
    "    moon_age = [t1-t0 for (t0, t1) in zip(conj, sunset)]\n",
    "    imkan_rukyat = [imkanRukyat(al, el, age) for al, el, age in zip(moon_alt, elong, moon_age)]\n",
    "    \n",
    "    # Menampilkan hasil dalam bentuk tabel dataframe\n",
    "    tabel = list(zip(conj, sunset,\n",
    "                     moon_alt, moon_az, \n",
    "                     sun_alt, sun_az, \n",
    "                     elong, moon_age,\n",
    "                    imkan_rukyat))\n",
    "    \n",
    "    df = pd.DataFrame(tabel, columns=['Waktu Konjungsi (UTC+07)', 'Waktu Hilal (UTC+07)', \n",
    "                                      'Altitude Bulan', 'Azimuth Bulan', \n",
    "                                      'Altitude Matahari', 'Azimuth Matahari', \n",
    "                                     'Elongasi', 'Usia Bulan', \n",
    "                                     'Imkan Rukyat'])\n",
    "    df.index+=1\n",
    "    display(df)\n",
    "    \n",
    "    var.df = df\n",
    "    \n",
    "    button = widgets.Button(description=\"Save to Excel\")\n",
    "    output = widgets.Output()\n",
    "    display(button, output)\n",
    "    def on_button_clicked(b):\n",
    "        var.df.to_excel(\"output.xlsx\")\n",
    "        with output:\n",
    "            print(\"Button clicked.\")\n",
    "\n",
    "    button.on_click(on_button_clicked)"
   ]
  },
  {
   "cell_type": "code",
   "execution_count": 7,
   "metadata": {},
   "outputs": [
    {
     "data": {
      "application/vnd.jupyter.widget-view+json": {
       "model_id": "c9a89c2f70bc42fb9d525e450f112d5f",
       "version_major": 2,
       "version_minor": 0
      },
      "text/plain": [
       "interactive(children=(Text(value='7.83305556 S', description='Latitude:'), Text(value='110.38305556 E', descri…"
      ]
     },
     "metadata": {},
     "output_type": "display_data"
    }
   ],
   "source": [
    "hari_ini = datetime.now().date()\n",
    "days_in_month = calendar.monthrange(hari_ini.year, hari_ini.month)[1]\n",
    "bulan_depan = hari_ini + timedelta(days_in_month)\n",
    "\n",
    "dari = widgets.DatePicker(value=hari_ini,\n",
    "    description='Dari:',\n",
    "    disabled=False\n",
    ")\n",
    "sampai = widgets.DatePicker(value=bulan_depan,\n",
    "    description='Sampai:',\n",
    "    disabled=False\n",
    ")\n",
    "\n",
    "lat = widgets.Text(value='7.83305556 S', description='Latitude:')\n",
    "long = widgets.Text(value='110.38305556 E', description='Longitude:')\n",
    "\n",
    "interactive(result, lat=lat, long=long, t0=dari, t1=sampai)\n"
   ]
  },
  {
   "cell_type": "code",
   "execution_count": null,
   "metadata": {},
   "outputs": [],
   "source": []
  },
  {
   "cell_type": "code",
   "execution_count": null,
   "metadata": {},
   "outputs": [],
   "source": []
  }
 ],
 "metadata": {
  "kernelspec": {
   "display_name": "Python 3",
   "language": "python",
   "name": "python3"
  },
  "language_info": {
   "codemirror_mode": {
    "name": "ipython",
    "version": 3
   },
   "file_extension": ".py",
   "mimetype": "text/x-python",
   "name": "python",
   "nbconvert_exporter": "python",
   "pygments_lexer": "ipython3",
   "version": "3.7.6"
  },
  "widgets": {
   "application/vnd.jupyter.widget-state+json": {
    "state": {
     "0ed4d06f0697417aa9f3759f273874a7": {
      "model_module": "@jupyter-widgets/controls",
      "model_module_version": "1.5.0",
      "model_name": "ButtonModel",
      "state": {
       "description": "Save to Excel",
       "layout": "IPY_MODEL_f40926af75b3433fa043ea3bfb7530b1",
       "style": "IPY_MODEL_9aeafb9537284b08a31a678a9257304f"
      }
     },
     "1254aa894ac54a0e96190af24178be3b": {
      "model_module": "@jupyter-widgets/controls",
      "model_module_version": "1.5.0",
      "model_name": "ButtonModel",
      "state": {
       "description": "Save to Excel",
       "layout": "IPY_MODEL_4e3676bf905f4cfea0e75abf6f6e43a1",
       "style": "IPY_MODEL_15dc8e20316843c7b2f01954e22be8b0"
      }
     },
     "15dc8e20316843c7b2f01954e22be8b0": {
      "model_module": "@jupyter-widgets/controls",
      "model_module_version": "1.5.0",
      "model_name": "ButtonStyleModel",
      "state": {}
     },
     "1d66554082e34152a58cec84d2237f85": {
      "model_module": "@jupyter-widgets/controls",
      "model_module_version": "1.5.0",
      "model_name": "DatePickerModel",
      "state": {
       "description": "Sampai:",
       "disabled": false,
       "layout": "IPY_MODEL_2041615a464743e98fceb07b75663cc2",
       "style": "IPY_MODEL_59143ef8a2eb410db071aba3bb8bbd8c",
       "value": {
        "date": 1,
        "month": 0,
        "year": 2020
       }
      }
     },
     "1f98cee65d8141dda4d4459c927da718": {
      "model_module": "@jupyter-widgets/base",
      "model_module_version": "1.2.0",
      "model_name": "LayoutModel",
      "state": {}
     },
     "2041615a464743e98fceb07b75663cc2": {
      "model_module": "@jupyter-widgets/base",
      "model_module_version": "1.2.0",
      "model_name": "LayoutModel",
      "state": {}
     },
     "23066f4eaf1944faa1da63d805b3db3e": {
      "model_module": "@jupyter-widgets/controls",
      "model_module_version": "1.5.0",
      "model_name": "ButtonModel",
      "state": {
       "description": "Save to Excel",
       "layout": "IPY_MODEL_4def43d8020e4b54b4eb61910c33c997",
       "style": "IPY_MODEL_ff7d0155d1a34d6db50ea8466cea806f"
      }
     },
     "2345ca3ad39b4c8caddd60a507bf8cc0": {
      "model_module": "@jupyter-widgets/base",
      "model_module_version": "1.2.0",
      "model_name": "LayoutModel",
      "state": {}
     },
     "2360400ef8e944cca90f8a9c463165a0": {
      "model_module": "@jupyter-widgets/base",
      "model_module_version": "1.2.0",
      "model_name": "LayoutModel",
      "state": {}
     },
     "2a88b96541cb49028995dcaab18fb160": {
      "model_module": "@jupyter-widgets/output",
      "model_module_version": "1.0.0",
      "model_name": "OutputModel",
      "state": {
       "layout": "IPY_MODEL_1f98cee65d8141dda4d4459c927da718"
      }
     },
     "2bf0db396845463185ab6e5632eaf405": {
      "model_module": "@jupyter-widgets/base",
      "model_module_version": "1.2.0",
      "model_name": "LayoutModel",
      "state": {}
     },
     "3ddb2be8f4d7418daf07442fbcfb5295": {
      "model_module": "@jupyter-widgets/output",
      "model_module_version": "1.0.0",
      "model_name": "OutputModel",
      "state": {
       "layout": "IPY_MODEL_3f3be38a8191458a8783d8373b2f389b"
      }
     },
     "3f3be38a8191458a8783d8373b2f389b": {
      "model_module": "@jupyter-widgets/base",
      "model_module_version": "1.2.0",
      "model_name": "LayoutModel",
      "state": {}
     },
     "4d205404ed9a4044ae9bc829dcb1c0dd": {
      "model_module": "@jupyter-widgets/controls",
      "model_module_version": "1.5.0",
      "model_name": "ButtonModel",
      "state": {
       "description": "Save to Excel",
       "layout": "IPY_MODEL_b08571e547af484dbef1cc9757ff7004",
       "style": "IPY_MODEL_fdc374e17f24403385e53b2ea543de9c"
      }
     },
     "4def43d8020e4b54b4eb61910c33c997": {
      "model_module": "@jupyter-widgets/base",
      "model_module_version": "1.2.0",
      "model_name": "LayoutModel",
      "state": {}
     },
     "4e3676bf905f4cfea0e75abf6f6e43a1": {
      "model_module": "@jupyter-widgets/base",
      "model_module_version": "1.2.0",
      "model_name": "LayoutModel",
      "state": {}
     },
     "4fed1fe7f1274f46a47ff763de06dd7f": {
      "model_module": "@jupyter-widgets/base",
      "model_module_version": "1.2.0",
      "model_name": "LayoutModel",
      "state": {}
     },
     "55379b84662b4f4987f252a2a35869c2": {
      "model_module": "@jupyter-widgets/controls",
      "model_module_version": "1.5.0",
      "model_name": "ButtonStyleModel",
      "state": {}
     },
     "59143ef8a2eb410db071aba3bb8bbd8c": {
      "model_module": "@jupyter-widgets/controls",
      "model_module_version": "1.5.0",
      "model_name": "DescriptionStyleModel",
      "state": {
       "description_width": ""
      }
     },
     "5ac872ddb04140cf9d53395e0d680b02": {
      "model_module": "@jupyter-widgets/base",
      "model_module_version": "1.2.0",
      "model_name": "LayoutModel",
      "state": {}
     },
     "6452000d75194ff4a181b23cff08a1c2": {
      "model_module": "@jupyter-widgets/controls",
      "model_module_version": "1.5.0",
      "model_name": "ButtonModel",
      "state": {
       "description": "Save to Excel",
       "layout": "IPY_MODEL_aa9336718aaf4921877bd603ffa92e3c",
       "style": "IPY_MODEL_bf44ba410da24c859a463b56a97c6828"
      }
     },
     "7127dc4c5a334648ac9301148c430fbd": {
      "model_module": "@jupyter-widgets/controls",
      "model_module_version": "1.5.0",
      "model_name": "DescriptionStyleModel",
      "state": {
       "description_width": ""
      }
     },
     "7463e3c9649e461bbd41e3dca00f1860": {
      "model_module": "@jupyter-widgets/controls",
      "model_module_version": "1.5.0",
      "model_name": "DescriptionStyleModel",
      "state": {
       "description_width": ""
      }
     },
     "7607d4bd79d848b7bafa30ca53857bcd": {
      "model_module": "@jupyter-widgets/controls",
      "model_module_version": "1.5.0",
      "model_name": "ButtonModel",
      "state": {
       "description": "Save to Excel",
       "layout": "IPY_MODEL_2360400ef8e944cca90f8a9c463165a0",
       "style": "IPY_MODEL_fd901bed3fa84cacb33f9e8789a86191"
      }
     },
     "768e84e54d9b4bb1bf199651848f9ca0": {
      "model_module": "@jupyter-widgets/base",
      "model_module_version": "1.2.0",
      "model_name": "LayoutModel",
      "state": {}
     },
     "76e78a012f9741daafe4d3022990160e": {
      "model_module": "@jupyter-widgets/output",
      "model_module_version": "1.0.0",
      "model_name": "OutputModel",
      "state": {
       "layout": "IPY_MODEL_c5a1c8211b564ada8fe9f5c4167b84d5"
      }
     },
     "7870b299ed684d7294a0aebcc0951d89": {
      "model_module": "@jupyter-widgets/base",
      "model_module_version": "1.2.0",
      "model_name": "LayoutModel",
      "state": {}
     },
     "7eeab9a52cb24ee4a3a158939e5ad43c": {
      "model_module": "@jupyter-widgets/base",
      "model_module_version": "1.2.0",
      "model_name": "LayoutModel",
      "state": {}
     },
     "82834411b6ae4e388696ce6b6d5aef92": {
      "model_module": "@jupyter-widgets/controls",
      "model_module_version": "1.5.0",
      "model_name": "ButtonStyleModel",
      "state": {}
     },
     "861b32dc0dd14ed2b1ca6ea8572bc3ab": {
      "model_module": "@jupyter-widgets/base",
      "model_module_version": "1.2.0",
      "model_name": "LayoutModel",
      "state": {}
     },
     "8667e85b6a1c40b691734e99b9fb09b3": {
      "model_module": "@jupyter-widgets/output",
      "model_module_version": "1.0.0",
      "model_name": "OutputModel",
      "state": {
       "layout": "IPY_MODEL_5ac872ddb04140cf9d53395e0d680b02"
      }
     },
     "869c1786f8fa4b9486e1c5f38bc75746": {
      "model_module": "@jupyter-widgets/controls",
      "model_module_version": "1.5.0",
      "model_name": "ButtonModel",
      "state": {
       "description": "Save to Excel",
       "layout": "IPY_MODEL_7eeab9a52cb24ee4a3a158939e5ad43c",
       "style": "IPY_MODEL_55379b84662b4f4987f252a2a35869c2"
      }
     },
     "8a9b353cd6e94214bced3d54a66aeef1": {
      "model_module": "@jupyter-widgets/output",
      "model_module_version": "1.0.0",
      "model_name": "OutputModel",
      "state": {
       "layout": "IPY_MODEL_4fed1fe7f1274f46a47ff763de06dd7f"
      }
     },
     "97eb1d0febdf4fa59ce25fe611b82eb5": {
      "model_module": "@jupyter-widgets/base",
      "model_module_version": "1.2.0",
      "model_name": "LayoutModel",
      "state": {}
     },
     "9aeafb9537284b08a31a678a9257304f": {
      "model_module": "@jupyter-widgets/controls",
      "model_module_version": "1.5.0",
      "model_name": "ButtonStyleModel",
      "state": {}
     },
     "9c2642e695784b25b99c5d630035a2c3": {
      "model_module": "@jupyter-widgets/base",
      "model_module_version": "1.2.0",
      "model_name": "LayoutModel",
      "state": {}
     },
     "a04727b69e714e92bee9025e5e26b6e1": {
      "model_module": "@jupyter-widgets/controls",
      "model_module_version": "1.5.0",
      "model_name": "DatePickerModel",
      "state": {
       "description": "Dari:",
       "disabled": false,
       "layout": "IPY_MODEL_2345ca3ad39b4c8caddd60a507bf8cc0",
       "style": "IPY_MODEL_7463e3c9649e461bbd41e3dca00f1860",
       "value": {
        "date": 1,
        "month": 0,
        "year": 2019
       }
      }
     },
     "a4e0e8af4e7b46729ce7f9f0f8d01934": {
      "model_module": "@jupyter-widgets/controls",
      "model_module_version": "1.5.0",
      "model_name": "ButtonModel",
      "state": {
       "description": "Save to Excel",
       "layout": "IPY_MODEL_9c2642e695784b25b99c5d630035a2c3",
       "style": "IPY_MODEL_82834411b6ae4e388696ce6b6d5aef92"
      }
     },
     "aa7552f26e304afca5e6b0b9f1c7ff96": {
      "model_module": "@jupyter-widgets/output",
      "model_module_version": "1.0.0",
      "model_name": "OutputModel",
      "state": {
       "layout": "IPY_MODEL_dbad7b5c510e4981a9f7a8f9d8c26caa"
      }
     },
     "aa9336718aaf4921877bd603ffa92e3c": {
      "model_module": "@jupyter-widgets/base",
      "model_module_version": "1.2.0",
      "model_name": "LayoutModel",
      "state": {}
     },
     "b08571e547af484dbef1cc9757ff7004": {
      "model_module": "@jupyter-widgets/base",
      "model_module_version": "1.2.0",
      "model_name": "LayoutModel",
      "state": {}
     },
     "bf44ba410da24c859a463b56a97c6828": {
      "model_module": "@jupyter-widgets/controls",
      "model_module_version": "1.5.0",
      "model_name": "ButtonStyleModel",
      "state": {}
     },
     "c47f9dc45fd6487e8a2980e5f276f4c6": {
      "model_module": "@jupyter-widgets/base",
      "model_module_version": "1.2.0",
      "model_name": "LayoutModel",
      "state": {}
     },
     "c5a1c8211b564ada8fe9f5c4167b84d5": {
      "model_module": "@jupyter-widgets/base",
      "model_module_version": "1.2.0",
      "model_name": "LayoutModel",
      "state": {}
     },
     "c9a89c2f70bc42fb9d525e450f112d5f": {
      "model_module": "@jupyter-widgets/controls",
      "model_module_version": "1.5.0",
      "model_name": "VBoxModel",
      "state": {
       "_dom_classes": [
        "widget-interact"
       ],
       "children": [
        "IPY_MODEL_f72bf9768272453e850ebeab53a911d3",
        "IPY_MODEL_f9681612abd14f15b92378ebdcac08b0",
        "IPY_MODEL_a04727b69e714e92bee9025e5e26b6e1",
        "IPY_MODEL_1d66554082e34152a58cec84d2237f85",
        "IPY_MODEL_d880bc29be7d44f38ace2ea0fcdefcfd"
       ],
       "layout": "IPY_MODEL_97eb1d0febdf4fa59ce25fe611b82eb5"
      }
     },
     "d880bc29be7d44f38ace2ea0fcdefcfd": {
      "model_module": "@jupyter-widgets/output",
      "model_module_version": "1.0.0",
      "model_name": "OutputModel",
      "state": {
       "layout": "IPY_MODEL_768e84e54d9b4bb1bf199651848f9ca0",
       "outputs": [
        {
         "data": {
          "text/html": "<div>\n<style scoped>\n    .dataframe tbody tr th:only-of-type {\n        vertical-align: middle;\n    }\n\n    .dataframe tbody tr th {\n        vertical-align: top;\n    }\n\n    .dataframe thead th {\n        text-align: right;\n    }\n</style>\n<table border=\"1\" class=\"dataframe\">\n  <thead>\n    <tr style=\"text-align: right;\">\n      <th></th>\n      <th>Waktu Konjungsi (UTC+07)</th>\n      <th>Waktu Hilal (UTC+07)</th>\n      <th>Altitude Bulan</th>\n      <th>Azimuth Bulan</th>\n      <th>Altitude Matahari</th>\n      <th>Azimuth Matahari</th>\n      <th>Elongasi</th>\n      <th>Usia Bulan</th>\n      <th>Imkan Rukyat</th>\n    </tr>\n  </thead>\n  <tbody>\n    <tr>\n      <th>1</th>\n      <td>2019-01-06 08:28:11.099</td>\n      <td>2019-01-06 18:00:52.933</td>\n      <td>02deg 18' 20.7\"</td>\n      <td>248deg 54' 19.9\"</td>\n      <td>-00deg 49' 59.9\"</td>\n      <td>247deg 09' 07.9\"</td>\n      <td>03deg 35' 43.2\"</td>\n      <td>09:32:41.834000</td>\n      <td>✔</td>\n    </tr>\n    <tr>\n      <th>2</th>\n      <td>2019-02-05 04:03:35.338</td>\n      <td>2019-02-05 18:04:56.016</td>\n      <td>04deg 56' 46.4\"</td>\n      <td>254deg 27' 23.8\"</td>\n      <td>-00deg 49' 59.9\"</td>\n      <td>253deg 47' 24.5\"</td>\n      <td>05deg 49' 03.7\"</td>\n      <td>14:01:20.678000</td>\n      <td>✔</td>\n    </tr>\n    <tr>\n      <th>3</th>\n      <td>2019-03-06 23:03:59.611</td>\n      <td>2019-03-07 17:55:51.905</td>\n      <td>07deg 56' 26.8\"</td>\n      <td>265deg 09' 21.3\"</td>\n      <td>-00deg 49' 59.9\"</td>\n      <td>264deg 32' 12.3\"</td>\n      <td>08deg 47' 44.4\"</td>\n      <td>18:51:52.294000</td>\n      <td>✔</td>\n    </tr>\n    <tr>\n      <th>4</th>\n      <td>2019-04-05 15:50:30.182</td>\n      <td>2019-04-05 17:41:18.685</td>\n      <td>01deg 31' 27.5\"</td>\n      <td>272deg 09' 05.8\"</td>\n      <td>-00deg 49' 59.9\"</td>\n      <td>275deg 59' 28.0\"</td>\n      <td>04deg 30' 18.9\"</td>\n      <td>01:50:48.503000</td>\n      <td>✘</td>\n    </tr>\n    <tr>\n      <th>5</th>\n      <td>2019-05-05 05:45:30.773</td>\n      <td>2019-05-05 17:29:31.574</td>\n      <td>05deg 24' 30.7\"</td>\n      <td>284deg 49' 40.9\"</td>\n      <td>-00deg 49' 59.9\"</td>\n      <td>286deg 16' 19.0\"</td>\n      <td>06deg 24' 22.3\"</td>\n      <td>11:44:00.801000</td>\n      <td>✔</td>\n    </tr>\n    <tr>\n      <th>6</th>\n      <td>2019-06-03 17:01:56.853</td>\n      <td>2019-06-03 17:27:16.950</td>\n      <td>-00deg 46' 56.1\"</td>\n      <td>289deg 34' 41.8\"</td>\n      <td>-00deg 49' 59.9\"</td>\n      <td>292deg 24' 05.5\"</td>\n      <td>02deg 49' 24.4\"</td>\n      <td>00:25:20.097000</td>\n      <td>✘</td>\n    </tr>\n    <tr>\n      <th>7</th>\n      <td>2019-07-03 02:16:12.615</td>\n      <td>2019-07-03 17:32:57.429</td>\n      <td>06deg 44' 14.4\"</td>\n      <td>293deg 46' 27.8\"</td>\n      <td>-00deg 49' 59.9\"</td>\n      <td>293deg 04' 04.4\"</td>\n      <td>07deg 36' 12.0\"</td>\n      <td>15:16:44.814000</td>\n      <td>✔</td>\n    </tr>\n    <tr>\n      <th>8</th>\n      <td>2019-08-01 10:11:55.607</td>\n      <td>2019-08-01 17:38:06.199</td>\n      <td>02deg 44' 55.6\"</td>\n      <td>289deg 47' 57.8\"</td>\n      <td>-00deg 49' 59.9\"</td>\n      <td>288deg 05' 05.5\"</td>\n      <td>03deg 58' 15.7\"</td>\n      <td>07:26:10.592000</td>\n      <td>✘</td>\n    </tr>\n    <tr>\n      <th>9</th>\n      <td>2019-08-30 17:37:09.517</td>\n      <td>2019-08-30 17:37:35.110</td>\n      <td>-00deg 54' 04.1\"</td>\n      <td>282deg 48' 41.7\"</td>\n      <td>-00deg 49' 59.9\"</td>\n      <td>278deg 59' 32.8\"</td>\n      <td>03deg 49' 09.5\"</td>\n      <td>00:00:25.593000</td>\n      <td>✘</td>\n    </tr>\n    <tr>\n      <th>10</th>\n      <td>2019-09-29 01:26:22.903</td>\n      <td>2019-09-29 17:33:32.911</td>\n      <td>08deg 40' 44.5\"</td>\n      <td>269deg 48' 47.4\"</td>\n      <td>-00deg 49' 59.9\"</td>\n      <td>267deg 28' 57.6\"</td>\n      <td>09deg 47' 29.9\"</td>\n      <td>16:07:10.008000</td>\n      <td>✔</td>\n    </tr>\n    <tr>\n      <th>11</th>\n      <td>2019-10-28 10:38:28.773</td>\n      <td>2019-10-28 17:33:02.643</td>\n      <td>02deg 55' 09.3\"</td>\n      <td>260deg 15' 51.1\"</td>\n      <td>-00deg 49' 59.9\"</td>\n      <td>256deg 40' 04.7\"</td>\n      <td>05deg 11' 48.0\"</td>\n      <td>06:54:33.870000</td>\n      <td>✘</td>\n    </tr>\n    <tr>\n      <th>12</th>\n      <td>2019-11-26 22:05:35.603</td>\n      <td>2019-11-27 17:41:43.807</td>\n      <td>08deg 46' 49.8\"</td>\n      <td>250deg 19' 49.2\"</td>\n      <td>-00deg 49' 59.9\"</td>\n      <td>248deg 33' 36.2\"</td>\n      <td>09deg 46' 27.1\"</td>\n      <td>19:36:08.204000</td>\n      <td>✔</td>\n    </tr>\n    <tr>\n      <th>13</th>\n      <td>2019-12-26 12:13:07.732</td>\n      <td>2019-12-26 17:56:08.370</td>\n      <td>01deg 02' 24.0\"</td>\n      <td>246deg 55' 05.7\"</td>\n      <td>-00deg 49' 59.9\"</td>\n      <td>246deg 16' 29.5\"</td>\n      <td>01deg 58' 50.5\"</td>\n      <td>05:43:00.638000</td>\n      <td>✘</td>\n    </tr>\n  </tbody>\n</table>\n</div>",
          "text/plain": "   Waktu Konjungsi (UTC+07)    Waktu Hilal (UTC+07)    Altitude Bulan  \\\n1   2019-01-06 08:28:11.099 2019-01-06 18:00:52.933   02deg 18' 20.7\"   \n2   2019-02-05 04:03:35.338 2019-02-05 18:04:56.016   04deg 56' 46.4\"   \n3   2019-03-06 23:03:59.611 2019-03-07 17:55:51.905   07deg 56' 26.8\"   \n4   2019-04-05 15:50:30.182 2019-04-05 17:41:18.685   01deg 31' 27.5\"   \n5   2019-05-05 05:45:30.773 2019-05-05 17:29:31.574   05deg 24' 30.7\"   \n6   2019-06-03 17:01:56.853 2019-06-03 17:27:16.950  -00deg 46' 56.1\"   \n7   2019-07-03 02:16:12.615 2019-07-03 17:32:57.429   06deg 44' 14.4\"   \n8   2019-08-01 10:11:55.607 2019-08-01 17:38:06.199   02deg 44' 55.6\"   \n9   2019-08-30 17:37:09.517 2019-08-30 17:37:35.110  -00deg 54' 04.1\"   \n10  2019-09-29 01:26:22.903 2019-09-29 17:33:32.911   08deg 40' 44.5\"   \n11  2019-10-28 10:38:28.773 2019-10-28 17:33:02.643   02deg 55' 09.3\"   \n12  2019-11-26 22:05:35.603 2019-11-27 17:41:43.807   08deg 46' 49.8\"   \n13  2019-12-26 12:13:07.732 2019-12-26 17:56:08.370   01deg 02' 24.0\"   \n\n       Azimuth Bulan Altitude Matahari  Azimuth Matahari         Elongasi  \\\n1   248deg 54' 19.9\"  -00deg 49' 59.9\"  247deg 09' 07.9\"  03deg 35' 43.2\"   \n2   254deg 27' 23.8\"  -00deg 49' 59.9\"  253deg 47' 24.5\"  05deg 49' 03.7\"   \n3   265deg 09' 21.3\"  -00deg 49' 59.9\"  264deg 32' 12.3\"  08deg 47' 44.4\"   \n4   272deg 09' 05.8\"  -00deg 49' 59.9\"  275deg 59' 28.0\"  04deg 30' 18.9\"   \n5   284deg 49' 40.9\"  -00deg 49' 59.9\"  286deg 16' 19.0\"  06deg 24' 22.3\"   \n6   289deg 34' 41.8\"  -00deg 49' 59.9\"  292deg 24' 05.5\"  02deg 49' 24.4\"   \n7   293deg 46' 27.8\"  -00deg 49' 59.9\"  293deg 04' 04.4\"  07deg 36' 12.0\"   \n8   289deg 47' 57.8\"  -00deg 49' 59.9\"  288deg 05' 05.5\"  03deg 58' 15.7\"   \n9   282deg 48' 41.7\"  -00deg 49' 59.9\"  278deg 59' 32.8\"  03deg 49' 09.5\"   \n10  269deg 48' 47.4\"  -00deg 49' 59.9\"  267deg 28' 57.6\"  09deg 47' 29.9\"   \n11  260deg 15' 51.1\"  -00deg 49' 59.9\"  256deg 40' 04.7\"  05deg 11' 48.0\"   \n12  250deg 19' 49.2\"  -00deg 49' 59.9\"  248deg 33' 36.2\"  09deg 46' 27.1\"   \n13  246deg 55' 05.7\"  -00deg 49' 59.9\"  246deg 16' 29.5\"  01deg 58' 50.5\"   \n\n        Usia Bulan Imkan Rukyat  \n1  09:32:41.834000            ✔  \n2  14:01:20.678000            ✔  \n3  18:51:52.294000            ✔  \n4  01:50:48.503000            ✘  \n5  11:44:00.801000            ✔  \n6  00:25:20.097000            ✘  \n7  15:16:44.814000            ✔  \n8  07:26:10.592000            ✘  \n9  00:00:25.593000            ✘  \n10 16:07:10.008000            ✔  \n11 06:54:33.870000            ✘  \n12 19:36:08.204000            ✔  \n13 05:43:00.638000            ✘  "
         },
         "metadata": {},
         "output_type": "display_data"
        },
        {
         "data": {
          "application/vnd.jupyter.widget-view+json": {
           "model_id": "0ed4d06f0697417aa9f3759f273874a7",
           "version_major": 2,
           "version_minor": 0
          },
          "text/plain": "Button(description='Save to Excel', style=ButtonStyle())"
         },
         "metadata": {},
         "output_type": "display_data"
        },
        {
         "data": {
          "application/vnd.jupyter.widget-view+json": {
           "model_id": "aa7552f26e304afca5e6b0b9f1c7ff96",
           "version_major": 2,
           "version_minor": 0
          },
          "text/plain": "Output()"
         },
         "metadata": {},
         "output_type": "display_data"
        }
       ]
      }
     },
     "dbad7b5c510e4981a9f7a8f9d8c26caa": {
      "model_module": "@jupyter-widgets/base",
      "model_module_version": "1.2.0",
      "model_name": "LayoutModel",
      "state": {}
     },
     "e6bb79127d284ab08391e5e31ce9f477": {
      "model_module": "@jupyter-widgets/output",
      "model_module_version": "1.0.0",
      "model_name": "OutputModel",
      "state": {
       "layout": "IPY_MODEL_7870b299ed684d7294a0aebcc0951d89"
      }
     },
     "ea47bd47e2a748118a8a711525c06727": {
      "model_module": "@jupyter-widgets/output",
      "model_module_version": "1.0.0",
      "model_name": "OutputModel",
      "state": {
       "layout": "IPY_MODEL_c47f9dc45fd6487e8a2980e5f276f4c6"
      }
     },
     "f38dc268e2f84a1b884a269f59fddf34": {
      "model_module": "@jupyter-widgets/controls",
      "model_module_version": "1.5.0",
      "model_name": "DescriptionStyleModel",
      "state": {
       "description_width": ""
      }
     },
     "f40926af75b3433fa043ea3bfb7530b1": {
      "model_module": "@jupyter-widgets/base",
      "model_module_version": "1.2.0",
      "model_name": "LayoutModel",
      "state": {}
     },
     "f72bf9768272453e850ebeab53a911d3": {
      "model_module": "@jupyter-widgets/controls",
      "model_module_version": "1.5.0",
      "model_name": "TextModel",
      "state": {
       "description": "Latitude:",
       "layout": "IPY_MODEL_2bf0db396845463185ab6e5632eaf405",
       "style": "IPY_MODEL_f38dc268e2f84a1b884a269f59fddf34",
       "value": "7.83305556 S"
      }
     },
     "f9681612abd14f15b92378ebdcac08b0": {
      "model_module": "@jupyter-widgets/controls",
      "model_module_version": "1.5.0",
      "model_name": "TextModel",
      "state": {
       "description": "Longitude:",
       "layout": "IPY_MODEL_861b32dc0dd14ed2b1ca6ea8572bc3ab",
       "style": "IPY_MODEL_7127dc4c5a334648ac9301148c430fbd",
       "value": "110.38305556 E"
      }
     },
     "fd901bed3fa84cacb33f9e8789a86191": {
      "model_module": "@jupyter-widgets/controls",
      "model_module_version": "1.5.0",
      "model_name": "ButtonStyleModel",
      "state": {}
     },
     "fdc374e17f24403385e53b2ea543de9c": {
      "model_module": "@jupyter-widgets/controls",
      "model_module_version": "1.5.0",
      "model_name": "ButtonStyleModel",
      "state": {}
     },
     "ff7d0155d1a34d6db50ea8466cea806f": {
      "model_module": "@jupyter-widgets/controls",
      "model_module_version": "1.5.0",
      "model_name": "ButtonStyleModel",
      "state": {}
     }
    },
    "version_major": 2,
    "version_minor": 0
   }
  }
 },
 "nbformat": 4,
 "nbformat_minor": 4
}
