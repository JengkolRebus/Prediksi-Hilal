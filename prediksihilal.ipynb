{
 "cells": [
  {
   "cell_type": "markdown",
   "metadata": {},
   "source": [
    "\n",
    "# Prediksi Hilal\n",
    "---"
   ]
  },
  {
   "cell_type": "code",
   "execution_count": 1,
   "metadata": {},
   "outputs": [],
   "source": [
    "# _jengkolrebus\n",
    "# Mei, 2020\n",
    "# Curup, Bengkulu"
   ]
  },
  {
   "cell_type": "markdown",
   "metadata": {},
   "source": [
    "Program ini menggunakan Python Package: [Skyfield](https://rhodesmill.org/skyfield/).\n",
    "Program ini dibuat dengan ketentuan sebagai berikut:\n",
    "- Ephemeris:\n",
    "    > Ephemeris yang digunakan adalah de421.bsp\n",
    "- Definisi Matahari Terbenam:\n",
    "    > Skyfield menggunakan definisi resmi matahari terbit dan terbenam dari United States Naval Observatory, yang mendefinisikan matahari terbenam ketika pusat matahari adalah <b>0,8333</b> derajat di bawah Horizon, untuk memperhitungkan rata-rata jari-jari Matahari dan untuk rata-rata pembiasan atmosfer di horizon.\n",
    "___\n",
    "- Flowchart:\n",
    "<br>\n",
    "<img src=\"flowchart.png\">\n",
    "<br>\n",
    "- Input Lokasi berupa Latitude dan Longitude dalam bentuk <em>Decimal Degree</em> dengan format String / text.\n",
    " > Contoh : \n",
    "    Latitude: \"7.83305556 S\"\n",
    "    Longitude: \"110.38305556 E\"\n",
    "    Perhatikan Notasi \"S\" dan \"E\" bergantung pada lokasi.\n",
    "    \n",
    "- Input waktu berupa tanggal rentang waktu hilal yang ingin dicari.\n",
    " > Contoh dari tanggal 1 Januari 2020, sampai 1 Januari 2021\n",
    "___\n"
   ]
  },
  {
   "cell_type": "code",
   "execution_count": 2,
   "metadata": {},
   "outputs": [],
   "source": [
    "from skyfield.api import load, Topos\n",
    "from skyfield.units import Angle\n",
    "from skyfield import almanac\n",
    "from datetime import datetime, timedelta\n",
    "from pytz import timezone\n",
    "from ipywidgets import widgets, interact, interactive\n",
    "from IPython.display import display, HTML\n",
    "import pandas as pd\n",
    "import calendar"
   ]
  },
  {
   "cell_type": "code",
   "execution_count": 3,
   "metadata": {},
   "outputs": [],
   "source": [
    "jkt = timezone('Asia/Jakarta')\n",
    "ts = load.timescale()\n",
    "e = load('de421.bsp')"
   ]
  },
  {
   "cell_type": "code",
   "execution_count": 4,
   "metadata": {},
   "outputs": [],
   "source": [
    "# Membuat variable-variable global\n",
    "class var:\n",
    "    topo=None\n",
    "    loc=None\n",
    "    MOON_RADIUS = 1737.1 # km\n",
    "    SUN_RADIUS = 696340 # km\n",
    "    konjungsi = []\n",
    "    sunset = []\n",
    "    alt_bulan = []\n",
    "    az_bulan = []\n",
    "    jarak_bulan = []\n",
    "    alt_matahari = []\n",
    "    az_matahari = []\n",
    "    jarak_matahari = []\n",
    "    elong = []\n",
    "    ir = []"
   ]
  },
  {
   "cell_type": "markdown",
   "metadata": {},
   "source": [
    "### Kriteria Hilal\n",
    "- Imkanur Rukyat\n",
    "    > - Pada saat matahari terbenam, <b>ketinggian bulan minimal 2$^\\circ$</b>, <b>Elongasi minimal 3$^\\circ$</b>.\n",
    "    > - Pada saat Bulan terbenam, usia bulan minimal <b>8 Jam</b>, dihitung sejak ijtima' (konjungsi)\n",
    "    \n",
    "___"
   ]
  },
  {
   "cell_type": "code",
   "execution_count": 10,
   "metadata": {},
   "outputs": [],
   "source": [
    "# Metode untuk membandingkan dengan Imkan Rukyat\n",
    "def imkanRukyat(alt, elong):\n",
    "    if(alt.degrees >= 2 and elong.degrees >= 3):\n",
    "        var.ir.append(u'\\u2714')\n",
    "    else:\n",
    "        var.ir.append(u'\\u2718')"
   ]
  },
  {
   "cell_type": "code",
   "execution_count": 11,
   "metadata": {},
   "outputs": [],
   "source": [
    "# Menghapus data yang tersimpan dalam variable, agar tidak menumpuk ketika pengaturan lokasi/waktu diubah\n",
    "def clearVar():\n",
    "    var.konjungsi.clear()\n",
    "    var.sunset.clear()\n",
    "    var.alt_bulan.clear()\n",
    "    var.az_bulan.clear()\n",
    "    var.jarak_bulan.clear()\n",
    "    var.alt_matahari.clear()\n",
    "    var.az_matahari.clear()\n",
    "    var.jarak_matahari.clear()\n",
    "    var.elong.clear()\n",
    "    var.ir.clear()\n",
    "\n",
    "    \n",
    "# Metode untuk mendapatkan posisi benda langit\n",
    "def posisiObyek(obj, t):\n",
    "    obj = e[obj]\n",
    "    astrometric = var.loc.at(t).observe(obj)\n",
    "    alt, az, d = astrometric.apparent().altaz()\n",
    "    return astrometric, alt, az, d.km\n",
    "\n",
    "# Metode untuk mendapatkan waktu Sunset\n",
    "def sunset(t):\n",
    "    t = t.utc\n",
    "    t0 = ts.utc(t[0], t[1], t[2], t[3], t[4], t[5])\n",
    "    t1 = ts.utc(t[0], t[1], t[2]+1, t[3], t[4], t[5])\n",
    "    f = almanac.sunrise_sunset(e, var.topo)\n",
    "    t, y = almanac.find_discrete(t0, t1, f)\n",
    "    \n",
    "    for ti, yi in zip(t, y):\n",
    "        if(yi==False):\n",
    "            var.sunset.append(ti.astimezone(jkt))\n",
    "            \n",
    "            # Mendapatkan posisi Bulan\n",
    "            bulan = posisiObyek('moon', ti)\n",
    "            var.alt_bulan.append(bulan[1])\n",
    "            var.az_bulan.append(bulan[2])\n",
    "            var.jarak_bulan.append(bulan[3])\n",
    "            \n",
    "            # Mendapatkan posisi Matahari\n",
    "            matahari = posisiObyek('sun', ti)\n",
    "            var.alt_matahari.append(matahari[1])\n",
    "            var.az_matahari.append(matahari[2])\n",
    "            var.jarak_matahari.append(matahari[3])\n",
    "            \n",
    "            # Mendapatkan Elongasi\n",
    "            elong = bulan[0].separation_from(matahari[0])\n",
    "            var.elong.append(elong)\n",
    "            \n",
    "            imkanRukyat(bulan[1], elong)\n",
    "        else:\n",
    "            pass\n",
    "\n",
    "# Metode untuk mendapatkan waktu konjungsi\n",
    "def konjungsi(t0, t1):\n",
    "    t0 = ts.utc(t0)\n",
    "    t1 = ts.utc(t1)\n",
    "    f = almanac.oppositions_conjunctions(e, e['moon'])\n",
    "    t, y = almanac.find_discrete(t0, t1, f)\n",
    "    \n",
    "    for ti, yi in zip(t, y):\n",
    "        if(yi==1):\n",
    "            var.konjungsi.append(ti.astimezone(jkt))\n",
    "            \n",
    "            # Mendapatkan Waktu sunset setelah konjungsi\n",
    "            sunset(ti)\n",
    "        else:\n",
    "            pass\n"
   ]
  },
  {
   "cell_type": "code",
   "execution_count": 12,
   "metadata": {},
   "outputs": [],
   "source": [
    "# Metode untuk mendapatkan posisi toposentrik\n",
    "def find(lat, long, t0, t1):\n",
    "    clearVar()\n",
    "    \n",
    "    var.topo = Topos(lat, long)\n",
    "    print(var.topo)\n",
    "    var.loc = e['earth']+var.topo\n",
    "    \n",
    "    # Mendapatkan waktu konjungsi\n",
    "    konjungsi(t0, t1)\n",
    "    \n",
    "    \n",
    "    # Menampilkan hasil dalam bentuk tabel dataframe\n",
    "    tabel = list(zip(var.konjungsi, var.sunset, \n",
    "                     var.alt_bulan, var.az_bulan, \n",
    "                     var.alt_matahari, var.az_matahari, \n",
    "                    var.elong, var.ir))\n",
    "    df = pd.DataFrame(tabel, columns=['Waktu Konjungsi (UTC+07)', 'Waktu Hilal (UTC+07)', \n",
    "                                      'Altitude Bulan', 'Azimuth Bulan', \n",
    "                                      'Altitude Matahari', 'Azimuth Matahari', \n",
    "                                     'Elongasi', 'Imkan Rukyat'])\n",
    "    df.index+=1\n",
    "    display(df)"
   ]
  },
  {
   "cell_type": "code",
   "execution_count": 13,
   "metadata": {},
   "outputs": [
    {
     "data": {
      "application/vnd.jupyter.widget-view+json": {
       "model_id": "a20b8e69bb2448b58e0744aa81b46e4d",
       "version_major": 2,
       "version_minor": 0
      },
      "text/plain": [
       "interactive(children=(Text(value='7.83305556 S', description='Latitude:'), Text(value='110.38305556 E', descri…"
      ]
     },
     "metadata": {},
     "output_type": "display_data"
    }
   ],
   "source": [
    "hari_ini = datetime.now().date()\n",
    "days_in_month = calendar.monthrange(hari_ini.year, hari_ini.month)[1]\n",
    "bulan_depan = hari_ini + timedelta(days_in_month)\n",
    "\n",
    "dari = widgets.DatePicker(value=hari_ini,\n",
    "    description='Dari:',\n",
    "    disabled=False\n",
    ")\n",
    "sampai = widgets.DatePicker(value=bulan_depan,\n",
    "    description='Sampai:',\n",
    "    disabled=False\n",
    ")\n",
    "\n",
    "lat = widgets.Text(value='7.83305556 S', description='Latitude:')\n",
    "long = widgets.Text(value='110.38305556 E', description='Longitude:')\n",
    "\n",
    "interactive(find, lat=lat, long=long, t0=dari, t1=sampai)\n"
   ]
  },
  {
   "cell_type": "code",
   "execution_count": 9,
   "metadata": {},
   "outputs": [],
   "source": [
    "# print(u'\\u2714')  #Heavy Checkmark\n",
    "# print(u'\\u2718')  #HEAVY BALLOT X"
   ]
  },
  {
   "cell_type": "code",
   "execution_count": null,
   "metadata": {},
   "outputs": [],
   "source": []
  }
 ],
 "metadata": {
  "kernelspec": {
   "display_name": "Python 3",
   "language": "python",
   "name": "python3"
  },
  "language_info": {
   "codemirror_mode": {
    "name": "ipython",
    "version": 3
   },
   "file_extension": ".py",
   "mimetype": "text/x-python",
   "name": "python",
   "nbconvert_exporter": "python",
   "pygments_lexer": "ipython3",
   "version": "3.7.6"
  },
  "widgets": {
   "application/vnd.jupyter.widget-state+json": {
    "state": {
     "110f14388d0948b7ab79fa6cc0234866": {
      "model_module": "@jupyter-widgets/controls",
      "model_module_version": "1.5.0",
      "model_name": "VBoxModel",
      "state": {
       "_dom_classes": [
        "widget-interact"
       ],
       "children": [
        "IPY_MODEL_5f1193ac317248a6bd23f69734350bc9",
        "IPY_MODEL_e19db788ae3644a4a6ae86b8bb0fcb5c",
        "IPY_MODEL_e71c8a10e244413c88d987ff4b9b0157",
        "IPY_MODEL_29c1afb835424bd9b0d6c1fc0205e4d0",
        "IPY_MODEL_82bb43bac3e74a7f97f714befae7ef11"
       ],
       "layout": "IPY_MODEL_f4387c34da7b4ed192d6e82288baa462"
      }
     },
     "17810db0aec640c98e2f068ebd10adcb": {
      "model_module": "@jupyter-widgets/base",
      "model_module_version": "1.2.0",
      "model_name": "LayoutModel",
      "state": {}
     },
     "1df6fcf1690f4f0abd0c63ef26c02647": {
      "model_module": "@jupyter-widgets/base",
      "model_module_version": "1.2.0",
      "model_name": "LayoutModel",
      "state": {}
     },
     "25805178fb374625aa44b6dea488c51d": {
      "model_module": "@jupyter-widgets/base",
      "model_module_version": "1.2.0",
      "model_name": "LayoutModel",
      "state": {}
     },
     "29c1afb835424bd9b0d6c1fc0205e4d0": {
      "model_module": "@jupyter-widgets/controls",
      "model_module_version": "1.5.0",
      "model_name": "DatePickerModel",
      "state": {
       "description": "Sampai:",
       "disabled": false,
       "layout": "IPY_MODEL_77bf90c4c56940f282ce053f1802192a",
       "style": "IPY_MODEL_bb336b7eca8d45b9a52d903eb5645593",
       "value": {
        "date": 1,
        "month": 0,
        "year": 2021
       }
      }
     },
     "2db295aeb2d04c34ac5e515d31e65b18": {
      "model_module": "@jupyter-widgets/controls",
      "model_module_version": "1.5.0",
      "model_name": "DescriptionStyleModel",
      "state": {
       "description_width": ""
      }
     },
     "387a429212794515812595d105c2bf66": {
      "model_module": "@jupyter-widgets/controls",
      "model_module_version": "1.5.0",
      "model_name": "TextModel",
      "state": {
       "description": "Longitude:",
       "layout": "IPY_MODEL_17810db0aec640c98e2f068ebd10adcb",
       "style": "IPY_MODEL_d5f5b69e0f12413b81c6d929696e5c32",
       "value": "110.38305556 E"
      }
     },
     "3b750984100c4746b230cb0f81c231a9": {
      "model_module": "@jupyter-widgets/base",
      "model_module_version": "1.2.0",
      "model_name": "LayoutModel",
      "state": {}
     },
     "4956770f4bca495c9c8a81b406b85126": {
      "model_module": "@jupyter-widgets/output",
      "model_module_version": "1.0.0",
      "model_name": "OutputModel",
      "state": {
       "layout": "IPY_MODEL_c8e03707b98b47ca8fb7148aaeee4e76",
       "outputs": [
        {
         "name": "stdout",
         "output_type": "stream",
         "text": "Topos -07deg 49' 59.0\" N 110deg 22' 59.0\" E\n"
        },
        {
         "data": {
          "text/html": "<div>\n<style scoped>\n    .dataframe tbody tr th:only-of-type {\n        vertical-align: middle;\n    }\n\n    .dataframe tbody tr th {\n        vertical-align: top;\n    }\n\n    .dataframe thead th {\n        text-align: right;\n    }\n</style>\n<table border=\"1\" class=\"dataframe\">\n  <thead>\n    <tr style=\"text-align: right;\">\n      <th></th>\n      <th>Waktu Konjungsi (UTC+07)</th>\n      <th>Waktu Hilal (UTC+07)</th>\n      <th>Altitude Bulan</th>\n      <th>Azimuth Bulan</th>\n      <th>Altitude Matahari</th>\n      <th>Azimuth Matahari</th>\n      <th>Elongasi</th>\n      <th>Imkan Rukyat</th>\n    </tr>\n  </thead>\n  <tbody>\n    <tr>\n      <th>1</th>\n      <td>2020-06-21 13:41:27.481000+07:00</td>\n      <td>2020-06-21 17:30:21.892000+07:00</td>\n      <td>00deg 04' 17.9\"</td>\n      <td>294deg 06' 43.4\"</td>\n      <td>-00deg 49' 59.9\"</td>\n      <td>293deg 32' 51.3\"</td>\n      <td>01deg 03' 59.6\"</td>\n      <td>✘</td>\n    </tr>\n  </tbody>\n</table>\n</div>",
          "text/plain": "          Waktu Konjungsi (UTC+07)             Waktu Hilal (UTC+07)  \\\n1 2020-06-21 13:41:27.481000+07:00 2020-06-21 17:30:21.892000+07:00   \n\n    Altitude Bulan     Azimuth Bulan Altitude Matahari  Azimuth Matahari  \\\n1  00deg 04' 17.9\"  294deg 06' 43.4\"  -00deg 49' 59.9\"  293deg 32' 51.3\"   \n\n          Elongasi Imkan Rukyat  \n1  01deg 03' 59.6\"            ✘  "
         },
         "metadata": {},
         "output_type": "display_data"
        }
       ]
      }
     },
     "5c758b2a3e0a44d5ba5bf00cc2a2192f": {
      "model_module": "@jupyter-widgets/controls",
      "model_module_version": "1.5.0",
      "model_name": "TextModel",
      "state": {
       "description": "Latitude:",
       "layout": "IPY_MODEL_3b750984100c4746b230cb0f81c231a9",
       "style": "IPY_MODEL_6bc6432c925d44f78d43566b604db7d5",
       "value": "7.83305556 S"
      }
     },
     "5f1193ac317248a6bd23f69734350bc9": {
      "model_module": "@jupyter-widgets/controls",
      "model_module_version": "1.5.0",
      "model_name": "TextModel",
      "state": {
       "description": "Latitude:",
       "layout": "IPY_MODEL_952e7f2d022a4f29a78eb182da53230e",
       "style": "IPY_MODEL_fd32a8008ce04d008e60d5890d7fce56",
       "value": "7.83305556 S"
      }
     },
     "6bc6432c925d44f78d43566b604db7d5": {
      "model_module": "@jupyter-widgets/controls",
      "model_module_version": "1.5.0",
      "model_name": "DescriptionStyleModel",
      "state": {
       "description_width": ""
      }
     },
     "6d4952a81ab5417eabfbbab0e1ddf887": {
      "model_module": "@jupyter-widgets/controls",
      "model_module_version": "1.5.0",
      "model_name": "DescriptionStyleModel",
      "state": {
       "description_width": ""
      }
     },
     "77bf90c4c56940f282ce053f1802192a": {
      "model_module": "@jupyter-widgets/base",
      "model_module_version": "1.2.0",
      "model_name": "LayoutModel",
      "state": {}
     },
     "82bb43bac3e74a7f97f714befae7ef11": {
      "model_module": "@jupyter-widgets/output",
      "model_module_version": "1.0.0",
      "model_name": "OutputModel",
      "state": {
       "layout": "IPY_MODEL_e4624d3db6c045ba83a81c106eedc148",
       "outputs": [
        {
         "name": "stdout",
         "output_type": "stream",
         "text": "Topos -07deg 49' 59.0\" N 110deg 22' 59.0\" E\n"
        },
        {
         "data": {
          "text/html": "<div>\n<style scoped>\n    .dataframe tbody tr th:only-of-type {\n        vertical-align: middle;\n    }\n\n    .dataframe tbody tr th {\n        vertical-align: top;\n    }\n\n    .dataframe thead th {\n        text-align: right;\n    }\n</style>\n<table border=\"1\" class=\"dataframe\">\n  <thead>\n    <tr style=\"text-align: right;\">\n      <th></th>\n      <th>Waktu Konjungsi (UTC+07)</th>\n      <th>Waktu Hilal (UTC+07)</th>\n      <th>Altitude Bulan</th>\n      <th>Azimuth Bulan</th>\n      <th>Altitude Matahari</th>\n      <th>Azimuth Matahari</th>\n      <th>Elongasi</th>\n      <th>Imkan Rukyat</th>\n    </tr>\n  </thead>\n  <tbody>\n    <tr>\n      <th>1</th>\n      <td>2020-06-21 13:41:27.481000+07:00</td>\n      <td>2020-06-21 17:30:21.892000+07:00</td>\n      <td>00deg 04' 17.9\"</td>\n      <td>294deg 06' 43.4\"</td>\n      <td>-00deg 49' 59.9\"</td>\n      <td>293deg 32' 51.3\"</td>\n      <td>01deg 03' 59.6\"</td>\n      <td>✘</td>\n    </tr>\n    <tr>\n      <th>2</th>\n      <td>2020-07-21 00:32:57.811000+07:00</td>\n      <td>2020-07-21 17:36:49.999000+07:00</td>\n      <td>07deg 31' 36.2\"</td>\n      <td>293deg 07' 24.2\"</td>\n      <td>-00deg 49' 59.9\"</td>\n      <td>290deg 24' 42.0\"</td>\n      <td>08deg 47' 11.7\"</td>\n      <td>✔</td>\n    </tr>\n    <tr>\n      <th>3</th>\n      <td>2020-08-19 09:41:40.903000+07:00</td>\n      <td>2020-08-19 17:38:25.982000+07:00</td>\n      <td>03deg 30' 39.9\"</td>\n      <td>286deg 04' 15.8\"</td>\n      <td>-00deg 49' 59.9\"</td>\n      <td>282deg 32' 51.4\"</td>\n      <td>05deg 35' 32.7\"</td>\n      <td>✔</td>\n    </tr>\n    <tr>\n      <th>4</th>\n      <td>2020-09-17 18:00:14.099000+07:00</td>\n      <td>2020-09-18 17:34:56.523000+07:00</td>\n      <td>12deg 51' 07.6\"</td>\n      <td>272deg 29' 09.9\"</td>\n      <td>-00deg 49' 59.9\"</td>\n      <td>271deg 30' 09.8\"</td>\n      <td>13deg 43' 12.0\"</td>\n      <td>✔</td>\n    </tr>\n    <tr>\n      <th>5</th>\n      <td>2020-10-17 02:31:04.056000+07:00</td>\n      <td>2020-10-17 17:32:25.534000+07:00</td>\n      <td>07deg 44' 25.4\"</td>\n      <td>261deg 55' 19.1\"</td>\n      <td>-00deg 49' 59.9\"</td>\n      <td>260deg 17' 39.6\"</td>\n      <td>08deg 43' 33.3\"</td>\n      <td>✔</td>\n    </tr>\n    <tr>\n      <th>6</th>\n      <td>2020-11-15 12:07:11.637000+07:00</td>\n      <td>2020-11-15 17:37:19.710000+07:00</td>\n      <td>01deg 34' 54.1\"</td>\n      <td>252deg 46' 31.0\"</td>\n      <td>-00deg 49' 59.9\"</td>\n      <td>251deg 02' 34.1\"</td>\n      <td>02deg 58' 19.4\"</td>\n      <td>✘</td>\n    </tr>\n    <tr>\n      <th>7</th>\n      <td>2020-12-14 23:16:35.068000+07:00</td>\n      <td>2020-12-15 17:51:03.052000+07:00</td>\n      <td>08deg 43' 25.9\"</td>\n      <td>246deg 09' 35.2\"</td>\n      <td>-00deg 49' 59.9\"</td>\n      <td>246deg 20' 33.0\"</td>\n      <td>09deg 33' 31.7\"</td>\n      <td>✔</td>\n    </tr>\n  </tbody>\n</table>\n</div>",
          "text/plain": "          Waktu Konjungsi (UTC+07)             Waktu Hilal (UTC+07)  \\\n1 2020-06-21 13:41:27.481000+07:00 2020-06-21 17:30:21.892000+07:00   \n2 2020-07-21 00:32:57.811000+07:00 2020-07-21 17:36:49.999000+07:00   \n3 2020-08-19 09:41:40.903000+07:00 2020-08-19 17:38:25.982000+07:00   \n4 2020-09-17 18:00:14.099000+07:00 2020-09-18 17:34:56.523000+07:00   \n5 2020-10-17 02:31:04.056000+07:00 2020-10-17 17:32:25.534000+07:00   \n6 2020-11-15 12:07:11.637000+07:00 2020-11-15 17:37:19.710000+07:00   \n7 2020-12-14 23:16:35.068000+07:00 2020-12-15 17:51:03.052000+07:00   \n\n    Altitude Bulan     Azimuth Bulan Altitude Matahari  Azimuth Matahari  \\\n1  00deg 04' 17.9\"  294deg 06' 43.4\"  -00deg 49' 59.9\"  293deg 32' 51.3\"   \n2  07deg 31' 36.2\"  293deg 07' 24.2\"  -00deg 49' 59.9\"  290deg 24' 42.0\"   \n3  03deg 30' 39.9\"  286deg 04' 15.8\"  -00deg 49' 59.9\"  282deg 32' 51.4\"   \n4  12deg 51' 07.6\"  272deg 29' 09.9\"  -00deg 49' 59.9\"  271deg 30' 09.8\"   \n5  07deg 44' 25.4\"  261deg 55' 19.1\"  -00deg 49' 59.9\"  260deg 17' 39.6\"   \n6  01deg 34' 54.1\"  252deg 46' 31.0\"  -00deg 49' 59.9\"  251deg 02' 34.1\"   \n7  08deg 43' 25.9\"  246deg 09' 35.2\"  -00deg 49' 59.9\"  246deg 20' 33.0\"   \n\n          Elongasi Imkan Rukyat  \n1  01deg 03' 59.6\"            ✘  \n2  08deg 47' 11.7\"            ✔  \n3  05deg 35' 32.7\"            ✔  \n4  13deg 43' 12.0\"            ✔  \n5  08deg 43' 33.3\"            ✔  \n6  02deg 58' 19.4\"            ✘  \n7  09deg 33' 31.7\"            ✔  "
         },
         "metadata": {},
         "output_type": "display_data"
        }
       ]
      }
     },
     "8f16c0c11b6443c7a79ef394579c3921": {
      "model_module": "@jupyter-widgets/base",
      "model_module_version": "1.2.0",
      "model_name": "LayoutModel",
      "state": {}
     },
     "952e7f2d022a4f29a78eb182da53230e": {
      "model_module": "@jupyter-widgets/base",
      "model_module_version": "1.2.0",
      "model_name": "LayoutModel",
      "state": {}
     },
     "a20b8e69bb2448b58e0744aa81b46e4d": {
      "model_module": "@jupyter-widgets/controls",
      "model_module_version": "1.5.0",
      "model_name": "VBoxModel",
      "state": {
       "_dom_classes": [
        "widget-interact"
       ],
       "children": [
        "IPY_MODEL_5c758b2a3e0a44d5ba5bf00cc2a2192f",
        "IPY_MODEL_387a429212794515812595d105c2bf66",
        "IPY_MODEL_e818e7642abd4b6ebcd2c3b2f35c4809",
        "IPY_MODEL_b82e26b650cb4b0293056859ccddd44e",
        "IPY_MODEL_4956770f4bca495c9c8a81b406b85126"
       ],
       "layout": "IPY_MODEL_8f16c0c11b6443c7a79ef394579c3921"
      }
     },
     "ad262d56bcd144649cd2f561ba6d55c8": {
      "model_module": "@jupyter-widgets/base",
      "model_module_version": "1.2.0",
      "model_name": "LayoutModel",
      "state": {}
     },
     "b82e26b650cb4b0293056859ccddd44e": {
      "model_module": "@jupyter-widgets/controls",
      "model_module_version": "1.5.0",
      "model_name": "DatePickerModel",
      "state": {
       "description": "Sampai:",
       "disabled": false,
       "layout": "IPY_MODEL_eb4b4ecc261e4d7db9a57b304ea92916",
       "style": "IPY_MODEL_bc15563f03ee407da526a1645a35b599",
       "value": {
        "date": 4,
        "month": 6,
        "year": 2020
       }
      }
     },
     "bb336b7eca8d45b9a52d903eb5645593": {
      "model_module": "@jupyter-widgets/controls",
      "model_module_version": "1.5.0",
      "model_name": "DescriptionStyleModel",
      "state": {
       "description_width": ""
      }
     },
     "bc15563f03ee407da526a1645a35b599": {
      "model_module": "@jupyter-widgets/controls",
      "model_module_version": "1.5.0",
      "model_name": "DescriptionStyleModel",
      "state": {
       "description_width": ""
      }
     },
     "c8e03707b98b47ca8fb7148aaeee4e76": {
      "model_module": "@jupyter-widgets/base",
      "model_module_version": "1.2.0",
      "model_name": "LayoutModel",
      "state": {}
     },
     "d5f5b69e0f12413b81c6d929696e5c32": {
      "model_module": "@jupyter-widgets/controls",
      "model_module_version": "1.5.0",
      "model_name": "DescriptionStyleModel",
      "state": {
       "description_width": ""
      }
     },
     "e19db788ae3644a4a6ae86b8bb0fcb5c": {
      "model_module": "@jupyter-widgets/controls",
      "model_module_version": "1.5.0",
      "model_name": "TextModel",
      "state": {
       "description": "Longitude:",
       "layout": "IPY_MODEL_ad262d56bcd144649cd2f561ba6d55c8",
       "style": "IPY_MODEL_2db295aeb2d04c34ac5e515d31e65b18",
       "value": "110.38305556 E"
      }
     },
     "e4624d3db6c045ba83a81c106eedc148": {
      "model_module": "@jupyter-widgets/base",
      "model_module_version": "1.2.0",
      "model_name": "LayoutModel",
      "state": {}
     },
     "e71c8a10e244413c88d987ff4b9b0157": {
      "model_module": "@jupyter-widgets/controls",
      "model_module_version": "1.5.0",
      "model_name": "DatePickerModel",
      "state": {
       "description": "Dari:",
       "disabled": false,
       "layout": "IPY_MODEL_25805178fb374625aa44b6dea488c51d",
       "style": "IPY_MODEL_efaac9e1d56f40d186d349e905391c2f",
       "value": {
        "date": 4,
        "month": 5,
        "year": 2020
       }
      }
     },
     "e818e7642abd4b6ebcd2c3b2f35c4809": {
      "model_module": "@jupyter-widgets/controls",
      "model_module_version": "1.5.0",
      "model_name": "DatePickerModel",
      "state": {
       "description": "Dari:",
       "disabled": false,
       "layout": "IPY_MODEL_1df6fcf1690f4f0abd0c63ef26c02647",
       "style": "IPY_MODEL_6d4952a81ab5417eabfbbab0e1ddf887",
       "value": {
        "date": 4,
        "month": 5,
        "year": 2020
       }
      }
     },
     "eb4b4ecc261e4d7db9a57b304ea92916": {
      "model_module": "@jupyter-widgets/base",
      "model_module_version": "1.2.0",
      "model_name": "LayoutModel",
      "state": {}
     },
     "efaac9e1d56f40d186d349e905391c2f": {
      "model_module": "@jupyter-widgets/controls",
      "model_module_version": "1.5.0",
      "model_name": "DescriptionStyleModel",
      "state": {
       "description_width": ""
      }
     },
     "f4387c34da7b4ed192d6e82288baa462": {
      "model_module": "@jupyter-widgets/base",
      "model_module_version": "1.2.0",
      "model_name": "LayoutModel",
      "state": {}
     },
     "fd32a8008ce04d008e60d5890d7fce56": {
      "model_module": "@jupyter-widgets/controls",
      "model_module_version": "1.5.0",
      "model_name": "DescriptionStyleModel",
      "state": {
       "description_width": ""
      }
     }
    },
    "version_major": 2,
    "version_minor": 0
   }
  }
 },
 "nbformat": 4,
 "nbformat_minor": 4
}
