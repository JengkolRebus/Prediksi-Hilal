{
 "cells": [
  {
   "cell_type": "markdown",
   "metadata": {},
   "source": [
    "\n",
    "# Prediksi Hilal\n",
    "---"
   ]
  },
  {
   "cell_type": "code",
   "execution_count": 1,
   "metadata": {},
   "outputs": [],
   "source": [
    "# _jengkolrebus\n",
    "# Mei, 2020\n",
    "# Curup, Bengkulu"
   ]
  },
  {
   "cell_type": "markdown",
   "metadata": {},
   "source": [
    "Program ini menggunakan Python Package: [Skyfield](https://rhodesmill.org/skyfield/).\n",
    "Program ini dibuat dengan ketentuan sebagai berikut:\n",
    "- Ephemeris:\n",
    "    > Ephemeris yang digunakan adalah de421.bsp\n",
    "- Definisi Matahari Terbenam:\n",
    "    > Skyfield menggunakan definisi resmi matahari terbit dan terbenam dari United States Naval Observatory, yang mendefinisikan matahari terbenam ketika pusat matahari adalah <b>0,8333</b> derajat di bawah Horizon, untuk memperhitungkan rata-rata jari-jari Matahari dan untuk rata-rata pembiasan atmosfer di horizon.\n",
    "___\n",
    "- Flowchart:\n",
    "<br>\n",
    "<img src=\"flowchart.png\">\n",
    "<br>\n",
    "- Input Lokasi berupa Latitude dan Longitude dalam bentuk <em>Decimal Degree</em> dengan format String / text.\n",
    " > Contoh : \n",
    "    Latitude: \"7.83305556 S\"\n",
    "    Longitude: \"110.38305556 E\"\n",
    "    Perhatikan Notasi \"S\" dan \"E\" bergantung pada lokasi.\n",
    "    \n",
    "- Input waktu berupa tanggal rentang waktu hilal yang ingin dicari.\n",
    " > Contoh dari tanggal 1 Januari 2020, sampai 1 Januari 2021\n",
    "___\n"
   ]
  },
  {
   "cell_type": "code",
   "execution_count": 2,
   "metadata": {},
   "outputs": [],
   "source": [
    "from skyfield.api import load, Topos\n",
    "from skyfield.units import Angle\n",
    "from skyfield import almanac\n",
    "from datetime import datetime, timedelta\n",
    "from pytz import timezone\n",
    "from ipywidgets import widgets, interact, interactive\n",
    "from IPython.display import display, HTML\n",
    "import pandas as pd\n",
    "import calendar"
   ]
  },
  {
   "cell_type": "code",
   "execution_count": 3,
   "metadata": {},
   "outputs": [],
   "source": [
    "jkt = timezone('Asia/Jakarta')\n",
    "ts = load.timescale()\n",
    "e = load('de421.bsp')"
   ]
  },
  {
   "cell_type": "markdown",
   "metadata": {},
   "source": [
    "### Kriteria Hilal\n",
    "- Imkanur Rukyat\n",
    "    > - Pada saat matahari terbenam, <b>ketinggian bulan minimal 2$^\\circ$</b>, <b>Elongasi minimal 3$^\\circ$</b>.\n",
    "    > - Usia bulan minimal <b>8 Jam</b>, dihitung sejak ijtima' (konjungsi)\n",
    "    \n",
    "___"
   ]
  },
  {
   "cell_type": "code",
   "execution_count": 4,
   "metadata": {},
   "outputs": [],
   "source": [
    "class Find():\n",
    "    def __init__(self, lat, long, t0, t1):\n",
    "        self.lat = lat\n",
    "        self.long = long\n",
    "        self.t0 = t0\n",
    "        self.t1 = t1\n",
    "        self.topo = Topos(self.lat, self.long)\n",
    "        self.loc = e['earth'] + self.topo\n",
    "    \n",
    "    def conjunction(self):\n",
    "        result = []\n",
    "        t0 = ts.utc(self.t0)\n",
    "        t1 = ts.utc(self.t1)\n",
    "        f = almanac.oppositions_conjunctions(e, e['moon'])\n",
    "        t, y = almanac.find_discrete(t0, t1, f)\n",
    "        for ti, yi in zip(t, y):\n",
    "            if(yi == 1):\n",
    "                result.append(ti)\n",
    "            else:\n",
    "                pass\n",
    "\n",
    "        return result\n",
    "        \n",
    "    def sunset(self, t):\n",
    "        t = t.utc\n",
    "        t0 = ts.utc(t[0], t[1], t[2], t[3], t[4], t[5])\n",
    "        t1 = ts.utc(t[0], t[1], t[2]+1, t[3], t[4], t[5])\n",
    "        f = almanac.sunrise_sunset(e, self.topo)\n",
    "        t, y = almanac.find_discrete(t0, t1, f)\n",
    "        for ti, yi in zip(t, y):\n",
    "            if(yi == False):\n",
    "                return ti\n",
    "            else:\n",
    "                pass\n",
    "    \n",
    "    def objPos(self, t, obj):\n",
    "        astrometric = self.loc.at(t).observe(e[obj])\n",
    "        alt, az, d = astrometric.apparent().altaz()\n",
    "        return alt, az, astrometric\n",
    "        \n"
   ]
  },
  {
   "cell_type": "code",
   "execution_count": 11,
   "metadata": {},
   "outputs": [],
   "source": [
    "# Metode untuk membandingkan dengan Imkan Rukyat\n",
    "def imkanRukyat(alt, elong, age):\n",
    "    if(alt.degrees >= 2 and elong.degrees >= 3 and (timedelta.total_seconds(age)/3600) > 8):\n",
    "        return u'\\u2714'\n",
    "    else:\n",
    "        return u'\\u2718'\n",
    "\n",
    "def result(lat, long, t0, t1):\n",
    "    f = Find(lat, long, t0, t1)\n",
    "    conj = f.conjunction()\n",
    "    sunset = [f.sunset(t) for t in conj]\n",
    "    \n",
    "    moon_alt = []\n",
    "    moon_az = []\n",
    "    moon_astrometric = []\n",
    "    sun_alt = []\n",
    "    sun_az = []\n",
    "    sun_astrometric = []\n",
    "    for t in sunset:\n",
    "        alt, az, astro = f.objPos(t, 'moon')\n",
    "        moon_alt.append(alt)\n",
    "        moon_az.append(az)\n",
    "        moon_astrometric.append(astro)\n",
    "        \n",
    "        alt, az, astro = f.objPos(t, 'sun')\n",
    "        sun_alt.append(alt)\n",
    "        sun_az.append(az)\n",
    "        sun_astrometric.append(astro)\n",
    "    \n",
    "    elong = [moon.separation_from(sun) for moon, sun in zip(moon_astrometric, sun_astrometric)]\n",
    "        \n",
    "    conj[:] = [t.astimezone(jkt) for t in conj]\n",
    "    sunset[:] = [t.astimezone(jkt) for t in sunset]\n",
    "    \n",
    "    moon_age = [t1-t0 for (t0, t1) in zip(conj, sunset)]\n",
    "    imkan_rukyat = [imkanRukyat(al, el, age) for al, el, age in zip(moon_alt, elong, moon_age)]\n",
    "    \n",
    "    # Menampilkan hasil dalam bentuk tabel dataframe\n",
    "    tabel = list(zip(conj, sunset,\n",
    "                     moon_alt, moon_az, \n",
    "                     sun_alt, sun_az, \n",
    "                     elong, moon_age,\n",
    "                    imkan_rukyat))\n",
    "    df = pd.DataFrame(tabel, columns=['Waktu Konjungsi (UTC+07)', 'Waktu Hilal (UTC+07)', \n",
    "                                      'Altitude Bulan', 'Azimuth Bulan', \n",
    "                                      'Altitude Matahari', 'Azimuth Matahari', \n",
    "                                     'Elongasi', 'Usia Bulan', \n",
    "                                     'Imkan Rukyat'])\n",
    "    df.index+=1\n",
    "    display(df)"
   ]
  },
  {
   "cell_type": "code",
   "execution_count": 12,
   "metadata": {},
   "outputs": [
    {
     "data": {
      "application/vnd.jupyter.widget-view+json": {
       "model_id": "3d31eb6123664b6993f55a176eddca11",
       "version_major": 2,
       "version_minor": 0
      },
      "text/plain": [
       "interactive(children=(Text(value='7.83305556 S', description='Latitude:'), Text(value='110.38305556 E', descri…"
      ]
     },
     "metadata": {},
     "output_type": "display_data"
    }
   ],
   "source": [
    "hari_ini = datetime.now().date()\n",
    "days_in_month = calendar.monthrange(hari_ini.year, hari_ini.month)[1]\n",
    "bulan_depan = hari_ini + timedelta(days_in_month)\n",
    "\n",
    "dari = widgets.DatePicker(value=hari_ini,\n",
    "    description='Dari:',\n",
    "    disabled=False\n",
    ")\n",
    "sampai = widgets.DatePicker(value=bulan_depan,\n",
    "    description='Sampai:',\n",
    "    disabled=False\n",
    ")\n",
    "\n",
    "lat = widgets.Text(value='7.83305556 S', description='Latitude:')\n",
    "long = widgets.Text(value='110.38305556 E', description='Longitude:')\n",
    "\n",
    "interactive(result, lat=lat, long=long, t0=dari, t1=sampai)\n"
   ]
  },
  {
   "cell_type": "code",
   "execution_count": null,
   "metadata": {},
   "outputs": [],
   "source": []
  },
  {
   "cell_type": "code",
   "execution_count": null,
   "metadata": {},
   "outputs": [],
   "source": []
  }
 ],
 "metadata": {
  "kernelspec": {
   "display_name": "Python 3",
   "language": "python",
   "name": "python3"
  },
  "language_info": {
   "codemirror_mode": {
    "name": "ipython",
    "version": 3
   },
   "file_extension": ".py",
   "mimetype": "text/x-python",
   "name": "python",
   "nbconvert_exporter": "python",
   "pygments_lexer": "ipython3",
   "version": "3.7.6"
  },
  "widgets": {
   "application/vnd.jupyter.widget-state+json": {
    "state": {
     "00022212d3ff47749c4f41668fed85e4": {
      "model_module": "@jupyter-widgets/base",
      "model_module_version": "1.2.0",
      "model_name": "LayoutModel",
      "state": {}
     },
     "0506eef096f140e48c807fbd3ed24ae2": {
      "model_module": "@jupyter-widgets/base",
      "model_module_version": "1.2.0",
      "model_name": "LayoutModel",
      "state": {}
     },
     "0d80b1cbd44442b987507194379d4a94": {
      "model_module": "@jupyter-widgets/base",
      "model_module_version": "1.2.0",
      "model_name": "LayoutModel",
      "state": {}
     },
     "0e013e4d54744b9082857c9e1a98bd50": {
      "model_module": "@jupyter-widgets/base",
      "model_module_version": "1.2.0",
      "model_name": "LayoutModel",
      "state": {}
     },
     "12bd10a5374343b184e8b16a2f7390aa": {
      "model_module": "@jupyter-widgets/controls",
      "model_module_version": "1.5.0",
      "model_name": "TextModel",
      "state": {
       "description": "Longitude:",
       "layout": "IPY_MODEL_0506eef096f140e48c807fbd3ed24ae2",
       "style": "IPY_MODEL_2ec511644d514724ab317fad0b6156fc",
       "value": "110.38305556 E"
      }
     },
     "13a35bfe846346b6a4fe2a03f13af423": {
      "model_module": "@jupyter-widgets/controls",
      "model_module_version": "1.5.0",
      "model_name": "DescriptionStyleModel",
      "state": {
       "description_width": ""
      }
     },
     "13e2930ff4b84bdca43bd603534e9a51": {
      "model_module": "@jupyter-widgets/base",
      "model_module_version": "1.2.0",
      "model_name": "LayoutModel",
      "state": {}
     },
     "141ee72af23a43ac88d59c5803ec69a7": {
      "model_module": "@jupyter-widgets/output",
      "model_module_version": "1.0.0",
      "model_name": "OutputModel",
      "state": {
       "layout": "IPY_MODEL_286c1d28fad84952b9c75278f288aebf",
       "outputs": [
        {
         "data": {
          "text/html": "<div>\n<style scoped>\n    .dataframe tbody tr th:only-of-type {\n        vertical-align: middle;\n    }\n\n    .dataframe tbody tr th {\n        vertical-align: top;\n    }\n\n    .dataframe thead th {\n        text-align: right;\n    }\n</style>\n<table border=\"1\" class=\"dataframe\">\n  <thead>\n    <tr style=\"text-align: right;\">\n      <th></th>\n      <th>Waktu Konjungsi (UTC+07)</th>\n      <th>Waktu Hilal (UTC+07)</th>\n      <th>Altitude Bulan</th>\n      <th>Azimuth Bulan</th>\n      <th>Altitude Matahari</th>\n      <th>Azimuth Matahari</th>\n      <th>Elongasi</th>\n      <th>Usia Bulan</th>\n      <th>Imkan Rukyat</th>\n    </tr>\n  </thead>\n  <tbody>\n    <tr>\n      <th>1</th>\n      <td>2020-06-21 13:41:27.481000+07:00</td>\n      <td>2020-06-21 17:30:21.892000+07:00</td>\n      <td>00deg 04' 17.9\"</td>\n      <td>294deg 06' 43.4\"</td>\n      <td>-00deg 49' 59.9\"</td>\n      <td>293deg 32' 51.3\"</td>\n      <td>01deg 03' 59.6\"</td>\n      <td>03:48:54.411000</td>\n      <td>✘</td>\n    </tr>\n  </tbody>\n</table>\n</div>",
          "text/plain": "          Waktu Konjungsi (UTC+07)             Waktu Hilal (UTC+07)  \\\n1 2020-06-21 13:41:27.481000+07:00 2020-06-21 17:30:21.892000+07:00   \n\n    Altitude Bulan     Azimuth Bulan Altitude Matahari  Azimuth Matahari  \\\n1  00deg 04' 17.9\"  294deg 06' 43.4\"  -00deg 49' 59.9\"  293deg 32' 51.3\"   \n\n          Elongasi      Usia Bulan Imkan Rukyat  \n1  01deg 03' 59.6\" 03:48:54.411000            ✘  "
         },
         "metadata": {},
         "output_type": "display_data"
        }
       ]
      }
     },
     "176f0c20dc53418c9d806462e3506e2b": {
      "model_module": "@jupyter-widgets/controls",
      "model_module_version": "1.5.0",
      "model_name": "DescriptionStyleModel",
      "state": {
       "description_width": ""
      }
     },
     "1870d19c456849fba486abe2ffaf9916": {
      "model_module": "@jupyter-widgets/base",
      "model_module_version": "1.2.0",
      "model_name": "LayoutModel",
      "state": {}
     },
     "18feb90675e846aa94053166e957b186": {
      "model_module": "@jupyter-widgets/base",
      "model_module_version": "1.2.0",
      "model_name": "LayoutModel",
      "state": {}
     },
     "19e130a196ca4d5c87ac5a99a91ca56c": {
      "model_module": "@jupyter-widgets/base",
      "model_module_version": "1.2.0",
      "model_name": "LayoutModel",
      "state": {}
     },
     "1c26fbf2f8c6476e9f804a44ed9f9fbf": {
      "model_module": "@jupyter-widgets/controls",
      "model_module_version": "1.5.0",
      "model_name": "TextModel",
      "state": {
       "description": "Longitude:",
       "layout": "IPY_MODEL_bfa1f36b2ee64cbaac477d408f6e0241",
       "style": "IPY_MODEL_6ed38bd992b84a44a7c14493abea5678",
       "value": "110.38305556 E"
      }
     },
     "22fecbfb28c346b8806d88cfeda8b110": {
      "model_module": "@jupyter-widgets/controls",
      "model_module_version": "1.5.0",
      "model_name": "DescriptionStyleModel",
      "state": {
       "description_width": ""
      }
     },
     "286c1d28fad84952b9c75278f288aebf": {
      "model_module": "@jupyter-widgets/base",
      "model_module_version": "1.2.0",
      "model_name": "LayoutModel",
      "state": {}
     },
     "2ec511644d514724ab317fad0b6156fc": {
      "model_module": "@jupyter-widgets/controls",
      "model_module_version": "1.5.0",
      "model_name": "DescriptionStyleModel",
      "state": {
       "description_width": ""
      }
     },
     "3194579598f045cfa9c34e1049de3e2d": {
      "model_module": "@jupyter-widgets/controls",
      "model_module_version": "1.5.0",
      "model_name": "DescriptionStyleModel",
      "state": {
       "description_width": ""
      }
     },
     "336d1b577d5f4d4fadefcaa62ec90ebf": {
      "model_module": "@jupyter-widgets/base",
      "model_module_version": "1.2.0",
      "model_name": "LayoutModel",
      "state": {}
     },
     "36aa13067bfb4b16ae3303d7085be882": {
      "model_module": "@jupyter-widgets/controls",
      "model_module_version": "1.5.0",
      "model_name": "DatePickerModel",
      "state": {
       "description": "Dari:",
       "disabled": false,
       "layout": "IPY_MODEL_ad1d4806e5fa46318ae2e38530d40bf4",
       "style": "IPY_MODEL_22fecbfb28c346b8806d88cfeda8b110",
       "value": {
        "date": 11,
        "month": 5,
        "year": 2020
       }
      }
     },
     "3d31eb6123664b6993f55a176eddca11": {
      "model_module": "@jupyter-widgets/controls",
      "model_module_version": "1.5.0",
      "model_name": "VBoxModel",
      "state": {
       "_dom_classes": [
        "widget-interact"
       ],
       "children": [
        "IPY_MODEL_f4b9f14e05504b0e820164af2d5ce307",
        "IPY_MODEL_12bd10a5374343b184e8b16a2f7390aa",
        "IPY_MODEL_36aa13067bfb4b16ae3303d7085be882",
        "IPY_MODEL_4a8a202567954e0899dd63a55f2798f0",
        "IPY_MODEL_141ee72af23a43ac88d59c5803ec69a7"
       ],
       "layout": "IPY_MODEL_1870d19c456849fba486abe2ffaf9916"
      }
     },
     "3fde61f875074e6d915c60fb4edd8141": {
      "model_module": "@jupyter-widgets/controls",
      "model_module_version": "1.5.0",
      "model_name": "TextModel",
      "state": {
       "description": "Latitude:",
       "layout": "IPY_MODEL_a1e2bdc0a7c04eb69521b31858aa8b8e",
       "style": "IPY_MODEL_46005d22779f4edfb3e9e6addaa8ed23",
       "value": "7.83305556 S"
      }
     },
     "452827c1f58a4aa9b763346ed8cbf720": {
      "model_module": "@jupyter-widgets/base",
      "model_module_version": "1.2.0",
      "model_name": "LayoutModel",
      "state": {}
     },
     "46005d22779f4edfb3e9e6addaa8ed23": {
      "model_module": "@jupyter-widgets/controls",
      "model_module_version": "1.5.0",
      "model_name": "DescriptionStyleModel",
      "state": {
       "description_width": ""
      }
     },
     "4a8a202567954e0899dd63a55f2798f0": {
      "model_module": "@jupyter-widgets/controls",
      "model_module_version": "1.5.0",
      "model_name": "DatePickerModel",
      "state": {
       "description": "Sampai:",
       "disabled": false,
       "layout": "IPY_MODEL_18feb90675e846aa94053166e957b186",
       "style": "IPY_MODEL_fcb28d9fd7074483bbf175bf2d087af3",
       "value": {
        "date": 11,
        "month": 6,
        "year": 2020
       }
      }
     },
     "4c079a7cc43e4e148f1304749bb4848a": {
      "model_module": "@jupyter-widgets/controls",
      "model_module_version": "1.5.0",
      "model_name": "DescriptionStyleModel",
      "state": {
       "description_width": ""
      }
     },
     "5108bb3b6c334783b1f840b6ab6c0d5f": {
      "model_module": "@jupyter-widgets/base",
      "model_module_version": "1.2.0",
      "model_name": "LayoutModel",
      "state": {}
     },
     "518b5891967743589597c4f841112b89": {
      "model_module": "@jupyter-widgets/controls",
      "model_module_version": "1.5.0",
      "model_name": "DescriptionStyleModel",
      "state": {
       "description_width": ""
      }
     },
     "64f5f3bf33a74579aa892f3e617487ba": {
      "model_module": "@jupyter-widgets/base",
      "model_module_version": "1.2.0",
      "model_name": "LayoutModel",
      "state": {}
     },
     "654da4abd73444f79562f2de7f6d93f3": {
      "model_module": "@jupyter-widgets/controls",
      "model_module_version": "1.5.0",
      "model_name": "DescriptionStyleModel",
      "state": {
       "description_width": ""
      }
     },
     "673a220a788844969ba1407d8fcbecd6": {
      "model_module": "@jupyter-widgets/controls",
      "model_module_version": "1.5.0",
      "model_name": "TextModel",
      "state": {
       "description": "Latitude:",
       "layout": "IPY_MODEL_d9c4ab8b477344b1a21cd2278a6f7953",
       "style": "IPY_MODEL_518b5891967743589597c4f841112b89",
       "value": "7.83305556 S"
      }
     },
     "68fd3c0fa7804f0c8ec93bf9321dbf03": {
      "model_module": "@jupyter-widgets/controls",
      "model_module_version": "1.5.0",
      "model_name": "DescriptionStyleModel",
      "state": {
       "description_width": ""
      }
     },
     "6ed38bd992b84a44a7c14493abea5678": {
      "model_module": "@jupyter-widgets/controls",
      "model_module_version": "1.5.0",
      "model_name": "DescriptionStyleModel",
      "state": {
       "description_width": ""
      }
     },
     "729aad50b1b84a5c98f095e795c3c8b3": {
      "model_module": "@jupyter-widgets/base",
      "model_module_version": "1.2.0",
      "model_name": "LayoutModel",
      "state": {}
     },
     "7360f1445fad47fba0c11be507539877": {
      "model_module": "@jupyter-widgets/controls",
      "model_module_version": "1.5.0",
      "model_name": "DatePickerModel",
      "state": {
       "description": "Dari:",
       "disabled": false,
       "layout": "IPY_MODEL_cd5a099957404a52b868f78a4f4542f4",
       "style": "IPY_MODEL_68fd3c0fa7804f0c8ec93bf9321dbf03",
       "value": {
        "date": 11,
        "month": 5,
        "year": 2020
       }
      }
     },
     "7d30b0f818314536a82814d468dc8b9d": {
      "model_module": "@jupyter-widgets/controls",
      "model_module_version": "1.5.0",
      "model_name": "DatePickerModel",
      "state": {
       "description": "Sampai:",
       "disabled": false,
       "layout": "IPY_MODEL_c387c8a1913b4223bdc8bdddf8f06893",
       "style": "IPY_MODEL_ddff426e4a354b129c5ecebd5ad3ff3c",
       "value": {
        "date": 11,
        "month": 6,
        "year": 2020
       }
      }
     },
     "80c9aada2c3a43f7a54f5004aab6bd97": {
      "model_module": "@jupyter-widgets/controls",
      "model_module_version": "1.5.0",
      "model_name": "TextModel",
      "state": {
       "description": "Longitude:",
       "layout": "IPY_MODEL_729aad50b1b84a5c98f095e795c3c8b3",
       "style": "IPY_MODEL_176f0c20dc53418c9d806462e3506e2b",
       "value": "110.38305556 E"
      }
     },
     "815a9920424b4bb4b0690102d18750c2": {
      "model_module": "@jupyter-widgets/output",
      "model_module_version": "1.0.0",
      "model_name": "OutputModel",
      "state": {
       "layout": "IPY_MODEL_b5fe8821b1884e959adf94714003ee2c",
       "outputs": [
        {
         "data": {
          "text/html": "<div>\n<style scoped>\n    .dataframe tbody tr th:only-of-type {\n        vertical-align: middle;\n    }\n\n    .dataframe tbody tr th {\n        vertical-align: top;\n    }\n\n    .dataframe thead th {\n        text-align: right;\n    }\n</style>\n<table border=\"1\" class=\"dataframe\">\n  <thead>\n    <tr style=\"text-align: right;\">\n      <th></th>\n      <th>Waktu Konjungsi (UTC+07)</th>\n      <th>Waktu Hilal (UTC+07)</th>\n      <th>Altitude Bulan</th>\n      <th>Azimuth Bulan</th>\n      <th>Altitude Matahari</th>\n      <th>Azimuth Matahari</th>\n      <th>Elongasi</th>\n      <th>Usia Bulan</th>\n      <th>Imkan Rukyat</th>\n    </tr>\n  </thead>\n  <tbody>\n    <tr>\n      <th>1</th>\n      <td>2020-06-21 13:41:27.481000+07:00</td>\n      <td>2020-06-21 17:30:21.892000+07:00</td>\n      <td>00deg 04' 17.9\"</td>\n      <td>294deg 06' 43.4\"</td>\n      <td>-00deg 49' 59.9\"</td>\n      <td>293deg 32' 51.3\"</td>\n      <td>01deg 03' 59.6\"</td>\n      <td>03:48:54.411000</td>\n      <td>✘</td>\n    </tr>\n    <tr>\n      <th>2</th>\n      <td>2020-07-21 00:32:57.811000+07:00</td>\n      <td>2020-07-21 17:36:49.999000+07:00</td>\n      <td>07deg 31' 36.2\"</td>\n      <td>293deg 07' 24.2\"</td>\n      <td>-00deg 49' 59.9\"</td>\n      <td>290deg 24' 42.0\"</td>\n      <td>08deg 47' 11.7\"</td>\n      <td>17:03:52.188000</td>\n      <td>✔</td>\n    </tr>\n    <tr>\n      <th>3</th>\n      <td>2020-08-19 09:41:40.904000+07:00</td>\n      <td>2020-08-19 17:38:25.982000+07:00</td>\n      <td>03deg 30' 39.9\"</td>\n      <td>286deg 04' 15.8\"</td>\n      <td>-00deg 49' 59.9\"</td>\n      <td>282deg 32' 51.4\"</td>\n      <td>05deg 35' 32.7\"</td>\n      <td>07:56:45.078000</td>\n      <td>✘</td>\n    </tr>\n    <tr>\n      <th>4</th>\n      <td>2020-09-17 18:00:14.099000+07:00</td>\n      <td>2020-09-18 17:34:56.523000+07:00</td>\n      <td>12deg 51' 07.6\"</td>\n      <td>272deg 29' 09.9\"</td>\n      <td>-00deg 49' 59.9\"</td>\n      <td>271deg 30' 09.8\"</td>\n      <td>13deg 43' 12.0\"</td>\n      <td>23:34:42.424000</td>\n      <td>✔</td>\n    </tr>\n  </tbody>\n</table>\n</div>",
          "text/plain": "          Waktu Konjungsi (UTC+07)             Waktu Hilal (UTC+07)  \\\n1 2020-06-21 13:41:27.481000+07:00 2020-06-21 17:30:21.892000+07:00   \n2 2020-07-21 00:32:57.811000+07:00 2020-07-21 17:36:49.999000+07:00   \n3 2020-08-19 09:41:40.904000+07:00 2020-08-19 17:38:25.982000+07:00   \n4 2020-09-17 18:00:14.099000+07:00 2020-09-18 17:34:56.523000+07:00   \n\n    Altitude Bulan     Azimuth Bulan Altitude Matahari  Azimuth Matahari  \\\n1  00deg 04' 17.9\"  294deg 06' 43.4\"  -00deg 49' 59.9\"  293deg 32' 51.3\"   \n2  07deg 31' 36.2\"  293deg 07' 24.2\"  -00deg 49' 59.9\"  290deg 24' 42.0\"   \n3  03deg 30' 39.9\"  286deg 04' 15.8\"  -00deg 49' 59.9\"  282deg 32' 51.4\"   \n4  12deg 51' 07.6\"  272deg 29' 09.9\"  -00deg 49' 59.9\"  271deg 30' 09.8\"   \n\n          Elongasi      Usia Bulan Imkan Rukyat  \n1  01deg 03' 59.6\" 03:48:54.411000            ✘  \n2  08deg 47' 11.7\" 17:03:52.188000            ✔  \n3  05deg 35' 32.7\" 07:56:45.078000            ✘  \n4  13deg 43' 12.0\" 23:34:42.424000            ✔  "
         },
         "metadata": {},
         "output_type": "display_data"
        }
       ]
      }
     },
     "839aaa2a01fb4aa0b14ddca860ee0855": {
      "model_module": "@jupyter-widgets/base",
      "model_module_version": "1.2.0",
      "model_name": "LayoutModel",
      "state": {}
     },
     "856d708675994db390459ff2574f62c1": {
      "model_module": "@jupyter-widgets/base",
      "model_module_version": "1.2.0",
      "model_name": "LayoutModel",
      "state": {}
     },
     "957c9372b8334dd0aafc41432336602f": {
      "model_module": "@jupyter-widgets/controls",
      "model_module_version": "1.5.0",
      "model_name": "DatePickerModel",
      "state": {
       "description": "Sampai:",
       "disabled": false,
       "layout": "IPY_MODEL_336d1b577d5f4d4fadefcaa62ec90ebf",
       "style": "IPY_MODEL_654da4abd73444f79562f2de7f6d93f3",
       "value": {
        "date": 3,
        "month": 9,
        "year": 2020
       }
      }
     },
     "9764566c02824552a6f5068603e1855f": {
      "model_module": "@jupyter-widgets/controls",
      "model_module_version": "1.5.0",
      "model_name": "DescriptionStyleModel",
      "state": {
       "description_width": ""
      }
     },
     "a1e2bdc0a7c04eb69521b31858aa8b8e": {
      "model_module": "@jupyter-widgets/base",
      "model_module_version": "1.2.0",
      "model_name": "LayoutModel",
      "state": {}
     },
     "a386de9f1c3e437ebb518a071a5d31e3": {
      "model_module": "@jupyter-widgets/controls",
      "model_module_version": "1.5.0",
      "model_name": "TextModel",
      "state": {
       "description": "Latitude:",
       "layout": "IPY_MODEL_452827c1f58a4aa9b763346ed8cbf720",
       "style": "IPY_MODEL_4c079a7cc43e4e148f1304749bb4848a",
       "value": "7.83305556 S"
      }
     },
     "ad1d4806e5fa46318ae2e38530d40bf4": {
      "model_module": "@jupyter-widgets/base",
      "model_module_version": "1.2.0",
      "model_name": "LayoutModel",
      "state": {}
     },
     "b2cd7505662f41619e03103cb430358a": {
      "model_module": "@jupyter-widgets/controls",
      "model_module_version": "1.5.0",
      "model_name": "DescriptionStyleModel",
      "state": {
       "description_width": ""
      }
     },
     "b5fe8821b1884e959adf94714003ee2c": {
      "model_module": "@jupyter-widgets/base",
      "model_module_version": "1.2.0",
      "model_name": "LayoutModel",
      "state": {}
     },
     "b61c38a90dbb4609896bf8cc170c5cd3": {
      "model_module": "@jupyter-widgets/controls",
      "model_module_version": "1.5.0",
      "model_name": "DescriptionStyleModel",
      "state": {
       "description_width": ""
      }
     },
     "be42ae2a96f04714a09283092c6ddaaf": {
      "model_module": "@jupyter-widgets/base",
      "model_module_version": "1.2.0",
      "model_name": "LayoutModel",
      "state": {}
     },
     "bfa1f36b2ee64cbaac477d408f6e0241": {
      "model_module": "@jupyter-widgets/base",
      "model_module_version": "1.2.0",
      "model_name": "LayoutModel",
      "state": {}
     },
     "c387c8a1913b4223bdc8bdddf8f06893": {
      "model_module": "@jupyter-widgets/base",
      "model_module_version": "1.2.0",
      "model_name": "LayoutModel",
      "state": {}
     },
     "c8e8c68602774379a8e9fa0398340ec9": {
      "model_module": "@jupyter-widgets/output",
      "model_module_version": "1.0.0",
      "model_name": "OutputModel",
      "state": {
       "layout": "IPY_MODEL_00022212d3ff47749c4f41668fed85e4",
       "outputs": [
        {
         "data": {
          "text/html": "<div>\n<style scoped>\n    .dataframe tbody tr th:only-of-type {\n        vertical-align: middle;\n    }\n\n    .dataframe tbody tr th {\n        vertical-align: top;\n    }\n\n    .dataframe thead th {\n        text-align: right;\n    }\n</style>\n<table border=\"1\" class=\"dataframe\">\n  <thead>\n    <tr style=\"text-align: right;\">\n      <th></th>\n      <th>Waktu Konjungsi (UTC+07)</th>\n      <th>Waktu Hilal (UTC+07)</th>\n      <th>Altitude Bulan</th>\n      <th>Azimuth Bulan</th>\n      <th>Altitude Matahari</th>\n      <th>Azimuth Matahari</th>\n      <th>Elongasi</th>\n      <th>Usia Bulan</th>\n      <th>Imkan Rukyat</th>\n    </tr>\n  </thead>\n  <tbody>\n    <tr>\n      <th>1</th>\n      <td>2020-06-21 13:41:27.481000+07:00</td>\n      <td>2020-06-21 17:30:21.892000+07:00</td>\n      <td>00deg 04' 17.9\"</td>\n      <td>294deg 06' 43.4\"</td>\n      <td>-00deg 49' 59.9\"</td>\n      <td>293deg 32' 51.3\"</td>\n      <td>01deg 03' 59.6\"</td>\n      <td>03:48:54.411000</td>\n      <td>✘</td>\n    </tr>\n  </tbody>\n</table>\n</div>",
          "text/plain": "          Waktu Konjungsi (UTC+07)             Waktu Hilal (UTC+07)  \\\n1 2020-06-21 13:41:27.481000+07:00 2020-06-21 17:30:21.892000+07:00   \n\n    Altitude Bulan     Azimuth Bulan Altitude Matahari  Azimuth Matahari  \\\n1  00deg 04' 17.9\"  294deg 06' 43.4\"  -00deg 49' 59.9\"  293deg 32' 51.3\"   \n\n          Elongasi      Usia Bulan Imkan Rukyat  \n1  01deg 03' 59.6\" 03:48:54.411000            ✘  "
         },
         "metadata": {},
         "output_type": "display_data"
        }
       ]
      }
     },
     "cd5a099957404a52b868f78a4f4542f4": {
      "model_module": "@jupyter-widgets/base",
      "model_module_version": "1.2.0",
      "model_name": "LayoutModel",
      "state": {}
     },
     "d4a2a96101e3461a97473fa52d63444e": {
      "model_module": "@jupyter-widgets/controls",
      "model_module_version": "1.5.0",
      "model_name": "DatePickerModel",
      "state": {
       "description": "Dari:",
       "disabled": false,
       "layout": "IPY_MODEL_be42ae2a96f04714a09283092c6ddaaf",
       "style": "IPY_MODEL_13a35bfe846346b6a4fe2a03f13af423",
       "value": {
        "date": 11,
        "month": 5,
        "year": 2020
       }
      }
     },
     "d5103edc93c74d95b6f52b03e9f90201": {
      "model_module": "@jupyter-widgets/output",
      "model_module_version": "1.0.0",
      "model_name": "OutputModel",
      "state": {
       "layout": "IPY_MODEL_856d708675994db390459ff2574f62c1",
       "outputs": [
        {
         "data": {
          "text/html": "<div>\n<style scoped>\n    .dataframe tbody tr th:only-of-type {\n        vertical-align: middle;\n    }\n\n    .dataframe tbody tr th {\n        vertical-align: top;\n    }\n\n    .dataframe thead th {\n        text-align: right;\n    }\n</style>\n<table border=\"1\" class=\"dataframe\">\n  <thead>\n    <tr style=\"text-align: right;\">\n      <th></th>\n      <th>Waktu Konjungsi (UTC+07)</th>\n      <th>Waktu Hilal (UTC+07)</th>\n      <th>Altitude Bulan</th>\n      <th>Azimuth Bulan</th>\n      <th>Altitude Matahari</th>\n      <th>Azimuth Matahari</th>\n      <th>Elongasi</th>\n      <th>Usia Bulan</th>\n      <th>Imkan Rukyat</th>\n    </tr>\n  </thead>\n  <tbody>\n    <tr>\n      <th>1</th>\n      <td>2020-06-21 13:41:27.481000+07:00</td>\n      <td>2020-06-21 17:30:21.892000+07:00</td>\n      <td>00deg 04' 17.9\"</td>\n      <td>294deg 06' 43.4\"</td>\n      <td>-00deg 49' 59.9\"</td>\n      <td>293deg 32' 51.3\"</td>\n      <td>01deg 03' 59.6\"</td>\n      <td>03:48:54.411000</td>\n      <td>✘</td>\n    </tr>\n  </tbody>\n</table>\n</div>",
          "text/plain": "          Waktu Konjungsi (UTC+07)             Waktu Hilal (UTC+07)  \\\n1 2020-06-21 13:41:27.481000+07:00 2020-06-21 17:30:21.892000+07:00   \n\n    Altitude Bulan     Azimuth Bulan Altitude Matahari  Azimuth Matahari  \\\n1  00deg 04' 17.9\"  294deg 06' 43.4\"  -00deg 49' 59.9\"  293deg 32' 51.3\"   \n\n          Elongasi      Usia Bulan Imkan Rukyat  \n1  01deg 03' 59.6\" 03:48:54.411000            ✘  "
         },
         "metadata": {},
         "output_type": "display_data"
        }
       ]
      }
     },
     "d73dce187d7d48a39f23029af3c1f2f6": {
      "model_module": "@jupyter-widgets/controls",
      "model_module_version": "1.5.0",
      "model_name": "DatePickerModel",
      "state": {
       "description": "Dari:",
       "disabled": false,
       "layout": "IPY_MODEL_0d80b1cbd44442b987507194379d4a94",
       "style": "IPY_MODEL_3194579598f045cfa9c34e1049de3e2d",
       "value": {
        "date": 11,
        "month": 5,
        "year": 2020
       }
      }
     },
     "d8f03ec7d73046e192503c6be8d4d6b4": {
      "model_module": "@jupyter-widgets/controls",
      "model_module_version": "1.5.0",
      "model_name": "TextModel",
      "state": {
       "description": "Longitude:",
       "layout": "IPY_MODEL_64f5f3bf33a74579aa892f3e617487ba",
       "style": "IPY_MODEL_b2cd7505662f41619e03103cb430358a",
       "value": "110.38305556 E"
      }
     },
     "d9c4ab8b477344b1a21cd2278a6f7953": {
      "model_module": "@jupyter-widgets/base",
      "model_module_version": "1.2.0",
      "model_name": "LayoutModel",
      "state": {}
     },
     "ddff426e4a354b129c5ecebd5ad3ff3c": {
      "model_module": "@jupyter-widgets/controls",
      "model_module_version": "1.5.0",
      "model_name": "DescriptionStyleModel",
      "state": {
       "description_width": ""
      }
     },
     "e07b8dd910f04c539fd321206fdcf175": {
      "model_module": "@jupyter-widgets/controls",
      "model_module_version": "1.5.0",
      "model_name": "VBoxModel",
      "state": {
       "_dom_classes": [
        "widget-interact"
       ],
       "children": [
        "IPY_MODEL_673a220a788844969ba1407d8fcbecd6",
        "IPY_MODEL_1c26fbf2f8c6476e9f804a44ed9f9fbf",
        "IPY_MODEL_d4a2a96101e3461a97473fa52d63444e",
        "IPY_MODEL_7d30b0f818314536a82814d468dc8b9d",
        "IPY_MODEL_d5103edc93c74d95b6f52b03e9f90201"
       ],
       "layout": "IPY_MODEL_0e013e4d54744b9082857c9e1a98bd50"
      }
     },
     "e5882c1c3a28471d81de0d9ef2efbf9a": {
      "model_module": "@jupyter-widgets/controls",
      "model_module_version": "1.5.0",
      "model_name": "DatePickerModel",
      "state": {
       "description": "Sampai:",
       "disabled": false,
       "layout": "IPY_MODEL_19e130a196ca4d5c87ac5a99a91ca56c",
       "style": "IPY_MODEL_b61c38a90dbb4609896bf8cc170c5cd3",
       "value": {
        "date": 11,
        "month": 6,
        "year": 2020
       }
      }
     },
     "eb5d034e8a154f4fa9872dab7e77d54a": {
      "model_module": "@jupyter-widgets/controls",
      "model_module_version": "1.5.0",
      "model_name": "VBoxModel",
      "state": {
       "_dom_classes": [
        "widget-interact"
       ],
       "children": [
        "IPY_MODEL_3fde61f875074e6d915c60fb4edd8141",
        "IPY_MODEL_d8f03ec7d73046e192503c6be8d4d6b4",
        "IPY_MODEL_d73dce187d7d48a39f23029af3c1f2f6",
        "IPY_MODEL_957c9372b8334dd0aafc41432336602f",
        "IPY_MODEL_815a9920424b4bb4b0690102d18750c2"
       ],
       "layout": "IPY_MODEL_13e2930ff4b84bdca43bd603534e9a51"
      }
     },
     "f2d5e512fe91425e90161156b9764d7b": {
      "model_module": "@jupyter-widgets/controls",
      "model_module_version": "1.5.0",
      "model_name": "VBoxModel",
      "state": {
       "_dom_classes": [
        "widget-interact"
       ],
       "children": [
        "IPY_MODEL_a386de9f1c3e437ebb518a071a5d31e3",
        "IPY_MODEL_80c9aada2c3a43f7a54f5004aab6bd97",
        "IPY_MODEL_7360f1445fad47fba0c11be507539877",
        "IPY_MODEL_e5882c1c3a28471d81de0d9ef2efbf9a",
        "IPY_MODEL_c8e8c68602774379a8e9fa0398340ec9"
       ],
       "layout": "IPY_MODEL_839aaa2a01fb4aa0b14ddca860ee0855"
      }
     },
     "f4b9f14e05504b0e820164af2d5ce307": {
      "model_module": "@jupyter-widgets/controls",
      "model_module_version": "1.5.0",
      "model_name": "TextModel",
      "state": {
       "description": "Latitude:",
       "layout": "IPY_MODEL_5108bb3b6c334783b1f840b6ab6c0d5f",
       "style": "IPY_MODEL_9764566c02824552a6f5068603e1855f",
       "value": "7.83305556 S"
      }
     },
     "fcb28d9fd7074483bbf175bf2d087af3": {
      "model_module": "@jupyter-widgets/controls",
      "model_module_version": "1.5.0",
      "model_name": "DescriptionStyleModel",
      "state": {
       "description_width": ""
      }
     }
    },
    "version_major": 2,
    "version_minor": 0
   }
  }
 },
 "nbformat": 4,
 "nbformat_minor": 4
}
